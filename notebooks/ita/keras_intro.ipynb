{
 "cells": [
  {
   "cell_type": "markdown",
   "metadata": {
    "collapsed": false,
    "id": "kgOZpjzymiY_",
    "jupyter": {
     "outputs_hidden": false
    }
   },
   "source": [
    "Autor: Joniel Bastos Barreto (PhD Student)\n",
    "\n",
    "**Keras**: É uma API de rede neural de alto nível para treinamento de redes neurais. Pode ser executado em vários back-ends, como Tensorflow, Theano e CNTK.\n",
    "\n",
    "Referência: [https://keras.io/api](https://keras.io/api)"
   ]
  },
  {
   "cell_type": "markdown",
   "metadata": {
    "collapsed": false,
    "id": "Wi3lJEAh2qy_",
    "jupyter": {
     "outputs_hidden": false
    }
   },
   "source": [
    "## Introdução ao Keras"
   ]
  },
  {
   "cell_type": "markdown",
   "metadata": {
    "collapsed": false,
    "id": "6yMTdsnLr4hq",
    "jupyter": {
     "outputs_hidden": false
    }
   },
   "source": [
    "### Classe **Model**\n",
    "\n",
    "Classe para representar grupos de camadas da sua rede\n",
    "- Necessário especificar, ao menos, a entrada e a saı́da"
   ]
  },
  {
   "cell_type": "markdown",
   "metadata": {
    "collapsed": false,
    "id": "jhwA0W-c93-t",
    "jupyter": {
     "outputs_hidden": false
    }
   },
   "source": [
    "No Keras, definimos o tipo de neurônio e o padrão de conectividade por meio da classe **Layer**."
   ]
  },
  {
   "cell_type": "code",
   "execution_count": 1,
   "metadata": {
    "collapsed": false,
    "id": "ntZw13VZrvXk",
    "jupyter": {
     "outputs_hidden": false
    }
   },
   "outputs": [
    {
     "name": "stderr",
     "output_type": "stream",
     "text": [
      "2024-04-01 00:33:32.987732: I external/local_tsl/tsl/cuda/cudart_stub.cc:31] Could not find cuda drivers on your machine, GPU will not be used.\n",
      "2024-04-01 00:33:33.444354: E external/local_xla/xla/stream_executor/cuda/cuda_dnn.cc:9261] Unable to register cuDNN factory: Attempting to register factory for plugin cuDNN when one has already been registered\n",
      "2024-04-01 00:33:33.444410: E external/local_xla/xla/stream_executor/cuda/cuda_fft.cc:607] Unable to register cuFFT factory: Attempting to register factory for plugin cuFFT when one has already been registered\n",
      "2024-04-01 00:33:33.556545: E external/local_xla/xla/stream_executor/cuda/cuda_blas.cc:1515] Unable to register cuBLAS factory: Attempting to register factory for plugin cuBLAS when one has already been registered\n",
      "2024-04-01 00:33:33.749593: I external/local_tsl/tsl/cuda/cudart_stub.cc:31] Could not find cuda drivers on your machine, GPU will not be used.\n",
      "2024-04-01 00:33:33.750373: I tensorflow/core/platform/cpu_feature_guard.cc:182] This TensorFlow binary is optimized to use available CPU instructions in performance-critical operations.\n",
      "To enable the following instructions: AVX2 FMA, in other operations, rebuild TensorFlow with the appropriate compiler flags.\n",
      "2024-04-01 00:33:41.846809: W tensorflow/compiler/tf2tensorrt/utils/py_utils.cc:38] TF-TRT Warning: Could not find TensorRT\n"
     ]
    }
   ],
   "source": [
    "from keras.layers import Input, Dense"
   ]
  },
  {
   "cell_type": "markdown",
   "metadata": {
    "collapsed": false,
    "id": "cGg0R2EMxVPW",
    "jupyter": {
     "outputs_hidden": false
    }
   },
   "source": [
    "#### Exemplos de layers\n",
    "\n",
    "```python\n",
    "    Input(\n",
    "      shape=None,\n",
    "      batch_size=None,\n",
    "      type=None,\n",
    "      parse=None,\n",
    "      batch_shape=None,\n",
    "      name=None,\n",
    "      tensor=None\n",
    "    )\n",
    "\n",
    "    Dense(\n",
    "      units,\n",
    "      activation=None,\n",
    "      use_bias=True,\n",
    "      kernel_initializer=\"glorot_uniform\",\n",
    "      bias_initializer=\"zeros\",\n",
    "      kernel_regularizer=None,\n",
    "      bias_regularizer=None,\n",
    "      activity_regularizer=None,\n",
    "      kernel_constraint=None,\n",
    "      bias_constraint=None,\n",
    "      lora_rank=None,\n",
    "      **kwargs\n",
    "    )\n",
    "```\n"
   ]
  },
  {
   "cell_type": "code",
   "execution_count": 2,
   "metadata": {
    "collapsed": false,
    "id": "XuriR150vJuX",
    "jupyter": {
     "outputs_hidden": false
    }
   },
   "outputs": [],
   "source": [
    "# Camada de entrada\n",
    "inputs = Input(shape=(None, 4))\n",
    "# Próximas camadas são conectadas utilizando notação funcional\n",
    "hidden1 = Dense(10)(inputs)\n",
    "hidden2 = Dense(10)(hidden1)\n",
    "# Camada de saı́da\n",
    "output = Dense(3)(hidden2)"
   ]
  },
  {
   "cell_type": "markdown",
   "metadata": {
    "collapsed": false,
    "id": "vhNPzrWDzChH",
    "jupyter": {
     "outputs_hidden": false
    }
   },
   "source": [
    "#### Criar o modelo"
   ]
  },
  {
   "cell_type": "code",
   "execution_count": 3,
   "metadata": {
    "collapsed": false,
    "id": "J-ezw-jOtlcG",
    "jupyter": {
     "outputs_hidden": false
    }
   },
   "outputs": [],
   "source": [
    "from keras.models import Model"
   ]
  },
  {
   "cell_type": "code",
   "execution_count": 4,
   "metadata": {
    "collapsed": false,
    "id": "cLy_qbmow1PP",
    "jupyter": {
     "outputs_hidden": false
    }
   },
   "outputs": [],
   "source": [
    "# Modelo completo: entrada e saı́da como argumentos\n",
    "full_model = Model(inputs, output)\n",
    "# Partes da rede podem ser referenciadas\n",
    "# Útil para:\n",
    "# - redes do tipo \"encoder\"-\"decoder\"\n",
    "# - compartilhamento de pesos em redes mais complexas\n",
    "only_hidden = Model(hidden1, hidden2)"
   ]
  },
  {
   "cell_type": "markdown",
   "metadata": {
    "collapsed": false,
    "id": "uRoXhmCdc6ad",
    "jupyter": {
     "outputs_hidden": false
    }
   },
   "source": [
    "#### Função de ativação"
   ]
  },
  {
   "cell_type": "code",
   "execution_count": 5,
   "metadata": {
    "collapsed": false,
    "id": "xVNZEtc2du4p",
    "jupyter": {
     "outputs_hidden": false
    }
   },
   "outputs": [],
   "source": [
    "from keras import activations\n",
    "from keras.layers import Activation"
   ]
  },
  {
   "cell_type": "code",
   "execution_count": 6,
   "metadata": {
    "collapsed": false,
    "id": "f3LotlIKc87X",
    "jupyter": {
     "outputs_hidden": false
    }
   },
   "outputs": [],
   "source": [
    "hidden1 = Dense(10)(inputs)\n",
    "hidden1 = Activation(activations.relu)(hidden1)\n",
    "# ou\n",
    "hidden1 = Dense(10, activation = 'relu')\n",
    "# ou\n",
    "hidden1 = Dense(10, activation = activations.relu)"
   ]
  },
  {
   "cell_type": "markdown",
   "metadata": {
    "collapsed": false,
    "id": "Zl_HiInxc4Vk",
    "jupyter": {
     "outputs_hidden": false
    }
   },
   "source": [
    "#### Dropout"
   ]
  },
  {
   "cell_type": "code",
   "execution_count": 7,
   "metadata": {
    "collapsed": false,
    "id": "IFhaWfR7uX_v",
    "jupyter": {
     "outputs_hidden": false
    }
   },
   "outputs": [],
   "source": [
    "from keras.layers import Dropout"
   ]
  },
  {
   "cell_type": "markdown",
   "metadata": {
    "collapsed": false,
    "id": "cV4R9FG10m9f",
    "jupyter": {
     "outputs_hidden": false
    }
   },
   "source": [
    "    Dropout(\n",
    "      rate,\n",
    "      noise_shape=None,\n",
    "      seed=None,\n",
    "      **kwargs\n",
    "    )"
   ]
  },
  {
   "cell_type": "markdown",
   "metadata": {
    "collapsed": false,
    "id": "Z0s2a2sUf_fN",
    "jupyter": {
     "outputs_hidden": false
    }
   },
   "source": [
    "#### Usando uma subclasse para criar o modelo"
   ]
  },
  {
   "cell_type": "code",
   "execution_count": 8,
   "metadata": {
    "collapsed": false,
    "id": "127ycMyzzZEd",
    "jupyter": {
     "outputs_hidden": false
    }
   },
   "outputs": [],
   "source": [
    "class MyModel(Model):\n",
    "  def __init__(self):\n",
    "    super().__init__()\n",
    "    self.dense1 = Dense(10, activation = 'relu')\n",
    "    self.dense2 = Dense(10, activation = 'relu')\n",
    "    self.dense3 = Dense(3, activation = 'softmax')\n",
    "    self.dropout = Dropout(0.5)\n",
    "\n",
    "  # É possível utilizar o argumento \"training (booleano)\" para especificar algo apenas no treinamento\n",
    "  def call(self, inputs, training=False):\n",
    "    x = self.dense2(self.dense1(inputs))\n",
    "    if training:\n",
    "      x = self.dropout(x, training=training)\n",
    "    return self.dense3(x)\n",
    "\n",
    "model = MyModel()\n",
    "model.build(input_shape=(None, 4))"
   ]
  },
  {
   "cell_type": "code",
   "execution_count": 9,
   "metadata": {
    "colab": {
     "base_uri": "https://localhost:8080/"
    },
    "collapsed": false,
    "id": "iQRdcN7L543j",
    "jupyter": {
     "outputs_hidden": false
    },
    "outputId": "d7f2315a-30b2-43db-fc0a-04e7e35a9e3e"
   },
   "outputs": [
    {
     "name": "stdout",
     "output_type": "stream",
     "text": [
      "Model: \"my_model\"\n",
      "_________________________________________________________________\n",
      " Layer (type)                Output Shape              Param #   \n",
      "=================================================================\n",
      " dense_6 (Dense)             multiple                  50        \n",
      "                                                                 \n",
      " dense_7 (Dense)             multiple                  110       \n",
      "                                                                 \n",
      " dense_8 (Dense)             multiple                  33        \n",
      "                                                                 \n",
      " dropout (Dropout)           multiple                  0 (unused)\n",
      "                                                                 \n",
      "=================================================================\n",
      "Total params: 193 (772.00 Byte)\n",
      "Trainable params: 193 (772.00 Byte)\n",
      "Non-trainable params: 0 (0.00 Byte)\n",
      "_________________________________________________________________\n"
     ]
    }
   ],
   "source": [
    "# Resumo do modelo\n",
    "model.summary()"
   ]
  },
  {
   "cell_type": "markdown",
   "metadata": {
    "collapsed": false,
    "id": "BaNt7kae5fJO",
    "jupyter": {
     "outputs_hidden": false
    }
   },
   "source": [
    "### Classe **Sequential**\n",
    "Grupo de layers organizadas sequencialmente.\n",
    "- Resultado é um objeto que herda do tipo Model\n",
    "- Método **add** é chamado sequencialmente para construir o modelo"
   ]
  },
  {
   "cell_type": "code",
   "execution_count": 10,
   "metadata": {
    "collapsed": false,
    "id": "t_LPnoAP5U2D",
    "jupyter": {
     "outputs_hidden": false
    }
   },
   "outputs": [],
   "source": [
    "from keras.models import Sequential"
   ]
  },
  {
   "cell_type": "code",
   "execution_count": 11,
   "metadata": {
    "collapsed": false,
    "id": "koOhtDkn01d3",
    "jupyter": {
     "outputs_hidden": false
    }
   },
   "outputs": [],
   "source": [
    "model = Sequential()\n",
    "# Adiciona as camadas sequencialmente\n",
    "model.add(Dense(10))\n",
    "model.add(Dense(10))\n",
    "# Constrói o modelo indicando a entrada\n",
    "model.build((None, 4))"
   ]
  },
  {
   "cell_type": "code",
   "execution_count": 12,
   "metadata": {
    "collapsed": false,
    "id": "xTEASaXv1Bjq",
    "jupyter": {
     "outputs_hidden": false
    }
   },
   "outputs": [],
   "source": [
    "# O modelo éconstruı́do continuamente se indicado o formato da entrada\n",
    "model = Sequential()\n",
    "model.add(Dense(10, input_shape=(None, 4)))\n",
    "model.add(Dense(10))\n",
    "# ou\n",
    "model = Sequential()\n",
    "model.add(Input(shape=(4)))\n",
    "model.add(Dense(10))\n",
    "model.add(Dense(10))"
   ]
  },
  {
   "cell_type": "code",
   "execution_count": 13,
   "metadata": {
    "colab": {
     "base_uri": "https://localhost:8080/"
    },
    "collapsed": false,
    "id": "ypYgVFoP8yMc",
    "jupyter": {
     "outputs_hidden": false
    },
    "outputId": "152596e6-f142-495f-aa57-94b481617f31"
   },
   "outputs": [
    {
     "name": "stdout",
     "output_type": "stream",
     "text": [
      "Model: \"sequential_2\"\n",
      "_________________________________________________________________\n",
      " Layer (type)                Output Shape              Param #   \n",
      "=================================================================\n",
      " dense_13 (Dense)            (None, 10)                50        \n",
      "                                                                 \n",
      " dense_14 (Dense)            (None, 10)                110       \n",
      "                                                                 \n",
      "=================================================================\n",
      "Total params: 160 (640.00 Byte)\n",
      "Trainable params: 160 (640.00 Byte)\n",
      "Non-trainable params: 0 (0.00 Byte)\n",
      "_________________________________________________________________\n"
     ]
    }
   ],
   "source": [
    "model.summary()"
   ]
  },
  {
   "cell_type": "markdown",
   "metadata": {
    "collapsed": false,
    "id": "4-aoKuaY6HaS",
    "jupyter": {
     "outputs_hidden": false
    }
   },
   "source": [
    "#### Visualizar o modelo"
   ]
  },
  {
   "cell_type": "code",
   "execution_count": 14,
   "metadata": {
    "collapsed": false,
    "id": "1QGx-NSz6KqZ",
    "jupyter": {
     "outputs_hidden": false
    }
   },
   "outputs": [],
   "source": [
    "from keras.utils import plot_model"
   ]
  },
  {
   "cell_type": "code",
   "execution_count": 15,
   "metadata": {
    "colab": {
     "base_uri": "https://localhost:8080/",
     "height": 312
    },
    "collapsed": false,
    "id": "o0AA2oQd6MZF",
    "jupyter": {
     "outputs_hidden": false
    },
    "outputId": "eeefe875-659b-46fb-b148-c9c9b249786d"
   },
   "outputs": [
    {
     "data": {
      "image/png": "[encoded data removed]",
      "text/plain": [
       "<IPython.core.display.Image object>"
      ]
     },
     "execution_count": 15,
     "metadata": {},
     "output_type": "execute_result"
    }
   ],
   "source": [
    "plot_model(model, show_shapes=True)"
   ]
  },
  {
   "cell_type": "markdown",
   "metadata": {
    "collapsed": false,
    "id": "LDwW2zqEX5l8",
    "jupyter": {
     "outputs_hidden": false
    }
   },
   "source": [
    "Existem outros tipos de camadas de rede neural que podem ser construídas com o Keras, tais como:\n",
    "- Localmente Conectadas\n",
    "- Convolução\n",
    "- Pooling\n",
    "- Recorrentes\n",
    "- Padronização\n",
    "- entre outros.\n",
    "\n",
    "Mais informações: https://keras.io/api/layers/"
   ]
  },
  {
   "cell_type": "markdown",
   "metadata": {
    "collapsed": false,
    "id": "j_y9f3zphtXl",
    "jupyter": {
     "outputs_hidden": false
    }
   },
   "source": [
    "### Inicialização dos pesos\n",
    "https://keras.io/api/layers/initializers/"
   ]
  },
  {
   "cell_type": "markdown",
   "metadata": {
    "collapsed": false,
    "id": "LQkQbv9woAoj",
    "jupyter": {
     "outputs_hidden": false
    }
   },
   "source": [
    "- Normalmente distribuı́dos\n",
    "  - RandomNormal\n",
    "- Uniformemente distribuı́dos\n",
    "  - RandomUniform\n",
    "- Valores fixos\n",
    "  - Zeros\n",
    "  - Ones\n",
    "  - Constant"
   ]
  },
  {
   "cell_type": "code",
   "execution_count": 16,
   "metadata": {
    "collapsed": false,
    "id": "nK7UxlcPhsmp",
    "jupyter": {
     "outputs_hidden": false
    }
   },
   "outputs": [],
   "source": [
    "from keras import initializers"
   ]
  },
  {
   "cell_type": "code",
   "execution_count": 17,
   "metadata": {
    "collapsed": false,
    "id": "GER8BRvmiQlf",
    "jupyter": {
     "outputs_hidden": false
    }
   },
   "outputs": [],
   "source": [
    "layer = Dense(\n",
    "    units = 10,\n",
    "    kernel_initializer = initializers.RandomNormal(stddev=0.01),\n",
    "    bias_initializer = initializers.Zeros()\n",
    ")"
   ]
  },
  {
   "cell_type": "markdown",
   "metadata": {
    "collapsed": false,
    "id": "KbW2lYJoir_C",
    "jupyter": {
     "outputs_hidden": false
    }
   },
   "source": [
    "### Treinamento\n"
   ]
  },
  {
   "cell_type": "markdown",
   "metadata": {
    "collapsed": false,
    "id": "kis9wYl0rsd0",
    "jupyter": {
     "outputs_hidden": false
    }
   },
   "source": [
    "    Model.fit(\n",
    "        x=None,\n",
    "        y=None,\n",
    "        batch_size=None,\n",
    "        epochs=1,\n",
    "        verbose=\"auto\",\n",
    "        callbacks=None,\n",
    "        validation_split=0.0,\n",
    "        validation_data=None,\n",
    "        shuffle=True,\n",
    "        class_weight=None,\n",
    "        sample_weight=None,\n",
    "        initial_epoch=0,\n",
    "        steps_per_epoch=None,\n",
    "        validation_steps=None,\n",
    "        validation_batch_size=None,\n",
    "        validation_freq=1,\n",
    "    )"
   ]
  },
  {
   "cell_type": "markdown",
   "metadata": {
    "collapsed": false,
    "id": "q1HwTbMAzGX9",
    "jupyter": {
     "outputs_hidden": false
    }
   },
   "source": [
    "Para utilizar amostras do dataset para validação do treinamento:\n",
    "- `model.fit(validation_data=X_validacao)`, caso o conjunto de dados esteja dividido em:\n",
    "  - X_treino\n",
    "  - X_validacao\n",
    "  - X_teste\n",
    "- `model.fit(validation_split=0.3, shuffle=True)`, caso o conjunto de dados esteja dividido em:\n",
    "  - X_treino\n",
    "  - X_teste"
   ]
  },
  {
   "cell_type": "markdown",
   "metadata": {
    "collapsed": false,
    "id": "FnfB4VzeqWON",
    "jupyter": {
     "outputs_hidden": false
    }
   },
   "source": [
    "O que devemos projetar quanto ao treinamento?\n",
    "- Escolha da função de perda\n",
    "- Escolha do método de otimização\n",
    "- Escolha do critério de parada\n",
    "- Cuidados quanto à generalização: técnicas regularização"
   ]
  },
  {
   "cell_type": "markdown",
   "metadata": {
    "collapsed": false,
    "id": "GhYF4Ag3kjUX",
    "jupyter": {
     "outputs_hidden": false
    }
   },
   "source": [
    "#### Funções de perda\n",
    "https://keras.io/api/losses/"
   ]
  },
  {
   "cell_type": "markdown",
   "metadata": {
    "collapsed": false,
    "id": "20yyB6QWkF5m",
    "jupyter": {
     "outputs_hidden": false
    }
   },
   "source": [
    "Funções de perda probabilı́sticas\n",
    "- Binary Cross-Entropy\n",
    "- Categorical Cross-Entropy\n",
    "- Divergência de Kullback-Leibler\n",
    "\n",
    "Funções de perda para erro de regressão\n",
    "- Erro quadrático médio\n",
    "- Erro percentual médio\n",
    "- Erro absoluto médio\n",
    "- Erro logarı́tmico médio"
   ]
  },
  {
   "cell_type": "code",
   "execution_count": 18,
   "metadata": {
    "collapsed": false,
    "id": "YPpT6W4OmnIf",
    "jupyter": {
     "outputs_hidden": false
    }
   },
   "outputs": [],
   "source": [
    "from keras.losses import BinaryCrossentropy"
   ]
  },
  {
   "cell_type": "code",
   "execution_count": 19,
   "metadata": {
    "collapsed": false,
    "id": "KuBt2AYHmry5",
    "jupyter": {
     "outputs_hidden": false
    }
   },
   "outputs": [],
   "source": [
    "loss = BinaryCrossentropy(\n",
    "    from_logits=False,\n",
    "    label_smoothing=0.0,\n",
    "    axis=-1,\n",
    "    reduction=\"sum_over_batch_size\",\n",
    "    name=\"binary_crossentropy\",\n",
    ")"
   ]
  },
  {
   "cell_type": "markdown",
   "metadata": {
    "collapsed": false,
    "id": "crI7vLLskmSR",
    "jupyter": {
     "outputs_hidden": false
    }
   },
   "source": [
    "#### Métodos de otimização\n",
    "https://keras.io/api/optimizers/"
   ]
  },
  {
   "cell_type": "markdown",
   "metadata": {
    "collapsed": false,
    "id": "QrEvIrQgktAc",
    "jupyter": {
     "outputs_hidden": false
    }
   },
   "source": [
    "- Stochastic Gradient Descent (SGD)\n",
    "- RMSprop\n",
    "- Adam\n"
   ]
  },
  {
   "cell_type": "code",
   "execution_count": 20,
   "metadata": {
    "collapsed": false,
    "id": "8nZh8tqYlSvs",
    "jupyter": {
     "outputs_hidden": false
    }
   },
   "outputs": [],
   "source": [
    "from keras.optimizers import SGD"
   ]
  },
  {
   "cell_type": "markdown",
   "metadata": {
    "collapsed": false,
    "id": "7F3U1Cnnk5hI",
    "jupyter": {
     "outputs_hidden": false
    }
   },
   "source": [
    "#### Taxa de aprendizado variável"
   ]
  },
  {
   "cell_type": "markdown",
   "metadata": {
    "collapsed": false,
    "id": "6n1PS1ABk-h2",
    "jupyter": {
     "outputs_hidden": false
    }
   },
   "source": [
    "- Decaimento exponencial\n",
    "- Decaimento constante\n",
    "- Decaimento polinomial\n",
    "- Entre outros"
   ]
  },
  {
   "cell_type": "code",
   "execution_count": 21,
   "metadata": {
    "collapsed": false,
    "id": "zqbIqwWul8NV",
    "jupyter": {
     "outputs_hidden": false
    }
   },
   "outputs": [],
   "source": [
    "from keras.optimizers.schedules import ExponentialDecay"
   ]
  },
  {
   "cell_type": "code",
   "execution_count": 22,
   "metadata": {
    "collapsed": false,
    "id": "bCvX8KzciveQ",
    "jupyter": {
     "outputs_hidden": false
    }
   },
   "outputs": [],
   "source": [
    "lr_schedule = ExponentialDecay(\n",
    "  initial_learning_rate = 1e-2,\n",
    "  decay_steps = 10000,\n",
    "  decay_rate = 0.9\n",
    "  )"
   ]
  },
  {
   "cell_type": "code",
   "execution_count": 23,
   "metadata": {
    "collapsed": false,
    "id": "zS6BZZNbmMa6",
    "jupyter": {
     "outputs_hidden": false
    }
   },
   "outputs": [],
   "source": [
    "optimizer = SGD(learning_rate=lr_schedule)"
   ]
  },
  {
   "cell_type": "markdown",
   "metadata": {
    "collapsed": false,
    "id": "xlgl5NU8naid",
    "jupyter": {
     "outputs_hidden": false
    }
   },
   "source": [
    "#### Critério de parada e métricas de desempenho\n",
    "https://keras.io/api/metrics/\n",
    "\n",
    "- Determinado número de épocas: `model.fit(epochs=100)`\n",
    "- Baseado numa heurı́stica (evitando sub e sobre-ajuste)"
   ]
  },
  {
   "cell_type": "code",
   "execution_count": 24,
   "metadata": {
    "collapsed": false,
    "id": "O_RiOlVingRR",
    "jupyter": {
     "outputs_hidden": false
    }
   },
   "outputs": [],
   "source": [
    "# AUC (área sob a curva) das curvas ROC (VP vs FP) ou PR (Precisão vs Revocação).\n",
    "from keras.metrics import AUC"
   ]
  },
  {
   "cell_type": "code",
   "execution_count": 25,
   "metadata": {
    "collapsed": false,
    "id": "Dd_uhAA5u1gP",
    "jupyter": {
     "outputs_hidden": false
    }
   },
   "outputs": [],
   "source": [
    "metric = AUC(\n",
    "    num_thresholds=200,\n",
    "    curve=\"ROC\",\n",
    "    summation_method=\"interpolation\",\n",
    "    name=None,\n",
    "    dtype=None,\n",
    "    thresholds=None,\n",
    "    multi_label=False,\n",
    "    num_labels=None,\n",
    "    label_weights=None,\n",
    "    from_logits=False,\n",
    ")"
   ]
  },
  {
   "cell_type": "markdown",
   "metadata": {
    "collapsed": false,
    "id": "C9edAm7zqjOO",
    "jupyter": {
     "outputs_hidden": false
    }
   },
   "source": [
    "#### Método **compile**\n",
    "Configura o modelo para treinamento"
   ]
  },
  {
   "cell_type": "code",
   "execution_count": 26,
   "metadata": {
    "collapsed": false,
    "id": "oE_w7vjpqnSE",
    "jupyter": {
     "outputs_hidden": false
    }
   },
   "outputs": [],
   "source": [
    "model.compile(\n",
    "  optimizer = 'Adam',\n",
    "  loss = 'mean_squared_error',\n",
    "  metrics = ['MeanSquaredError', 'MeanAbsoluteError']\n",
    "  )"
   ]
  },
  {
   "cell_type": "markdown",
   "metadata": {
    "collapsed": false,
    "id": "4iYZ4YJExWTw",
    "jupyter": {
     "outputs_hidden": false
    }
   },
   "source": [
    "#### Early Stopping\n",
    "Interromper treinamento se a métrica parar de melhorar\n",
    "- Pode ser utilizado a própria função de perda no conjunto de validação, quanto\n",
    "qualquer outra métrica\n",
    "- É necessário especificar um valor mı́nimo considerado da mudança e paciência do\n",
    "método"
   ]
  },
  {
   "cell_type": "code",
   "execution_count": 27,
   "metadata": {
    "collapsed": false,
    "id": "czce9vwmxp0V",
    "jupyter": {
     "outputs_hidden": false
    }
   },
   "outputs": [],
   "source": [
    "from keras.callbacks import EarlyStopping"
   ]
  },
  {
   "cell_type": "code",
   "execution_count": 28,
   "metadata": {
    "collapsed": false,
    "id": "G7qhsfPo0Y_G",
    "jupyter": {
     "outputs_hidden": false
    }
   },
   "outputs": [],
   "source": [
    "callback = EarlyStopping(monitor='val_loss', patience=10)"
   ]
  },
  {
   "cell_type": "markdown",
   "metadata": {
    "collapsed": false,
    "id": "g-0PCYEx1o_v",
    "jupyter": {
     "outputs_hidden": false
    }
   },
   "source": [
    "#### Visualizar o treinamento"
   ]
  },
  {
   "cell_type": "code",
   "execution_count": 29,
   "metadata": {
    "collapsed": false,
    "id": "q-F4i9tn6jw9",
    "jupyter": {
     "outputs_hidden": false
    }
   },
   "outputs": [
    {
     "data": {
      "text/html": [
       "\n",
       "        <style>\n",
       "            .support_message_main_box {\n",
       "                position: relative;\n",
       "                display: table-cell;\n",
       "                vertical-align: middle;\n",
       "                width: 100%;\n",
       "                height: 8em;\n",
       "                padding: 1em;\n",
       "                padding-left: 11em;\n",
       "                background-color: #f7f7f7;\n",
       "                border: 1px solid #cfcfcf;\n",
       "                border-radius: 2px;\n",
       "            }\n",
       "            .support_message_main_box img {\n",
       "                position: absolute;\n",
       "                height: 9em;\n",
       "                width: 9em;\n",
       "                left: 0.5em;\n",
       "                top: 0.5em;\n",
       "                border-radius: 1em;\n",
       "            }\n",
       "        </style>\n",
       "        <div class=\"support_message_main_box\">\n",
       "            <img src=\"https://avatars.githubusercontent.com/u/7738570?v=4\" />\n",
       "            <p>\n",
       "            <b>Hi!</b><br/>\n",
       "            <span>I am the author of\n",
       "            <a href=\"https://github.com/LucaCappelletti94/plot_keras_history\" target=\"_blank\">\n",
       "                plot_keras_history\n",
       "            </a>, which you use in this Notebook.\n",
       "            </span><br/>\n",
       "            \n",
       "            <span>I love to code, but I also need coffee.</span>\n",
       "            <a href=\"https://github.com/sponsors/LucaCappelletti94\" target=\"_blank\">\n",
       "                Please sponsor me on GitHub ❤️\n",
       "            </a><br/>\n",
       "            <i>Good luck in your coding 🍀!</i>\n",
       "            <br/>\n",
       "            <i>- Luca</i>\n",
       "            </p>\n",
       "        <div>\n",
       "        "
      ],
      "text/plain": [
       "<IPython.core.display.HTML object>"
      ]
     },
     "metadata": {},
     "output_type": "display_data"
    }
   ],
   "source": [
    "from plot_keras_history import plot_history"
   ]
  },
  {
   "cell_type": "markdown",
   "metadata": {
    "collapsed": false,
    "id": "t0ooCrEx8sBd",
    "jupyter": {
     "outputs_hidden": false
    }
   },
   "source": [
    "`plot_history(history)` utiliza o argumento **history** de `history = model.fit(...)`"
   ]
  },
  {
   "cell_type": "markdown",
   "metadata": {
    "collapsed": false,
    "id": "6aH7--YM-FRL",
    "jupyter": {
     "outputs_hidden": false
    }
   },
   "source": [
    "### Teste"
   ]
  },
  {
   "cell_type": "markdown",
   "metadata": {
    "collapsed": false,
    "id": "0xxvlOO--R9l",
    "jupyter": {
     "outputs_hidden": false
    }
   },
   "source": [
    "    Model.predict(x, batch_size=None, verbose=\"auto\", steps=None, callbacks=None)"
   ]
  },
  {
   "cell_type": "markdown",
   "metadata": {
    "collapsed": false,
    "id": "BcrkdDKe2eop",
    "jupyter": {
     "outputs_hidden": false
    }
   },
   "source": [
    "## Exemplo de classificação com Keras usando o dataset Iris"
   ]
  },
  {
   "cell_type": "markdown",
   "metadata": {
    "collapsed": false,
    "id": "R5o871Y_lbdy",
    "jupyter": {
     "outputs_hidden": false
    }
   },
   "source": [
    "### Carregar o dataset Iris"
   ]
  },
  {
   "cell_type": "code",
   "execution_count": 30,
   "metadata": {
    "collapsed": false,
    "id": "qUdI8WoQljX1",
    "jupyter": {
     "outputs_hidden": false
    }
   },
   "outputs": [],
   "source": [
    "from sklearn import datasets\n",
    "\n",
    "iris = datasets.load_iris()"
   ]
  },
  {
   "cell_type": "code",
   "execution_count": 31,
   "metadata": {
    "colab": {
     "base_uri": "https://localhost:8080/"
    },
    "collapsed": false,
    "id": "wLbaEC3X5JUz",
    "jupyter": {
     "outputs_hidden": false
    },
    "outputId": "147422ae-3b45-447d-96a1-ada28a94b47e"
   },
   "outputs": [
    {
     "data": {
      "text/plain": [
       "(150, 4)"
      ]
     },
     "execution_count": 31,
     "metadata": {},
     "output_type": "execute_result"
    }
   ],
   "source": [
    "iris.data.shape"
   ]
  },
  {
   "cell_type": "markdown",
   "metadata": {
    "collapsed": false,
    "id": "SAQb3ejbn3bV",
    "jupyter": {
     "outputs_hidden": false
    }
   },
   "source": [
    "### Visualizar o conjunto de dados"
   ]
  },
  {
   "cell_type": "code",
   "execution_count": 32,
   "metadata": {
    "collapsed": false,
    "id": "rrQ0WS0Gn6_9",
    "jupyter": {
     "outputs_hidden": false
    }
   },
   "outputs": [],
   "source": [
    "import matplotlib.pyplot as plt"
   ]
  },
  {
   "cell_type": "code",
   "execution_count": 33,
   "metadata": {
    "colab": {
     "base_uri": "https://localhost:8080/",
     "height": 452
    },
    "collapsed": false,
    "id": "_4Pp1bTGoD7I",
    "jupyter": {
     "outputs_hidden": false
    },
    "outputId": "3e1100f3-85fc-4139-859f-01d28c8c50e8"
   },
   "outputs": [
    {
     "data": {
      "image/png": "[encoded data removed]",
      "text/plain": [
       "<Figure size 640x480 with 1 Axes>"
      ]
     },
     "metadata": {},
     "output_type": "display_data"
    }
   ],
   "source": [
    "# O dataset Iris possui 4 atributos, então para uma visualização 2D podemos escolher 2 deles\n",
    "_, ax   = plt.subplots()\n",
    "scatter = ax.scatter(iris.data[:, 0], iris.data[:, 1], c=iris.target)\n",
    "ax.set(xlabel=iris.feature_names[0], ylabel=iris.feature_names[1])\n",
    "_ = ax.legend(scatter.legend_elements()[0], iris.target_names, loc=\"lower right\", title=\"Classes\")"
   ]
  },
  {
   "cell_type": "markdown",
   "metadata": {
    "collapsed": false,
    "id": "HsayAe3jARMJ",
    "jupyter": {
     "outputs_hidden": false
    }
   },
   "source": [
    "### Divisão do conjunto em treino/teste e normalização dos conjuntos"
   ]
  },
  {
   "cell_type": "code",
   "execution_count": 34,
   "metadata": {
    "collapsed": false,
    "id": "0E--PkFMA93x",
    "jupyter": {
     "outputs_hidden": false
    }
   },
   "outputs": [],
   "source": [
    "from sklearn.model_selection import train_test_split\n",
    "from sklearn.preprocessing import StandardScaler\n",
    "from keras.utils import to_categorical"
   ]
  },
  {
   "cell_type": "code",
   "execution_count": 35,
   "metadata": {
    "collapsed": false,
    "id": "0Mm4NBqqC6qP",
    "jupyter": {
     "outputs_hidden": false
    }
   },
   "outputs": [],
   "source": [
    "X_train, X_test, y_train, y_test = train_test_split(iris.data, iris.target, test_size=0.2, random_state=2)"
   ]
  },
  {
   "cell_type": "code",
   "execution_count": 36,
   "metadata": {
    "collapsed": false,
    "id": "w9rBTEivGd_u",
    "jupyter": {
     "outputs_hidden": false
    }
   },
   "outputs": [],
   "source": [
    "scale = StandardScaler()\n",
    "# Aprende a média e o desvio padrão a partir do conjunto de treinamento e o normaliza\n",
    "X_train_scaled = scale.fit_transform(X_train)\n",
    "# Normaliza o conjunto de teste a partir da média e desvio padrão do conjunto de treinamento\n",
    "X_test_scaled  = scale.transform(X_test)"
   ]
  },
  {
   "cell_type": "code",
   "execution_count": 37,
   "metadata": {
    "collapsed": false,
    "id": "cWJdeFZOMb__",
    "jupyter": {
     "outputs_hidden": false
    }
   },
   "outputs": [],
   "source": [
    "# Keras exige que a saída tenha valores codificados one-hot\n",
    "y_final = to_categorical(y_train)\n",
    "y_real  = to_categorical(y_test)"
   ]
  },
  {
   "cell_type": "code",
   "execution_count": 38,
   "metadata": {
    "colab": {
     "base_uri": "https://localhost:8080/"
    },
    "collapsed": false,
    "id": "pIjqQ058Dfjm",
    "jupyter": {
     "outputs_hidden": false
    },
    "outputId": "ce8336cd-d79a-4790-f45b-858aa1db536f"
   },
   "outputs": [
    {
     "name": "stdout",
     "output_type": "stream",
     "text": [
      "(120, 4)\n",
      "(120, 3)\n",
      "(30, 4)\n",
      "(30, 3)\n"
     ]
    }
   ],
   "source": [
    "print(X_train_scaled.shape)\n",
    "print(y_final.shape)\n",
    "print(X_test_scaled.shape)\n",
    "print(y_real.shape)"
   ]
  },
  {
   "cell_type": "markdown",
   "metadata": {
    "collapsed": false,
    "id": "iCVjA8t3D1_V",
    "jupyter": {
     "outputs_hidden": false
    }
   },
   "source": [
    "### Treinamento"
   ]
  },
  {
   "cell_type": "code",
   "execution_count": 39,
   "metadata": {
    "collapsed": false,
    "id": "h-KIfvLMD3sF",
    "jupyter": {
     "outputs_hidden": false
    }
   },
   "outputs": [],
   "source": [
    "def create_model():\n",
    "    model = Sequential()\n",
    "    model.add(Dense(10, input_dim = 4, activation = 'relu'))\n",
    "    model.add(Dense(10, activation = 'relu'))\n",
    "    model.add(Dropout(0.3))\n",
    "\n",
    "    model.add(Dense(3, activation = 'softmax'))\n",
    "\n",
    "    model.compile(optimizer='adam', loss='categorical_crossentropy', metrics=['accuracy'])\n",
    "\n",
    "    return model\n",
    "\n",
    "iris_model = create_model()"
   ]
  },
  {
   "cell_type": "code",
   "execution_count": 40,
   "metadata": {
    "colab": {
     "base_uri": "https://localhost:8080/"
    },
    "collapsed": false,
    "id": "vl0jbfP9Jgn6",
    "jupyter": {
     "outputs_hidden": false
    },
    "outputId": "6eab805b-e882-4687-a970-ee1c1f063cb7"
   },
   "outputs": [
    {
     "name": "stdout",
     "output_type": "stream",
     "text": [
      "Model: \"sequential_3\"\n",
      "_________________________________________________________________\n",
      " Layer (type)                Output Shape              Param #   \n",
      "=================================================================\n",
      " dense_16 (Dense)            (None, 10)                50        \n",
      "                                                                 \n",
      " dense_17 (Dense)            (None, 10)                110       \n",
      "                                                                 \n",
      " dropout_1 (Dropout)         (None, 10)                0         \n",
      "                                                                 \n",
      " dense_18 (Dense)            (None, 3)                 33        \n",
      "                                                                 \n",
      "=================================================================\n",
      "Total params: 193 (772.00 Byte)\n",
      "Trainable params: 193 (772.00 Byte)\n",
      "Non-trainable params: 0 (0.00 Byte)\n",
      "_________________________________________________________________\n"
     ]
    }
   ],
   "source": [
    "iris_model.summary()"
   ]
  },
  {
   "cell_type": "code",
   "execution_count": 41,
   "metadata": {
    "colab": {
     "base_uri": "https://localhost:8080/",
     "height": 533
    },
    "collapsed": false,
    "id": "3GRmmXUDJuqQ",
    "jupyter": {
     "outputs_hidden": false
    },
    "outputId": "ab324e64-f693-4424-e9ef-9b9f463d224d"
   },
   "outputs": [
    {
     "data": {
      "image/png": "[encoded data removed]",
      "text/plain": [
       "<IPython.core.display.Image object>"
      ]
     },
     "execution_count": 41,
     "metadata": {},
     "output_type": "execute_result"
    }
   ],
   "source": [
    "plot_model(iris_model, show_shapes=True)"
   ]
  },
  {
   "cell_type": "code",
   "execution_count": 42,
   "metadata": {
    "colab": {
     "base_uri": "https://localhost:8080/"
    },
    "collapsed": false,
    "id": "xusOZDMwJ3aI",
    "jupyter": {
     "outputs_hidden": false
    },
    "outputId": "611a3dde-ac50-4cc3-b434-9c12b301e7a9"
   },
   "outputs": [
    {
     "name": "stdout",
     "output_type": "stream",
     "text": [
      "Epoch 1/500\n",
      "3/3 [==============================] - 1s 90ms/step - loss: 1.1573 - accuracy: 0.2917 - val_loss: 1.0247 - val_accuracy: 0.3333\n",
      "Epoch 2/500\n",
      "3/3 [==============================] - 0s 13ms/step - loss: 1.1073 - accuracy: 0.3542 - val_loss: 0.9993 - val_accuracy: 0.3750\n",
      "Epoch 3/500\n",
      "3/3 [==============================] - 0s 14ms/step - loss: 1.1080 - accuracy: 0.3646 - val_loss: 0.9749 - val_accuracy: 0.4167\n",
      "Epoch 4/500\n",
      "3/3 [==============================] - 0s 13ms/step - loss: 1.0726 - accuracy: 0.3854 - val_loss: 0.9515 - val_accuracy: 0.4167\n",
      "Epoch 5/500\n",
      "3/3 [==============================] - 0s 13ms/step - loss: 0.9937 - accuracy: 0.4688 - val_loss: 0.9291 - val_accuracy: 0.5000\n",
      "Epoch 6/500\n",
      "3/3 [==============================] - 0s 14ms/step - loss: 1.0381 - accuracy: 0.3646 - val_loss: 0.9062 - val_accuracy: 0.5000\n",
      "Epoch 7/500\n",
      "3/3 [==============================] - 0s 13ms/step - loss: 1.0057 - accuracy: 0.4271 - val_loss: 0.8835 - val_accuracy: 0.6667\n",
      "Epoch 8/500\n",
      "3/3 [==============================] - 0s 13ms/step - loss: 0.9815 - accuracy: 0.4896 - val_loss: 0.8614 - val_accuracy: 0.7500\n",
      "Epoch 9/500\n",
      "3/3 [==============================] - 0s 13ms/step - loss: 0.9403 - accuracy: 0.4896 - val_loss: 0.8403 - val_accuracy: 0.7500\n",
      "Epoch 10/500\n",
      "3/3 [==============================] - 0s 14ms/step - loss: 0.9563 - accuracy: 0.4792 - val_loss: 0.8195 - val_accuracy: 0.7500\n",
      "Epoch 11/500\n",
      "3/3 [==============================] - 0s 14ms/step - loss: 0.9291 - accuracy: 0.5208 - val_loss: 0.7992 - val_accuracy: 0.7500\n",
      "Epoch 12/500\n",
      "3/3 [==============================] - 0s 15ms/step - loss: 0.9221 - accuracy: 0.4792 - val_loss: 0.7792 - val_accuracy: 0.7500\n",
      "Epoch 13/500\n",
      "3/3 [==============================] - 0s 13ms/step - loss: 0.8695 - accuracy: 0.5521 - val_loss: 0.7593 - val_accuracy: 0.7500\n",
      "Epoch 14/500\n",
      "3/3 [==============================] - 0s 14ms/step - loss: 0.9043 - accuracy: 0.5104 - val_loss: 0.7400 - val_accuracy: 0.7500\n",
      "Epoch 15/500\n",
      "3/3 [==============================] - 0s 13ms/step - loss: 0.8572 - accuracy: 0.6042 - val_loss: 0.7213 - val_accuracy: 0.7500\n",
      "Epoch 16/500\n",
      "3/3 [==============================] - 0s 13ms/step - loss: 0.8269 - accuracy: 0.6146 - val_loss: 0.7035 - val_accuracy: 0.7500\n",
      "Epoch 17/500\n",
      "3/3 [==============================] - 0s 13ms/step - loss: 0.8066 - accuracy: 0.5521 - val_loss: 0.6864 - val_accuracy: 0.7500\n",
      "Epoch 18/500\n",
      "3/3 [==============================] - 0s 14ms/step - loss: 0.8196 - accuracy: 0.5625 - val_loss: 0.6707 - val_accuracy: 0.7917\n",
      "Epoch 19/500\n",
      "3/3 [==============================] - 0s 13ms/step - loss: 0.8117 - accuracy: 0.5938 - val_loss: 0.6559 - val_accuracy: 0.7917\n",
      "Epoch 20/500\n",
      "3/3 [==============================] - 0s 14ms/step - loss: 0.7711 - accuracy: 0.5938 - val_loss: 0.6414 - val_accuracy: 0.7917\n",
      "Epoch 21/500\n",
      "3/3 [==============================] - 0s 12ms/step - loss: 0.8310 - accuracy: 0.5625 - val_loss: 0.6279 - val_accuracy: 0.7917\n",
      "Epoch 22/500\n",
      "3/3 [==============================] - 0s 13ms/step - loss: 0.8067 - accuracy: 0.5938 - val_loss: 0.6149 - val_accuracy: 0.7917\n",
      "Epoch 23/500\n",
      "3/3 [==============================] - 0s 13ms/step - loss: 0.7315 - accuracy: 0.5938 - val_loss: 0.6026 - val_accuracy: 0.7917\n",
      "Epoch 24/500\n",
      "3/3 [==============================] - 0s 13ms/step - loss: 0.7203 - accuracy: 0.6354 - val_loss: 0.5909 - val_accuracy: 0.7917\n",
      "Epoch 25/500\n",
      "3/3 [==============================] - 0s 14ms/step - loss: 0.7357 - accuracy: 0.6250 - val_loss: 0.5794 - val_accuracy: 0.7917\n",
      "Epoch 26/500\n",
      "3/3 [==============================] - 0s 12ms/step - loss: 0.7080 - accuracy: 0.6146 - val_loss: 0.5685 - val_accuracy: 0.7917\n",
      "Epoch 27/500\n",
      "3/3 [==============================] - 0s 13ms/step - loss: 0.7011 - accuracy: 0.6146 - val_loss: 0.5580 - val_accuracy: 0.7917\n",
      "Epoch 28/500\n",
      "3/3 [==============================] - 0s 14ms/step - loss: 0.6959 - accuracy: 0.6979 - val_loss: 0.5481 - val_accuracy: 0.7917\n",
      "Epoch 29/500\n",
      "3/3 [==============================] - 0s 15ms/step - loss: 0.6929 - accuracy: 0.7188 - val_loss: 0.5385 - val_accuracy: 0.7917\n",
      "Epoch 30/500\n",
      "3/3 [==============================] - 0s 13ms/step - loss: 0.6769 - accuracy: 0.6562 - val_loss: 0.5293 - val_accuracy: 0.7917\n",
      "Epoch 31/500\n",
      "3/3 [==============================] - 0s 13ms/step - loss: 0.6964 - accuracy: 0.6354 - val_loss: 0.5206 - val_accuracy: 0.7917\n",
      "Epoch 32/500\n",
      "3/3 [==============================] - 0s 13ms/step - loss: 0.6954 - accuracy: 0.6979 - val_loss: 0.5120 - val_accuracy: 0.7917\n",
      "Epoch 33/500\n",
      "3/3 [==============================] - 0s 12ms/step - loss: 0.6946 - accuracy: 0.7396 - val_loss: 0.5037 - val_accuracy: 0.7917\n",
      "Epoch 34/500\n",
      "3/3 [==============================] - 0s 13ms/step - loss: 0.6889 - accuracy: 0.6875 - val_loss: 0.4959 - val_accuracy: 0.7917\n",
      "Epoch 35/500\n",
      "3/3 [==============================] - 0s 12ms/step - loss: 0.6469 - accuracy: 0.7292 - val_loss: 0.4883 - val_accuracy: 0.7917\n",
      "Epoch 36/500\n",
      "3/3 [==============================] - 0s 13ms/step - loss: 0.7020 - accuracy: 0.6458 - val_loss: 0.4812 - val_accuracy: 0.7917\n",
      "Epoch 37/500\n",
      "3/3 [==============================] - 0s 13ms/step - loss: 0.6832 - accuracy: 0.7083 - val_loss: 0.4741 - val_accuracy: 0.7917\n",
      "Epoch 38/500\n",
      "3/3 [==============================] - 0s 13ms/step - loss: 0.6637 - accuracy: 0.7188 - val_loss: 0.4672 - val_accuracy: 0.7917\n",
      "Epoch 39/500\n",
      "3/3 [==============================] - 0s 14ms/step - loss: 0.6650 - accuracy: 0.6875 - val_loss: 0.4606 - val_accuracy: 0.7917\n",
      "Epoch 40/500\n",
      "3/3 [==============================] - 0s 13ms/step - loss: 0.6651 - accuracy: 0.7292 - val_loss: 0.4542 - val_accuracy: 0.7917\n",
      "Epoch 41/500\n",
      "3/3 [==============================] - 0s 13ms/step - loss: 0.6510 - accuracy: 0.6979 - val_loss: 0.4481 - val_accuracy: 0.7917\n",
      "Epoch 42/500\n",
      "3/3 [==============================] - 0s 12ms/step - loss: 0.6480 - accuracy: 0.7292 - val_loss: 0.4424 - val_accuracy: 0.7917\n",
      "Epoch 43/500\n",
      "3/3 [==============================] - 0s 13ms/step - loss: 0.6263 - accuracy: 0.7604 - val_loss: 0.4367 - val_accuracy: 0.7917\n",
      "Epoch 44/500\n",
      "3/3 [==============================] - 0s 12ms/step - loss: 0.6051 - accuracy: 0.7604 - val_loss: 0.4312 - val_accuracy: 0.7917\n",
      "Epoch 45/500\n",
      "3/3 [==============================] - 0s 13ms/step - loss: 0.5749 - accuracy: 0.7812 - val_loss: 0.4257 - val_accuracy: 0.7917\n",
      "Epoch 46/500\n",
      "3/3 [==============================] - 0s 15ms/step - loss: 0.5630 - accuracy: 0.7812 - val_loss: 0.4206 - val_accuracy: 0.7917\n",
      "Epoch 47/500\n",
      "3/3 [==============================] - 0s 13ms/step - loss: 0.5702 - accuracy: 0.8229 - val_loss: 0.4155 - val_accuracy: 0.7917\n",
      "Epoch 48/500\n",
      "3/3 [==============================] - 0s 13ms/step - loss: 0.5794 - accuracy: 0.7604 - val_loss: 0.4106 - val_accuracy: 0.7917\n",
      "Epoch 49/500\n",
      "3/3 [==============================] - 0s 14ms/step - loss: 0.5436 - accuracy: 0.8125 - val_loss: 0.4057 - val_accuracy: 0.7917\n",
      "Epoch 50/500\n",
      "3/3 [==============================] - 0s 13ms/step - loss: 0.5794 - accuracy: 0.8021 - val_loss: 0.4011 - val_accuracy: 0.7917\n",
      "Epoch 51/500\n",
      "3/3 [==============================] - 0s 12ms/step - loss: 0.5647 - accuracy: 0.7917 - val_loss: 0.3966 - val_accuracy: 0.7917\n",
      "Epoch 52/500\n",
      "3/3 [==============================] - 0s 14ms/step - loss: 0.5580 - accuracy: 0.8125 - val_loss: 0.3923 - val_accuracy: 0.7917\n",
      "Epoch 53/500\n",
      "3/3 [==============================] - 0s 14ms/step - loss: 0.5862 - accuracy: 0.7708 - val_loss: 0.3882 - val_accuracy: 0.7917\n",
      "Epoch 54/500\n",
      "3/3 [==============================] - 0s 14ms/step - loss: 0.5562 - accuracy: 0.8125 - val_loss: 0.3841 - val_accuracy: 0.7917\n",
      "Epoch 55/500\n",
      "3/3 [==============================] - 0s 12ms/step - loss: 0.5102 - accuracy: 0.8333 - val_loss: 0.3800 - val_accuracy: 0.7917\n",
      "Epoch 56/500\n",
      "3/3 [==============================] - 0s 13ms/step - loss: 0.5662 - accuracy: 0.8333 - val_loss: 0.3760 - val_accuracy: 0.7917\n",
      "Epoch 57/500\n",
      "3/3 [==============================] - 0s 13ms/step - loss: 0.5669 - accuracy: 0.8021 - val_loss: 0.3722 - val_accuracy: 0.7917\n",
      "Epoch 58/500\n",
      "3/3 [==============================] - 0s 12ms/step - loss: 0.5436 - accuracy: 0.7917 - val_loss: 0.3686 - val_accuracy: 0.7917\n",
      "Epoch 59/500\n",
      "3/3 [==============================] - 0s 14ms/step - loss: 0.5644 - accuracy: 0.8125 - val_loss: 0.3649 - val_accuracy: 0.7917\n",
      "Epoch 60/500\n",
      "3/3 [==============================] - 0s 15ms/step - loss: 0.5275 - accuracy: 0.8333 - val_loss: 0.3613 - val_accuracy: 0.7917\n",
      "Epoch 61/500\n",
      "3/3 [==============================] - 0s 15ms/step - loss: 0.5179 - accuracy: 0.8229 - val_loss: 0.3577 - val_accuracy: 0.7917\n",
      "Epoch 62/500\n",
      "3/3 [==============================] - 0s 13ms/step - loss: 0.5196 - accuracy: 0.8646 - val_loss: 0.3541 - val_accuracy: 0.7917\n",
      "Epoch 63/500\n",
      "3/3 [==============================] - 0s 13ms/step - loss: 0.5219 - accuracy: 0.8333 - val_loss: 0.3506 - val_accuracy: 0.7917\n",
      "Epoch 64/500\n",
      "3/3 [==============================] - 0s 12ms/step - loss: 0.5164 - accuracy: 0.8021 - val_loss: 0.3472 - val_accuracy: 0.7917\n",
      "Epoch 65/500\n",
      "3/3 [==============================] - 0s 13ms/step - loss: 0.5305 - accuracy: 0.8542 - val_loss: 0.3436 - val_accuracy: 0.7917\n",
      "Epoch 66/500\n",
      "3/3 [==============================] - 0s 15ms/step - loss: 0.4940 - accuracy: 0.8646 - val_loss: 0.3402 - val_accuracy: 0.7917\n",
      "Epoch 67/500\n",
      "3/3 [==============================] - 0s 13ms/step - loss: 0.5127 - accuracy: 0.8438 - val_loss: 0.3370 - val_accuracy: 0.7917\n",
      "Epoch 68/500\n",
      "3/3 [==============================] - 0s 13ms/step - loss: 0.4611 - accuracy: 0.8750 - val_loss: 0.3339 - val_accuracy: 0.7917\n",
      "Epoch 69/500\n",
      "3/3 [==============================] - 0s 12ms/step - loss: 0.4748 - accuracy: 0.8333 - val_loss: 0.3309 - val_accuracy: 0.7917\n",
      "Epoch 70/500\n",
      "3/3 [==============================] - 0s 13ms/step - loss: 0.4789 - accuracy: 0.8854 - val_loss: 0.3280 - val_accuracy: 0.7917\n",
      "Epoch 71/500\n",
      "3/3 [==============================] - 0s 19ms/step - loss: 0.4872 - accuracy: 0.8854 - val_loss: 0.3250 - val_accuracy: 0.7917\n",
      "Epoch 72/500\n",
      "3/3 [==============================] - 0s 16ms/step - loss: 0.4715 - accuracy: 0.8750 - val_loss: 0.3220 - val_accuracy: 0.7917\n",
      "Epoch 73/500\n",
      "3/3 [==============================] - 0s 13ms/step - loss: 0.4644 - accuracy: 0.8646 - val_loss: 0.3193 - val_accuracy: 0.7917\n",
      "Epoch 74/500\n",
      "3/3 [==============================] - 0s 13ms/step - loss: 0.4604 - accuracy: 0.8854 - val_loss: 0.3165 - val_accuracy: 0.7917\n",
      "Epoch 75/500\n",
      "3/3 [==============================] - 0s 12ms/step - loss: 0.5030 - accuracy: 0.8333 - val_loss: 0.3138 - val_accuracy: 0.7917\n",
      "Epoch 76/500\n",
      "3/3 [==============================] - 0s 11ms/step - loss: 0.4403 - accuracy: 0.8750 - val_loss: 0.3110 - val_accuracy: 0.7917\n",
      "Epoch 77/500\n",
      "3/3 [==============================] - 0s 16ms/step - loss: 0.4765 - accuracy: 0.8438 - val_loss: 0.3080 - val_accuracy: 0.7917\n",
      "Epoch 78/500\n",
      "3/3 [==============================] - 0s 13ms/step - loss: 0.4392 - accuracy: 0.8854 - val_loss: 0.3051 - val_accuracy: 0.7917\n",
      "Epoch 79/500\n",
      "3/3 [==============================] - 0s 14ms/step - loss: 0.4536 - accuracy: 0.8750 - val_loss: 0.3024 - val_accuracy: 0.7917\n",
      "Epoch 80/500\n",
      "3/3 [==============================] - 0s 15ms/step - loss: 0.4416 - accuracy: 0.8750 - val_loss: 0.2999 - val_accuracy: 0.7917\n",
      "Epoch 81/500\n",
      "3/3 [==============================] - 0s 12ms/step - loss: 0.4424 - accuracy: 0.8750 - val_loss: 0.2973 - val_accuracy: 0.7917\n",
      "Epoch 82/500\n",
      "3/3 [==============================] - 0s 12ms/step - loss: 0.4732 - accuracy: 0.8438 - val_loss: 0.2947 - val_accuracy: 0.8333\n",
      "Epoch 83/500\n",
      "3/3 [==============================] - 0s 13ms/step - loss: 0.4386 - accuracy: 0.8646 - val_loss: 0.2922 - val_accuracy: 0.8750\n",
      "Epoch 84/500\n",
      "3/3 [==============================] - 0s 12ms/step - loss: 0.3944 - accuracy: 0.8854 - val_loss: 0.2894 - val_accuracy: 0.8750\n",
      "Epoch 85/500\n",
      "3/3 [==============================] - 0s 12ms/step - loss: 0.4483 - accuracy: 0.8750 - val_loss: 0.2866 - val_accuracy: 0.8750\n",
      "Epoch 86/500\n",
      "3/3 [==============================] - 0s 12ms/step - loss: 0.4299 - accuracy: 0.8750 - val_loss: 0.2840 - val_accuracy: 0.8750\n",
      "Epoch 87/500\n",
      "3/3 [==============================] - 0s 13ms/step - loss: 0.4407 - accuracy: 0.8229 - val_loss: 0.2814 - val_accuracy: 0.8750\n",
      "Epoch 88/500\n",
      "3/3 [==============================] - 0s 14ms/step - loss: 0.4770 - accuracy: 0.8333 - val_loss: 0.2788 - val_accuracy: 0.8750\n",
      "Epoch 89/500\n",
      "3/3 [==============================] - 0s 13ms/step - loss: 0.4047 - accuracy: 0.8750 - val_loss: 0.2760 - val_accuracy: 0.8750\n",
      "Epoch 90/500\n",
      "3/3 [==============================] - 0s 14ms/step - loss: 0.4146 - accuracy: 0.8750 - val_loss: 0.2736 - val_accuracy: 0.8750\n",
      "Epoch 91/500\n",
      "3/3 [==============================] - 0s 12ms/step - loss: 0.4369 - accuracy: 0.8438 - val_loss: 0.2712 - val_accuracy: 0.8750\n",
      "Epoch 92/500\n",
      "3/3 [==============================] - 0s 12ms/step - loss: 0.3869 - accuracy: 0.8958 - val_loss: 0.2689 - val_accuracy: 0.8750\n",
      "Epoch 93/500\n",
      "3/3 [==============================] - 0s 14ms/step - loss: 0.3634 - accuracy: 0.9062 - val_loss: 0.2665 - val_accuracy: 0.8750\n",
      "Epoch 94/500\n",
      "3/3 [==============================] - 0s 13ms/step - loss: 0.4201 - accuracy: 0.8854 - val_loss: 0.2638 - val_accuracy: 0.8750\n",
      "Epoch 95/500\n",
      "3/3 [==============================] - 0s 12ms/step - loss: 0.4128 - accuracy: 0.8750 - val_loss: 0.2614 - val_accuracy: 0.9167\n",
      "Epoch 96/500\n",
      "3/3 [==============================] - 0s 12ms/step - loss: 0.3992 - accuracy: 0.9167 - val_loss: 0.2586 - val_accuracy: 0.9583\n",
      "Epoch 97/500\n",
      "3/3 [==============================] - 0s 13ms/step - loss: 0.4097 - accuracy: 0.9271 - val_loss: 0.2561 - val_accuracy: 0.9583\n",
      "Epoch 98/500\n",
      "3/3 [==============================] - 0s 13ms/step - loss: 0.3759 - accuracy: 0.8750 - val_loss: 0.2535 - val_accuracy: 0.9583\n",
      "Epoch 99/500\n",
      "3/3 [==============================] - 0s 12ms/step - loss: 0.3514 - accuracy: 0.9271 - val_loss: 0.2509 - val_accuracy: 0.9583\n",
      "Epoch 100/500\n",
      "3/3 [==============================] - 0s 12ms/step - loss: 0.3898 - accuracy: 0.8333 - val_loss: 0.2481 - val_accuracy: 0.9583\n",
      "Epoch 101/500\n",
      "3/3 [==============================] - 0s 13ms/step - loss: 0.3485 - accuracy: 0.8854 - val_loss: 0.2457 - val_accuracy: 0.9583\n",
      "Epoch 102/500\n",
      "3/3 [==============================] - 0s 13ms/step - loss: 0.3273 - accuracy: 0.8958 - val_loss: 0.2431 - val_accuracy: 0.9583\n",
      "Epoch 103/500\n",
      "3/3 [==============================] - 0s 12ms/step - loss: 0.3467 - accuracy: 0.8854 - val_loss: 0.2405 - val_accuracy: 0.9583\n",
      "Epoch 104/500\n",
      "3/3 [==============================] - 0s 14ms/step - loss: 0.3813 - accuracy: 0.8854 - val_loss: 0.2375 - val_accuracy: 0.9583\n",
      "Epoch 105/500\n",
      "3/3 [==============================] - 0s 16ms/step - loss: 0.3339 - accuracy: 0.8958 - val_loss: 0.2351 - val_accuracy: 0.9583\n",
      "Epoch 106/500\n",
      "3/3 [==============================] - 0s 12ms/step - loss: 0.3222 - accuracy: 0.9062 - val_loss: 0.2323 - val_accuracy: 0.9583\n",
      "Epoch 107/500\n",
      "3/3 [==============================] - 0s 13ms/step - loss: 0.3701 - accuracy: 0.8646 - val_loss: 0.2296 - val_accuracy: 0.9583\n",
      "Epoch 108/500\n",
      "3/3 [==============================] - 0s 13ms/step - loss: 0.3785 - accuracy: 0.8750 - val_loss: 0.2270 - val_accuracy: 0.9583\n",
      "Epoch 109/500\n",
      "3/3 [==============================] - 0s 13ms/step - loss: 0.3920 - accuracy: 0.8438 - val_loss: 0.2240 - val_accuracy: 0.9583\n",
      "Epoch 110/500\n",
      "3/3 [==============================] - 0s 12ms/step - loss: 0.3225 - accuracy: 0.9062 - val_loss: 0.2213 - val_accuracy: 0.9583\n",
      "Epoch 111/500\n",
      "3/3 [==============================] - 0s 12ms/step - loss: 0.3243 - accuracy: 0.8958 - val_loss: 0.2184 - val_accuracy: 0.9583\n",
      "Epoch 112/500\n",
      "3/3 [==============================] - 0s 13ms/step - loss: 0.3478 - accuracy: 0.8854 - val_loss: 0.2156 - val_accuracy: 0.9583\n",
      "Epoch 113/500\n",
      "3/3 [==============================] - 0s 12ms/step - loss: 0.2723 - accuracy: 0.9375 - val_loss: 0.2130 - val_accuracy: 0.9583\n",
      "Epoch 114/500\n",
      "3/3 [==============================] - 0s 14ms/step - loss: 0.3446 - accuracy: 0.8646 - val_loss: 0.2099 - val_accuracy: 0.9583\n",
      "Epoch 115/500\n",
      "3/3 [==============================] - 0s 14ms/step - loss: 0.3278 - accuracy: 0.9062 - val_loss: 0.2070 - val_accuracy: 0.9583\n",
      "Epoch 116/500\n",
      "3/3 [==============================] - 0s 13ms/step - loss: 0.3764 - accuracy: 0.8646 - val_loss: 0.2041 - val_accuracy: 0.9583\n",
      "Epoch 117/500\n",
      "3/3 [==============================] - 0s 12ms/step - loss: 0.3551 - accuracy: 0.8958 - val_loss: 0.2015 - val_accuracy: 0.9583\n",
      "Epoch 118/500\n",
      "3/3 [==============================] - 0s 16ms/step - loss: 0.2836 - accuracy: 0.9062 - val_loss: 0.1986 - val_accuracy: 0.9583\n",
      "Epoch 119/500\n",
      "3/3 [==============================] - 0s 16ms/step - loss: 0.3316 - accuracy: 0.8646 - val_loss: 0.1958 - val_accuracy: 0.9583\n",
      "Epoch 120/500\n",
      "3/3 [==============================] - 0s 12ms/step - loss: 0.3248 - accuracy: 0.9062 - val_loss: 0.1932 - val_accuracy: 0.9583\n",
      "Epoch 121/500\n",
      "3/3 [==============================] - 0s 12ms/step - loss: 0.3332 - accuracy: 0.9271 - val_loss: 0.1908 - val_accuracy: 0.9583\n",
      "Epoch 122/500\n",
      "3/3 [==============================] - 0s 14ms/step - loss: 0.2772 - accuracy: 0.9583 - val_loss: 0.1886 - val_accuracy: 0.9583\n",
      "Epoch 123/500\n",
      "3/3 [==============================] - 0s 13ms/step - loss: 0.2570 - accuracy: 0.9479 - val_loss: 0.1862 - val_accuracy: 0.9583\n",
      "Epoch 124/500\n",
      "3/3 [==============================] - 0s 12ms/step - loss: 0.2945 - accuracy: 0.9271 - val_loss: 0.1836 - val_accuracy: 0.9583\n",
      "Epoch 125/500\n",
      "3/3 [==============================] - 0s 13ms/step - loss: 0.2869 - accuracy: 0.9062 - val_loss: 0.1811 - val_accuracy: 0.9583\n",
      "Epoch 126/500\n",
      "3/3 [==============================] - 0s 12ms/step - loss: 0.3041 - accuracy: 0.9062 - val_loss: 0.1792 - val_accuracy: 0.9583\n",
      "Epoch 127/500\n",
      "3/3 [==============================] - 0s 13ms/step - loss: 0.3597 - accuracy: 0.9167 - val_loss: 0.1776 - val_accuracy: 0.9583\n",
      "Epoch 128/500\n",
      "3/3 [==============================] - 0s 13ms/step - loss: 0.2779 - accuracy: 0.9375 - val_loss: 0.1761 - val_accuracy: 0.9583\n",
      "Epoch 129/500\n",
      "3/3 [==============================] - 0s 13ms/step - loss: 0.2790 - accuracy: 0.9479 - val_loss: 0.1748 - val_accuracy: 0.9583\n",
      "Epoch 130/500\n",
      "3/3 [==============================] - 0s 13ms/step - loss: 0.2955 - accuracy: 0.9062 - val_loss: 0.1733 - val_accuracy: 0.9583\n",
      "Epoch 131/500\n",
      "3/3 [==============================] - 0s 13ms/step - loss: 0.3207 - accuracy: 0.9167 - val_loss: 0.1720 - val_accuracy: 0.9583\n",
      "Epoch 132/500\n",
      "3/3 [==============================] - 0s 13ms/step - loss: 0.2690 - accuracy: 0.9375 - val_loss: 0.1706 - val_accuracy: 0.9583\n",
      "Epoch 133/500\n",
      "3/3 [==============================] - 0s 13ms/step - loss: 0.2842 - accuracy: 0.9271 - val_loss: 0.1686 - val_accuracy: 0.9583\n",
      "Epoch 134/500\n",
      "3/3 [==============================] - 0s 14ms/step - loss: 0.2775 - accuracy: 0.9167 - val_loss: 0.1666 - val_accuracy: 0.9583\n",
      "Epoch 135/500\n",
      "3/3 [==============================] - 0s 15ms/step - loss: 0.2564 - accuracy: 0.9479 - val_loss: 0.1645 - val_accuracy: 0.9583\n",
      "Epoch 136/500\n",
      "3/3 [==============================] - 0s 14ms/step - loss: 0.2698 - accuracy: 0.9479 - val_loss: 0.1624 - val_accuracy: 0.9583\n",
      "Epoch 137/500\n",
      "3/3 [==============================] - 0s 16ms/step - loss: 0.2752 - accuracy: 0.9167 - val_loss: 0.1604 - val_accuracy: 0.9583\n",
      "Epoch 138/500\n",
      "3/3 [==============================] - 0s 13ms/step - loss: 0.2511 - accuracy: 0.9479 - val_loss: 0.1583 - val_accuracy: 0.9583\n",
      "Epoch 139/500\n",
      "3/3 [==============================] - 0s 13ms/step - loss: 0.2565 - accuracy: 0.9479 - val_loss: 0.1561 - val_accuracy: 0.9583\n",
      "Epoch 140/500\n",
      "3/3 [==============================] - 0s 13ms/step - loss: 0.2486 - accuracy: 0.9479 - val_loss: 0.1540 - val_accuracy: 0.9583\n",
      "Epoch 141/500\n",
      "3/3 [==============================] - 0s 13ms/step - loss: 0.2991 - accuracy: 0.9375 - val_loss: 0.1528 - val_accuracy: 0.9583\n",
      "Epoch 142/500\n",
      "3/3 [==============================] - 0s 12ms/step - loss: 0.3009 - accuracy: 0.9167 - val_loss: 0.1519 - val_accuracy: 0.9583\n",
      "Epoch 143/500\n",
      "3/3 [==============================] - 0s 13ms/step - loss: 0.2633 - accuracy: 0.9479 - val_loss: 0.1512 - val_accuracy: 0.9583\n",
      "Epoch 144/500\n",
      "3/3 [==============================] - 0s 13ms/step - loss: 0.2577 - accuracy: 0.9271 - val_loss: 0.1505 - val_accuracy: 0.9583\n",
      "Epoch 145/500\n",
      "3/3 [==============================] - 0s 13ms/step - loss: 0.2374 - accuracy: 0.9479 - val_loss: 0.1495 - val_accuracy: 0.9583\n",
      "Epoch 146/500\n",
      "3/3 [==============================] - 0s 16ms/step - loss: 0.2537 - accuracy: 0.9479 - val_loss: 0.1481 - val_accuracy: 0.9583\n",
      "Epoch 147/500\n",
      "3/3 [==============================] - 0s 14ms/step - loss: 0.3293 - accuracy: 0.8854 - val_loss: 0.1465 - val_accuracy: 0.9583\n",
      "Epoch 148/500\n",
      "3/3 [==============================] - 0s 13ms/step - loss: 0.2476 - accuracy: 0.9271 - val_loss: 0.1450 - val_accuracy: 0.9583\n",
      "Epoch 149/500\n",
      "3/3 [==============================] - 0s 13ms/step - loss: 0.2988 - accuracy: 0.9271 - val_loss: 0.1435 - val_accuracy: 0.9583\n",
      "Epoch 150/500\n",
      "3/3 [==============================] - 0s 12ms/step - loss: 0.1695 - accuracy: 0.9792 - val_loss: 0.1426 - val_accuracy: 0.9583\n",
      "Epoch 151/500\n",
      "3/3 [==============================] - 0s 13ms/step - loss: 0.2647 - accuracy: 0.8854 - val_loss: 0.1418 - val_accuracy: 0.9583\n",
      "Epoch 152/500\n",
      "3/3 [==============================] - 0s 17ms/step - loss: 0.2687 - accuracy: 0.9375 - val_loss: 0.1411 - val_accuracy: 0.9583\n",
      "Epoch 153/500\n",
      "3/3 [==============================] - 0s 14ms/step - loss: 0.2371 - accuracy: 0.9375 - val_loss: 0.1406 - val_accuracy: 0.9583\n",
      "Epoch 154/500\n",
      "3/3 [==============================] - 0s 13ms/step - loss: 0.2250 - accuracy: 0.9375 - val_loss: 0.1398 - val_accuracy: 0.9583\n",
      "Epoch 155/500\n",
      "3/3 [==============================] - 0s 13ms/step - loss: 0.2145 - accuracy: 0.9167 - val_loss: 0.1383 - val_accuracy: 0.9583\n",
      "Epoch 156/500\n",
      "3/3 [==============================] - 0s 12ms/step - loss: 0.2292 - accuracy: 0.9062 - val_loss: 0.1368 - val_accuracy: 0.9583\n",
      "Epoch 157/500\n",
      "3/3 [==============================] - 0s 12ms/step - loss: 0.2787 - accuracy: 0.9271 - val_loss: 0.1354 - val_accuracy: 0.9583\n",
      "Epoch 158/500\n",
      "3/3 [==============================] - 0s 12ms/step - loss: 0.2528 - accuracy: 0.9271 - val_loss: 0.1341 - val_accuracy: 0.9583\n",
      "Epoch 159/500\n",
      "3/3 [==============================] - 0s 13ms/step - loss: 0.2162 - accuracy: 0.9479 - val_loss: 0.1325 - val_accuracy: 0.9583\n",
      "Epoch 160/500\n",
      "3/3 [==============================] - 0s 12ms/step - loss: 0.1957 - accuracy: 0.9583 - val_loss: 0.1306 - val_accuracy: 0.9583\n",
      "Epoch 161/500\n",
      "3/3 [==============================] - 0s 13ms/step - loss: 0.2272 - accuracy: 0.9479 - val_loss: 0.1286 - val_accuracy: 0.9583\n",
      "Epoch 162/500\n",
      "3/3 [==============================] - 0s 12ms/step - loss: 0.1883 - accuracy: 0.9375 - val_loss: 0.1268 - val_accuracy: 0.9583\n",
      "Epoch 163/500\n",
      "3/3 [==============================] - 0s 13ms/step - loss: 0.2483 - accuracy: 0.9271 - val_loss: 0.1251 - val_accuracy: 0.9583\n",
      "Epoch 164/500\n",
      "3/3 [==============================] - 0s 12ms/step - loss: 0.2456 - accuracy: 0.9479 - val_loss: 0.1230 - val_accuracy: 0.9583\n",
      "Epoch 165/500\n",
      "3/3 [==============================] - 0s 13ms/step - loss: 0.2609 - accuracy: 0.9271 - val_loss: 0.1216 - val_accuracy: 0.9583\n",
      "Epoch 166/500\n",
      "3/3 [==============================] - 0s 12ms/step - loss: 0.2078 - accuracy: 0.9583 - val_loss: 0.1205 - val_accuracy: 0.9583\n",
      "Epoch 167/500\n",
      "3/3 [==============================] - 0s 16ms/step - loss: 0.2057 - accuracy: 0.9583 - val_loss: 0.1193 - val_accuracy: 0.9583\n",
      "Epoch 168/500\n",
      "3/3 [==============================] - 0s 13ms/step - loss: 0.2289 - accuracy: 0.9375 - val_loss: 0.1185 - val_accuracy: 0.9583\n",
      "Epoch 169/500\n",
      "3/3 [==============================] - 0s 16ms/step - loss: 0.2089 - accuracy: 0.9583 - val_loss: 0.1178 - val_accuracy: 0.9583\n",
      "Epoch 170/500\n",
      "3/3 [==============================] - 0s 12ms/step - loss: 0.2873 - accuracy: 0.9167 - val_loss: 0.1170 - val_accuracy: 0.9583\n",
      "Epoch 171/500\n",
      "3/3 [==============================] - 0s 13ms/step - loss: 0.2260 - accuracy: 0.9583 - val_loss: 0.1162 - val_accuracy: 0.9583\n",
      "Epoch 172/500\n",
      "3/3 [==============================] - 0s 14ms/step - loss: 0.1768 - accuracy: 0.9583 - val_loss: 0.1159 - val_accuracy: 0.9583\n",
      "Epoch 173/500\n",
      "3/3 [==============================] - 0s 13ms/step - loss: 0.1712 - accuracy: 0.9583 - val_loss: 0.1155 - val_accuracy: 0.9583\n",
      "Epoch 174/500\n",
      "3/3 [==============================] - 0s 12ms/step - loss: 0.2171 - accuracy: 0.9479 - val_loss: 0.1153 - val_accuracy: 0.9583\n",
      "Epoch 175/500\n",
      "3/3 [==============================] - 0s 12ms/step - loss: 0.2240 - accuracy: 0.9688 - val_loss: 0.1144 - val_accuracy: 0.9583\n",
      "Epoch 176/500\n",
      "3/3 [==============================] - 0s 14ms/step - loss: 0.2568 - accuracy: 0.9271 - val_loss: 0.1132 - val_accuracy: 0.9583\n",
      "Epoch 177/500\n",
      "3/3 [==============================] - 0s 13ms/step - loss: 0.1803 - accuracy: 0.9479 - val_loss: 0.1118 - val_accuracy: 0.9583\n",
      "Epoch 178/500\n",
      "3/3 [==============================] - 0s 13ms/step - loss: 0.2200 - accuracy: 0.9375 - val_loss: 0.1112 - val_accuracy: 0.9583\n",
      "Epoch 179/500\n",
      "3/3 [==============================] - 0s 13ms/step - loss: 0.2103 - accuracy: 0.9375 - val_loss: 0.1102 - val_accuracy: 0.9583\n",
      "Epoch 180/500\n",
      "3/3 [==============================] - 0s 12ms/step - loss: 0.2139 - accuracy: 0.9375 - val_loss: 0.1092 - val_accuracy: 0.9583\n",
      "Epoch 181/500\n",
      "3/3 [==============================] - 0s 12ms/step - loss: 0.2346 - accuracy: 0.9062 - val_loss: 0.1079 - val_accuracy: 0.9583\n",
      "Epoch 182/500\n",
      "3/3 [==============================] - 0s 13ms/step - loss: 0.1802 - accuracy: 0.9688 - val_loss: 0.1076 - val_accuracy: 0.9583\n",
      "Epoch 183/500\n",
      "3/3 [==============================] - 0s 13ms/step - loss: 0.2286 - accuracy: 0.9271 - val_loss: 0.1073 - val_accuracy: 0.9583\n",
      "Epoch 184/500\n",
      "3/3 [==============================] - 0s 13ms/step - loss: 0.1696 - accuracy: 0.9688 - val_loss: 0.1064 - val_accuracy: 0.9583\n",
      "Epoch 185/500\n",
      "3/3 [==============================] - 0s 11ms/step - loss: 0.2272 - accuracy: 0.9167 - val_loss: 0.1055 - val_accuracy: 0.9583\n",
      "Epoch 186/500\n",
      "3/3 [==============================] - 0s 12ms/step - loss: 0.1969 - accuracy: 0.9583 - val_loss: 0.1047 - val_accuracy: 0.9583\n",
      "Epoch 187/500\n",
      "3/3 [==============================] - 0s 15ms/step - loss: 0.2146 - accuracy: 0.9479 - val_loss: 0.1035 - val_accuracy: 0.9583\n",
      "Epoch 188/500\n",
      "3/3 [==============================] - 0s 16ms/step - loss: 0.1768 - accuracy: 0.9688 - val_loss: 0.1023 - val_accuracy: 0.9583\n",
      "Epoch 189/500\n",
      "3/3 [==============================] - 0s 16ms/step - loss: 0.2055 - accuracy: 0.9583 - val_loss: 0.1008 - val_accuracy: 0.9583\n",
      "Epoch 190/500\n",
      "3/3 [==============================] - 0s 13ms/step - loss: 0.2097 - accuracy: 0.9479 - val_loss: 0.1000 - val_accuracy: 0.9583\n",
      "Epoch 191/500\n",
      "3/3 [==============================] - 0s 14ms/step - loss: 0.1625 - accuracy: 0.9479 - val_loss: 0.0996 - val_accuracy: 0.9583\n",
      "Epoch 192/500\n",
      "3/3 [==============================] - 0s 19ms/step - loss: 0.1593 - accuracy: 0.9583 - val_loss: 0.0999 - val_accuracy: 0.9583\n",
      "Epoch 193/500\n",
      "3/3 [==============================] - 0s 17ms/step - loss: 0.1558 - accuracy: 0.9688 - val_loss: 0.1006 - val_accuracy: 0.9583\n",
      "Epoch 194/500\n",
      "3/3 [==============================] - 0s 12ms/step - loss: 0.1609 - accuracy: 0.9688 - val_loss: 0.1008 - val_accuracy: 0.9583\n",
      "Epoch 195/500\n",
      "3/3 [==============================] - 0s 13ms/step - loss: 0.2302 - accuracy: 0.9375 - val_loss: 0.1005 - val_accuracy: 0.9583\n",
      "Epoch 196/500\n",
      "3/3 [==============================] - 0s 13ms/step - loss: 0.1936 - accuracy: 0.9479 - val_loss: 0.1006 - val_accuracy: 0.9583\n",
      "Epoch 197/500\n",
      "3/3 [==============================] - 0s 13ms/step - loss: 0.1905 - accuracy: 0.9688 - val_loss: 0.1009 - val_accuracy: 0.9583\n",
      "Epoch 198/500\n",
      "3/3 [==============================] - 0s 12ms/step - loss: 0.1921 - accuracy: 0.9479 - val_loss: 0.1012 - val_accuracy: 0.9583\n",
      "Epoch 199/500\n",
      "3/3 [==============================] - 0s 13ms/step - loss: 0.1396 - accuracy: 0.9583 - val_loss: 0.1009 - val_accuracy: 0.9583\n",
      "Epoch 200/500\n",
      "3/3 [==============================] - 0s 13ms/step - loss: 0.1647 - accuracy: 0.9688 - val_loss: 0.1001 - val_accuracy: 0.9583\n",
      "Epoch 201/500\n",
      "3/3 [==============================] - 0s 17ms/step - loss: 0.1870 - accuracy: 0.9479 - val_loss: 0.0994 - val_accuracy: 0.9583\n",
      "Epoch 202/500\n",
      "3/3 [==============================] - 0s 13ms/step - loss: 0.1997 - accuracy: 0.9688 - val_loss: 0.0989 - val_accuracy: 0.9583\n",
      "Epoch 203/500\n",
      "3/3 [==============================] - 0s 13ms/step - loss: 0.2146 - accuracy: 0.9271 - val_loss: 0.0974 - val_accuracy: 0.9583\n",
      "Epoch 204/500\n",
      "3/3 [==============================] - 0s 12ms/step - loss: 0.1773 - accuracy: 0.9583 - val_loss: 0.0959 - val_accuracy: 0.9583\n",
      "Epoch 205/500\n",
      "3/3 [==============================] - 0s 12ms/step - loss: 0.1878 - accuracy: 0.9583 - val_loss: 0.0941 - val_accuracy: 0.9583\n",
      "Epoch 206/500\n",
      "3/3 [==============================] - 0s 14ms/step - loss: 0.2170 - accuracy: 0.9375 - val_loss: 0.0923 - val_accuracy: 0.9583\n",
      "Epoch 207/500\n",
      "3/3 [==============================] - 0s 13ms/step - loss: 0.1417 - accuracy: 0.9792 - val_loss: 0.0906 - val_accuracy: 0.9583\n",
      "Epoch 208/500\n",
      "3/3 [==============================] - 0s 16ms/step - loss: 0.2127 - accuracy: 0.9583 - val_loss: 0.0891 - val_accuracy: 0.9583\n",
      "Epoch 209/500\n",
      "3/3 [==============================] - 0s 13ms/step - loss: 0.1281 - accuracy: 0.9896 - val_loss: 0.0881 - val_accuracy: 0.9583\n",
      "Epoch 210/500\n",
      "3/3 [==============================] - 0s 12ms/step - loss: 0.1939 - accuracy: 0.9688 - val_loss: 0.0869 - val_accuracy: 0.9583\n",
      "Epoch 211/500\n",
      "3/3 [==============================] - 0s 12ms/step - loss: 0.1609 - accuracy: 0.9688 - val_loss: 0.0858 - val_accuracy: 0.9583\n",
      "Epoch 212/500\n",
      "3/3 [==============================] - 0s 13ms/step - loss: 0.1374 - accuracy: 0.9688 - val_loss: 0.0849 - val_accuracy: 0.9583\n",
      "Epoch 213/500\n",
      "3/3 [==============================] - 0s 12ms/step - loss: 0.1983 - accuracy: 0.9583 - val_loss: 0.0843 - val_accuracy: 0.9583\n",
      "Epoch 214/500\n",
      "3/3 [==============================] - 0s 12ms/step - loss: 0.1871 - accuracy: 0.9583 - val_loss: 0.0840 - val_accuracy: 0.9583\n",
      "Epoch 215/500\n",
      "3/3 [==============================] - 0s 13ms/step - loss: 0.1576 - accuracy: 0.9583 - val_loss: 0.0833 - val_accuracy: 0.9583\n",
      "Epoch 216/500\n",
      "3/3 [==============================] - 0s 12ms/step - loss: 0.1322 - accuracy: 0.9479 - val_loss: 0.0821 - val_accuracy: 0.9583\n",
      "Epoch 217/500\n",
      "3/3 [==============================] - 0s 13ms/step - loss: 0.1755 - accuracy: 0.9479 - val_loss: 0.0813 - val_accuracy: 0.9583\n",
      "Epoch 218/500\n",
      "3/3 [==============================] - 0s 13ms/step - loss: 0.2150 - accuracy: 0.9583 - val_loss: 0.0808 - val_accuracy: 0.9583\n",
      "Epoch 219/500\n",
      "3/3 [==============================] - 0s 13ms/step - loss: 0.1568 - accuracy: 0.9688 - val_loss: 0.0803 - val_accuracy: 0.9583\n",
      "Epoch 220/500\n",
      "3/3 [==============================] - 0s 13ms/step - loss: 0.1833 - accuracy: 0.9583 - val_loss: 0.0795 - val_accuracy: 0.9583\n",
      "Epoch 221/500\n",
      "3/3 [==============================] - 0s 12ms/step - loss: 0.1795 - accuracy: 0.9583 - val_loss: 0.0784 - val_accuracy: 0.9583\n",
      "Epoch 222/500\n",
      "3/3 [==============================] - 0s 12ms/step - loss: 0.2429 - accuracy: 0.9375 - val_loss: 0.0781 - val_accuracy: 0.9583\n",
      "Epoch 223/500\n",
      "3/3 [==============================] - 0s 12ms/step - loss: 0.1567 - accuracy: 0.9479 - val_loss: 0.0791 - val_accuracy: 0.9583\n",
      "Epoch 224/500\n",
      "3/3 [==============================] - 0s 12ms/step - loss: 0.2081 - accuracy: 0.9271 - val_loss: 0.0804 - val_accuracy: 0.9583\n",
      "Epoch 225/500\n",
      "3/3 [==============================] - 0s 12ms/step - loss: 0.1863 - accuracy: 0.9688 - val_loss: 0.0810 - val_accuracy: 0.9583\n",
      "Epoch 226/500\n",
      "3/3 [==============================] - 0s 13ms/step - loss: 0.1810 - accuracy: 0.9583 - val_loss: 0.0817 - val_accuracy: 0.9583\n",
      "Epoch 227/500\n",
      "3/3 [==============================] - 0s 16ms/step - loss: 0.1561 - accuracy: 0.9688 - val_loss: 0.0819 - val_accuracy: 0.9583\n",
      "Epoch 228/500\n",
      "3/3 [==============================] - 0s 13ms/step - loss: 0.1665 - accuracy: 0.9375 - val_loss: 0.0827 - val_accuracy: 0.9583\n",
      "Epoch 229/500\n",
      "3/3 [==============================] - 0s 13ms/step - loss: 0.1701 - accuracy: 0.9479 - val_loss: 0.0843 - val_accuracy: 0.9583\n",
      "Epoch 230/500\n",
      "3/3 [==============================] - 0s 12ms/step - loss: 0.1568 - accuracy: 0.9688 - val_loss: 0.0857 - val_accuracy: 0.9583\n",
      "Epoch 231/500\n",
      "3/3 [==============================] - 0s 12ms/step - loss: 0.1754 - accuracy: 0.9375 - val_loss: 0.0868 - val_accuracy: 0.9583\n",
      "Epoch 232/500\n",
      "3/3 [==============================] - 0s 12ms/step - loss: 0.1508 - accuracy: 0.9688 - val_loss: 0.0862 - val_accuracy: 0.9583\n"
     ]
    }
   ],
   "source": [
    "callback = EarlyStopping(monitor='val_loss', patience=10)\n",
    "\n",
    "iris_history = iris_model.fit(X_train_scaled, y_final, epochs=500, validation_split=0.2, callbacks=[callback])"
   ]
  },
  {
   "cell_type": "code",
   "execution_count": 43,
   "metadata": {
    "colab": {
     "base_uri": "https://localhost:8080/",
     "height": 597
    },
    "collapsed": false,
    "id": "A-DuncWCPZo2",
    "jupyter": {
     "outputs_hidden": false
    },
    "outputId": "e1b42d86-b72e-411c-bb43-e0d9278e02c9"
   },
   "outputs": [
    {
     "data": {
      "text/plain": [
       "(<Figure size 1000x500 with 2 Axes>,\n",
       " array([<Axes: title={'center': 'Loss'}, xlabel='Epochs', ylabel='Loss'>,\n",
       "        <Axes: title={'center': 'Accuracy'}, xlabel='Epochs', ylabel='Accuracy'>],\n",
       "       dtype=object))"
      ]
     },
     "execution_count": 43,
     "metadata": {},
     "output_type": "execute_result"
    },
    {
     "data": {
      "image/png": "[encoded data removed]",
      "text/plain": [
       "<Figure size 1000x500 with 2 Axes>"
      ]
     },
     "metadata": {},
     "output_type": "display_data"
    }
   ],
   "source": [
    "plot_history(iris_history)"
   ]
  },
  {
   "cell_type": "markdown",
   "metadata": {
    "collapsed": false,
    "id": "dEaPhtI_P2eA",
    "jupyter": {
     "outputs_hidden": false
    }
   },
   "source": [
    "### Teste"
   ]
  },
  {
   "cell_type": "markdown",
   "metadata": {
    "collapsed": false,
    "id": "2mHUXW-hxoHC",
    "jupyter": {
     "outputs_hidden": false
    }
   },
   "source": [
    "É possível avaliar a performance do modelo com o conjunto de teste usando o\n",
    "\n",
    "    Model.evaluate(\n",
    "      x=None,\n",
    "      y=None,\n",
    "      batch_size=None,\n",
    "      verbose=\"auto\",\n",
    "      sample_weight=None,\n",
    "      steps=None,\n",
    "      callbacks=None,\n",
    "      return_dict=False,\n",
    "      **kwargs\n",
    "    )\n",
    "\n",
    "que retorna o valor de perda e a métrica utilizada para o conjunto de teste.\n"
   ]
  },
  {
   "cell_type": "code",
   "execution_count": 44,
   "metadata": {
    "colab": {
     "base_uri": "https://localhost:8080/"
    },
    "collapsed": false,
    "id": "Jt_7pkqnXDFE",
    "jupyter": {
     "outputs_hidden": false
    },
    "outputId": "00c1dc0e-bf69-45e7-898d-773b10acce3e"
   },
   "outputs": [
    {
     "name": "stdout",
     "output_type": "stream",
     "text": [
      "1/1 [==============================] - 0s 17ms/step - loss: 0.0989 - accuracy: 0.9667\n"
     ]
    },
    {
     "data": {
      "text/plain": [
       "[0.09889978915452957, 0.9666666388511658]"
      ]
     },
     "execution_count": 44,
     "metadata": {},
     "output_type": "execute_result"
    }
   ],
   "source": [
    "iris_model.evaluate(X_test_scaled, y_real)"
   ]
  },
  {
   "cell_type": "markdown",
   "metadata": {
    "collapsed": false,
    "id": "6c_tpllLyUEj",
    "jupyter": {
     "outputs_hidden": false
    }
   },
   "source": [
    "Caso seja necessário fazer uma avaliação mais detalhada com outras métricas ou visualizar a matriz de confusão é possível utilizar o\n",
    "\n",
    "    Model.predict(x, batch_size=None, verbose=\"auto\", steps=None, callbacks=None)\n",
    "que retorna valores a saída do *softmax* e que pode ser usado para determinar a classe prevista para cada amostra."
   ]
  },
  {
   "cell_type": "code",
   "execution_count": 45,
   "metadata": {
    "colab": {
     "base_uri": "https://localhost:8080/"
    },
    "collapsed": false,
    "id": "UHomblAfP7V3",
    "jupyter": {
     "outputs_hidden": false
    },
    "outputId": "ec11b1ac-3639-4ea5-e3ac-1e0fefba5f80"
   },
   "outputs": [
    {
     "name": "stdout",
     "output_type": "stream",
     "text": [
      "1/1 [==============================] - 0s 68ms/step\n"
     ]
    }
   ],
   "source": [
    "y_pred = iris_model.predict(X_test_scaled)"
   ]
  },
  {
   "cell_type": "code",
   "execution_count": 46,
   "metadata": {
    "colab": {
     "base_uri": "https://localhost:8080/"
    },
    "collapsed": false,
    "id": "EXzPUfj62sJS",
    "jupyter": {
     "outputs_hidden": false
    },
    "outputId": "e748faca-e6de-4cce-f2e9-70dd3587ea09"
   },
   "outputs": [
    {
     "data": {
      "text/plain": [
       "array([[9.99344289e-01, 5.21458627e-04, 1.34293703e-04],\n",
       "       [9.97936070e-01, 1.69725576e-03, 3.66614026e-04],\n",
       "       [1.78235379e-04, 6.47728564e-03, 9.93344367e-01],\n",
       "       [9.98450458e-01, 1.30911183e-03, 2.40295281e-04],\n",
       "       [9.98541415e-01, 1.18409540e-03, 2.74473074e-04],\n",
       "       [2.73088249e-03, 6.47494644e-02, 9.32519555e-01],\n",
       "       [9.97206628e-01, 2.38195853e-03, 4.11444023e-04],\n",
       "       [5.80504056e-05, 2.43245903e-03, 9.97509420e-01],\n",
       "       [7.78509711e-05, 2.11587315e-03, 9.97806311e-01],\n",
       "       [9.97218728e-01, 2.36470415e-03, 4.16606461e-04],\n",
       "       [9.99709249e-01, 2.43271643e-04, 4.75660199e-05],\n",
       "       [9.98990774e-01, 8.13161838e-04, 1.96187510e-04],\n",
       "       [9.99597132e-01, 3.19918036e-04, 8.28923439e-05],\n",
       "       [9.99478996e-01, 4.40384727e-04, 8.05584641e-05],\n",
       "       [7.80120492e-02, 8.12129498e-01, 1.09858535e-01],\n",
       "       [3.38634513e-02, 7.67814398e-01, 1.98322088e-01],\n",
       "       [6.59373045e-01, 3.35240394e-01, 5.38654905e-03],\n",
       "       [4.50124294e-02, 9.06409681e-01, 4.85779122e-02],\n",
       "       [7.19389136e-05, 1.99672580e-03, 9.97931302e-01],\n",
       "       [2.53062062e-02, 9.39393520e-01, 3.53001319e-02],\n",
       "       [1.50875580e-02, 2.70655453e-01, 7.14257061e-01],\n",
       "       [5.52045852e-02, 8.86127651e-01, 5.86676933e-02],\n",
       "       [4.34503105e-04, 8.67443811e-03, 9.90890980e-01],\n",
       "       [3.31610665e-02, 9.19397295e-01, 4.74415906e-02],\n",
       "       [1.44053930e-02, 9.19916391e-01, 6.56782836e-02],\n",
       "       [9.98468339e-01, 1.24066300e-03, 2.91003031e-04],\n",
       "       [9.99282539e-01, 5.74872422e-04, 1.42538760e-04],\n",
       "       [8.86143371e-03, 1.63154885e-01, 8.27983677e-01],\n",
       "       [9.98964190e-01, 8.63265479e-04, 1.72529981e-04],\n",
       "       [1.08796754e-03, 2.27103587e-02, 9.76201653e-01]], dtype=float32)"
      ]
     },
     "execution_count": 46,
     "metadata": {},
     "output_type": "execute_result"
    }
   ],
   "source": [
    "y_pred"
   ]
  },
  {
   "cell_type": "markdown",
   "metadata": {
    "collapsed": false,
    "id": "Vq1ej1FA-zMx",
    "jupyter": {
     "outputs_hidden": false
    }
   },
   "source": [
    "#### Matriz de confusão"
   ]
  },
  {
   "cell_type": "code",
   "execution_count": 47,
   "metadata": {
    "collapsed": false,
    "id": "FToTW-ew7Voy",
    "jupyter": {
     "outputs_hidden": false
    }
   },
   "outputs": [],
   "source": [
    "import numpy as np\n",
    "from sklearn.metrics import confusion_matrix, ConfusionMatrixDisplay"
   ]
  },
  {
   "cell_type": "code",
   "execution_count": 48,
   "metadata": {
    "colab": {
     "base_uri": "https://localhost:8080/"
    },
    "collapsed": false,
    "id": "AZXhe6Hg8tZb",
    "jupyter": {
     "outputs_hidden": false
    },
    "outputId": "57289ac3-2898-4888-a0bf-d658ddae02d3"
   },
   "outputs": [
    {
     "data": {
      "text/plain": [
       "array([0, 0, 2, 0, 0, 2, 0, 2, 2, 0, 0, 0, 0, 0, 1, 1, 0, 1, 2, 1, 2, 1,\n",
       "       2, 1, 1, 0, 0, 2, 0, 2])"
      ]
     },
     "execution_count": 48,
     "metadata": {},
     "output_type": "execute_result"
    }
   ],
   "source": [
    "y = np.argmax(y_pred, axis=1)\n",
    "y"
   ]
  },
  {
   "cell_type": "code",
   "execution_count": 49,
   "metadata": {
    "colab": {
     "base_uri": "https://localhost:8080/"
    },
    "collapsed": false,
    "id": "9fbkUkJD80qx",
    "jupyter": {
     "outputs_hidden": false
    },
    "outputId": "8980d4aa-707f-43f2-9421-f25c052a2abd"
   },
   "outputs": [
    {
     "data": {
      "text/plain": [
       "array([0, 0, 2, 0, 0, 2, 0, 2, 2, 0, 0, 0, 0, 0, 1, 1, 0, 1, 2, 1, 1, 1,\n",
       "       2, 1, 1, 0, 0, 2, 0, 2])"
      ]
     },
     "execution_count": 49,
     "metadata": {},
     "output_type": "execute_result"
    }
   ],
   "source": [
    "y_test"
   ]
  },
  {
   "cell_type": "code",
   "execution_count": 50,
   "metadata": {
    "colab": {
     "base_uri": "https://localhost:8080/",
     "height": 449
    },
    "collapsed": false,
    "id": "-SRvZOai7usS",
    "jupyter": {
     "outputs_hidden": false
    },
    "outputId": "b31a7e01-5c9c-4bac-f8b9-9740420d9118"
   },
   "outputs": [
    {
     "data": {
      "image/png": "[encoded data removed]",
      "text/plain": [
       "<Figure size 640x480 with 2 Axes>"
      ]
     },
     "metadata": {},
     "output_type": "display_data"
    }
   ],
   "source": [
    "cm = confusion_matrix(y_test, y)\n",
    "disp = ConfusionMatrixDisplay(confusion_matrix=cm)\n",
    "disp.plot(cmap=plt.cm.Blues)\n",
    "plt.show()"
   ]
  },
  {
   "cell_type": "markdown",
   "metadata": {
    "collapsed": false,
    "id": "vIQRwMpb-3OK",
    "jupyter": {
     "outputs_hidden": false
    }
   },
   "source": [
    "#### Métricas"
   ]
  },
  {
   "cell_type": "code",
   "execution_count": 51,
   "metadata": {
    "colab": {
     "base_uri": "https://localhost:8080/"
    },
    "collapsed": false,
    "id": "gdtVS_kd_OtD",
    "jupyter": {
     "outputs_hidden": false
    },
    "outputId": "b5fa083e-947d-4925-d2bd-90d95488af91"
   },
   "outputs": [
    {
     "name": "stdout",
     "output_type": "stream",
     "text": [
      "{\n",
      "    \"0\": {\n",
      "        \"precision\": 1.0,\n",
      "        \"recall\": 1.0,\n",
      "        \"f1-score\": 1.0,\n",
      "        \"support\": 14.0\n",
      "    },\n",
      "    \"1\": {\n",
      "        \"precision\": 1.0,\n",
      "        \"recall\": 0.875,\n",
      "        \"f1-score\": 0.9333333333333333,\n",
      "        \"support\": 8.0\n",
      "    },\n",
      "    \"2\": {\n",
      "        \"precision\": 0.8888888888888888,\n",
      "        \"recall\": 1.0,\n",
      "        \"f1-score\": 0.9411764705882353,\n",
      "        \"support\": 8.0\n",
      "    },\n",
      "    \"accuracy\": 0.9666666666666667,\n",
      "    \"macro avg\": {\n",
      "        \"precision\": 0.9629629629629629,\n",
      "        \"recall\": 0.9583333333333334,\n",
      "        \"f1-score\": 0.9581699346405229,\n",
      "        \"support\": 30.0\n",
      "    },\n",
      "    \"weighted avg\": {\n",
      "        \"precision\": 0.9703703703703703,\n",
      "        \"recall\": 0.9666666666666667,\n",
      "        \"f1-score\": 0.9665359477124185,\n",
      "        \"support\": 30.0\n",
      "    }\n",
      "}\n",
      "              precision    recall  f1-score   support\n",
      "\n",
      "           0       1.00      1.00      1.00        14\n",
      "           1       1.00      0.88      0.93         8\n",
      "           2       0.89      1.00      0.94         8\n",
      "\n",
      "    accuracy                           0.97        30\n",
      "   macro avg       0.96      0.96      0.96        30\n",
      "weighted avg       0.97      0.97      0.97        30\n",
      "\n"
     ]
    }
   ],
   "source": [
    "from sklearn.metrics import classification_report\n",
    "import json\n",
    "\n",
    "cr = classification_report(y_test, y, output_dict=True)\n",
    "\n",
    "print(json.dumps(cr, indent=4, ensure_ascii=False))\n",
    "print(classification_report(y_test, y))"
   ]
  },
  {
   "cell_type": "code",
   "execution_count": 52,
   "metadata": {},
   "outputs": [
    {
     "data": {
      "text/plain": [
       "\u001b[0;31mSignature:\u001b[0m\n",
       "\u001b[0mplot_model\u001b[0m\u001b[0;34m(\u001b[0m\u001b[0;34m\u001b[0m\n",
       "\u001b[0;34m\u001b[0m    \u001b[0mmodel\u001b[0m\u001b[0;34m,\u001b[0m\u001b[0;34m\u001b[0m\n",
       "\u001b[0;34m\u001b[0m    \u001b[0mto_file\u001b[0m\u001b[0;34m=\u001b[0m\u001b[0;34m'model.png'\u001b[0m\u001b[0;34m,\u001b[0m\u001b[0;34m\u001b[0m\n",
       "\u001b[0;34m\u001b[0m    \u001b[0mshow_shapes\u001b[0m\u001b[0;34m=\u001b[0m\u001b[0;32mFalse\u001b[0m\u001b[0;34m,\u001b[0m\u001b[0;34m\u001b[0m\n",
       "\u001b[0;34m\u001b[0m    \u001b[0mshow_dtype\u001b[0m\u001b[0;34m=\u001b[0m\u001b[0;32mFalse\u001b[0m\u001b[0;34m,\u001b[0m\u001b[0;34m\u001b[0m\n",
       "\u001b[0;34m\u001b[0m    \u001b[0mshow_layer_names\u001b[0m\u001b[0;34m=\u001b[0m\u001b[0;32mTrue\u001b[0m\u001b[0;34m,\u001b[0m\u001b[0;34m\u001b[0m\n",
       "\u001b[0;34m\u001b[0m    \u001b[0mrankdir\u001b[0m\u001b[0;34m=\u001b[0m\u001b[0;34m'TB'\u001b[0m\u001b[0;34m,\u001b[0m\u001b[0;34m\u001b[0m\n",
       "\u001b[0;34m\u001b[0m    \u001b[0mexpand_nested\u001b[0m\u001b[0;34m=\u001b[0m\u001b[0;32mFalse\u001b[0m\u001b[0;34m,\u001b[0m\u001b[0;34m\u001b[0m\n",
       "\u001b[0;34m\u001b[0m    \u001b[0mdpi\u001b[0m\u001b[0;34m=\u001b[0m\u001b[0;36m96\u001b[0m\u001b[0;34m,\u001b[0m\u001b[0;34m\u001b[0m\n",
       "\u001b[0;34m\u001b[0m    \u001b[0mlayer_range\u001b[0m\u001b[0;34m=\u001b[0m\u001b[0;32mNone\u001b[0m\u001b[0;34m,\u001b[0m\u001b[0;34m\u001b[0m\n",
       "\u001b[0;34m\u001b[0m    \u001b[0mshow_layer_activations\u001b[0m\u001b[0;34m=\u001b[0m\u001b[0;32mFalse\u001b[0m\u001b[0;34m,\u001b[0m\u001b[0;34m\u001b[0m\n",
       "\u001b[0;34m\u001b[0m    \u001b[0mshow_trainable\u001b[0m\u001b[0;34m=\u001b[0m\u001b[0;32mFalse\u001b[0m\u001b[0;34m,\u001b[0m\u001b[0;34m\u001b[0m\n",
       "\u001b[0;34m\u001b[0m\u001b[0;34m)\u001b[0m\u001b[0;34m\u001b[0m\u001b[0;34m\u001b[0m\u001b[0m\n",
       "\u001b[0;31mDocstring:\u001b[0m\n",
       "Converts a Keras model to dot format and save to a file.\n",
       "\n",
       "Example:\n",
       "\n",
       "```python\n",
       "input = tf.keras.Input(shape=(100,), dtype='int32', name='input')\n",
       "x = tf.keras.layers.Embedding(\n",
       "    output_dim=512, input_dim=10000, input_length=100)(input)\n",
       "x = tf.keras.layers.LSTM(32)(x)\n",
       "x = tf.keras.layers.Dense(64, activation='relu')(x)\n",
       "x = tf.keras.layers.Dense(64, activation='relu')(x)\n",
       "x = tf.keras.layers.Dense(64, activation='relu')(x)\n",
       "output = tf.keras.layers.Dense(1, activation='sigmoid', name='output')(x)\n",
       "model = tf.keras.Model(inputs=[input], outputs=[output])\n",
       "dot_img_file = '/tmp/model_1.png'\n",
       "tf.keras.utils.plot_model(model, to_file=dot_img_file, show_shapes=True)\n",
       "```\n",
       "\n",
       "Args:\n",
       "  model: A Keras model instance\n",
       "  to_file: File name of the plot image.\n",
       "  show_shapes: whether to display shape information.\n",
       "  show_dtype: whether to display layer dtypes.\n",
       "  show_layer_names: whether to display layer names.\n",
       "  rankdir: `rankdir` argument passed to PyDot,\n",
       "      a string specifying the format of the plot: 'TB' creates a vertical\n",
       "        plot; 'LR' creates a horizontal plot.\n",
       "  expand_nested: Whether to expand nested models into clusters.\n",
       "  dpi: Dots per inch.\n",
       "  layer_range: input of `list` containing two `str` items, which is the\n",
       "    starting layer name and ending layer name (both inclusive) indicating\n",
       "    the range of layers for which the plot will be generated. It also\n",
       "    accepts regex patterns instead of exact name. In such case, start\n",
       "    predicate will be the first element it matches to `layer_range[0]` and\n",
       "    the end predicate will be the last element it matches to\n",
       "    `layer_range[1]`. By default `None` which considers all layers of model.\n",
       "    Note that you must pass range such that the resultant subgraph must be\n",
       "    complete.\n",
       "  show_layer_activations: Display layer activations (only for layers that\n",
       "    have an `activation` property).\n",
       "  show_trainable: whether to display if a layer is trainable. Displays 'T'\n",
       "    when the layer is trainable and 'NT' when it is not trainable.\n",
       "\n",
       "Raises:\n",
       "  ImportError: if graphviz or pydot are not available.\n",
       "  ValueError: if `plot_model` is called before the model is built.\n",
       "\n",
       "Returns:\n",
       "  A Jupyter notebook Image object if Jupyter is installed.\n",
       "  This enables in-line display of the model plots in notebooks.\n",
       "\u001b[0;31mFile:\u001b[0m      ~/Desktop/nlp-tir/.venv/lib/python3.10/site-packages/keras/src/utils/vis_utils.py\n",
       "\u001b[0;31mType:\u001b[0m      function"
      ]
     },
     "metadata": {},
     "output_type": "display_data"
    }
   ],
   "source": [
    "plot_model?"
   ]
  },
  {
   "cell_type": "code",
   "execution_count": null,
   "metadata": {},
   "outputs": [],
   "source": []
  }
 ],
 "metadata": {
  "colab": {
   "collapsed_sections": [
    "Wi3lJEAh2qy_",
    "R5o871Y_lbdy",
    "SAQb3ejbn3bV"
   ],
   "provenance": []
  },
  "kernelspec": {
   "display_name": "Python 3 (ipykernel)",
   "language": "python",
   "name": "python3"
  },
  "language_info": {
   "codemirror_mode": {
    "name": "ipython",
    "version": 3
   },
   "file_extension": ".py",
   "mimetype": "text/x-python",
   "name": "python",
   "nbconvert_exporter": "python",
   "pygments_lexer": "ipython3",
   "version": "3.10.12"
  },
  "name": "keras_intro.ipynb"
 },
 "nbformat": 4,
 "nbformat_minor": 4
}
