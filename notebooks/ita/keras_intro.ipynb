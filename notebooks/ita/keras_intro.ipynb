{
 "cells": [
  {
   "cell_type": "markdown",
   "id": "ab4340a1-d5b9-4ca9-8bb0-ebda5653fdab",
   "metadata": {
    "collapsed": false,
    "id": "kgOZpjzymiY_"
   },
   "source": [
    "Autor: Joniel Bastos Barreto (PhD Student)\n",
    "\n",
    "**Keras**: É uma API de rede neural de alto nível para treinamento de redes neurais. Pode ser executado em vários back-ends, como Tensorflow, Theano e CNTK.\n",
    "\n",
    "Referência: [https://keras.io/api](https://keras.io/api)"
   ]
  },
  {
   "cell_type": "markdown",
   "id": "e836d0ad-c4c9-4ec0-a242-9853c707ec30",
   "metadata": {
    "collapsed": false,
    "id": "Wi3lJEAh2qy_"
   },
   "source": [
    "## Introdução ao Keras"
   ]
  },
  {
   "cell_type": "markdown",
   "id": "992a8497-02cc-4b17-85e4-a7e3c119e602",
   "metadata": {
    "collapsed": false,
    "id": "6yMTdsnLr4hq"
   },
   "source": [
    "### Classe **Model**\n",
    "\n",
    "Classe para representar grupos de camadas da sua rede\n",
    "- Necessário especificar, ao menos, a entrada e a saı́da"
   ]
  },
  {
   "cell_type": "markdown",
   "id": "70f51a58-62f6-4a48-a488-14e0e9154941",
   "metadata": {
    "collapsed": false,
    "id": "jhwA0W-c93-t"
   },
   "source": [
    "No Keras, definimos o tipo de neurônio e o padrão de conectividade por meio da classe **Layer**."
   ]
  },
  {
   "cell_type": "code",
   "execution_count": null,
   "id": "0935fb30-5c24-449f-91e4-22037475d33b",
   "metadata": {
    "collapsed": false,
    "id": "ntZw13VZrvXk"
   },
   "outputs": [],
   "source": [
    "from keras.layers import Input, Dense"
   ]
  },
  {
   "cell_type": "markdown",
   "id": "d3885f53-4cfc-4526-86cc-2b3413d59048",
   "metadata": {
    "collapsed": false,
    "id": "cGg0R2EMxVPW"
   },
   "source": [
    "    Input(\n",
    "      shape=None,\n",
    "      batch_size=None,\n",
    "      type=None,\n",
    "      parse=None,\n",
    "      batch_shape=None,\n",
    "      name=None,\n",
    "      tensor=None\n",
    "    )\n",
    "\n",
    "    Dense(\n",
    "      units,\n",
    "      activation=None,\n",
    "      use_bias=True,\n",
    "      kernel_initializer=\"glorot_uniform\",\n",
    "      bias_initializer=\"zeros\",\n",
    "      kernel_regularizer=None,\n",
    "      bias_regularizer=None,\n",
    "      activity_regularizer=None,\n",
    "      kernel_constraint=None,\n",
    "      bias_constraint=None,\n",
    "      lora_rank=None,\n",
    "      **kwargs\n",
    "    )\n"
   ]
  },
  {
   "cell_type": "code",
   "execution_count": null,
   "id": "469009ce-ad73-45b6-b5b0-5293ea375e8c",
   "metadata": {
    "collapsed": false,
    "id": "XuriR150vJuX"
   },
   "outputs": [],
   "source": [
    "# Camada de entrada\n",
    "inputs = Input(shape=(None, 4))\n",
    "# Próximas camadas são conectadas utilizando notação funcional\n",
    "hidden1 = Dense(10)(inputs)\n",
    "hidden2 = Dense(10)(hidden1)\n",
    "# Camada de saı́da\n",
    "output = Dense(3)(hidden2)"
   ]
  },
  {
   "cell_type": "markdown",
   "id": "03741462-b8f7-4487-a84c-d54f603ab128",
   "metadata": {
    "collapsed": false,
    "id": "vhNPzrWDzChH"
   },
   "source": [
    "#### Criar o modelo"
   ]
  },
  {
   "cell_type": "code",
   "execution_count": null,
   "id": "65876ed5-36e6-4aaa-a2b4-ec78548ab9e1",
   "metadata": {
    "collapsed": false,
    "id": "J-ezw-jOtlcG"
   },
   "outputs": [],
   "source": [
    "from keras.models import Model"
   ]
  },
  {
   "cell_type": "code",
   "execution_count": null,
   "id": "58f683f2-3418-44bc-ac54-f7e2b45a2993",
   "metadata": {
    "collapsed": false,
    "id": "cLy_qbmow1PP"
   },
   "outputs": [],
   "source": [
    "# Modelo completo: entrada e saı́da como argumentos\n",
    "full_model = Model(inputs, output)\n",
    "# Partes da rede podem ser referenciadas\n",
    "# Útil para:\n",
    "# - redes do tipo \"encoder\"-\"decoder\"\n",
    "# - compartilhamento de pesos em redes mais complexas\n",
    "only_hidden = Model(hidden1, hidden2)"
   ]
  },
  {
   "cell_type": "markdown",
   "id": "af43936f-748d-48b1-8475-2a93f6bf864c",
   "metadata": {
    "collapsed": false,
    "id": "uRoXhmCdc6ad"
   },
   "source": [
    "#### Função de ativação"
   ]
  },
  {
   "cell_type": "code",
   "execution_count": null,
   "id": "ec6ddb6b-66ed-475e-99f2-99a00a0a7c97",
   "metadata": {
    "collapsed": false,
    "id": "xVNZEtc2du4p"
   },
   "outputs": [],
   "source": [
    "from keras import activations\n",
    "from keras.layers import Activation"
   ]
  },
  {
   "cell_type": "code",
   "execution_count": null,
   "id": "697850da-19f4-442a-9b57-2c83d1ba2da9",
   "metadata": {
    "collapsed": false,
    "id": "f3LotlIKc87X"
   },
   "outputs": [],
   "source": [
    "hidden1 = Dense(10)(inputs)\n",
    "hidden1 = Activation(activations.relu)(hidden1)\n",
    "# ou\n",
    "hidden1 = Dense(10, activation = 'relu')\n",
    "# ou\n",
    "hidden1 = Dense(10, activation = activations.relu)"
   ]
  },
  {
   "cell_type": "markdown",
   "id": "0eb24fa2-7813-4b3c-8309-1e9de2187494",
   "metadata": {
    "collapsed": false,
    "id": "Zl_HiInxc4Vk"
   },
   "source": [
    "#### Dropout"
   ]
  },
  {
   "cell_type": "code",
   "execution_count": null,
   "id": "21e1ab25-5ec4-4607-8e05-64824c9a32c5",
   "metadata": {
    "collapsed": false,
    "id": "IFhaWfR7uX_v"
   },
   "outputs": [],
   "source": [
    "from keras.layers import Dropout"
   ]
  },
  {
   "cell_type": "markdown",
   "id": "f4faeef6-cd4d-4fae-84b0-3dd1a35eb39a",
   "metadata": {
    "collapsed": false,
    "id": "cV4R9FG10m9f"
   },
   "source": [
    "    Dropout(\n",
    "      rate,\n",
    "      noise_shape=None,\n",
    "      seed=None,\n",
    "      **kwargs\n",
    "    )"
   ]
  },
  {
   "cell_type": "markdown",
   "id": "b1016759-bd9f-4017-83b4-d4fe3cb76c74",
   "metadata": {
    "collapsed": false,
    "id": "Z0s2a2sUf_fN"
   },
   "source": [
    "#### Usando uma subclasse para criar o modelo"
   ]
  },
  {
   "cell_type": "code",
   "execution_count": null,
   "id": "6b39f566-1670-4f44-9bfe-e9379a66138d",
   "metadata": {
    "collapsed": false,
    "id": "127ycMyzzZEd"
   },
   "outputs": [],
   "source": [
    "class MyModel(Model):\n",
    "  def __init__(self):\n",
    "    super().__init__()\n",
    "    self.dense1 = Dense(10, activation = 'relu')\n",
    "    self.dense2 = Dense(10, activation = 'relu')\n",
    "    self.dense3 = Dense(3, activation = 'softmax')\n",
    "    self.dropout = Dropout(0.5)\n",
    "\n",
    "  # É possível utilizar o argumento \"training (booleano)\" para especificar algo apenas no treinamento\n",
    "  def call(self, inputs, training=False):\n",
    "    x = self.dense2(self.dense1(inputs))\n",
    "    if training:\n",
    "      x = self.dropout(x, training=training)\n",
    "    return self.dense3(x)\n",
    "\n",
    "model = MyModel()\n",
    "model.build(input_shape=(None, 4))"
   ]
  },
  {
   "cell_type": "code",
   "execution_count": null,
   "id": "312ff77d-1ed3-4206-a714-61a80db6e538",
   "metadata": {
    "colab": {
     "base_uri": "https://localhost:8080/"
    },
    "collapsed": false,
    "id": "iQRdcN7L543j",
    "outputId": "d7f2315a-30b2-43db-fc0a-04e7e35a9e3e"
   },
   "outputs": [
    {
     "name": "stdout",
     "output_type": "stream",
     "text": [
      "Model: \"my_model\"\n",
      "_________________________________________________________________\n",
      " Layer (type)                Output Shape              Param #   \n",
      "=================================================================\n",
      " dense_6 (Dense)             multiple                  50        \n",
      "                                                                 \n",
      " dense_7 (Dense)             multiple                  110       \n",
      "                                                                 \n",
      " dense_8 (Dense)             multiple                  33        \n",
      "                                                                 \n",
      " dropout (Dropout)           multiple                  0 (unused)\n",
      "                                                                 \n",
      "=================================================================\n",
      "Total params: 193 (772.00 Byte)\n",
      "Trainable params: 193 (772.00 Byte)\n",
      "Non-trainable params: 0 (0.00 Byte)\n",
      "_________________________________________________________________\n"
     ]
    }
   ],
   "source": [
    "# Resumo do modelo\n",
    "model.summary()"
   ]
  },
  {
   "cell_type": "markdown",
   "id": "824fa56d-cdbd-4f86-a92c-1a8c060e2b44",
   "metadata": {
    "collapsed": false,
    "id": "BaNt7kae5fJO"
   },
   "source": [
    "### Classe **Sequential**\n",
    "Grupo de layers organizadas sequencialmente.\n",
    "- Resultado é um objeto que herda do tipo Model\n",
    "- Método **add** é chamado sequencialmente para construir o modelo"
   ]
  },
  {
   "cell_type": "code",
   "execution_count": null,
   "id": "c254baef-cfa0-4e3d-877c-eb6f865b379f",
   "metadata": {
    "collapsed": false,
    "id": "t_LPnoAP5U2D"
   },
   "outputs": [],
   "source": [
    "from keras.models import Sequential"
   ]
  },
  {
   "cell_type": "code",
   "execution_count": null,
   "id": "f8b67cc9-9968-44b8-a1cb-b3c9447ccb95",
   "metadata": {
    "collapsed": false,
    "id": "koOhtDkn01d3"
   },
   "outputs": [],
   "source": [
    "model = Sequential()\n",
    "# Adiciona as camadas sequencialmente\n",
    "model.add(Dense(10))\n",
    "model.add(Dense(10))\n",
    "# Constrói o modelo indicando a entrada\n",
    "model.build((None, 4))"
   ]
  },
  {
   "cell_type": "code",
   "execution_count": null,
   "id": "28251a73-911a-47aa-a032-4e40bbb97af3",
   "metadata": {
    "collapsed": false,
    "id": "xTEASaXv1Bjq"
   },
   "outputs": [],
   "source": [
    "# O modelo éconstruı́do continuamente se indicado o formato da entrada\n",
    "model = Sequential()\n",
    "model.add(Dense(10, input_shape=(None, 4)))\n",
    "model.add(Dense(10))\n",
    "# ou\n",
    "model = Sequential()\n",
    "model.add(Input(shape=(4)))\n",
    "model.add(Dense(10))\n",
    "model.add(Dense(10))"
   ]
  },
  {
   "cell_type": "code",
   "execution_count": null,
   "id": "9f7d47c8-4715-4bec-a72b-03e49874184b",
   "metadata": {
    "colab": {
     "base_uri": "https://localhost:8080/"
    },
    "collapsed": false,
    "id": "ypYgVFoP8yMc",
    "outputId": "152596e6-f142-495f-aa57-94b481617f31"
   },
   "outputs": [
    {
     "name": "stdout",
     "output_type": "stream",
     "text": [
      "Model: \"sequential_4\"\n",
      "_________________________________________________________________\n",
      " Layer (type)                Output Shape              Param #   \n",
      "=================================================================\n",
      " dense_15 (Dense)            (None, 10)                50        \n",
      "                                                                 \n",
      " dense_16 (Dense)            (None, 10)                110       \n",
      "                                                                 \n",
      "=================================================================\n",
      "Total params: 160 (640.00 Byte)\n",
      "Trainable params: 160 (640.00 Byte)\n",
      "Non-trainable params: 0 (0.00 Byte)\n",
      "_________________________________________________________________\n"
     ]
    }
   ],
   "source": [
    "model.summary()"
   ]
  },
  {
   "cell_type": "markdown",
   "id": "16c7f0f6-16e9-44a1-8fa8-21138c2faf51",
   "metadata": {
    "collapsed": false,
    "id": "4-aoKuaY6HaS"
   },
   "source": [
    "#### Visualizar o modelo"
   ]
  },
  {
   "cell_type": "code",
   "execution_count": null,
   "id": "4c53a70d-7069-430a-8c4a-600ca1f568d2",
   "metadata": {
    "collapsed": false,
    "id": "1QGx-NSz6KqZ"
   },
   "outputs": [],
   "source": [
    "from keras.utils import plot_model"
   ]
  },
  {
   "cell_type": "code",
   "execution_count": null,
   "id": "42b5a72b-d74b-4d77-afd2-13ef1017166e",
   "metadata": {
    "colab": {
     "base_uri": "https://localhost:8080/",
     "height": 312
    },
    "collapsed": false,
    "id": "o0AA2oQd6MZF",
    "outputId": "eeefe875-659b-46fb-b148-c9c9b249786d"
   },
   "outputs": [
    {
     "data": {
      "image/png": "[encoded data removed]",
      "text/plain": [
       "<IPython.core.display.Image object>"
      ]
     },
     "execution_count": 18,
     "metadata": {},
     "output_type": "execute_result"
    }
   ],
   "source": [
    "plot_model(model, show_shapes=True)"
   ]
  },
  {
   "cell_type": "markdown",
   "id": "f4911e68-6db8-44ee-b04f-9e204dd5f3bd",
   "metadata": {
    "collapsed": false,
    "id": "LDwW2zqEX5l8"
   },
   "source": [
    "Existem outros tipos de camadas de rede neural que podem ser construídas com o Keras, tais como:\n",
    "- Localmente Conectadas\n",
    "- Convolução\n",
    "- Pooling\n",
    "- Recorrentes\n",
    "- Padronização\n",
    "- entre outros.\n",
    "\n",
    "Mais informações: https://keras.io/api/layers/"
   ]
  },
  {
   "cell_type": "markdown",
   "id": "cdbcac4d-1e22-4399-ab28-48c61ad846cc",
   "metadata": {
    "collapsed": false,
    "id": "j_y9f3zphtXl"
   },
   "source": [
    "### Inicialização dos pesos\n",
    "https://keras.io/api/layers/initializers/"
   ]
  },
  {
   "cell_type": "markdown",
   "id": "cae1db5c-b984-4bf5-be52-ecf4e74e4b9c",
   "metadata": {
    "collapsed": false,
    "id": "LQkQbv9woAoj"
   },
   "source": [
    "- Normalmente distribuı́dos\n",
    "  - RandomNormal\n",
    "- Uniformemente distribuı́dos\n",
    "  - RandomUniform\n",
    "- Valores fixos\n",
    "  - Zeros\n",
    "  - Ones\n",
    "  - Constant"
   ]
  },
  {
   "cell_type": "code",
   "execution_count": null,
   "id": "2b68495c-0953-4ab9-9595-c62f5c2418f3",
   "metadata": {
    "collapsed": false,
    "id": "nK7UxlcPhsmp"
   },
   "outputs": [],
   "source": [
    "from keras import initializers"
   ]
  },
  {
   "cell_type": "code",
   "execution_count": null,
   "id": "cfdf85a5-d261-4f03-91a1-30acc6cb9ee1",
   "metadata": {
    "collapsed": false,
    "id": "GER8BRvmiQlf"
   },
   "outputs": [],
   "source": [
    "layer = Dense(\n",
    "    units = 10,\n",
    "    kernel_initializer = initializers.RandomNormal(stddev=0.01),\n",
    "    bias_initializer = initializers.Zeros()\n",
    "    )"
   ]
  },
  {
   "cell_type": "markdown",
   "id": "4e11f696-9946-4a71-8926-737826178bbe",
   "metadata": {
    "collapsed": false,
    "id": "KbW2lYJoir_C"
   },
   "source": [
    "### Treinamento\n"
   ]
  },
  {
   "cell_type": "markdown",
   "id": "f1f24b5a-f352-425d-897e-c273d913621d",
   "metadata": {
    "collapsed": false,
    "id": "kis9wYl0rsd0"
   },
   "source": [
    "    Model.fit(\n",
    "        x=None,\n",
    "        y=None,\n",
    "        batch_size=None,\n",
    "        epochs=1,\n",
    "        verbose=\"auto\",\n",
    "        callbacks=None,\n",
    "        validation_split=0.0,\n",
    "        validation_data=None,\n",
    "        shuffle=True,\n",
    "        class_weight=None,\n",
    "        sample_weight=None,\n",
    "        initial_epoch=0,\n",
    "        steps_per_epoch=None,\n",
    "        validation_steps=None,\n",
    "        validation_batch_size=None,\n",
    "        validation_freq=1,\n",
    "    )"
   ]
  },
  {
   "cell_type": "markdown",
   "id": "4f1bffd9-3c70-410a-b00e-fc492b8fa20d",
   "metadata": {
    "collapsed": false,
    "id": "q1HwTbMAzGX9"
   },
   "source": [
    "Para utilizar amostras do dataset para validação do treinamento:\n",
    "- `model.fit(validation_data=X_validacao)`, caso o conjunto de dados esteja dividido em:\n",
    "  - X_treino\n",
    "  - X_validacao\n",
    "  - X_teste\n",
    "- `model.fit(validation_split=0.3, shuffle=True)`, caso o conjunto de dados esteja dividido em:\n",
    "  - X_treino\n",
    "  - X_teste"
   ]
  },
  {
   "cell_type": "markdown",
   "id": "e0cccbb9-d4d5-4d07-9400-c8b3ed5a36d7",
   "metadata": {
    "collapsed": false,
    "id": "FnfB4VzeqWON"
   },
   "source": [
    "O que devemos projetar quanto ao treinamento?\n",
    "- Escolha da função de perda\n",
    "- Escolha do método de otimização\n",
    "- Escolha do critério de parada\n",
    "- Cuidados quanto à generalização: técnicas regularização"
   ]
  },
  {
   "cell_type": "markdown",
   "id": "8a93f507-1028-4935-8ee3-a9b237d40756",
   "metadata": {
    "collapsed": false,
    "id": "GhYF4Ag3kjUX"
   },
   "source": [
    "#### Funções de perda\n",
    "https://keras.io/api/losses/"
   ]
  },
  {
   "cell_type": "markdown",
   "id": "d16e8abe-4a87-4acb-8c4a-3815b4f4ea69",
   "metadata": {
    "collapsed": false,
    "id": "20yyB6QWkF5m"
   },
   "source": [
    "Funções de perda probabilı́sticas\n",
    "- Binary Cross-Entropy\n",
    "- Categorical Cross-Entropy\n",
    "- Divergência de Kullback-Leibler\n",
    "\n",
    "Funções de perda para erro de regressão\n",
    "- Erro quadrático médio\n",
    "- Erro percentual médio\n",
    "- Erro absoluto médio\n",
    "- Erro logarı́tmico médio"
   ]
  },
  {
   "cell_type": "code",
   "execution_count": null,
   "id": "7de148f7-3dda-432b-b5c2-308075e90de9",
   "metadata": {
    "collapsed": false,
    "id": "YPpT6W4OmnIf"
   },
   "outputs": [],
   "source": [
    "from keras.losses import BinaryCrossentropy"
   ]
  },
  {
   "cell_type": "code",
   "execution_count": null,
   "id": "af475ba4-fe35-4335-9f91-211969b941a0",
   "metadata": {
    "collapsed": false,
    "id": "KuBt2AYHmry5"
   },
   "outputs": [],
   "source": [
    "loss = BinaryCrossentropy(\n",
    "    from_logits=False,\n",
    "    label_smoothing=0.0,\n",
    "    axis=-1,\n",
    "    reduction=\"sum_over_batch_size\",\n",
    "    name=\"binary_crossentropy\",\n",
    ")"
   ]
  },
  {
   "cell_type": "markdown",
   "id": "b93a531a-9e85-41ef-9217-9f6a8e3211d2",
   "metadata": {
    "collapsed": false,
    "id": "crI7vLLskmSR"
   },
   "source": [
    "#### Métodos de otimização\n",
    "https://keras.io/api/optimizers/"
   ]
  },
  {
   "cell_type": "markdown",
   "id": "ebc2bfbe-bf25-488b-8419-9619c4c0bc06",
   "metadata": {
    "collapsed": false,
    "id": "QrEvIrQgktAc"
   },
   "source": [
    "- Stochastic Gradient Descent (SGD)\n",
    "- RMSprop\n",
    "- Adam\n"
   ]
  },
  {
   "cell_type": "code",
   "execution_count": null,
   "id": "c02917ba-44fb-41c3-a1b4-197520d861e5",
   "metadata": {
    "collapsed": false,
    "id": "8nZh8tqYlSvs"
   },
   "outputs": [],
   "source": [
    "from keras.optimizers import SGD"
   ]
  },
  {
   "cell_type": "markdown",
   "id": "65120336-474d-4108-bbc2-5e742dab5da0",
   "metadata": {
    "collapsed": false,
    "id": "7F3U1Cnnk5hI"
   },
   "source": [
    "#### Taxa de aprendizado variável"
   ]
  },
  {
   "cell_type": "markdown",
   "id": "a5c44daf-6592-44b7-aaad-90415a6af2f2",
   "metadata": {
    "collapsed": false,
    "id": "6n1PS1ABk-h2"
   },
   "source": [
    "- Decaimento exponencial\n",
    "- Decaimento constante\n",
    "- Decaimento polinomial\n",
    "- Entre outros"
   ]
  },
  {
   "cell_type": "code",
   "execution_count": null,
   "id": "5e14df10-6142-4563-9d12-2fb67b9c5ae7",
   "metadata": {
    "collapsed": false,
    "id": "zqbIqwWul8NV"
   },
   "outputs": [],
   "source": [
    "from keras.optimizers.schedules import ExponentialDecay"
   ]
  },
  {
   "cell_type": "code",
   "execution_count": null,
   "id": "011dc849-d9b0-43c0-970a-2ea7cae4a4bc",
   "metadata": {
    "collapsed": false,
    "id": "bCvX8KzciveQ"
   },
   "outputs": [],
   "source": [
    "lr_schedule = ExponentialDecay(\n",
    "  initial_learning_rate = 1e-2,\n",
    "  decay_steps = 10000,\n",
    "  decay_rate = 0.9\n",
    "  )"
   ]
  },
  {
   "cell_type": "code",
   "execution_count": null,
   "id": "ced01c42-2cea-4924-af22-2f89587e73fd",
   "metadata": {
    "collapsed": false,
    "id": "zS6BZZNbmMa6"
   },
   "outputs": [],
   "source": [
    "optimizer = SGD(learning_rate=lr_schedule)"
   ]
  },
  {
   "cell_type": "markdown",
   "id": "efe4d0ec-6399-43f1-8bf7-104d3b20258c",
   "metadata": {
    "collapsed": false,
    "id": "xlgl5NU8naid"
   },
   "source": [
    "#### Critério de parada e métricas de desempenho\n",
    "https://keras.io/api/metrics/\n",
    "\n",
    "- Determinado número de épocas: `model.fit(epochs=100)`\n",
    "- Baseado numa heurı́stica (evitando sub e sobre-ajuste)"
   ]
  },
  {
   "cell_type": "code",
   "execution_count": null,
   "id": "4a888d86-6538-4207-b267-e0aa7f20cb28",
   "metadata": {
    "collapsed": false,
    "id": "O_RiOlVingRR"
   },
   "outputs": [],
   "source": [
    "# AUC (área sob a curva) das curvas ROC (VP vs FP) ou PR (Precisão vs Revocação).\n",
    "from keras.metrics import AUC"
   ]
  },
  {
   "cell_type": "code",
   "execution_count": null,
   "id": "ba1984fb-6944-43fd-bd8d-cb06aae855e6",
   "metadata": {
    "collapsed": false,
    "id": "Dd_uhAA5u1gP"
   },
   "outputs": [],
   "source": [
    "metric = AUC(\n",
    "    num_thresholds=200,\n",
    "    curve=\"ROC\",\n",
    "    summation_method=\"interpolation\",\n",
    "    name=None,\n",
    "    dtype=None,\n",
    "    thresholds=None,\n",
    "    multi_label=False,\n",
    "    num_labels=None,\n",
    "    label_weights=None,\n",
    "    from_logits=False,\n",
    ")"
   ]
  },
  {
   "cell_type": "markdown",
   "id": "bf380078-ad1e-4e06-9364-ceb504e04137",
   "metadata": {
    "collapsed": false,
    "id": "C9edAm7zqjOO"
   },
   "source": [
    "#### Método **compile**\n",
    "Configura o modelo para treinamento"
   ]
  },
  {
   "cell_type": "code",
   "execution_count": null,
   "id": "c45795d3-4d8c-48c5-afad-85f84b355f2c",
   "metadata": {
    "collapsed": false,
    "id": "oE_w7vjpqnSE"
   },
   "outputs": [],
   "source": [
    "model.compile(\n",
    "  optimizer = 'Adam',\n",
    "  loss = 'mean_squared_error',\n",
    "  metrics = ['MeanSquaredError', 'MeanAbsoluteError']\n",
    "  )"
   ]
  },
  {
   "cell_type": "markdown",
   "id": "f5608ee7-07d3-4c45-b3d1-7ab819145e46",
   "metadata": {
    "collapsed": false,
    "id": "4iYZ4YJExWTw"
   },
   "source": [
    "#### Early Stopping\n",
    "Interromper treinamento se a métrica parar de melhorar\n",
    "- Pode ser utilizado a própria função de perda no conjunto de validação, quanto\n",
    "qualquer outra métrica\n",
    "- É necessário especificar um valor mı́nimo considerado da mudança e paciência do\n",
    "método"
   ]
  },
  {
   "cell_type": "code",
   "execution_count": null,
   "id": "aec02e8c-b1b9-44a0-9887-002db2da9c24",
   "metadata": {
    "collapsed": false,
    "id": "czce9vwmxp0V"
   },
   "outputs": [],
   "source": [
    "from keras.callbacks import EarlyStopping"
   ]
  },
  {
   "cell_type": "code",
   "execution_count": null,
   "id": "ce611997-f6ff-4ad3-97c5-decb0bc8ddab",
   "metadata": {
    "collapsed": false,
    "id": "G7qhsfPo0Y_G"
   },
   "outputs": [],
   "source": [
    "callback = EarlyStopping(monitor='val_loss', patience=10)"
   ]
  },
  {
   "cell_type": "markdown",
   "id": "4933d041-0032-40ea-b96c-681ae2836aa8",
   "metadata": {
    "collapsed": false,
    "id": "g-0PCYEx1o_v"
   },
   "source": [
    "#### Visualizar o treinamento"
   ]
  },
  {
   "cell_type": "code",
   "execution_count": null,
   "id": "68ad15ac-edf2-4fda-90e0-59b536d5d6a2",
   "metadata": {
    "collapsed": false,
    "id": "q-F4i9tn6jw9"
   },
   "outputs": [],
   "source": [
    "from plot_keras_history import plot_history"
   ]
  },
  {
   "cell_type": "markdown",
   "id": "db94e069-8520-4fb1-b3cd-919ba1732b76",
   "metadata": {
    "collapsed": false,
    "id": "t0ooCrEx8sBd"
   },
   "source": [
    "`plot_history(history)` utiliza o argumento **history** de `history = model.fit(...)`"
   ]
  },
  {
   "cell_type": "markdown",
   "id": "788bafa1-e45e-4700-b34e-c07183cea908",
   "metadata": {
    "collapsed": false,
    "id": "6aH7--YM-FRL"
   },
   "source": [
    "### Teste"
   ]
  },
  {
   "cell_type": "markdown",
   "id": "0b7b8c2e-0b01-471f-8d99-34bc4731bcaa",
   "metadata": {
    "collapsed": false,
    "id": "0xxvlOO--R9l"
   },
   "source": [
    "    Model.predict(x, batch_size=None, verbose=\"auto\", steps=None, callbacks=None)"
   ]
  },
  {
   "cell_type": "markdown",
   "id": "ddae21dc-823a-483b-b158-39ed38681252",
   "metadata": {
    "collapsed": false,
    "id": "BcrkdDKe2eop"
   },
   "source": [
    "## Exemplo de classificação com Keras usando o dataset Iris"
   ]
  },
  {
   "cell_type": "markdown",
   "id": "af9f86fd-2a6f-4847-9a9f-c64291955e96",
   "metadata": {
    "collapsed": false,
    "id": "R5o871Y_lbdy"
   },
   "source": [
    "### Carregar o dataset Iris"
   ]
  },
  {
   "cell_type": "code",
   "execution_count": null,
   "id": "6b19f54c-6e23-4a1f-b4ee-c72c9e63eada",
   "metadata": {
    "collapsed": false,
    "id": "qUdI8WoQljX1"
   },
   "outputs": [],
   "source": [
    "from sklearn import datasets\n",
    "\n",
    "iris = datasets.load_iris()"
   ]
  },
  {
   "cell_type": "code",
   "execution_count": null,
   "id": "ca54d458-7a55-468e-a7f3-77dbfcab50ad",
   "metadata": {
    "colab": {
     "base_uri": "https://localhost:8080/"
    },
    "collapsed": false,
    "id": "wLbaEC3X5JUz",
    "outputId": "147422ae-3b45-447d-96a1-ada28a94b47e"
   },
   "outputs": [
    {
     "data": {
      "text/plain": [
       "(150, 4)"
      ]
     },
     "execution_count": 35,
     "metadata": {},
     "output_type": "execute_result"
    }
   ],
   "source": [
    "iris.data.shape"
   ]
  },
  {
   "cell_type": "markdown",
   "id": "c68fd2c7-267c-4e11-aea7-f495a2ae8a37",
   "metadata": {
    "collapsed": false,
    "id": "SAQb3ejbn3bV"
   },
   "source": [
    "### Visualizar o conjunto de dados"
   ]
  },
  {
   "cell_type": "code",
   "execution_count": null,
   "id": "9ef6806b-4a26-4051-8071-8de4a7cbcd74",
   "metadata": {
    "collapsed": false,
    "id": "rrQ0WS0Gn6_9"
   },
   "outputs": [],
   "source": [
    "import matplotlib.pyplot as plt"
   ]
  },
  {
   "cell_type": "code",
   "execution_count": null,
   "id": "cf55d52a-17ed-46f3-bbd8-c6e6c18834e4",
   "metadata": {
    "colab": {
     "base_uri": "https://localhost:8080/",
     "height": 452
    },
    "collapsed": false,
    "id": "_4Pp1bTGoD7I",
    "outputId": "3e1100f3-85fc-4139-859f-01d28c8c50e8"
   },
   "outputs": [
    {
     "data": {
      "image/png": "[encoded data removed]",
      "text/plain": [
       "<Figure size 640x480 with 1 Axes>"
      ]
     },
     "metadata": {},
     "output_type": "display_data"
    }
   ],
   "source": [
    "# O dataset Iris possui 4 atributos, então para uma visualização 2D podemos escolher 2 deles\n",
    "_, ax   = plt.subplots()\n",
    "scatter = ax.scatter(iris.data[:, 0], iris.data[:, 1], c=iris.target)\n",
    "ax.set(xlabel=iris.feature_names[0], ylabel=iris.feature_names[1])\n",
    "_ = ax.legend(scatter.legend_elements()[0], iris.target_names, loc=\"lower right\", title=\"Classes\")"
   ]
  },
  {
   "cell_type": "markdown",
   "id": "60be25d6-699e-4b9f-aae6-b0cff5ebdf49",
   "metadata": {
    "collapsed": false,
    "id": "HsayAe3jARMJ"
   },
   "source": [
    "### Divisão do conjunto em treino/teste e normalização dos conjuntos"
   ]
  },
  {
   "cell_type": "code",
   "execution_count": null,
   "id": "f71f6cb6-a3a5-4f78-aad6-016f5a57d6ba",
   "metadata": {
    "collapsed": false,
    "id": "0E--PkFMA93x"
   },
   "outputs": [],
   "source": [
    "from sklearn.model_selection import train_test_split\n",
    "from sklearn.preprocessing import StandardScaler\n",
    "from keras.utils import to_categorical"
   ]
  },
  {
   "cell_type": "code",
   "execution_count": null,
   "id": "e88c93a8-2f32-4cf9-8d17-d57e634d8b06",
   "metadata": {
    "collapsed": false,
    "id": "0Mm4NBqqC6qP"
   },
   "outputs": [],
   "source": [
    "X_train, X_test, y_train, y_test = train_test_split(iris.data, iris.target, test_size=0.2, random_state=2)"
   ]
  },
  {
   "cell_type": "code",
   "execution_count": null,
   "id": "f7d561d6-65bc-4db9-a053-2ecee8df21dd",
   "metadata": {
    "collapsed": false,
    "id": "w9rBTEivGd_u"
   },
   "outputs": [],
   "source": [
    "scale = StandardScaler()\n",
    "# Aprende a média e o desvio padrão a partir do conjunto de treinamento e o normaliza\n",
    "X_train_scaled = scale.fit_transform(X_train)\n",
    "# Normaliza o conjunto de teste a partir da média e desvio padrão do conjunto de treinamento\n",
    "X_test_scaled  = scale.transform(X_test)"
   ]
  },
  {
   "cell_type": "code",
   "execution_count": null,
   "id": "c60187a1-4b53-4032-aa4c-1f5e1653e991",
   "metadata": {
    "collapsed": false,
    "id": "cWJdeFZOMb__"
   },
   "outputs": [],
   "source": [
    "# Keras exige que a saída tenha valores codificados one-hot\n",
    "y_final = to_categorical(y_train)\n",
    "y_real  = to_categorical(y_test)"
   ]
  },
  {
   "cell_type": "code",
   "execution_count": null,
   "id": "62018cff-ee16-4fe3-8da9-7460227bcbc9",
   "metadata": {
    "colab": {
     "base_uri": "https://localhost:8080/"
    },
    "collapsed": false,
    "id": "pIjqQ058Dfjm",
    "outputId": "ce8336cd-d79a-4790-f45b-858aa1db536f"
   },
   "outputs": [
    {
     "name": "stdout",
     "output_type": "stream",
     "text": [
      "(120, 4)\n",
      "(120, 3)\n",
      "(30, 4)\n",
      "(30, 3)\n"
     ]
    }
   ],
   "source": [
    "print(X_train_scaled.shape)\n",
    "print(y_final.shape)\n",
    "print(X_test_scaled.shape)\n",
    "print(y_real.shape)"
   ]
  },
  {
   "cell_type": "markdown",
   "id": "263e126d-3a33-44ca-bb78-d0fd9548101b",
   "metadata": {
    "collapsed": false,
    "id": "iCVjA8t3D1_V"
   },
   "source": [
    "### Treinamento"
   ]
  },
  {
   "cell_type": "code",
   "execution_count": null,
   "id": "820c3dbf-16d8-4b27-a438-55ff5d864086",
   "metadata": {
    "collapsed": false,
    "id": "h-KIfvLMD3sF"
   },
   "outputs": [],
   "source": [
    "def create_model():\n",
    "    model = Sequential()\n",
    "    model.add(Dense(10, input_dim = 4, activation = 'relu'))\n",
    "    model.add(Dense(10, activation = 'relu'))\n",
    "    model.add(Dropout(0.3))\n",
    "\n",
    "    model.add(Dense(3, activation = 'softmax'))\n",
    "\n",
    "    model.compile(optimizer='adam', loss='categorical_crossentropy', metrics=['accuracy'])\n",
    "\n",
    "    return model\n",
    "\n",
    "iris_model = create_model()"
   ]
  },
  {
   "cell_type": "code",
   "execution_count": null,
   "id": "82dba939-0892-4457-84fb-a4f609f8a628",
   "metadata": {
    "colab": {
     "base_uri": "https://localhost:8080/"
    },
    "collapsed": false,
    "id": "vl0jbfP9Jgn6",
    "outputId": "6eab805b-e882-4687-a970-ee1c1f063cb7"
   },
   "outputs": [
    {
     "name": "stdout",
     "output_type": "stream",
     "text": [
      "Model: \"sequential_5\"\n",
      "_________________________________________________________________\n",
      " Layer (type)                Output Shape              Param #   \n",
      "=================================================================\n",
      " dense_18 (Dense)            (None, 10)                50        \n",
      "                                                                 \n",
      " dense_19 (Dense)            (None, 10)                110       \n",
      "                                                                 \n",
      " dropout_1 (Dropout)         (None, 10)                0         \n",
      "                                                                 \n",
      " dense_20 (Dense)            (None, 3)                 33        \n",
      "                                                                 \n",
      "=================================================================\n",
      "Total params: 193 (772.00 Byte)\n",
      "Trainable params: 193 (772.00 Byte)\n",
      "Non-trainable params: 0 (0.00 Byte)\n",
      "_________________________________________________________________\n"
     ]
    }
   ],
   "source": [
    "iris_model.summary()"
   ]
  },
  {
   "cell_type": "code",
   "execution_count": null,
   "id": "5db2b08b-c598-4e1c-b97c-d8940b61d0a6",
   "metadata": {
    "colab": {
     "base_uri": "https://localhost:8080/",
     "height": 533
    },
    "collapsed": false,
    "id": "3GRmmXUDJuqQ",
    "outputId": "ab324e64-f693-4424-e9ef-9b9f463d224d"
   },
   "outputs": [
    {
     "data": {
      "image/png": "[encoded data removed]",
      "text/plain": [
       "<IPython.core.display.Image object>"
      ]
     },
     "execution_count": 45,
     "metadata": {},
     "output_type": "execute_result"
    }
   ],
   "source": [
    "plot_model(iris_model, show_shapes=True)"
   ]
  },
  {
   "cell_type": "code",
   "execution_count": null,
   "id": "eb93b6e8-0c37-467e-a313-e1e4d69c3e52",
   "metadata": {
    "colab": {
     "base_uri": "https://localhost:8080/"
    },
    "collapsed": false,
    "id": "xusOZDMwJ3aI",
    "outputId": "611a3dde-ac50-4cc3-b434-9c12b301e7a9"
   },
   "outputs": [
    {
     "name": "stdout",
     "output_type": "stream",
     "text": [
      "Epoch 1/500\n",
      "3/3 [==============================] - 4s 636ms/step - loss: 1.4328 - accuracy: 0.2604 - val_loss: 1.5479 - val_accuracy: 0.3333\n",
      "Epoch 2/500\n",
      "3/3 [==============================] - 0s 180ms/step - loss: 1.3944 - accuracy: 0.2917 - val_loss: 1.4902 - val_accuracy: 0.3333\n",
      "Epoch 3/500\n",
      "3/3 [==============================] - 0s 103ms/step - loss: 1.4514 - accuracy: 0.3021 - val_loss: 1.4349 - val_accuracy: 0.3333\n",
      "Epoch 4/500\n",
      "3/3 [==============================] - 0s 131ms/step - loss: 1.3225 - accuracy: 0.2917 - val_loss: 1.3815 - val_accuracy: 0.3333\n",
      "Epoch 5/500\n",
      "3/3 [==============================] - 0s 147ms/step - loss: 1.2886 - accuracy: 0.3438 - val_loss: 1.3298 - val_accuracy: 0.3333\n",
      "Epoch 6/500\n",
      "3/3 [==============================] - 0s 76ms/step - loss: 1.2282 - accuracy: 0.3333 - val_loss: 1.2805 - val_accuracy: 0.3333\n",
      "Epoch 7/500\n",
      "3/3 [==============================] - 0s 192ms/step - loss: 1.1505 - accuracy: 0.4062 - val_loss: 1.2322 - val_accuracy: 0.3333\n",
      "Epoch 8/500\n",
      "3/3 [==============================] - 0s 226ms/step - loss: 1.2332 - accuracy: 0.3229 - val_loss: 1.1863 - val_accuracy: 0.3333\n",
      "Epoch 9/500\n",
      "3/3 [==============================] - 0s 107ms/step - loss: 1.1398 - accuracy: 0.3750 - val_loss: 1.1424 - val_accuracy: 0.3333\n",
      "Epoch 10/500\n",
      "3/3 [==============================] - 0s 146ms/step - loss: 1.1374 - accuracy: 0.3750 - val_loss: 1.1014 - val_accuracy: 0.3750\n",
      "Epoch 11/500\n",
      "3/3 [==============================] - 0s 121ms/step - loss: 1.0959 - accuracy: 0.3958 - val_loss: 1.0613 - val_accuracy: 0.3750\n",
      "Epoch 12/500\n",
      "3/3 [==============================] - 0s 185ms/step - loss: 1.1005 - accuracy: 0.3021 - val_loss: 1.0232 - val_accuracy: 0.3750\n",
      "Epoch 13/500\n",
      "3/3 [==============================] - 1s 230ms/step - loss: 1.0562 - accuracy: 0.3750 - val_loss: 0.9883 - val_accuracy: 0.3750\n",
      "Epoch 14/500\n",
      "3/3 [==============================] - 0s 85ms/step - loss: 1.0924 - accuracy: 0.3333 - val_loss: 0.9557 - val_accuracy: 0.3750\n",
      "Epoch 15/500\n",
      "3/3 [==============================] - 0s 113ms/step - loss: 0.9836 - accuracy: 0.4375 - val_loss: 0.9256 - val_accuracy: 0.3750\n",
      "Epoch 16/500\n",
      "3/3 [==============================] - 0s 132ms/step - loss: 0.9413 - accuracy: 0.4688 - val_loss: 0.8978 - val_accuracy: 0.4167\n",
      "Epoch 17/500\n",
      "3/3 [==============================] - 0s 124ms/step - loss: 0.8836 - accuracy: 0.5000 - val_loss: 0.8723 - val_accuracy: 0.4167\n",
      "Epoch 18/500\n",
      "3/3 [==============================] - 0s 88ms/step - loss: 0.9117 - accuracy: 0.4792 - val_loss: 0.8479 - val_accuracy: 0.4583\n",
      "Epoch 19/500\n",
      "3/3 [==============================] - 0s 63ms/step - loss: 0.9184 - accuracy: 0.4896 - val_loss: 0.8246 - val_accuracy: 0.5417\n",
      "Epoch 20/500\n",
      "3/3 [==============================] - 0s 99ms/step - loss: 0.8576 - accuracy: 0.5104 - val_loss: 0.8019 - val_accuracy: 0.5417\n",
      "Epoch 21/500\n",
      "3/3 [==============================] - 0s 71ms/step - loss: 0.8627 - accuracy: 0.5729 - val_loss: 0.7807 - val_accuracy: 0.6667\n",
      "Epoch 22/500\n",
      "3/3 [==============================] - 0s 151ms/step - loss: 0.7922 - accuracy: 0.6354 - val_loss: 0.7601 - val_accuracy: 0.7083\n",
      "Epoch 23/500\n",
      "3/3 [==============================] - 0s 65ms/step - loss: 0.8152 - accuracy: 0.6667 - val_loss: 0.7403 - val_accuracy: 0.7083\n",
      "Epoch 24/500\n",
      "3/3 [==============================] - 0s 87ms/step - loss: 0.8421 - accuracy: 0.5833 - val_loss: 0.7212 - val_accuracy: 0.7083\n",
      "Epoch 25/500\n",
      "3/3 [==============================] - 0s 42ms/step - loss: 0.8538 - accuracy: 0.5729 - val_loss: 0.7029 - val_accuracy: 0.7083\n",
      "Epoch 26/500\n",
      "3/3 [==============================] - 0s 44ms/step - loss: 0.8266 - accuracy: 0.6354 - val_loss: 0.6853 - val_accuracy: 0.7500\n",
      "Epoch 27/500\n",
      "3/3 [==============================] - 0s 48ms/step - loss: 0.7846 - accuracy: 0.6562 - val_loss: 0.6692 - val_accuracy: 0.7500\n",
      "Epoch 28/500\n",
      "3/3 [==============================] - 0s 60ms/step - loss: 0.7676 - accuracy: 0.6354 - val_loss: 0.6543 - val_accuracy: 0.7917\n",
      "Epoch 29/500\n",
      "3/3 [==============================] - 0s 45ms/step - loss: 0.7684 - accuracy: 0.6771 - val_loss: 0.6398 - val_accuracy: 0.7917\n",
      "Epoch 30/500\n",
      "3/3 [==============================] - 0s 68ms/step - loss: 0.7550 - accuracy: 0.6562 - val_loss: 0.6260 - val_accuracy: 0.7917\n",
      "Epoch 31/500\n",
      "3/3 [==============================] - 0s 34ms/step - loss: 0.7943 - accuracy: 0.6667 - val_loss: 0.6129 - val_accuracy: 0.7917\n",
      "Epoch 32/500\n",
      "3/3 [==============================] - 0s 81ms/step - loss: 0.7840 - accuracy: 0.6875 - val_loss: 0.6003 - val_accuracy: 0.7917\n",
      "Epoch 33/500\n",
      "3/3 [==============================] - 0s 76ms/step - loss: 0.7846 - accuracy: 0.7292 - val_loss: 0.5885 - val_accuracy: 0.7917\n",
      "Epoch 34/500\n",
      "3/3 [==============================] - 0s 54ms/step - loss: 0.7668 - accuracy: 0.6979 - val_loss: 0.5776 - val_accuracy: 0.7917\n",
      "Epoch 35/500\n",
      "3/3 [==============================] - 0s 40ms/step - loss: 0.6922 - accuracy: 0.7500 - val_loss: 0.5670 - val_accuracy: 0.7917\n",
      "Epoch 36/500\n",
      "3/3 [==============================] - 0s 42ms/step - loss: 0.7456 - accuracy: 0.7292 - val_loss: 0.5567 - val_accuracy: 0.7917\n",
      "Epoch 37/500\n",
      "3/3 [==============================] - 0s 43ms/step - loss: 0.7148 - accuracy: 0.7604 - val_loss: 0.5466 - val_accuracy: 0.7917\n",
      "Epoch 38/500\n",
      "3/3 [==============================] - 0s 37ms/step - loss: 0.7225 - accuracy: 0.7396 - val_loss: 0.5372 - val_accuracy: 0.7917\n",
      "Epoch 39/500\n",
      "3/3 [==============================] - 0s 46ms/step - loss: 0.7016 - accuracy: 0.7604 - val_loss: 0.5280 - val_accuracy: 0.7917\n",
      "Epoch 40/500\n",
      "3/3 [==============================] - 0s 39ms/step - loss: 0.6896 - accuracy: 0.7500 - val_loss: 0.5192 - val_accuracy: 0.7917\n",
      "Epoch 41/500\n",
      "3/3 [==============================] - 0s 76ms/step - loss: 0.7352 - accuracy: 0.6875 - val_loss: 0.5107 - val_accuracy: 0.7917\n",
      "Epoch 42/500\n",
      "3/3 [==============================] - 0s 50ms/step - loss: 0.7132 - accuracy: 0.7396 - val_loss: 0.5025 - val_accuracy: 0.7917\n",
      "Epoch 43/500\n",
      "3/3 [==============================] - 0s 76ms/step - loss: 0.6836 - accuracy: 0.7188 - val_loss: 0.4945 - val_accuracy: 0.7917\n",
      "Epoch 44/500\n",
      "3/3 [==============================] - 0s 39ms/step - loss: 0.6811 - accuracy: 0.6875 - val_loss: 0.4868 - val_accuracy: 0.7917\n",
      "Epoch 45/500\n",
      "3/3 [==============================] - 0s 42ms/step - loss: 0.6645 - accuracy: 0.7604 - val_loss: 0.4793 - val_accuracy: 0.7917\n",
      "Epoch 46/500\n",
      "3/3 [==============================] - 0s 67ms/step - loss: 0.7039 - accuracy: 0.7604 - val_loss: 0.4721 - val_accuracy: 0.7917\n",
      "Epoch 47/500\n",
      "3/3 [==============================] - 0s 72ms/step - loss: 0.6663 - accuracy: 0.7708 - val_loss: 0.4649 - val_accuracy: 0.7917\n",
      "Epoch 48/500\n",
      "3/3 [==============================] - 0s 49ms/step - loss: 0.6581 - accuracy: 0.7500 - val_loss: 0.4581 - val_accuracy: 0.7917\n",
      "Epoch 49/500\n",
      "3/3 [==============================] - 0s 89ms/step - loss: 0.6398 - accuracy: 0.7708 - val_loss: 0.4515 - val_accuracy: 0.7917\n",
      "Epoch 50/500\n",
      "3/3 [==============================] - 0s 52ms/step - loss: 0.6774 - accuracy: 0.7500 - val_loss: 0.4452 - val_accuracy: 0.7917\n",
      "Epoch 51/500\n",
      "3/3 [==============================] - 0s 58ms/step - loss: 0.5988 - accuracy: 0.7917 - val_loss: 0.4392 - val_accuracy: 0.7917\n",
      "Epoch 52/500\n",
      "3/3 [==============================] - 0s 34ms/step - loss: 0.6796 - accuracy: 0.7083 - val_loss: 0.4333 - val_accuracy: 0.7917\n",
      "Epoch 53/500\n",
      "3/3 [==============================] - 0s 32ms/step - loss: 0.5583 - accuracy: 0.7917 - val_loss: 0.4278 - val_accuracy: 0.7917\n",
      "Epoch 54/500\n",
      "3/3 [==============================] - 0s 58ms/step - loss: 0.6154 - accuracy: 0.7812 - val_loss: 0.4224 - val_accuracy: 0.7917\n",
      "Epoch 55/500\n",
      "3/3 [==============================] - 0s 33ms/step - loss: 0.6141 - accuracy: 0.7917 - val_loss: 0.4174 - val_accuracy: 0.7917\n",
      "Epoch 56/500\n",
      "3/3 [==============================] - 0s 34ms/step - loss: 0.6106 - accuracy: 0.8021 - val_loss: 0.4125 - val_accuracy: 0.7917\n",
      "Epoch 57/500\n",
      "3/3 [==============================] - 0s 34ms/step - loss: 0.6178 - accuracy: 0.7812 - val_loss: 0.4076 - val_accuracy: 0.7917\n",
      "Epoch 58/500\n",
      "3/3 [==============================] - 0s 31ms/step - loss: 0.5856 - accuracy: 0.7917 - val_loss: 0.4029 - val_accuracy: 0.7917\n",
      "Epoch 59/500\n",
      "3/3 [==============================] - 0s 43ms/step - loss: 0.6036 - accuracy: 0.7396 - val_loss: 0.3984 - val_accuracy: 0.7917\n",
      "Epoch 60/500\n",
      "3/3 [==============================] - 0s 40ms/step - loss: 0.6099 - accuracy: 0.8333 - val_loss: 0.3941 - val_accuracy: 0.7917\n",
      "Epoch 61/500\n",
      "3/3 [==============================] - 0s 68ms/step - loss: 0.6114 - accuracy: 0.7604 - val_loss: 0.3899 - val_accuracy: 0.7917\n",
      "Epoch 62/500\n",
      "3/3 [==============================] - 0s 40ms/step - loss: 0.5760 - accuracy: 0.8125 - val_loss: 0.3857 - val_accuracy: 0.7917\n",
      "Epoch 63/500\n",
      "3/3 [==============================] - 0s 54ms/step - loss: 0.5847 - accuracy: 0.8021 - val_loss: 0.3814 - val_accuracy: 0.7917\n",
      "Epoch 64/500\n",
      "3/3 [==============================] - 0s 48ms/step - loss: 0.5949 - accuracy: 0.8125 - val_loss: 0.3774 - val_accuracy: 0.7917\n",
      "Epoch 65/500\n",
      "3/3 [==============================] - 0s 35ms/step - loss: 0.5784 - accuracy: 0.8333 - val_loss: 0.3735 - val_accuracy: 0.7917\n",
      "Epoch 66/500\n",
      "3/3 [==============================] - 0s 45ms/step - loss: 0.5377 - accuracy: 0.8125 - val_loss: 0.3698 - val_accuracy: 0.7917\n",
      "Epoch 67/500\n",
      "3/3 [==============================] - 0s 55ms/step - loss: 0.5734 - accuracy: 0.8125 - val_loss: 0.3660 - val_accuracy: 0.7917\n",
      "Epoch 68/500\n",
      "3/3 [==============================] - 0s 34ms/step - loss: 0.5376 - accuracy: 0.8333 - val_loss: 0.3625 - val_accuracy: 0.7917\n",
      "Epoch 69/500\n",
      "3/3 [==============================] - 0s 33ms/step - loss: 0.5504 - accuracy: 0.7917 - val_loss: 0.3591 - val_accuracy: 0.7917\n",
      "Epoch 70/500\n",
      "3/3 [==============================] - 0s 32ms/step - loss: 0.5803 - accuracy: 0.8229 - val_loss: 0.3556 - val_accuracy: 0.7917\n",
      "Epoch 71/500\n",
      "3/3 [==============================] - 0s 32ms/step - loss: 0.4950 - accuracy: 0.8646 - val_loss: 0.3522 - val_accuracy: 0.7917\n",
      "Epoch 72/500\n",
      "3/3 [==============================] - 0s 40ms/step - loss: 0.5597 - accuracy: 0.8125 - val_loss: 0.3489 - val_accuracy: 0.7917\n",
      "Epoch 73/500\n",
      "3/3 [==============================] - 0s 46ms/step - loss: 0.5375 - accuracy: 0.8750 - val_loss: 0.3456 - val_accuracy: 0.7917\n",
      "Epoch 74/500\n",
      "3/3 [==============================] - 0s 56ms/step - loss: 0.5539 - accuracy: 0.8229 - val_loss: 0.3424 - val_accuracy: 0.7917\n",
      "Epoch 75/500\n",
      "3/3 [==============================] - 0s 53ms/step - loss: 0.5085 - accuracy: 0.8958 - val_loss: 0.3393 - val_accuracy: 0.7917\n",
      "Epoch 76/500\n",
      "3/3 [==============================] - 0s 43ms/step - loss: 0.5518 - accuracy: 0.8438 - val_loss: 0.3363 - val_accuracy: 0.7917\n",
      "Epoch 77/500\n",
      "3/3 [==============================] - 0s 53ms/step - loss: 0.5142 - accuracy: 0.8438 - val_loss: 0.3334 - val_accuracy: 0.7917\n",
      "Epoch 78/500\n",
      "3/3 [==============================] - 0s 38ms/step - loss: 0.5391 - accuracy: 0.8125 - val_loss: 0.3305 - val_accuracy: 0.7917\n",
      "Epoch 79/500\n",
      "3/3 [==============================] - 0s 44ms/step - loss: 0.5301 - accuracy: 0.8750 - val_loss: 0.3276 - val_accuracy: 0.7917\n",
      "Epoch 80/500\n",
      "3/3 [==============================] - 0s 26ms/step - loss: 0.4986 - accuracy: 0.8229 - val_loss: 0.3249 - val_accuracy: 0.7917\n",
      "Epoch 81/500\n",
      "3/3 [==============================] - 0s 50ms/step - loss: 0.5138 - accuracy: 0.8438 - val_loss: 0.3222 - val_accuracy: 0.7917\n",
      "Epoch 82/500\n",
      "3/3 [==============================] - 0s 25ms/step - loss: 0.5258 - accuracy: 0.8333 - val_loss: 0.3196 - val_accuracy: 0.7917\n",
      "Epoch 83/500\n",
      "3/3 [==============================] - 0s 37ms/step - loss: 0.5212 - accuracy: 0.8229 - val_loss: 0.3169 - val_accuracy: 0.7917\n",
      "Epoch 84/500\n",
      "3/3 [==============================] - 0s 36ms/step - loss: 0.4824 - accuracy: 0.8646 - val_loss: 0.3143 - val_accuracy: 0.7917\n",
      "Epoch 85/500\n",
      "3/3 [==============================] - 0s 37ms/step - loss: 0.4959 - accuracy: 0.8646 - val_loss: 0.3117 - val_accuracy: 0.7917\n",
      "Epoch 86/500\n",
      "3/3 [==============================] - 0s 77ms/step - loss: 0.4985 - accuracy: 0.8229 - val_loss: 0.3092 - val_accuracy: 0.7917\n",
      "Epoch 87/500\n",
      "3/3 [==============================] - 0s 45ms/step - loss: 0.5001 - accuracy: 0.8333 - val_loss: 0.3068 - val_accuracy: 0.7917\n",
      "Epoch 88/500\n",
      "3/3 [==============================] - 0s 43ms/step - loss: 0.5173 - accuracy: 0.8229 - val_loss: 0.3045 - val_accuracy: 0.7917\n",
      "Epoch 89/500\n",
      "3/3 [==============================] - 0s 45ms/step - loss: 0.4585 - accuracy: 0.8958 - val_loss: 0.3024 - val_accuracy: 0.7917\n",
      "Epoch 90/500\n",
      "3/3 [==============================] - 0s 33ms/step - loss: 0.5062 - accuracy: 0.8125 - val_loss: 0.3001 - val_accuracy: 0.7917\n",
      "Epoch 91/500\n",
      "3/3 [==============================] - 0s 36ms/step - loss: 0.4823 - accuracy: 0.8542 - val_loss: 0.2978 - val_accuracy: 0.7917\n",
      "Epoch 92/500\n",
      "3/3 [==============================] - 0s 35ms/step - loss: 0.4886 - accuracy: 0.8646 - val_loss: 0.2956 - val_accuracy: 0.7917\n",
      "Epoch 93/500\n",
      "3/3 [==============================] - 0s 40ms/step - loss: 0.4767 - accuracy: 0.8646 - val_loss: 0.2934 - val_accuracy: 0.7917\n",
      "Epoch 94/500\n",
      "3/3 [==============================] - 0s 34ms/step - loss: 0.4626 - accuracy: 0.8646 - val_loss: 0.2913 - val_accuracy: 0.7917\n",
      "Epoch 95/500\n",
      "3/3 [==============================] - 0s 69ms/step - loss: 0.4748 - accuracy: 0.8854 - val_loss: 0.2891 - val_accuracy: 0.7917\n",
      "Epoch 96/500\n",
      "3/3 [==============================] - 0s 40ms/step - loss: 0.5168 - accuracy: 0.8438 - val_loss: 0.2872 - val_accuracy: 0.7917\n",
      "Epoch 97/500\n",
      "3/3 [==============================] - 0s 52ms/step - loss: 0.4921 - accuracy: 0.8229 - val_loss: 0.2852 - val_accuracy: 0.7917\n",
      "Epoch 98/500\n",
      "3/3 [==============================] - 0s 37ms/step - loss: 0.4633 - accuracy: 0.8542 - val_loss: 0.2833 - val_accuracy: 0.7917\n",
      "Epoch 99/500\n",
      "3/3 [==============================] - 0s 47ms/step - loss: 0.4617 - accuracy: 0.8646 - val_loss: 0.2814 - val_accuracy: 0.7917\n",
      "Epoch 100/500\n",
      "3/3 [==============================] - 0s 40ms/step - loss: 0.4658 - accuracy: 0.8542 - val_loss: 0.2797 - val_accuracy: 0.7917\n",
      "Epoch 101/500\n",
      "3/3 [==============================] - 0s 116ms/step - loss: 0.4454 - accuracy: 0.8542 - val_loss: 0.2778 - val_accuracy: 0.7917\n",
      "Epoch 102/500\n",
      "3/3 [==============================] - 0s 52ms/step - loss: 0.4181 - accuracy: 0.8854 - val_loss: 0.2760 - val_accuracy: 0.7917\n",
      "Epoch 103/500\n",
      "3/3 [==============================] - 0s 58ms/step - loss: 0.4412 - accuracy: 0.8750 - val_loss: 0.2744 - val_accuracy: 0.7917\n",
      "Epoch 104/500\n",
      "3/3 [==============================] - 0s 71ms/step - loss: 0.4562 - accuracy: 0.8438 - val_loss: 0.2726 - val_accuracy: 0.7917\n",
      "Epoch 105/500\n",
      "3/3 [==============================] - 0s 68ms/step - loss: 0.4795 - accuracy: 0.8646 - val_loss: 0.2709 - val_accuracy: 0.7917\n",
      "Epoch 106/500\n",
      "3/3 [==============================] - 0s 76ms/step - loss: 0.4244 - accuracy: 0.8750 - val_loss: 0.2692 - val_accuracy: 0.7917\n",
      "Epoch 107/500\n",
      "3/3 [==============================] - 0s 93ms/step - loss: 0.4539 - accuracy: 0.8333 - val_loss: 0.2676 - val_accuracy: 0.7917\n",
      "Epoch 108/500\n",
      "3/3 [==============================] - 0s 80ms/step - loss: 0.4376 - accuracy: 0.8542 - val_loss: 0.2660 - val_accuracy: 0.7917\n",
      "Epoch 109/500\n",
      "3/3 [==============================] - 0s 103ms/step - loss: 0.4032 - accuracy: 0.9062 - val_loss: 0.2644 - val_accuracy: 0.7917\n",
      "Epoch 110/500\n",
      "3/3 [==============================] - 0s 80ms/step - loss: 0.4124 - accuracy: 0.9167 - val_loss: 0.2627 - val_accuracy: 0.7917\n",
      "Epoch 111/500\n",
      "3/3 [==============================] - 0s 101ms/step - loss: 0.4367 - accuracy: 0.8750 - val_loss: 0.2609 - val_accuracy: 0.7917\n",
      "Epoch 112/500\n",
      "3/3 [==============================] - 0s 133ms/step - loss: 0.4430 - accuracy: 0.8229 - val_loss: 0.2593 - val_accuracy: 0.7917\n",
      "Epoch 113/500\n",
      "3/3 [==============================] - 0s 128ms/step - loss: 0.3767 - accuracy: 0.9479 - val_loss: 0.2577 - val_accuracy: 0.7917\n",
      "Epoch 114/500\n",
      "3/3 [==============================] - 0s 86ms/step - loss: 0.4355 - accuracy: 0.8854 - val_loss: 0.2562 - val_accuracy: 0.7917\n",
      "Epoch 115/500\n",
      "3/3 [==============================] - 0s 55ms/step - loss: 0.4469 - accuracy: 0.8438 - val_loss: 0.2547 - val_accuracy: 0.8333\n",
      "Epoch 116/500\n",
      "3/3 [==============================] - 0s 60ms/step - loss: 0.4362 - accuracy: 0.8333 - val_loss: 0.2532 - val_accuracy: 0.8333\n",
      "Epoch 117/500\n",
      "3/3 [==============================] - 0s 80ms/step - loss: 0.4228 - accuracy: 0.8646 - val_loss: 0.2517 - val_accuracy: 0.8333\n",
      "Epoch 118/500\n",
      "3/3 [==============================] - 0s 126ms/step - loss: 0.3933 - accuracy: 0.8958 - val_loss: 0.2503 - val_accuracy: 0.8333\n",
      "Epoch 119/500\n",
      "3/3 [==============================] - 0s 89ms/step - loss: 0.4123 - accuracy: 0.9271 - val_loss: 0.2487 - val_accuracy: 0.8333\n",
      "Epoch 120/500\n",
      "3/3 [==============================] - 0s 75ms/step - loss: 0.3975 - accuracy: 0.8958 - val_loss: 0.2472 - val_accuracy: 0.8333\n",
      "Epoch 121/500\n",
      "3/3 [==============================] - 0s 63ms/step - loss: 0.4134 - accuracy: 0.8646 - val_loss: 0.2455 - val_accuracy: 0.8333\n",
      "Epoch 122/500\n",
      "3/3 [==============================] - 0s 43ms/step - loss: 0.3855 - accuracy: 0.9375 - val_loss: 0.2439 - val_accuracy: 0.8333\n",
      "Epoch 123/500\n",
      "3/3 [==============================] - 0s 37ms/step - loss: 0.4073 - accuracy: 0.8646 - val_loss: 0.2422 - val_accuracy: 0.8750\n",
      "Epoch 124/500\n",
      "3/3 [==============================] - 0s 38ms/step - loss: 0.3975 - accuracy: 0.8646 - val_loss: 0.2406 - val_accuracy: 0.8750\n",
      "Epoch 125/500\n",
      "3/3 [==============================] - 0s 47ms/step - loss: 0.3925 - accuracy: 0.8958 - val_loss: 0.2390 - val_accuracy: 0.9167\n",
      "Epoch 126/500\n",
      "3/3 [==============================] - 0s 31ms/step - loss: 0.3759 - accuracy: 0.9062 - val_loss: 0.2376 - val_accuracy: 0.9167\n",
      "Epoch 127/500\n",
      "3/3 [==============================] - 0s 43ms/step - loss: 0.4071 - accuracy: 0.8542 - val_loss: 0.2365 - val_accuracy: 0.9167\n",
      "Epoch 128/500\n",
      "3/3 [==============================] - 0s 48ms/step - loss: 0.4051 - accuracy: 0.8958 - val_loss: 0.2351 - val_accuracy: 0.9167\n",
      "Epoch 129/500\n",
      "3/3 [==============================] - 0s 56ms/step - loss: 0.3757 - accuracy: 0.8750 - val_loss: 0.2341 - val_accuracy: 0.9167\n",
      "Epoch 130/500\n",
      "3/3 [==============================] - 0s 36ms/step - loss: 0.4330 - accuracy: 0.8438 - val_loss: 0.2327 - val_accuracy: 0.9583\n",
      "Epoch 131/500\n",
      "3/3 [==============================] - 0s 71ms/step - loss: 0.3750 - accuracy: 0.8958 - val_loss: 0.2315 - val_accuracy: 0.9583\n",
      "Epoch 132/500\n",
      "3/3 [==============================] - 0s 90ms/step - loss: 0.3902 - accuracy: 0.8750 - val_loss: 0.2303 - val_accuracy: 0.9583\n",
      "Epoch 133/500\n",
      "3/3 [==============================] - 0s 85ms/step - loss: 0.4129 - accuracy: 0.8229 - val_loss: 0.2287 - val_accuracy: 0.9583\n",
      "Epoch 134/500\n",
      "3/3 [==============================] - 0s 65ms/step - loss: 0.3986 - accuracy: 0.8854 - val_loss: 0.2273 - val_accuracy: 0.9583\n",
      "Epoch 135/500\n",
      "3/3 [==============================] - 0s 79ms/step - loss: 0.4037 - accuracy: 0.8542 - val_loss: 0.2260 - val_accuracy: 0.9583\n",
      "Epoch 136/500\n",
      "3/3 [==============================] - 0s 82ms/step - loss: 0.3745 - accuracy: 0.8542 - val_loss: 0.2245 - val_accuracy: 0.9583\n",
      "Epoch 137/500\n",
      "3/3 [==============================] - 0s 49ms/step - loss: 0.3789 - accuracy: 0.8646 - val_loss: 0.2231 - val_accuracy: 0.9583\n",
      "Epoch 138/500\n",
      "3/3 [==============================] - 0s 52ms/step - loss: 0.4211 - accuracy: 0.8542 - val_loss: 0.2218 - val_accuracy: 0.9583\n",
      "Epoch 139/500\n",
      "3/3 [==============================] - 0s 62ms/step - loss: 0.4065 - accuracy: 0.8646 - val_loss: 0.2203 - val_accuracy: 0.9583\n",
      "Epoch 140/500\n",
      "3/3 [==============================] - 0s 68ms/step - loss: 0.3972 - accuracy: 0.8438 - val_loss: 0.2190 - val_accuracy: 0.9583\n",
      "Epoch 141/500\n",
      "3/3 [==============================] - 0s 83ms/step - loss: 0.3615 - accuracy: 0.9271 - val_loss: 0.2176 - val_accuracy: 0.9583\n",
      "Epoch 142/500\n",
      "3/3 [==============================] - 0s 50ms/step - loss: 0.3792 - accuracy: 0.8646 - val_loss: 0.2162 - val_accuracy: 0.9583\n",
      "Epoch 143/500\n",
      "3/3 [==============================] - 0s 58ms/step - loss: 0.3549 - accuracy: 0.9167 - val_loss: 0.2147 - val_accuracy: 0.9583\n",
      "Epoch 144/500\n",
      "3/3 [==============================] - 0s 45ms/step - loss: 0.3873 - accuracy: 0.8750 - val_loss: 0.2133 - val_accuracy: 0.9583\n",
      "Epoch 145/500\n",
      "3/3 [==============================] - 0s 95ms/step - loss: 0.3487 - accuracy: 0.9167 - val_loss: 0.2119 - val_accuracy: 0.9583\n",
      "Epoch 146/500\n",
      "3/3 [==============================] - 0s 71ms/step - loss: 0.3401 - accuracy: 0.8854 - val_loss: 0.2105 - val_accuracy: 0.9583\n",
      "Epoch 147/500\n",
      "3/3 [==============================] - 0s 43ms/step - loss: 0.3497 - accuracy: 0.8958 - val_loss: 0.2090 - val_accuracy: 0.9583\n",
      "Epoch 148/500\n",
      "3/3 [==============================] - 0s 53ms/step - loss: 0.3706 - accuracy: 0.9062 - val_loss: 0.2076 - val_accuracy: 0.9583\n",
      "Epoch 149/500\n",
      "3/3 [==============================] - 0s 58ms/step - loss: 0.3950 - accuracy: 0.8646 - val_loss: 0.2060 - val_accuracy: 0.9583\n",
      "Epoch 150/500\n",
      "3/3 [==============================] - 0s 49ms/step - loss: 0.3851 - accuracy: 0.8646 - val_loss: 0.2042 - val_accuracy: 0.9583\n",
      "Epoch 151/500\n",
      "3/3 [==============================] - 0s 37ms/step - loss: 0.3229 - accuracy: 0.9167 - val_loss: 0.2027 - val_accuracy: 0.9583\n",
      "Epoch 152/500\n",
      "3/3 [==============================] - 0s 71ms/step - loss: 0.3457 - accuracy: 0.9271 - val_loss: 0.2013 - val_accuracy: 0.9583\n",
      "Epoch 153/500\n",
      "3/3 [==============================] - 0s 83ms/step - loss: 0.3240 - accuracy: 0.8958 - val_loss: 0.2000 - val_accuracy: 0.9583\n",
      "Epoch 154/500\n",
      "3/3 [==============================] - 0s 81ms/step - loss: 0.3285 - accuracy: 0.9062 - val_loss: 0.1986 - val_accuracy: 0.9583\n",
      "Epoch 155/500\n",
      "3/3 [==============================] - 0s 114ms/step - loss: 0.3595 - accuracy: 0.8542 - val_loss: 0.1970 - val_accuracy: 0.9583\n",
      "Epoch 156/500\n",
      "3/3 [==============================] - 0s 75ms/step - loss: 0.3556 - accuracy: 0.8958 - val_loss: 0.1956 - val_accuracy: 0.9583\n",
      "Epoch 157/500\n",
      "3/3 [==============================] - 0s 52ms/step - loss: 0.3522 - accuracy: 0.8958 - val_loss: 0.1945 - val_accuracy: 0.9583\n",
      "Epoch 158/500\n",
      "3/3 [==============================] - 0s 40ms/step - loss: 0.3089 - accuracy: 0.9062 - val_loss: 0.1933 - val_accuracy: 0.9583\n",
      "Epoch 159/500\n",
      "3/3 [==============================] - 0s 54ms/step - loss: 0.3669 - accuracy: 0.8646 - val_loss: 0.1923 - val_accuracy: 0.9583\n",
      "Epoch 160/500\n",
      "3/3 [==============================] - 0s 69ms/step - loss: 0.3390 - accuracy: 0.8646 - val_loss: 0.1914 - val_accuracy: 0.9583\n",
      "Epoch 161/500\n",
      "3/3 [==============================] - 0s 56ms/step - loss: 0.3667 - accuracy: 0.8438 - val_loss: 0.1906 - val_accuracy: 0.9583\n",
      "Epoch 162/500\n",
      "3/3 [==============================] - 0s 44ms/step - loss: 0.2836 - accuracy: 0.9479 - val_loss: 0.1897 - val_accuracy: 0.9583\n",
      "Epoch 163/500\n",
      "3/3 [==============================] - 0s 35ms/step - loss: 0.3091 - accuracy: 0.9062 - val_loss: 0.1886 - val_accuracy: 0.9583\n",
      "Epoch 164/500\n",
      "3/3 [==============================] - 0s 33ms/step - loss: 0.3467 - accuracy: 0.8958 - val_loss: 0.1873 - val_accuracy: 0.9583\n",
      "Epoch 165/500\n",
      "3/3 [==============================] - 0s 34ms/step - loss: 0.3155 - accuracy: 0.8958 - val_loss: 0.1860 - val_accuracy: 0.9583\n",
      "Epoch 166/500\n",
      "3/3 [==============================] - 0s 34ms/step - loss: 0.3296 - accuracy: 0.9062 - val_loss: 0.1844 - val_accuracy: 0.9583\n",
      "Epoch 167/500\n",
      "3/3 [==============================] - 0s 32ms/step - loss: 0.3132 - accuracy: 0.9062 - val_loss: 0.1827 - val_accuracy: 0.9583\n",
      "Epoch 168/500\n",
      "3/3 [==============================] - 0s 33ms/step - loss: 0.3243 - accuracy: 0.8854 - val_loss: 0.1813 - val_accuracy: 0.9583\n",
      "Epoch 169/500\n",
      "3/3 [==============================] - 0s 53ms/step - loss: 0.2986 - accuracy: 0.9167 - val_loss: 0.1799 - val_accuracy: 0.9583\n",
      "Epoch 170/500\n",
      "3/3 [==============================] - 0s 43ms/step - loss: 0.3051 - accuracy: 0.9062 - val_loss: 0.1786 - val_accuracy: 0.9583\n",
      "Epoch 171/500\n",
      "3/3 [==============================] - 0s 90ms/step - loss: 0.2750 - accuracy: 0.9375 - val_loss: 0.1774 - val_accuracy: 0.9583\n",
      "Epoch 172/500\n",
      "3/3 [==============================] - 0s 55ms/step - loss: 0.3271 - accuracy: 0.9167 - val_loss: 0.1760 - val_accuracy: 0.9583\n",
      "Epoch 173/500\n",
      "3/3 [==============================] - 0s 40ms/step - loss: 0.3344 - accuracy: 0.8854 - val_loss: 0.1748 - val_accuracy: 1.0000\n",
      "Epoch 174/500\n",
      "3/3 [==============================] - 0s 64ms/step - loss: 0.3066 - accuracy: 0.9375 - val_loss: 0.1736 - val_accuracy: 1.0000\n",
      "Epoch 175/500\n",
      "3/3 [==============================] - 0s 46ms/step - loss: 0.3239 - accuracy: 0.9062 - val_loss: 0.1724 - val_accuracy: 1.0000\n",
      "Epoch 176/500\n",
      "3/3 [==============================] - 0s 54ms/step - loss: 0.3296 - accuracy: 0.9062 - val_loss: 0.1714 - val_accuracy: 0.9583\n",
      "Epoch 177/500\n",
      "3/3 [==============================] - 0s 28ms/step - loss: 0.2893 - accuracy: 0.9167 - val_loss: 0.1705 - val_accuracy: 0.9583\n",
      "Epoch 178/500\n",
      "3/3 [==============================] - 0s 71ms/step - loss: 0.3303 - accuracy: 0.8854 - val_loss: 0.1697 - val_accuracy: 0.9583\n",
      "Epoch 179/500\n",
      "3/3 [==============================] - 0s 56ms/step - loss: 0.4111 - accuracy: 0.8542 - val_loss: 0.1690 - val_accuracy: 0.9583\n",
      "Epoch 180/500\n",
      "3/3 [==============================] - 0s 45ms/step - loss: 0.3212 - accuracy: 0.8854 - val_loss: 0.1684 - val_accuracy: 0.9583\n",
      "Epoch 181/500\n",
      "3/3 [==============================] - 0s 35ms/step - loss: 0.2989 - accuracy: 0.9479 - val_loss: 0.1676 - val_accuracy: 0.9583\n",
      "Epoch 182/500\n",
      "3/3 [==============================] - 0s 45ms/step - loss: 0.3244 - accuracy: 0.8542 - val_loss: 0.1667 - val_accuracy: 0.9583\n",
      "Epoch 183/500\n",
      "3/3 [==============================] - 0s 68ms/step - loss: 0.2990 - accuracy: 0.9167 - val_loss: 0.1660 - val_accuracy: 0.9583\n",
      "Epoch 184/500\n",
      "3/3 [==============================] - 0s 35ms/step - loss: 0.2831 - accuracy: 0.9375 - val_loss: 0.1652 - val_accuracy: 0.9583\n",
      "Epoch 185/500\n",
      "3/3 [==============================] - 0s 46ms/step - loss: 0.2610 - accuracy: 0.9479 - val_loss: 0.1642 - val_accuracy: 0.9583\n",
      "Epoch 186/500\n",
      "3/3 [==============================] - 0s 31ms/step - loss: 0.2733 - accuracy: 0.9167 - val_loss: 0.1631 - val_accuracy: 0.9583\n",
      "Epoch 187/500\n",
      "3/3 [==============================] - 0s 26ms/step - loss: 0.3299 - accuracy: 0.8854 - val_loss: 0.1619 - val_accuracy: 0.9583\n",
      "Epoch 188/500\n",
      "3/3 [==============================] - 0s 84ms/step - loss: 0.2709 - accuracy: 0.9062 - val_loss: 0.1611 - val_accuracy: 0.9583\n",
      "Epoch 189/500\n",
      "3/3 [==============================] - 0s 84ms/step - loss: 0.2584 - accuracy: 0.9479 - val_loss: 0.1601 - val_accuracy: 0.9583\n",
      "Epoch 190/500\n",
      "3/3 [==============================] - 0s 77ms/step - loss: 0.2761 - accuracy: 0.8958 - val_loss: 0.1587 - val_accuracy: 0.9583\n",
      "Epoch 191/500\n",
      "3/3 [==============================] - 0s 58ms/step - loss: 0.3231 - accuracy: 0.8646 - val_loss: 0.1571 - val_accuracy: 0.9583\n",
      "Epoch 192/500\n",
      "3/3 [==============================] - 0s 45ms/step - loss: 0.2647 - accuracy: 0.9375 - val_loss: 0.1557 - val_accuracy: 0.9583\n",
      "Epoch 193/500\n",
      "3/3 [==============================] - 0s 57ms/step - loss: 0.3177 - accuracy: 0.9062 - val_loss: 0.1548 - val_accuracy: 0.9583\n",
      "Epoch 194/500\n",
      "3/3 [==============================] - 0s 83ms/step - loss: 0.3040 - accuracy: 0.9062 - val_loss: 0.1538 - val_accuracy: 0.9583\n",
      "Epoch 195/500\n",
      "3/3 [==============================] - 0s 48ms/step - loss: 0.3189 - accuracy: 0.8750 - val_loss: 0.1531 - val_accuracy: 0.9583\n",
      "Epoch 196/500\n",
      "3/3 [==============================] - 0s 37ms/step - loss: 0.3094 - accuracy: 0.9375 - val_loss: 0.1525 - val_accuracy: 0.9583\n",
      "Epoch 197/500\n",
      "3/3 [==============================] - 0s 73ms/step - loss: 0.2442 - accuracy: 0.9479 - val_loss: 0.1518 - val_accuracy: 0.9583\n",
      "Epoch 198/500\n",
      "3/3 [==============================] - 0s 92ms/step - loss: 0.2767 - accuracy: 0.9479 - val_loss: 0.1512 - val_accuracy: 0.9583\n",
      "Epoch 199/500\n",
      "3/3 [==============================] - 0s 80ms/step - loss: 0.2361 - accuracy: 0.9375 - val_loss: 0.1502 - val_accuracy: 0.9583\n",
      "Epoch 200/500\n",
      "3/3 [==============================] - 0s 69ms/step - loss: 0.2511 - accuracy: 0.9688 - val_loss: 0.1494 - val_accuracy: 0.9583\n",
      "Epoch 201/500\n",
      "3/3 [==============================] - 0s 108ms/step - loss: 0.2926 - accuracy: 0.8854 - val_loss: 0.1483 - val_accuracy: 0.9583\n",
      "Epoch 202/500\n",
      "3/3 [==============================] - 0s 104ms/step - loss: 0.3040 - accuracy: 0.9062 - val_loss: 0.1472 - val_accuracy: 0.9583\n",
      "Epoch 203/500\n",
      "3/3 [==============================] - 0s 57ms/step - loss: 0.2694 - accuracy: 0.9167 - val_loss: 0.1459 - val_accuracy: 0.9583\n",
      "Epoch 204/500\n",
      "3/3 [==============================] - 0s 87ms/step - loss: 0.2644 - accuracy: 0.9167 - val_loss: 0.1452 - val_accuracy: 0.9583\n",
      "Epoch 205/500\n",
      "3/3 [==============================] - 0s 81ms/step - loss: 0.3233 - accuracy: 0.8854 - val_loss: 0.1441 - val_accuracy: 0.9583\n",
      "Epoch 206/500\n",
      "3/3 [==============================] - 0s 44ms/step - loss: 0.2539 - accuracy: 0.9167 - val_loss: 0.1432 - val_accuracy: 0.9583\n",
      "Epoch 207/500\n",
      "3/3 [==============================] - 0s 51ms/step - loss: 0.2716 - accuracy: 0.9167 - val_loss: 0.1420 - val_accuracy: 0.9583\n",
      "Epoch 208/500\n",
      "3/3 [==============================] - 0s 86ms/step - loss: 0.2841 - accuracy: 0.9271 - val_loss: 0.1411 - val_accuracy: 0.9583\n",
      "Epoch 209/500\n",
      "3/3 [==============================] - 0s 69ms/step - loss: 0.2718 - accuracy: 0.9062 - val_loss: 0.1405 - val_accuracy: 0.9583\n",
      "Epoch 210/500\n",
      "3/3 [==============================] - 0s 62ms/step - loss: 0.2342 - accuracy: 0.9479 - val_loss: 0.1396 - val_accuracy: 0.9583\n",
      "Epoch 211/500\n",
      "3/3 [==============================] - 0s 58ms/step - loss: 0.2802 - accuracy: 0.9062 - val_loss: 0.1387 - val_accuracy: 0.9583\n",
      "Epoch 212/500\n",
      "3/3 [==============================] - 0s 60ms/step - loss: 0.2258 - accuracy: 0.9583 - val_loss: 0.1377 - val_accuracy: 0.9583\n",
      "Epoch 213/500\n",
      "3/3 [==============================] - 0s 72ms/step - loss: 0.3067 - accuracy: 0.8646 - val_loss: 0.1368 - val_accuracy: 0.9583\n",
      "Epoch 214/500\n",
      "3/3 [==============================] - 0s 37ms/step - loss: 0.2418 - accuracy: 0.9583 - val_loss: 0.1358 - val_accuracy: 0.9583\n",
      "Epoch 215/500\n",
      "3/3 [==============================] - 0s 40ms/step - loss: 0.2587 - accuracy: 0.9062 - val_loss: 0.1347 - val_accuracy: 0.9583\n",
      "Epoch 216/500\n",
      "3/3 [==============================] - 0s 38ms/step - loss: 0.3128 - accuracy: 0.8958 - val_loss: 0.1339 - val_accuracy: 0.9583\n",
      "Epoch 217/500\n",
      "3/3 [==============================] - 0s 45ms/step - loss: 0.2767 - accuracy: 0.9167 - val_loss: 0.1330 - val_accuracy: 0.9583\n",
      "Epoch 218/500\n",
      "3/3 [==============================] - 0s 27ms/step - loss: 0.2788 - accuracy: 0.9062 - val_loss: 0.1318 - val_accuracy: 0.9583\n",
      "Epoch 219/500\n",
      "3/3 [==============================] - 0s 25ms/step - loss: 0.2619 - accuracy: 0.9583 - val_loss: 0.1314 - val_accuracy: 0.9583\n",
      "Epoch 220/500\n",
      "3/3 [==============================] - 0s 22ms/step - loss: 0.2527 - accuracy: 0.9271 - val_loss: 0.1307 - val_accuracy: 0.9583\n",
      "Epoch 221/500\n",
      "3/3 [==============================] - 0s 22ms/step - loss: 0.2968 - accuracy: 0.8750 - val_loss: 0.1300 - val_accuracy: 0.9583\n",
      "Epoch 222/500\n",
      "3/3 [==============================] - 0s 21ms/step - loss: 0.2487 - accuracy: 0.9375 - val_loss: 0.1289 - val_accuracy: 0.9583\n",
      "Epoch 223/500\n",
      "3/3 [==============================] - 0s 23ms/step - loss: 0.2622 - accuracy: 0.9062 - val_loss: 0.1278 - val_accuracy: 0.9583\n",
      "Epoch 224/500\n",
      "3/3 [==============================] - 0s 30ms/step - loss: 0.2650 - accuracy: 0.9167 - val_loss: 0.1266 - val_accuracy: 0.9583\n",
      "Epoch 225/500\n",
      "3/3 [==============================] - 0s 30ms/step - loss: 0.2316 - accuracy: 0.9271 - val_loss: 0.1254 - val_accuracy: 0.9583\n",
      "Epoch 226/500\n",
      "3/3 [==============================] - 0s 21ms/step - loss: 0.2627 - accuracy: 0.9062 - val_loss: 0.1240 - val_accuracy: 0.9583\n",
      "Epoch 227/500\n",
      "3/3 [==============================] - 0s 21ms/step - loss: 0.2217 - accuracy: 0.9271 - val_loss: 0.1229 - val_accuracy: 0.9583\n",
      "Epoch 228/500\n",
      "3/3 [==============================] - 0s 33ms/step - loss: 0.2056 - accuracy: 0.9688 - val_loss: 0.1217 - val_accuracy: 0.9583\n",
      "Epoch 229/500\n",
      "3/3 [==============================] - 0s 23ms/step - loss: 0.2559 - accuracy: 0.9167 - val_loss: 0.1201 - val_accuracy: 1.0000\n",
      "Epoch 230/500\n",
      "3/3 [==============================] - 0s 20ms/step - loss: 0.2701 - accuracy: 0.9167 - val_loss: 0.1187 - val_accuracy: 1.0000\n",
      "Epoch 231/500\n",
      "3/3 [==============================] - 0s 32ms/step - loss: 0.2576 - accuracy: 0.9167 - val_loss: 0.1175 - val_accuracy: 1.0000\n",
      "Epoch 232/500\n",
      "3/3 [==============================] - 0s 30ms/step - loss: 0.2254 - accuracy: 0.9271 - val_loss: 0.1163 - val_accuracy: 1.0000\n",
      "Epoch 233/500\n",
      "3/3 [==============================] - 0s 20ms/step - loss: 0.2520 - accuracy: 0.9062 - val_loss: 0.1154 - val_accuracy: 1.0000\n",
      "Epoch 234/500\n",
      "3/3 [==============================] - 0s 29ms/step - loss: 0.2410 - accuracy: 0.9062 - val_loss: 0.1145 - val_accuracy: 1.0000\n",
      "Epoch 235/500\n",
      "3/3 [==============================] - 0s 21ms/step - loss: 0.2254 - accuracy: 0.9271 - val_loss: 0.1141 - val_accuracy: 1.0000\n",
      "Epoch 236/500\n",
      "3/3 [==============================] - 0s 26ms/step - loss: 0.2510 - accuracy: 0.9167 - val_loss: 0.1144 - val_accuracy: 1.0000\n",
      "Epoch 237/500\n",
      "3/3 [==============================] - 0s 21ms/step - loss: 0.2153 - accuracy: 0.9375 - val_loss: 0.1150 - val_accuracy: 0.9583\n",
      "Epoch 238/500\n",
      "3/3 [==============================] - 0s 22ms/step - loss: 0.2335 - accuracy: 0.9062 - val_loss: 0.1153 - val_accuracy: 0.9583\n",
      "Epoch 239/500\n",
      "3/3 [==============================] - 0s 29ms/step - loss: 0.2017 - accuracy: 0.9375 - val_loss: 0.1154 - val_accuracy: 0.9583\n",
      "Epoch 240/500\n",
      "3/3 [==============================] - 0s 30ms/step - loss: 0.1980 - accuracy: 0.9375 - val_loss: 0.1151 - val_accuracy: 0.9583\n",
      "Epoch 241/500\n",
      "3/3 [==============================] - 0s 28ms/step - loss: 0.2398 - accuracy: 0.9167 - val_loss: 0.1144 - val_accuracy: 0.9583\n",
      "Epoch 242/500\n",
      "3/3 [==============================] - 0s 28ms/step - loss: 0.2031 - accuracy: 0.9375 - val_loss: 0.1137 - val_accuracy: 0.9583\n",
      "Epoch 243/500\n",
      "3/3 [==============================] - 0s 26ms/step - loss: 0.1907 - accuracy: 0.9688 - val_loss: 0.1124 - val_accuracy: 0.9583\n",
      "Epoch 244/500\n",
      "3/3 [==============================] - 0s 30ms/step - loss: 0.2053 - accuracy: 0.8958 - val_loss: 0.1113 - val_accuracy: 0.9583\n",
      "Epoch 245/500\n",
      "3/3 [==============================] - 0s 31ms/step - loss: 0.2678 - accuracy: 0.9062 - val_loss: 0.1102 - val_accuracy: 0.9583\n",
      "Epoch 246/500\n",
      "3/3 [==============================] - 0s 22ms/step - loss: 0.2676 - accuracy: 0.9167 - val_loss: 0.1089 - val_accuracy: 0.9583\n",
      "Epoch 247/500\n",
      "3/3 [==============================] - 0s 33ms/step - loss: 0.1913 - accuracy: 0.9583 - val_loss: 0.1077 - val_accuracy: 0.9583\n",
      "Epoch 248/500\n",
      "3/3 [==============================] - 0s 20ms/step - loss: 0.2136 - accuracy: 0.9271 - val_loss: 0.1071 - val_accuracy: 0.9583\n",
      "Epoch 249/500\n",
      "3/3 [==============================] - 0s 19ms/step - loss: 0.2493 - accuracy: 0.8958 - val_loss: 0.1063 - val_accuracy: 0.9583\n",
      "Epoch 250/500\n",
      "3/3 [==============================] - 0s 20ms/step - loss: 0.2035 - accuracy: 0.9479 - val_loss: 0.1059 - val_accuracy: 0.9583\n",
      "Epoch 251/500\n",
      "3/3 [==============================] - 0s 22ms/step - loss: 0.2628 - accuracy: 0.9062 - val_loss: 0.1052 - val_accuracy: 1.0000\n",
      "Epoch 252/500\n",
      "3/3 [==============================] - 0s 38ms/step - loss: 0.2066 - accuracy: 0.9271 - val_loss: 0.1040 - val_accuracy: 1.0000\n",
      "Epoch 253/500\n",
      "3/3 [==============================] - 0s 19ms/step - loss: 0.2478 - accuracy: 0.9167 - val_loss: 0.1030 - val_accuracy: 1.0000\n",
      "Epoch 254/500\n",
      "3/3 [==============================] - 0s 21ms/step - loss: 0.2159 - accuracy: 0.9271 - val_loss: 0.1018 - val_accuracy: 1.0000\n",
      "Epoch 255/500\n",
      "3/3 [==============================] - 0s 30ms/step - loss: 0.1804 - accuracy: 0.9375 - val_loss: 0.1010 - val_accuracy: 1.0000\n",
      "Epoch 256/500\n",
      "3/3 [==============================] - 0s 31ms/step - loss: 0.1726 - accuracy: 0.9583 - val_loss: 0.1000 - val_accuracy: 1.0000\n",
      "Epoch 257/500\n",
      "3/3 [==============================] - 0s 31ms/step - loss: 0.2681 - accuracy: 0.8958 - val_loss: 0.0989 - val_accuracy: 1.0000\n",
      "Epoch 258/500\n",
      "3/3 [==============================] - 0s 20ms/step - loss: 0.2103 - accuracy: 0.9375 - val_loss: 0.0977 - val_accuracy: 1.0000\n",
      "Epoch 259/500\n",
      "3/3 [==============================] - 0s 22ms/step - loss: 0.2304 - accuracy: 0.9375 - val_loss: 0.0969 - val_accuracy: 1.0000\n",
      "Epoch 260/500\n",
      "3/3 [==============================] - 0s 30ms/step - loss: 0.1977 - accuracy: 0.9479 - val_loss: 0.0959 - val_accuracy: 1.0000\n",
      "Epoch 261/500\n",
      "3/3 [==============================] - 0s 23ms/step - loss: 0.2141 - accuracy: 0.9271 - val_loss: 0.0951 - val_accuracy: 1.0000\n",
      "Epoch 262/500\n",
      "3/3 [==============================] - 0s 20ms/step - loss: 0.2041 - accuracy: 0.9479 - val_loss: 0.0943 - val_accuracy: 1.0000\n",
      "Epoch 263/500\n",
      "3/3 [==============================] - 0s 19ms/step - loss: 0.1892 - accuracy: 0.9375 - val_loss: 0.0935 - val_accuracy: 1.0000\n",
      "Epoch 264/500\n",
      "3/3 [==============================] - 0s 18ms/step - loss: 0.1911 - accuracy: 0.9583 - val_loss: 0.0927 - val_accuracy: 1.0000\n",
      "Epoch 265/500\n",
      "3/3 [==============================] - 0s 18ms/step - loss: 0.2349 - accuracy: 0.9167 - val_loss: 0.0915 - val_accuracy: 1.0000\n",
      "Epoch 266/500\n",
      "3/3 [==============================] - 0s 19ms/step - loss: 0.1853 - accuracy: 0.9583 - val_loss: 0.0903 - val_accuracy: 1.0000\n",
      "Epoch 267/500\n",
      "3/3 [==============================] - 0s 19ms/step - loss: 0.2382 - accuracy: 0.9062 - val_loss: 0.0896 - val_accuracy: 1.0000\n",
      "Epoch 268/500\n",
      "3/3 [==============================] - 0s 28ms/step - loss: 0.1758 - accuracy: 0.9688 - val_loss: 0.0890 - val_accuracy: 1.0000\n",
      "Epoch 269/500\n",
      "3/3 [==============================] - 0s 31ms/step - loss: 0.2213 - accuracy: 0.9271 - val_loss: 0.0890 - val_accuracy: 1.0000\n",
      "Epoch 270/500\n",
      "3/3 [==============================] - 0s 19ms/step - loss: 0.1742 - accuracy: 0.9479 - val_loss: 0.0890 - val_accuracy: 1.0000\n",
      "Epoch 271/500\n",
      "3/3 [==============================] - 0s 18ms/step - loss: 0.2128 - accuracy: 0.9583 - val_loss: 0.0889 - val_accuracy: 1.0000\n",
      "Epoch 272/500\n",
      "3/3 [==============================] - 0s 21ms/step - loss: 0.1747 - accuracy: 0.9792 - val_loss: 0.0889 - val_accuracy: 1.0000\n",
      "Epoch 273/500\n",
      "3/3 [==============================] - 0s 18ms/step - loss: 0.2294 - accuracy: 0.9271 - val_loss: 0.0889 - val_accuracy: 1.0000\n",
      "Epoch 274/500\n",
      "3/3 [==============================] - 0s 20ms/step - loss: 0.2012 - accuracy: 0.9375 - val_loss: 0.0883 - val_accuracy: 1.0000\n",
      "Epoch 275/500\n",
      "3/3 [==============================] - 0s 18ms/step - loss: 0.1900 - accuracy: 0.9479 - val_loss: 0.0878 - val_accuracy: 1.0000\n",
      "Epoch 276/500\n",
      "3/3 [==============================] - 0s 16ms/step - loss: 0.2046 - accuracy: 0.9167 - val_loss: 0.0867 - val_accuracy: 1.0000\n",
      "Epoch 277/500\n",
      "3/3 [==============================] - 0s 19ms/step - loss: 0.2559 - accuracy: 0.9167 - val_loss: 0.0860 - val_accuracy: 1.0000\n",
      "Epoch 278/500\n",
      "3/3 [==============================] - 0s 18ms/step - loss: 0.2267 - accuracy: 0.9271 - val_loss: 0.0856 - val_accuracy: 1.0000\n",
      "Epoch 279/500\n",
      "3/3 [==============================] - 0s 18ms/step - loss: 0.2043 - accuracy: 0.9167 - val_loss: 0.0853 - val_accuracy: 1.0000\n",
      "Epoch 280/500\n",
      "3/3 [==============================] - 0s 19ms/step - loss: 0.1876 - accuracy: 0.9167 - val_loss: 0.0850 - val_accuracy: 1.0000\n",
      "Epoch 281/500\n",
      "3/3 [==============================] - 0s 20ms/step - loss: 0.2324 - accuracy: 0.9167 - val_loss: 0.0848 - val_accuracy: 1.0000\n",
      "Epoch 282/500\n",
      "3/3 [==============================] - 0s 16ms/step - loss: 0.1449 - accuracy: 0.9792 - val_loss: 0.0844 - val_accuracy: 1.0000\n",
      "Epoch 283/500\n",
      "3/3 [==============================] - 0s 20ms/step - loss: 0.1576 - accuracy: 0.9688 - val_loss: 0.0835 - val_accuracy: 1.0000\n",
      "Epoch 284/500\n",
      "3/3 [==============================] - 0s 27ms/step - loss: 0.1718 - accuracy: 0.9375 - val_loss: 0.0834 - val_accuracy: 1.0000\n",
      "Epoch 285/500\n",
      "3/3 [==============================] - 0s 17ms/step - loss: 0.1856 - accuracy: 0.9271 - val_loss: 0.0833 - val_accuracy: 1.0000\n",
      "Epoch 286/500\n",
      "3/3 [==============================] - 0s 18ms/step - loss: 0.1834 - accuracy: 0.9688 - val_loss: 0.0834 - val_accuracy: 1.0000\n",
      "Epoch 287/500\n",
      "3/3 [==============================] - 0s 18ms/step - loss: 0.1890 - accuracy: 0.9688 - val_loss: 0.0833 - val_accuracy: 1.0000\n",
      "Epoch 288/500\n",
      "3/3 [==============================] - 0s 19ms/step - loss: 0.1751 - accuracy: 0.9688 - val_loss: 0.0839 - val_accuracy: 1.0000\n",
      "Epoch 289/500\n",
      "3/3 [==============================] - 0s 30ms/step - loss: 0.1535 - accuracy: 0.9792 - val_loss: 0.0839 - val_accuracy: 0.9583\n",
      "Epoch 290/500\n",
      "3/3 [==============================] - 0s 21ms/step - loss: 0.1858 - accuracy: 0.9583 - val_loss: 0.0836 - val_accuracy: 0.9583\n",
      "Epoch 291/500\n",
      "3/3 [==============================] - 0s 17ms/step - loss: 0.1476 - accuracy: 0.9688 - val_loss: 0.0830 - val_accuracy: 0.9583\n",
      "Epoch 292/500\n",
      "3/3 [==============================] - 0s 20ms/step - loss: 0.1906 - accuracy: 0.9479 - val_loss: 0.0821 - val_accuracy: 0.9583\n",
      "Epoch 293/500\n",
      "3/3 [==============================] - 0s 21ms/step - loss: 0.1904 - accuracy: 0.9479 - val_loss: 0.0807 - val_accuracy: 1.0000\n",
      "Epoch 294/500\n",
      "3/3 [==============================] - 0s 18ms/step - loss: 0.1709 - accuracy: 0.9688 - val_loss: 0.0787 - val_accuracy: 1.0000\n",
      "Epoch 295/500\n",
      "3/3 [==============================] - 0s 22ms/step - loss: 0.2021 - accuracy: 0.9375 - val_loss: 0.0774 - val_accuracy: 1.0000\n",
      "Epoch 296/500\n",
      "3/3 [==============================] - 0s 19ms/step - loss: 0.1517 - accuracy: 0.9792 - val_loss: 0.0765 - val_accuracy: 1.0000\n",
      "Epoch 297/500\n",
      "3/3 [==============================] - 0s 20ms/step - loss: 0.1781 - accuracy: 0.9479 - val_loss: 0.0755 - val_accuracy: 1.0000\n",
      "Epoch 298/500\n",
      "3/3 [==============================] - 0s 27ms/step - loss: 0.2110 - accuracy: 0.9375 - val_loss: 0.0749 - val_accuracy: 1.0000\n",
      "Epoch 299/500\n",
      "3/3 [==============================] - 0s 18ms/step - loss: 0.2098 - accuracy: 0.9271 - val_loss: 0.0738 - val_accuracy: 1.0000\n",
      "Epoch 300/500\n",
      "3/3 [==============================] - 0s 28ms/step - loss: 0.2106 - accuracy: 0.9375 - val_loss: 0.0732 - val_accuracy: 1.0000\n",
      "Epoch 301/500\n",
      "3/3 [==============================] - 0s 19ms/step - loss: 0.1518 - accuracy: 0.9688 - val_loss: 0.0728 - val_accuracy: 1.0000\n",
      "Epoch 302/500\n",
      "3/3 [==============================] - 0s 31ms/step - loss: 0.1885 - accuracy: 0.9479 - val_loss: 0.0731 - val_accuracy: 1.0000\n",
      "Epoch 303/500\n",
      "3/3 [==============================] - 0s 30ms/step - loss: 0.1492 - accuracy: 0.9479 - val_loss: 0.0726 - val_accuracy: 1.0000\n",
      "Epoch 304/500\n",
      "3/3 [==============================] - 0s 30ms/step - loss: 0.2154 - accuracy: 0.9167 - val_loss: 0.0730 - val_accuracy: 1.0000\n",
      "Epoch 305/500\n",
      "3/3 [==============================] - 0s 23ms/step - loss: 0.1933 - accuracy: 0.9583 - val_loss: 0.0731 - val_accuracy: 1.0000\n",
      "Epoch 306/500\n",
      "3/3 [==============================] - 0s 23ms/step - loss: 0.1427 - accuracy: 0.9583 - val_loss: 0.0730 - val_accuracy: 1.0000\n",
      "Epoch 307/500\n",
      "3/3 [==============================] - 0s 30ms/step - loss: 0.1844 - accuracy: 0.9271 - val_loss: 0.0734 - val_accuracy: 1.0000\n",
      "Epoch 308/500\n",
      "3/3 [==============================] - 0s 23ms/step - loss: 0.1657 - accuracy: 0.9479 - val_loss: 0.0730 - val_accuracy: 1.0000\n",
      "Epoch 309/500\n",
      "3/3 [==============================] - 0s 32ms/step - loss: 0.1816 - accuracy: 0.9479 - val_loss: 0.0727 - val_accuracy: 1.0000\n",
      "Epoch 310/500\n",
      "3/3 [==============================] - 0s 35ms/step - loss: 0.1962 - accuracy: 0.9375 - val_loss: 0.0721 - val_accuracy: 1.0000\n",
      "Epoch 311/500\n",
      "3/3 [==============================] - 0s 24ms/step - loss: 0.1589 - accuracy: 0.9479 - val_loss: 0.0717 - val_accuracy: 1.0000\n",
      "Epoch 312/500\n",
      "3/3 [==============================] - 0s 20ms/step - loss: 0.1842 - accuracy: 0.9688 - val_loss: 0.0714 - val_accuracy: 1.0000\n",
      "Epoch 313/500\n",
      "3/3 [==============================] - 0s 31ms/step - loss: 0.1877 - accuracy: 0.9583 - val_loss: 0.0708 - val_accuracy: 1.0000\n",
      "Epoch 314/500\n",
      "3/3 [==============================] - 0s 23ms/step - loss: 0.1825 - accuracy: 0.9479 - val_loss: 0.0707 - val_accuracy: 1.0000\n",
      "Epoch 315/500\n",
      "3/3 [==============================] - 0s 23ms/step - loss: 0.1765 - accuracy: 0.9479 - val_loss: 0.0707 - val_accuracy: 1.0000\n",
      "Epoch 316/500\n",
      "3/3 [==============================] - 0s 21ms/step - loss: 0.1514 - accuracy: 0.9688 - val_loss: 0.0705 - val_accuracy: 1.0000\n",
      "Epoch 317/500\n",
      "3/3 [==============================] - 0s 24ms/step - loss: 0.1845 - accuracy: 0.9375 - val_loss: 0.0700 - val_accuracy: 1.0000\n",
      "Epoch 318/500\n",
      "3/3 [==============================] - 0s 19ms/step - loss: 0.1926 - accuracy: 0.9062 - val_loss: 0.0699 - val_accuracy: 1.0000\n",
      "Epoch 319/500\n",
      "3/3 [==============================] - 0s 20ms/step - loss: 0.1744 - accuracy: 0.9375 - val_loss: 0.0694 - val_accuracy: 1.0000\n",
      "Epoch 320/500\n",
      "3/3 [==============================] - 0s 21ms/step - loss: 0.1662 - accuracy: 0.9583 - val_loss: 0.0694 - val_accuracy: 1.0000\n",
      "Epoch 321/500\n",
      "3/3 [==============================] - 0s 18ms/step - loss: 0.1636 - accuracy: 0.9375 - val_loss: 0.0690 - val_accuracy: 1.0000\n",
      "Epoch 322/500\n",
      "3/3 [==============================] - 0s 19ms/step - loss: 0.1834 - accuracy: 0.9479 - val_loss: 0.0689 - val_accuracy: 1.0000\n",
      "Epoch 323/500\n",
      "3/3 [==============================] - 0s 19ms/step - loss: 0.2185 - accuracy: 0.9167 - val_loss: 0.0682 - val_accuracy: 1.0000\n",
      "Epoch 324/500\n",
      "3/3 [==============================] - 0s 30ms/step - loss: 0.2136 - accuracy: 0.9062 - val_loss: 0.0679 - val_accuracy: 1.0000\n",
      "Epoch 325/500\n",
      "3/3 [==============================] - 0s 20ms/step - loss: 0.2669 - accuracy: 0.8854 - val_loss: 0.0675 - val_accuracy: 1.0000\n",
      "Epoch 326/500\n",
      "3/3 [==============================] - 0s 24ms/step - loss: 0.1956 - accuracy: 0.9479 - val_loss: 0.0675 - val_accuracy: 1.0000\n",
      "Epoch 327/500\n",
      "3/3 [==============================] - 0s 19ms/step - loss: 0.1706 - accuracy: 0.9479 - val_loss: 0.0677 - val_accuracy: 1.0000\n",
      "Epoch 328/500\n",
      "3/3 [==============================] - 0s 19ms/step - loss: 0.1694 - accuracy: 0.9375 - val_loss: 0.0674 - val_accuracy: 1.0000\n",
      "Epoch 329/500\n",
      "3/3 [==============================] - 0s 20ms/step - loss: 0.1449 - accuracy: 0.9688 - val_loss: 0.0675 - val_accuracy: 1.0000\n",
      "Epoch 330/500\n",
      "3/3 [==============================] - 0s 18ms/step - loss: 0.1699 - accuracy: 0.9375 - val_loss: 0.0676 - val_accuracy: 1.0000\n",
      "Epoch 331/500\n",
      "3/3 [==============================] - 0s 17ms/step - loss: 0.2105 - accuracy: 0.9167 - val_loss: 0.0688 - val_accuracy: 1.0000\n",
      "Epoch 332/500\n",
      "3/3 [==============================] - 0s 19ms/step - loss: 0.1361 - accuracy: 0.9896 - val_loss: 0.0701 - val_accuracy: 0.9583\n",
      "Epoch 333/500\n",
      "3/3 [==============================] - 0s 18ms/step - loss: 0.1937 - accuracy: 0.9479 - val_loss: 0.0715 - val_accuracy: 0.9583\n",
      "Epoch 334/500\n",
      "3/3 [==============================] - 0s 21ms/step - loss: 0.1618 - accuracy: 0.9375 - val_loss: 0.0724 - val_accuracy: 0.9583\n",
      "Epoch 335/500\n",
      "3/3 [==============================] - 0s 19ms/step - loss: 0.1617 - accuracy: 0.9479 - val_loss: 0.0726 - val_accuracy: 0.9583\n",
      "Epoch 336/500\n",
      "3/3 [==============================] - 0s 21ms/step - loss: 0.1565 - accuracy: 0.9479 - val_loss: 0.0719 - val_accuracy: 0.9583\n",
      "Epoch 337/500\n",
      "3/3 [==============================] - 0s 20ms/step - loss: 0.1644 - accuracy: 0.9479 - val_loss: 0.0711 - val_accuracy: 0.9583\n",
      "Epoch 338/500\n",
      "3/3 [==============================] - 0s 23ms/step - loss: 0.2378 - accuracy: 0.9167 - val_loss: 0.0700 - val_accuracy: 0.9583\n"
     ]
    }
   ],
   "source": [
    "callback = EarlyStopping(monitor='val_loss', patience=10)\n",
    "\n",
    "iris_history = iris_model.fit(X_train_scaled, y_final, epochs=500, validation_split=0.2, callbacks=[callback])"
   ]
  },
  {
   "cell_type": "code",
   "execution_count": null,
   "id": "314b69e7-c6da-4d2c-b955-426f7bba7b6b",
   "metadata": {
    "colab": {
     "base_uri": "https://localhost:8080/",
     "height": 597
    },
    "collapsed": false,
    "id": "A-DuncWCPZo2",
    "outputId": "e1b42d86-b72e-411c-bb43-e0d9278e02c9"
   },
   "outputs": [
    {
     "data": {
      "text/plain": [
       "(<Figure size 1000x500 with 2 Axes>,\n",
       " array([<Axes: title={'center': 'Loss'}, xlabel='Epochs', ylabel='Loss'>,\n",
       "        <Axes: title={'center': 'Accuracy'}, xlabel='Epochs', ylabel='Accuracy'>],\n",
       "       dtype=object))"
      ]
     },
     "execution_count": 47,
     "metadata": {},
     "output_type": "execute_result"
    },
    {
     "data": {
      "image/png": "[encoded data removed]",
      "text/plain": [
       "<Figure size 1000x500 with 2 Axes>"
      ]
     },
     "metadata": {},
     "output_type": "display_data"
    }
   ],
   "source": [
    "plot_history(iris_history)"
   ]
  },
  {
   "cell_type": "markdown",
   "id": "0f8d20f1-a51b-4831-b8b6-958116022e2b",
   "metadata": {
    "collapsed": false,
    "id": "dEaPhtI_P2eA"
   },
   "source": [
    "### Teste"
   ]
  },
  {
   "cell_type": "markdown",
   "id": "21614480-fb29-4beb-ad5d-bccdfdd2d10d",
   "metadata": {
    "collapsed": false,
    "id": "2mHUXW-hxoHC"
   },
   "source": [
    "É possível avaliar a performance do modelo com o conjunto de teste usando o\n",
    "\n",
    "    Model.evaluate(\n",
    "      x=None,\n",
    "      y=None,\n",
    "      batch_size=None,\n",
    "      verbose=\"auto\",\n",
    "      sample_weight=None,\n",
    "      steps=None,\n",
    "      callbacks=None,\n",
    "      return_dict=False,\n",
    "      **kwargs\n",
    "    )\n",
    "\n",
    "que retorna o valor de perda e a métrica utilizada para o conjunto de teste.\n"
   ]
  },
  {
   "cell_type": "code",
   "execution_count": null,
   "id": "be327ac2-0444-491c-9e76-7595636b3e6d",
   "metadata": {
    "colab": {
     "base_uri": "https://localhost:8080/"
    },
    "collapsed": false,
    "id": "Jt_7pkqnXDFE",
    "outputId": "00c1dc0e-bf69-45e7-898d-773b10acce3e"
   },
   "outputs": [
    {
     "name": "stdout",
     "output_type": "stream",
     "text": [
      "1/1 [==============================] - 0s 37ms/step - loss: 0.1420 - accuracy: 0.9333\n"
     ]
    },
    {
     "data": {
      "text/plain": [
       "[0.14202646911144257, 0.9333333373069763]"
      ]
     },
     "execution_count": 48,
     "metadata": {},
     "output_type": "execute_result"
    }
   ],
   "source": [
    "iris_model.evaluate(X_test_scaled, y_real)"
   ]
  },
  {
   "cell_type": "markdown",
   "id": "e9400c52-0ae5-4c29-88e3-77030ddf0105",
   "metadata": {
    "collapsed": false,
    "id": "6c_tpllLyUEj"
   },
   "source": [
    "Caso seja necessário fazer uma avaliação mais detalhada com outras métricas ou visualizar a matriz de confusão é possível utilizar o\n",
    "\n",
    "    Model.predict(x, batch_size=None, verbose=\"auto\", steps=None, callbacks=None)\n",
    "que retorna valores a saída do *softmax* e que pode ser usado para determinar a classe prevista para cada amostra."
   ]
  },
  {
   "cell_type": "code",
   "execution_count": null,
   "id": "739f2ecd-b926-4b7e-afe6-29236fb08271",
   "metadata": {
    "colab": {
     "base_uri": "https://localhost:8080/"
    },
    "collapsed": false,
    "id": "UHomblAfP7V3",
    "outputId": "ec11b1ac-3639-4ea5-e3ac-1e0fefba5f80"
   },
   "outputs": [
    {
     "name": "stdout",
     "output_type": "stream",
     "text": [
      "1/1 [==============================] - 0s 91ms/step\n"
     ]
    }
   ],
   "source": [
    "y_pred = iris_model.predict(X_test_scaled)"
   ]
  },
  {
   "cell_type": "code",
   "execution_count": null,
   "id": "d0af898c-4661-4759-bc98-7c214ea37c57",
   "metadata": {
    "colab": {
     "base_uri": "https://localhost:8080/"
    },
    "collapsed": false,
    "id": "EXzPUfj62sJS",
    "outputId": "e748faca-e6de-4cce-f2e9-70dd3587ea09"
   },
   "outputs": [
    {
     "data": {
      "text/plain": [
       "array([[9.99978840e-01, 1.45837994e-05, 6.54142741e-06],\n",
       "       [9.99856234e-01, 1.13887640e-04, 3.00895135e-05],\n",
       "       [8.39297627e-06, 1.47956843e-02, 9.85195816e-01],\n",
       "       [9.99480069e-01, 4.49815532e-04, 7.00798482e-05],\n",
       "       [9.99950111e-01, 3.60266022e-05, 1.38760151e-05],\n",
       "       [5.87488117e-04, 9.09340829e-02, 9.08478439e-01],\n",
       "       [9.98592854e-01, 1.23909838e-03, 1.67980877e-04],\n",
       "       [7.51501966e-06, 1.48666631e-02, 9.85125661e-01],\n",
       "       [3.60739978e-06, 3.66814737e-03, 9.96328294e-01],\n",
       "       [9.99379337e-01, 5.23284369e-04, 9.74689974e-05],\n",
       "       [9.99982059e-01, 1.19901451e-05, 5.78940308e-06],\n",
       "       [9.99969423e-01, 2.18766399e-05, 8.54667996e-06],\n",
       "       [9.99829769e-01, 1.36976261e-04, 3.32230738e-05],\n",
       "       [9.99985516e-01, 9.37884306e-06, 5.05289017e-06],\n",
       "       [1.87057391e-01, 6.84354067e-01, 1.28588572e-01],\n",
       "       [6.67808950e-03, 7.47814655e-01, 2.45507166e-01],\n",
       "       [2.40206093e-01, 7.45938420e-01, 1.38555309e-02],\n",
       "       [3.15287486e-02, 9.08754408e-01, 5.97168058e-02],\n",
       "       [1.82121823e-06, 1.88230432e-03, 9.98115838e-01],\n",
       "       [6.67350879e-03, 9.33140218e-01, 6.01862259e-02],\n",
       "       [2.36027595e-03, 2.54081637e-01, 7.43558109e-01],\n",
       "       [3.20159271e-02, 9.03209448e-01, 6.47746623e-02],\n",
       "       [2.00384839e-05, 9.03783459e-03, 9.90942121e-01],\n",
       "       [1.32145425e-02, 9.19591308e-01, 6.71941563e-02],\n",
       "       [2.08274182e-03, 9.10097420e-01, 8.78198966e-02],\n",
       "       [9.99899864e-01, 7.65201985e-05, 2.35848001e-05],\n",
       "       [9.99928951e-01, 5.37596461e-05, 1.72355103e-05],\n",
       "       [1.29816018e-03, 1.64917842e-01, 8.33783984e-01],\n",
       "       [9.99983549e-01, 1.09738912e-05, 5.54184589e-06],\n",
       "       [1.41459750e-04, 2.38974076e-02, 9.75961089e-01]], dtype=float32)"
      ]
     },
     "execution_count": 50,
     "metadata": {},
     "output_type": "execute_result"
    }
   ],
   "source": [
    "y_pred"
   ]
  },
  {
   "cell_type": "markdown",
   "id": "a7a778d7-dc54-49e6-9924-8eb2b9dc6379",
   "metadata": {
    "collapsed": false,
    "id": "Vq1ej1FA-zMx"
   },
   "source": [
    "#### Matriz de confusão"
   ]
  },
  {
   "cell_type": "code",
   "execution_count": null,
   "id": "dd786cf0-6e33-469e-b0a8-88129c5b3362",
   "metadata": {
    "collapsed": false,
    "id": "FToTW-ew7Voy"
   },
   "outputs": [],
   "source": [
    "import numpy as np\n",
    "from sklearn.metrics import confusion_matrix, ConfusionMatrixDisplay"
   ]
  },
  {
   "cell_type": "code",
   "execution_count": null,
   "id": "f7197a4b-c547-4954-944f-edb0d2c8ffa6",
   "metadata": {
    "colab": {
     "base_uri": "https://localhost:8080/"
    },
    "collapsed": false,
    "id": "AZXhe6Hg8tZb",
    "outputId": "57289ac3-2898-4888-a0bf-d658ddae02d3"
   },
   "outputs": [
    {
     "data": {
      "text/plain": [
       "array([0, 0, 2, 0, 0, 2, 0, 2, 2, 0, 0, 0, 0, 0, 1, 1, 1, 1, 2, 1, 2, 1,\n",
       "       2, 1, 1, 0, 0, 2, 0, 2])"
      ]
     },
     "execution_count": 52,
     "metadata": {},
     "output_type": "execute_result"
    }
   ],
   "source": [
    "y = np.argmax(y_pred, axis=1)\n",
    "y"
   ]
  },
  {
   "cell_type": "code",
   "execution_count": null,
   "id": "c0b0ebf0-93c9-4044-9cf7-c4e40ddc77a4",
   "metadata": {
    "colab": {
     "base_uri": "https://localhost:8080/"
    },
    "collapsed": false,
    "id": "9fbkUkJD80qx",
    "outputId": "8980d4aa-707f-43f2-9421-f25c052a2abd"
   },
   "outputs": [
    {
     "data": {
      "text/plain": [
       "array([0, 0, 2, 0, 0, 2, 0, 2, 2, 0, 0, 0, 0, 0, 1, 1, 0, 1, 2, 1, 1, 1,\n",
       "       2, 1, 1, 0, 0, 2, 0, 2])"
      ]
     },
     "execution_count": 53,
     "metadata": {},
     "output_type": "execute_result"
    }
   ],
   "source": [
    "y_test"
   ]
  },
  {
   "cell_type": "code",
   "execution_count": null,
   "id": "ee9cdb31-705d-4d7d-86f7-09da589664af",
   "metadata": {
    "colab": {
     "base_uri": "https://localhost:8080/",
     "height": 449
    },
    "collapsed": false,
    "id": "-SRvZOai7usS",
    "outputId": "b31a7e01-5c9c-4bac-f8b9-9740420d9118"
   },
   "outputs": [
    {
     "data": {
      "image/png": "[encoded data removed]",
      "text/plain": [
       "<Figure size 640x480 with 2 Axes>"
      ]
     },
     "metadata": {},
     "output_type": "display_data"
    }
   ],
   "source": [
    "cm = confusion_matrix(y_test, y)\n",
    "disp = ConfusionMatrixDisplay(confusion_matrix=cm)\n",
    "disp.plot()\n",
    "plt.show()"
   ]
  },
  {
   "cell_type": "markdown",
   "id": "406f488a-fddc-4c1f-bd76-f687534ab03e",
   "metadata": {
    "collapsed": false,
    "id": "vIQRwMpb-3OK"
   },
   "source": [
    "#### Métricas"
   ]
  },
  {
   "cell_type": "code",
   "execution_count": null,
   "id": "a7c5027e-bfd0-4c0f-afd7-616b2d83aca9",
   "metadata": {
    "collapsed": false,
    "id": "EooYdoN5-5eG"
   },
   "outputs": [],
   "source": [
    "from sklearn.metrics import classification_report"
   ]
  },
  {
   "cell_type": "code",
   "execution_count": null,
   "id": "63f16511-ade6-4ae9-87a1-6848ba7545a9",
   "metadata": {
    "colab": {
     "base_uri": "https://localhost:8080/"
    },
    "collapsed": false,
    "id": "gdtVS_kd_OtD",
    "outputId": "b5fa083e-947d-4925-d2bd-90d95488af91"
   },
   "outputs": [
    {
     "data": {
      "text/plain": [
       "{'0': {'precision': 1.0,\n",
       "  'recall': 0.9285714285714286,\n",
       "  'f1-score': 0.962962962962963,\n",
       "  'support': 14},\n",
       " '1': {'precision': 0.875, 'recall': 0.875, 'f1-score': 0.875, 'support': 8},\n",
       " '2': {'precision': 0.8888888888888888,\n",
       "  'recall': 1.0,\n",
       "  'f1-score': 0.9411764705882353,\n",
       "  'support': 8},\n",
       " 'accuracy': 0.9333333333333333,\n",
       " 'macro avg': {'precision': 0.9212962962962963,\n",
       "  'recall': 0.9345238095238096,\n",
       "  'f1-score': 0.9263798111837328,\n",
       "  'support': 30},\n",
       " 'weighted avg': {'precision': 0.937037037037037,\n",
       "  'recall': 0.9333333333333333,\n",
       "  'f1-score': 0.9336964415395789,\n",
       "  'support': 30}}"
      ]
     },
     "execution_count": 56,
     "metadata": {},
     "output_type": "execute_result"
    }
   ],
   "source": [
    "cr = classification_report(y_test, y, output_dict=True)\n",
    "cr"
   ]
  }
 ],
 "metadata": {
  "colab": {
   "collapsed_sections": [
    "Wi3lJEAh2qy_",
    "R5o871Y_lbdy",
    "SAQb3ejbn3bV"
   ],
   "provenance": []
  },
  "kernelspec": {
   "argv": [
    "python",
    "-m",
    "ipykernel_launcher",
    "-f",
    "{connection_file}"
   ],
   "display_name": "Python 3 (ipykernel)",
   "env": null,
   "interrupt_mode": "signal",
   "language": "python",
   "metadata": {
    "debugger": true
   },
   "name": "python3"
  },
  "language_info": {
   "name": "python"
  },
  "name": "keras_intro.ipynb"
 },
 "nbformat": 4,
 "nbformat_minor": 0
}
