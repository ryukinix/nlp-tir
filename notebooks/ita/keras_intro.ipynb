{
 "cells": [
  {
   "cell_type": "markdown",
   "metadata": {
    "collapsed": false,
    "id": "kgOZpjzymiY_",
    "jupyter": {
     "outputs_hidden": false
    }
   },
   "source": [
    "Autor: Joniel Bastos Barreto (PhD Student)\n",
    "\n",
    "**Keras**: É uma API de rede neural de alto nível para treinamento de redes neurais. Pode ser executado em vários back-ends, como Tensorflow, Theano e CNTK.\n",
    "\n",
    "Referência: [https://keras.io/api](https://keras.io/api)"
   ]
  },
  {
   "cell_type": "markdown",
   "metadata": {
    "collapsed": false,
    "id": "Wi3lJEAh2qy_",
    "jupyter": {
     "outputs_hidden": false
    }
   },
   "source": [
    "## Introdução ao Keras"
   ]
  },
  {
   "cell_type": "markdown",
   "metadata": {
    "collapsed": false,
    "id": "6yMTdsnLr4hq",
    "jupyter": {
     "outputs_hidden": false
    }
   },
   "source": [
    "### Classe **Model**\n",
    "\n",
    "Classe para representar grupos de camadas da sua rede\n",
    "- Necessário especificar, ao menos, a entrada e a saı́da"
   ]
  },
  {
   "cell_type": "markdown",
   "metadata": {
    "collapsed": false,
    "id": "jhwA0W-c93-t",
    "jupyter": {
     "outputs_hidden": false
    }
   },
   "source": [
    "No Keras, definimos o tipo de neurônio e o padrão de conectividade por meio da classe **Layer**."
   ]
  },
  {
   "cell_type": "code",
   "execution_count": 1,
   "metadata": {
    "collapsed": false,
    "id": "ntZw13VZrvXk",
    "jupyter": {
     "outputs_hidden": false
    }
   },
   "outputs": [
    {
     "name": "stderr",
     "output_type": "stream",
     "text": [
      "2024-03-22 20:47:15.730200: I external/local_tsl/tsl/cuda/cudart_stub.cc:31] Could not find cuda drivers on your machine, GPU will not be used.\n",
      "2024-03-22 20:47:15.768626: E external/local_xla/xla/stream_executor/cuda/cuda_dnn.cc:9261] Unable to register cuDNN factory: Attempting to register factory for plugin cuDNN when one has already been registered\n",
      "2024-03-22 20:47:15.768654: E external/local_xla/xla/stream_executor/cuda/cuda_fft.cc:607] Unable to register cuFFT factory: Attempting to register factory for plugin cuFFT when one has already been registered\n",
      "2024-03-22 20:47:15.769906: E external/local_xla/xla/stream_executor/cuda/cuda_blas.cc:1515] Unable to register cuBLAS factory: Attempting to register factory for plugin cuBLAS when one has already been registered\n",
      "2024-03-22 20:47:15.776529: I external/local_tsl/tsl/cuda/cudart_stub.cc:31] Could not find cuda drivers on your machine, GPU will not be used.\n",
      "2024-03-22 20:47:15.776930: I tensorflow/core/platform/cpu_feature_guard.cc:182] This TensorFlow binary is optimized to use available CPU instructions in performance-critical operations.\n",
      "To enable the following instructions: AVX2 FMA, in other operations, rebuild TensorFlow with the appropriate compiler flags.\n",
      "2024-03-22 20:47:18.963312: W tensorflow/compiler/tf2tensorrt/utils/py_utils.cc:38] TF-TRT Warning: Could not find TensorRT\n"
     ]
    }
   ],
   "source": [
    "from keras.layers import Input, Dense"
   ]
  },
  {
   "cell_type": "markdown",
   "metadata": {
    "collapsed": false,
    "id": "cGg0R2EMxVPW",
    "jupyter": {
     "outputs_hidden": false
    }
   },
   "source": [
    "#### Exemplos de layers\n",
    "\n",
    "```python\n",
    "    Input(\n",
    "      shape=None,\n",
    "      batch_size=None,\n",
    "      type=None,\n",
    "      parse=None,\n",
    "      batch_shape=None,\n",
    "      name=None,\n",
    "      tensor=None\n",
    "    )\n",
    "\n",
    "    Dense(\n",
    "      units,\n",
    "      activation=None,\n",
    "      use_bias=True,\n",
    "      kernel_initializer=\"glorot_uniform\",\n",
    "      bias_initializer=\"zeros\",\n",
    "      kernel_regularizer=None,\n",
    "      bias_regularizer=None,\n",
    "      activity_regularizer=None,\n",
    "      kernel_constraint=None,\n",
    "      bias_constraint=None,\n",
    "      lora_rank=None,\n",
    "      **kwargs\n",
    "    )\n",
    "```\n"
   ]
  },
  {
   "cell_type": "code",
   "execution_count": 2,
   "metadata": {
    "collapsed": false,
    "id": "XuriR150vJuX",
    "jupyter": {
     "outputs_hidden": false
    }
   },
   "outputs": [],
   "source": [
    "# Camada de entrada\n",
    "inputs = Input(shape=(None, 4))\n",
    "# Próximas camadas são conectadas utilizando notação funcional\n",
    "hidden1 = Dense(10)(inputs)\n",
    "hidden2 = Dense(10)(hidden1)\n",
    "# Camada de saı́da\n",
    "output = Dense(3)(hidden2)"
   ]
  },
  {
   "cell_type": "markdown",
   "metadata": {
    "collapsed": false,
    "id": "vhNPzrWDzChH",
    "jupyter": {
     "outputs_hidden": false
    }
   },
   "source": [
    "#### Criar o modelo"
   ]
  },
  {
   "cell_type": "code",
   "execution_count": 3,
   "metadata": {
    "collapsed": false,
    "id": "J-ezw-jOtlcG",
    "jupyter": {
     "outputs_hidden": false
    }
   },
   "outputs": [],
   "source": [
    "from keras.models import Model"
   ]
  },
  {
   "cell_type": "code",
   "execution_count": 4,
   "metadata": {
    "collapsed": false,
    "id": "cLy_qbmow1PP",
    "jupyter": {
     "outputs_hidden": false
    }
   },
   "outputs": [],
   "source": [
    "# Modelo completo: entrada e saı́da como argumentos\n",
    "full_model = Model(inputs, output)\n",
    "# Partes da rede podem ser referenciadas\n",
    "# Útil para:\n",
    "# - redes do tipo \"encoder\"-\"decoder\"\n",
    "# - compartilhamento de pesos em redes mais complexas\n",
    "only_hidden = Model(hidden1, hidden2)"
   ]
  },
  {
   "cell_type": "markdown",
   "metadata": {
    "collapsed": false,
    "id": "uRoXhmCdc6ad",
    "jupyter": {
     "outputs_hidden": false
    }
   },
   "source": [
    "#### Função de ativação"
   ]
  },
  {
   "cell_type": "code",
   "execution_count": 5,
   "metadata": {
    "collapsed": false,
    "id": "xVNZEtc2du4p",
    "jupyter": {
     "outputs_hidden": false
    }
   },
   "outputs": [],
   "source": [
    "from keras import activations\n",
    "from keras.layers import Activation"
   ]
  },
  {
   "cell_type": "code",
   "execution_count": 6,
   "metadata": {
    "collapsed": false,
    "id": "f3LotlIKc87X",
    "jupyter": {
     "outputs_hidden": false
    }
   },
   "outputs": [],
   "source": [
    "hidden1 = Dense(10)(inputs)\n",
    "hidden1 = Activation(activations.relu)(hidden1)\n",
    "# ou\n",
    "hidden1 = Dense(10, activation = 'relu')\n",
    "# ou\n",
    "hidden1 = Dense(10, activation = activations.relu)"
   ]
  },
  {
   "cell_type": "markdown",
   "metadata": {
    "collapsed": false,
    "id": "Zl_HiInxc4Vk",
    "jupyter": {
     "outputs_hidden": false
    }
   },
   "source": [
    "#### Dropout"
   ]
  },
  {
   "cell_type": "code",
   "execution_count": 7,
   "metadata": {
    "collapsed": false,
    "id": "IFhaWfR7uX_v",
    "jupyter": {
     "outputs_hidden": false
    }
   },
   "outputs": [],
   "source": [
    "from keras.layers import Dropout"
   ]
  },
  {
   "cell_type": "markdown",
   "metadata": {
    "collapsed": false,
    "id": "cV4R9FG10m9f",
    "jupyter": {
     "outputs_hidden": false
    }
   },
   "source": [
    "    Dropout(\n",
    "      rate,\n",
    "      noise_shape=None,\n",
    "      seed=None,\n",
    "      **kwargs\n",
    "    )"
   ]
  },
  {
   "cell_type": "markdown",
   "metadata": {
    "collapsed": false,
    "id": "Z0s2a2sUf_fN",
    "jupyter": {
     "outputs_hidden": false
    }
   },
   "source": [
    "#### Usando uma subclasse para criar o modelo"
   ]
  },
  {
   "cell_type": "code",
   "execution_count": 8,
   "metadata": {
    "collapsed": false,
    "id": "127ycMyzzZEd",
    "jupyter": {
     "outputs_hidden": false
    }
   },
   "outputs": [],
   "source": [
    "class MyModel(Model):\n",
    "  def __init__(self):\n",
    "    super().__init__()\n",
    "    self.dense1 = Dense(10, activation = 'relu')\n",
    "    self.dense2 = Dense(10, activation = 'relu')\n",
    "    self.dense3 = Dense(3, activation = 'softmax')\n",
    "    self.dropout = Dropout(0.5)\n",
    "\n",
    "  # É possível utilizar o argumento \"training (booleano)\" para especificar algo apenas no treinamento\n",
    "  def call(self, inputs, training=False):\n",
    "    x = self.dense2(self.dense1(inputs))\n",
    "    if training:\n",
    "      x = self.dropout(x, training=training)\n",
    "    return self.dense3(x)\n",
    "\n",
    "model = MyModel()\n",
    "model.build(input_shape=(None, 4))"
   ]
  },
  {
   "cell_type": "code",
   "execution_count": 9,
   "metadata": {
    "colab": {
     "base_uri": "https://localhost:8080/"
    },
    "collapsed": false,
    "id": "iQRdcN7L543j",
    "jupyter": {
     "outputs_hidden": false
    },
    "outputId": "d7f2315a-30b2-43db-fc0a-04e7e35a9e3e"
   },
   "outputs": [
    {
     "name": "stdout",
     "output_type": "stream",
     "text": [
      "Model: \"my_model\"\n",
      "_________________________________________________________________\n",
      " Layer (type)                Output Shape              Param #   \n",
      "=================================================================\n",
      " dense_6 (Dense)             multiple                  50        \n",
      "                                                                 \n",
      " dense_7 (Dense)             multiple                  110       \n",
      "                                                                 \n",
      " dense_8 (Dense)             multiple                  33        \n",
      "                                                                 \n",
      " dropout (Dropout)           multiple                  0 (unused)\n",
      "                                                                 \n",
      "=================================================================\n",
      "Total params: 193 (772.00 Byte)\n",
      "Trainable params: 193 (772.00 Byte)\n",
      "Non-trainable params: 0 (0.00 Byte)\n",
      "_________________________________________________________________\n"
     ]
    }
   ],
   "source": [
    "# Resumo do modelo\n",
    "model.summary()"
   ]
  },
  {
   "cell_type": "markdown",
   "metadata": {
    "collapsed": false,
    "id": "BaNt7kae5fJO",
    "jupyter": {
     "outputs_hidden": false
    }
   },
   "source": [
    "### Classe **Sequential**\n",
    "Grupo de layers organizadas sequencialmente.\n",
    "- Resultado é um objeto que herda do tipo Model\n",
    "- Método **add** é chamado sequencialmente para construir o modelo"
   ]
  },
  {
   "cell_type": "code",
   "execution_count": 10,
   "metadata": {
    "collapsed": false,
    "id": "t_LPnoAP5U2D",
    "jupyter": {
     "outputs_hidden": false
    }
   },
   "outputs": [],
   "source": [
    "from keras.models import Sequential"
   ]
  },
  {
   "cell_type": "code",
   "execution_count": 11,
   "metadata": {
    "collapsed": false,
    "id": "koOhtDkn01d3",
    "jupyter": {
     "outputs_hidden": false
    }
   },
   "outputs": [],
   "source": [
    "model = Sequential()\n",
    "# Adiciona as camadas sequencialmente\n",
    "model.add(Dense(10))\n",
    "model.add(Dense(10))\n",
    "# Constrói o modelo indicando a entrada\n",
    "model.build((None, 4))"
   ]
  },
  {
   "cell_type": "code",
   "execution_count": 12,
   "metadata": {
    "collapsed": false,
    "id": "xTEASaXv1Bjq",
    "jupyter": {
     "outputs_hidden": false
    }
   },
   "outputs": [],
   "source": [
    "# O modelo éconstruı́do continuamente se indicado o formato da entrada\n",
    "model = Sequential()\n",
    "model.add(Dense(10, input_shape=(None, 4)))\n",
    "model.add(Dense(10))\n",
    "# ou\n",
    "model = Sequential()\n",
    "model.add(Input(shape=(4)))\n",
    "model.add(Dense(10))\n",
    "model.add(Dense(10))"
   ]
  },
  {
   "cell_type": "code",
   "execution_count": 13,
   "metadata": {
    "colab": {
     "base_uri": "https://localhost:8080/"
    },
    "collapsed": false,
    "id": "ypYgVFoP8yMc",
    "jupyter": {
     "outputs_hidden": false
    },
    "outputId": "152596e6-f142-495f-aa57-94b481617f31"
   },
   "outputs": [
    {
     "name": "stdout",
     "output_type": "stream",
     "text": [
      "Model: \"sequential_2\"\n",
      "_________________________________________________________________\n",
      " Layer (type)                Output Shape              Param #   \n",
      "=================================================================\n",
      " dense_13 (Dense)            (None, 10)                50        \n",
      "                                                                 \n",
      " dense_14 (Dense)            (None, 10)                110       \n",
      "                                                                 \n",
      "=================================================================\n",
      "Total params: 160 (640.00 Byte)\n",
      "Trainable params: 160 (640.00 Byte)\n",
      "Non-trainable params: 0 (0.00 Byte)\n",
      "_________________________________________________________________\n"
     ]
    }
   ],
   "source": [
    "model.summary()"
   ]
  },
  {
   "cell_type": "markdown",
   "metadata": {
    "collapsed": false,
    "id": "4-aoKuaY6HaS",
    "jupyter": {
     "outputs_hidden": false
    }
   },
   "source": [
    "#### Visualizar o modelo"
   ]
  },
  {
   "cell_type": "code",
   "execution_count": 14,
   "metadata": {
    "collapsed": false,
    "id": "1QGx-NSz6KqZ",
    "jupyter": {
     "outputs_hidden": false
    }
   },
   "outputs": [],
   "source": [
    "from keras.utils import plot_model"
   ]
  },
  {
   "cell_type": "code",
   "execution_count": 15,
   "metadata": {
    "colab": {
     "base_uri": "https://localhost:8080/",
     "height": 312
    },
    "collapsed": false,
    "id": "o0AA2oQd6MZF",
    "jupyter": {
     "outputs_hidden": false
    },
    "outputId": "eeefe875-659b-46fb-b148-c9c9b249786d"
   },
   "outputs": [
    {
     "data": {
      "image/png": "[encoded data removed]",
      "text/plain": [
       "<IPython.core.display.Image object>"
      ]
     },
     "execution_count": 15,
     "metadata": {},
     "output_type": "execute_result"
    }
   ],
   "source": [
    "plot_model(model, show_shapes=True)"
   ]
  },
  {
   "cell_type": "markdown",
   "metadata": {
    "collapsed": false,
    "id": "LDwW2zqEX5l8",
    "jupyter": {
     "outputs_hidden": false
    }
   },
   "source": [
    "Existem outros tipos de camadas de rede neural que podem ser construídas com o Keras, tais como:\n",
    "- Localmente Conectadas\n",
    "- Convolução\n",
    "- Pooling\n",
    "- Recorrentes\n",
    "- Padronização\n",
    "- entre outros.\n",
    "\n",
    "Mais informações: https://keras.io/api/layers/"
   ]
  },
  {
   "cell_type": "markdown",
   "metadata": {
    "collapsed": false,
    "id": "j_y9f3zphtXl",
    "jupyter": {
     "outputs_hidden": false
    }
   },
   "source": [
    "### Inicialização dos pesos\n",
    "https://keras.io/api/layers/initializers/"
   ]
  },
  {
   "cell_type": "markdown",
   "metadata": {
    "collapsed": false,
    "id": "LQkQbv9woAoj",
    "jupyter": {
     "outputs_hidden": false
    }
   },
   "source": [
    "- Normalmente distribuı́dos\n",
    "  - RandomNormal\n",
    "- Uniformemente distribuı́dos\n",
    "  - RandomUniform\n",
    "- Valores fixos\n",
    "  - Zeros\n",
    "  - Ones\n",
    "  - Constant"
   ]
  },
  {
   "cell_type": "code",
   "execution_count": 16,
   "metadata": {
    "collapsed": false,
    "id": "nK7UxlcPhsmp",
    "jupyter": {
     "outputs_hidden": false
    }
   },
   "outputs": [],
   "source": [
    "from keras import initializers"
   ]
  },
  {
   "cell_type": "code",
   "execution_count": 17,
   "metadata": {
    "collapsed": false,
    "id": "GER8BRvmiQlf",
    "jupyter": {
     "outputs_hidden": false
    }
   },
   "outputs": [],
   "source": [
    "layer = Dense(\n",
    "    units = 10,\n",
    "    kernel_initializer = initializers.RandomNormal(stddev=0.01),\n",
    "    bias_initializer = initializers.Zeros()\n",
    ")"
   ]
  },
  {
   "cell_type": "markdown",
   "metadata": {
    "collapsed": false,
    "id": "KbW2lYJoir_C",
    "jupyter": {
     "outputs_hidden": false
    }
   },
   "source": [
    "### Treinamento\n"
   ]
  },
  {
   "cell_type": "markdown",
   "metadata": {
    "collapsed": false,
    "id": "kis9wYl0rsd0",
    "jupyter": {
     "outputs_hidden": false
    }
   },
   "source": [
    "    Model.fit(\n",
    "        x=None,\n",
    "        y=None,\n",
    "        batch_size=None,\n",
    "        epochs=1,\n",
    "        verbose=\"auto\",\n",
    "        callbacks=None,\n",
    "        validation_split=0.0,\n",
    "        validation_data=None,\n",
    "        shuffle=True,\n",
    "        class_weight=None,\n",
    "        sample_weight=None,\n",
    "        initial_epoch=0,\n",
    "        steps_per_epoch=None,\n",
    "        validation_steps=None,\n",
    "        validation_batch_size=None,\n",
    "        validation_freq=1,\n",
    "    )"
   ]
  },
  {
   "cell_type": "markdown",
   "metadata": {
    "collapsed": false,
    "id": "q1HwTbMAzGX9",
    "jupyter": {
     "outputs_hidden": false
    }
   },
   "source": [
    "Para utilizar amostras do dataset para validação do treinamento:\n",
    "- `model.fit(validation_data=X_validacao)`, caso o conjunto de dados esteja dividido em:\n",
    "  - X_treino\n",
    "  - X_validacao\n",
    "  - X_teste\n",
    "- `model.fit(validation_split=0.3, shuffle=True)`, caso o conjunto de dados esteja dividido em:\n",
    "  - X_treino\n",
    "  - X_teste"
   ]
  },
  {
   "cell_type": "markdown",
   "metadata": {
    "collapsed": false,
    "id": "FnfB4VzeqWON",
    "jupyter": {
     "outputs_hidden": false
    }
   },
   "source": [
    "O que devemos projetar quanto ao treinamento?\n",
    "- Escolha da função de perda\n",
    "- Escolha do método de otimização\n",
    "- Escolha do critério de parada\n",
    "- Cuidados quanto à generalização: técnicas regularização"
   ]
  },
  {
   "cell_type": "markdown",
   "metadata": {
    "collapsed": false,
    "id": "GhYF4Ag3kjUX",
    "jupyter": {
     "outputs_hidden": false
    }
   },
   "source": [
    "#### Funções de perda\n",
    "https://keras.io/api/losses/"
   ]
  },
  {
   "cell_type": "markdown",
   "metadata": {
    "collapsed": false,
    "id": "20yyB6QWkF5m",
    "jupyter": {
     "outputs_hidden": false
    }
   },
   "source": [
    "Funções de perda probabilı́sticas\n",
    "- Binary Cross-Entropy\n",
    "- Categorical Cross-Entropy\n",
    "- Divergência de Kullback-Leibler\n",
    "\n",
    "Funções de perda para erro de regressão\n",
    "- Erro quadrático médio\n",
    "- Erro percentual médio\n",
    "- Erro absoluto médio\n",
    "- Erro logarı́tmico médio"
   ]
  },
  {
   "cell_type": "code",
   "execution_count": 18,
   "metadata": {
    "collapsed": false,
    "id": "YPpT6W4OmnIf",
    "jupyter": {
     "outputs_hidden": false
    }
   },
   "outputs": [],
   "source": [
    "from keras.losses import BinaryCrossentropy"
   ]
  },
  {
   "cell_type": "code",
   "execution_count": 19,
   "metadata": {
    "collapsed": false,
    "id": "KuBt2AYHmry5",
    "jupyter": {
     "outputs_hidden": false
    }
   },
   "outputs": [],
   "source": [
    "loss = BinaryCrossentropy(\n",
    "    from_logits=False,\n",
    "    label_smoothing=0.0,\n",
    "    axis=-1,\n",
    "    reduction=\"sum_over_batch_size\",\n",
    "    name=\"binary_crossentropy\",\n",
    ")"
   ]
  },
  {
   "cell_type": "markdown",
   "metadata": {
    "collapsed": false,
    "id": "crI7vLLskmSR",
    "jupyter": {
     "outputs_hidden": false
    }
   },
   "source": [
    "#### Métodos de otimização\n",
    "https://keras.io/api/optimizers/"
   ]
  },
  {
   "cell_type": "markdown",
   "metadata": {
    "collapsed": false,
    "id": "QrEvIrQgktAc",
    "jupyter": {
     "outputs_hidden": false
    }
   },
   "source": [
    "- Stochastic Gradient Descent (SGD)\n",
    "- RMSprop\n",
    "- Adam\n"
   ]
  },
  {
   "cell_type": "code",
   "execution_count": 20,
   "metadata": {
    "collapsed": false,
    "id": "8nZh8tqYlSvs",
    "jupyter": {
     "outputs_hidden": false
    }
   },
   "outputs": [],
   "source": [
    "from keras.optimizers import SGD"
   ]
  },
  {
   "cell_type": "markdown",
   "metadata": {
    "collapsed": false,
    "id": "7F3U1Cnnk5hI",
    "jupyter": {
     "outputs_hidden": false
    }
   },
   "source": [
    "#### Taxa de aprendizado variável"
   ]
  },
  {
   "cell_type": "markdown",
   "metadata": {
    "collapsed": false,
    "id": "6n1PS1ABk-h2",
    "jupyter": {
     "outputs_hidden": false
    }
   },
   "source": [
    "- Decaimento exponencial\n",
    "- Decaimento constante\n",
    "- Decaimento polinomial\n",
    "- Entre outros"
   ]
  },
  {
   "cell_type": "code",
   "execution_count": 21,
   "metadata": {
    "collapsed": false,
    "id": "zqbIqwWul8NV",
    "jupyter": {
     "outputs_hidden": false
    }
   },
   "outputs": [],
   "source": [
    "from keras.optimizers.schedules import ExponentialDecay"
   ]
  },
  {
   "cell_type": "code",
   "execution_count": 22,
   "metadata": {
    "collapsed": false,
    "id": "bCvX8KzciveQ",
    "jupyter": {
     "outputs_hidden": false
    }
   },
   "outputs": [],
   "source": [
    "lr_schedule = ExponentialDecay(\n",
    "  initial_learning_rate = 1e-2,\n",
    "  decay_steps = 10000,\n",
    "  decay_rate = 0.9\n",
    "  )"
   ]
  },
  {
   "cell_type": "code",
   "execution_count": 23,
   "metadata": {
    "collapsed": false,
    "id": "zS6BZZNbmMa6",
    "jupyter": {
     "outputs_hidden": false
    }
   },
   "outputs": [],
   "source": [
    "optimizer = SGD(learning_rate=lr_schedule)"
   ]
  },
  {
   "cell_type": "markdown",
   "metadata": {
    "collapsed": false,
    "id": "xlgl5NU8naid",
    "jupyter": {
     "outputs_hidden": false
    }
   },
   "source": [
    "#### Critério de parada e métricas de desempenho\n",
    "https://keras.io/api/metrics/\n",
    "\n",
    "- Determinado número de épocas: `model.fit(epochs=100)`\n",
    "- Baseado numa heurı́stica (evitando sub e sobre-ajuste)"
   ]
  },
  {
   "cell_type": "code",
   "execution_count": 24,
   "metadata": {
    "collapsed": false,
    "id": "O_RiOlVingRR",
    "jupyter": {
     "outputs_hidden": false
    }
   },
   "outputs": [],
   "source": [
    "# AUC (área sob a curva) das curvas ROC (VP vs FP) ou PR (Precisão vs Revocação).\n",
    "from keras.metrics import AUC"
   ]
  },
  {
   "cell_type": "code",
   "execution_count": 25,
   "metadata": {
    "collapsed": false,
    "id": "Dd_uhAA5u1gP",
    "jupyter": {
     "outputs_hidden": false
    }
   },
   "outputs": [],
   "source": [
    "metric = AUC(\n",
    "    num_thresholds=200,\n",
    "    curve=\"ROC\",\n",
    "    summation_method=\"interpolation\",\n",
    "    name=None,\n",
    "    dtype=None,\n",
    "    thresholds=None,\n",
    "    multi_label=False,\n",
    "    num_labels=None,\n",
    "    label_weights=None,\n",
    "    from_logits=False,\n",
    ")"
   ]
  },
  {
   "cell_type": "markdown",
   "metadata": {
    "collapsed": false,
    "id": "C9edAm7zqjOO",
    "jupyter": {
     "outputs_hidden": false
    }
   },
   "source": [
    "#### Método **compile**\n",
    "Configura o modelo para treinamento"
   ]
  },
  {
   "cell_type": "code",
   "execution_count": 26,
   "metadata": {
    "collapsed": false,
    "id": "oE_w7vjpqnSE",
    "jupyter": {
     "outputs_hidden": false
    }
   },
   "outputs": [],
   "source": [
    "model.compile(\n",
    "  optimizer = 'Adam',\n",
    "  loss = 'mean_squared_error',\n",
    "  metrics = ['MeanSquaredError', 'MeanAbsoluteError']\n",
    "  )"
   ]
  },
  {
   "cell_type": "markdown",
   "metadata": {
    "collapsed": false,
    "id": "4iYZ4YJExWTw",
    "jupyter": {
     "outputs_hidden": false
    }
   },
   "source": [
    "#### Early Stopping\n",
    "Interromper treinamento se a métrica parar de melhorar\n",
    "- Pode ser utilizado a própria função de perda no conjunto de validação, quanto\n",
    "qualquer outra métrica\n",
    "- É necessário especificar um valor mı́nimo considerado da mudança e paciência do\n",
    "método"
   ]
  },
  {
   "cell_type": "code",
   "execution_count": 27,
   "metadata": {
    "collapsed": false,
    "id": "czce9vwmxp0V",
    "jupyter": {
     "outputs_hidden": false
    }
   },
   "outputs": [],
   "source": [
    "from keras.callbacks import EarlyStopping"
   ]
  },
  {
   "cell_type": "code",
   "execution_count": 28,
   "metadata": {
    "collapsed": false,
    "id": "G7qhsfPo0Y_G",
    "jupyter": {
     "outputs_hidden": false
    }
   },
   "outputs": [],
   "source": [
    "callback = EarlyStopping(monitor='val_loss', patience=10)"
   ]
  },
  {
   "cell_type": "markdown",
   "metadata": {
    "collapsed": false,
    "id": "g-0PCYEx1o_v",
    "jupyter": {
     "outputs_hidden": false
    }
   },
   "source": [
    "#### Visualizar o treinamento"
   ]
  },
  {
   "cell_type": "code",
   "execution_count": 29,
   "metadata": {
    "collapsed": false,
    "id": "q-F4i9tn6jw9",
    "jupyter": {
     "outputs_hidden": false
    }
   },
   "outputs": [],
   "source": [
    "from plot_keras_history import plot_history"
   ]
  },
  {
   "cell_type": "markdown",
   "metadata": {
    "collapsed": false,
    "id": "t0ooCrEx8sBd",
    "jupyter": {
     "outputs_hidden": false
    }
   },
   "source": [
    "`plot_history(history)` utiliza o argumento **history** de `history = model.fit(...)`"
   ]
  },
  {
   "cell_type": "markdown",
   "metadata": {
    "collapsed": false,
    "id": "6aH7--YM-FRL",
    "jupyter": {
     "outputs_hidden": false
    }
   },
   "source": [
    "### Teste"
   ]
  },
  {
   "cell_type": "markdown",
   "metadata": {
    "collapsed": false,
    "id": "0xxvlOO--R9l",
    "jupyter": {
     "outputs_hidden": false
    }
   },
   "source": [
    "    Model.predict(x, batch_size=None, verbose=\"auto\", steps=None, callbacks=None)"
   ]
  },
  {
   "cell_type": "markdown",
   "metadata": {
    "collapsed": false,
    "id": "BcrkdDKe2eop",
    "jupyter": {
     "outputs_hidden": false
    }
   },
   "source": [
    "## Exemplo de classificação com Keras usando o dataset Iris"
   ]
  },
  {
   "cell_type": "markdown",
   "metadata": {
    "collapsed": false,
    "id": "R5o871Y_lbdy",
    "jupyter": {
     "outputs_hidden": false
    }
   },
   "source": [
    "### Carregar o dataset Iris"
   ]
  },
  {
   "cell_type": "code",
   "execution_count": 30,
   "metadata": {
    "collapsed": false,
    "id": "qUdI8WoQljX1",
    "jupyter": {
     "outputs_hidden": false
    }
   },
   "outputs": [],
   "source": [
    "from sklearn import datasets\n",
    "\n",
    "iris = datasets.load_iris()"
   ]
  },
  {
   "cell_type": "code",
   "execution_count": 31,
   "metadata": {
    "colab": {
     "base_uri": "https://localhost:8080/"
    },
    "collapsed": false,
    "id": "wLbaEC3X5JUz",
    "jupyter": {
     "outputs_hidden": false
    },
    "outputId": "147422ae-3b45-447d-96a1-ada28a94b47e"
   },
   "outputs": [
    {
     "data": {
      "text/plain": [
       "(150, 4)"
      ]
     },
     "execution_count": 31,
     "metadata": {},
     "output_type": "execute_result"
    }
   ],
   "source": [
    "iris.data.shape"
   ]
  },
  {
   "cell_type": "markdown",
   "metadata": {
    "collapsed": false,
    "id": "SAQb3ejbn3bV",
    "jupyter": {
     "outputs_hidden": false
    }
   },
   "source": [
    "### Visualizar o conjunto de dados"
   ]
  },
  {
   "cell_type": "code",
   "execution_count": 32,
   "metadata": {
    "collapsed": false,
    "id": "rrQ0WS0Gn6_9",
    "jupyter": {
     "outputs_hidden": false
    }
   },
   "outputs": [],
   "source": [
    "import matplotlib.pyplot as plt"
   ]
  },
  {
   "cell_type": "code",
   "execution_count": 33,
   "metadata": {
    "colab": {
     "base_uri": "https://localhost:8080/",
     "height": 452
    },
    "collapsed": false,
    "id": "_4Pp1bTGoD7I",
    "jupyter": {
     "outputs_hidden": false
    },
    "outputId": "3e1100f3-85fc-4139-859f-01d28c8c50e8"
   },
   "outputs": [
    {
     "data": {
      "image/png": "[encoded data removed]",
      "text/plain": [
       "<Figure size 640x480 with 1 Axes>"
      ]
     },
     "metadata": {},
     "output_type": "display_data"
    }
   ],
   "source": [
    "# O dataset Iris possui 4 atributos, então para uma visualização 2D podemos escolher 2 deles\n",
    "_, ax   = plt.subplots()\n",
    "scatter = ax.scatter(iris.data[:, 0], iris.data[:, 1], c=iris.target)\n",
    "ax.set(xlabel=iris.feature_names[0], ylabel=iris.feature_names[1])\n",
    "_ = ax.legend(scatter.legend_elements()[0], iris.target_names, loc=\"lower right\", title=\"Classes\")"
   ]
  },
  {
   "cell_type": "markdown",
   "metadata": {
    "collapsed": false,
    "id": "HsayAe3jARMJ",
    "jupyter": {
     "outputs_hidden": false
    }
   },
   "source": [
    "### Divisão do conjunto em treino/teste e normalização dos conjuntos"
   ]
  },
  {
   "cell_type": "code",
   "execution_count": 34,
   "metadata": {
    "collapsed": false,
    "id": "0E--PkFMA93x",
    "jupyter": {
     "outputs_hidden": false
    }
   },
   "outputs": [],
   "source": [
    "from sklearn.model_selection import train_test_split\n",
    "from sklearn.preprocessing import StandardScaler\n",
    "from keras.utils import to_categorical"
   ]
  },
  {
   "cell_type": "code",
   "execution_count": 35,
   "metadata": {
    "collapsed": false,
    "id": "0Mm4NBqqC6qP",
    "jupyter": {
     "outputs_hidden": false
    }
   },
   "outputs": [],
   "source": [
    "X_train, X_test, y_train, y_test = train_test_split(iris.data, iris.target, test_size=0.2, random_state=2)"
   ]
  },
  {
   "cell_type": "code",
   "execution_count": 36,
   "metadata": {
    "collapsed": false,
    "id": "w9rBTEivGd_u",
    "jupyter": {
     "outputs_hidden": false
    }
   },
   "outputs": [],
   "source": [
    "scale = StandardScaler()\n",
    "# Aprende a média e o desvio padrão a partir do conjunto de treinamento e o normaliza\n",
    "X_train_scaled = scale.fit_transform(X_train)\n",
    "# Normaliza o conjunto de teste a partir da média e desvio padrão do conjunto de treinamento\n",
    "X_test_scaled  = scale.transform(X_test)"
   ]
  },
  {
   "cell_type": "code",
   "execution_count": 37,
   "metadata": {
    "collapsed": false,
    "id": "cWJdeFZOMb__",
    "jupyter": {
     "outputs_hidden": false
    }
   },
   "outputs": [],
   "source": [
    "# Keras exige que a saída tenha valores codificados one-hot\n",
    "y_final = to_categorical(y_train)\n",
    "y_real  = to_categorical(y_test)"
   ]
  },
  {
   "cell_type": "code",
   "execution_count": 38,
   "metadata": {
    "colab": {
     "base_uri": "https://localhost:8080/"
    },
    "collapsed": false,
    "id": "pIjqQ058Dfjm",
    "jupyter": {
     "outputs_hidden": false
    },
    "outputId": "ce8336cd-d79a-4790-f45b-858aa1db536f"
   },
   "outputs": [
    {
     "name": "stdout",
     "output_type": "stream",
     "text": [
      "(120, 4)\n",
      "(120, 3)\n",
      "(30, 4)\n",
      "(30, 3)\n"
     ]
    }
   ],
   "source": [
    "print(X_train_scaled.shape)\n",
    "print(y_final.shape)\n",
    "print(X_test_scaled.shape)\n",
    "print(y_real.shape)"
   ]
  },
  {
   "cell_type": "markdown",
   "metadata": {
    "collapsed": false,
    "id": "iCVjA8t3D1_V",
    "jupyter": {
     "outputs_hidden": false
    }
   },
   "source": [
    "### Treinamento"
   ]
  },
  {
   "cell_type": "code",
   "execution_count": 39,
   "metadata": {
    "collapsed": false,
    "id": "h-KIfvLMD3sF",
    "jupyter": {
     "outputs_hidden": false
    }
   },
   "outputs": [],
   "source": [
    "def create_model():\n",
    "    model = Sequential()\n",
    "    model.add(Dense(10, input_dim = 4, activation = 'relu'))\n",
    "    model.add(Dense(10, activation = 'relu'))\n",
    "    model.add(Dropout(0.3))\n",
    "\n",
    "    model.add(Dense(3, activation = 'softmax'))\n",
    "\n",
    "    model.compile(optimizer='adam', loss='categorical_crossentropy', metrics=['accuracy'])\n",
    "\n",
    "    return model\n",
    "\n",
    "iris_model = create_model()"
   ]
  },
  {
   "cell_type": "code",
   "execution_count": 40,
   "metadata": {
    "colab": {
     "base_uri": "https://localhost:8080/"
    },
    "collapsed": false,
    "id": "vl0jbfP9Jgn6",
    "jupyter": {
     "outputs_hidden": false
    },
    "outputId": "6eab805b-e882-4687-a970-ee1c1f063cb7"
   },
   "outputs": [
    {
     "name": "stdout",
     "output_type": "stream",
     "text": [
      "Model: \"sequential_3\"\n",
      "_________________________________________________________________\n",
      " Layer (type)                Output Shape              Param #   \n",
      "=================================================================\n",
      " dense_16 (Dense)            (None, 10)                50        \n",
      "                                                                 \n",
      " dense_17 (Dense)            (None, 10)                110       \n",
      "                                                                 \n",
      " dropout_1 (Dropout)         (None, 10)                0         \n",
      "                                                                 \n",
      " dense_18 (Dense)            (None, 3)                 33        \n",
      "                                                                 \n",
      "=================================================================\n",
      "Total params: 193 (772.00 Byte)\n",
      "Trainable params: 193 (772.00 Byte)\n",
      "Non-trainable params: 0 (0.00 Byte)\n",
      "_________________________________________________________________\n"
     ]
    }
   ],
   "source": [
    "iris_model.summary()"
   ]
  },
  {
   "cell_type": "code",
   "execution_count": 41,
   "metadata": {
    "colab": {
     "base_uri": "https://localhost:8080/",
     "height": 533
    },
    "collapsed": false,
    "id": "3GRmmXUDJuqQ",
    "jupyter": {
     "outputs_hidden": false
    },
    "outputId": "ab324e64-f693-4424-e9ef-9b9f463d224d"
   },
   "outputs": [
    {
     "data": {
      "image/png": "[encoded data removed]",
      "text/plain": [
       "<IPython.core.display.Image object>"
      ]
     },
     "execution_count": 41,
     "metadata": {},
     "output_type": "execute_result"
    }
   ],
   "source": [
    "plot_model(iris_model, show_shapes=True)"
   ]
  },
  {
   "cell_type": "code",
   "execution_count": 42,
   "metadata": {
    "colab": {
     "base_uri": "https://localhost:8080/"
    },
    "collapsed": false,
    "id": "xusOZDMwJ3aI",
    "jupyter": {
     "outputs_hidden": false
    },
    "outputId": "611a3dde-ac50-4cc3-b434-9c12b301e7a9"
   },
   "outputs": [
    {
     "name": "stdout",
     "output_type": "stream",
     "text": [
      "Epoch 1/500\n",
      "3/3 [==============================] - 1s 90ms/step - loss: 1.3656 - accuracy: 0.2917 - val_loss: 1.2386 - val_accuracy: 0.2083\n",
      "Epoch 2/500\n",
      "3/3 [==============================] - 0s 14ms/step - loss: 1.2897 - accuracy: 0.3125 - val_loss: 1.2121 - val_accuracy: 0.2917\n",
      "Epoch 3/500\n",
      "3/3 [==============================] - 0s 16ms/step - loss: 1.2765 - accuracy: 0.3646 - val_loss: 1.1863 - val_accuracy: 0.3750\n",
      "Epoch 4/500\n",
      "3/3 [==============================] - 0s 15ms/step - loss: 1.2866 - accuracy: 0.3750 - val_loss: 1.1599 - val_accuracy: 0.5000\n",
      "Epoch 5/500\n",
      "3/3 [==============================] - 0s 16ms/step - loss: 1.2245 - accuracy: 0.5000 - val_loss: 1.1342 - val_accuracy: 0.5000\n",
      "Epoch 6/500\n",
      "3/3 [==============================] - 0s 16ms/step - loss: 1.2027 - accuracy: 0.4375 - val_loss: 1.1093 - val_accuracy: 0.5000\n",
      "Epoch 7/500\n",
      "3/3 [==============================] - 0s 13ms/step - loss: 1.1882 - accuracy: 0.4896 - val_loss: 1.0839 - val_accuracy: 0.5000\n",
      "Epoch 8/500\n",
      "3/3 [==============================] - 0s 13ms/step - loss: 1.1791 - accuracy: 0.4479 - val_loss: 1.0590 - val_accuracy: 0.5417\n",
      "Epoch 9/500\n",
      "3/3 [==============================] - 0s 12ms/step - loss: 1.1737 - accuracy: 0.4688 - val_loss: 1.0348 - val_accuracy: 0.5833\n",
      "Epoch 10/500\n",
      "3/3 [==============================] - 0s 12ms/step - loss: 1.1472 - accuracy: 0.4167 - val_loss: 1.0108 - val_accuracy: 0.5833\n",
      "Epoch 11/500\n",
      "3/3 [==============================] - 0s 13ms/step - loss: 1.1226 - accuracy: 0.4479 - val_loss: 0.9876 - val_accuracy: 0.5833\n",
      "Epoch 12/500\n",
      "3/3 [==============================] - 0s 12ms/step - loss: 1.0884 - accuracy: 0.4375 - val_loss: 0.9653 - val_accuracy: 0.5833\n",
      "Epoch 13/500\n",
      "3/3 [==============================] - 0s 14ms/step - loss: 1.0911 - accuracy: 0.4688 - val_loss: 0.9440 - val_accuracy: 0.6667\n",
      "Epoch 14/500\n",
      "3/3 [==============================] - 0s 14ms/step - loss: 1.0718 - accuracy: 0.5208 - val_loss: 0.9236 - val_accuracy: 0.6667\n",
      "Epoch 15/500\n",
      "3/3 [==============================] - 0s 14ms/step - loss: 1.0476 - accuracy: 0.5312 - val_loss: 0.9038 - val_accuracy: 0.6667\n",
      "Epoch 16/500\n",
      "3/3 [==============================] - 0s 13ms/step - loss: 1.0203 - accuracy: 0.5312 - val_loss: 0.8844 - val_accuracy: 0.6250\n",
      "Epoch 17/500\n",
      "3/3 [==============================] - 0s 13ms/step - loss: 1.0154 - accuracy: 0.5417 - val_loss: 0.8660 - val_accuracy: 0.6250\n",
      "Epoch 18/500\n",
      "3/3 [==============================] - 0s 20ms/step - loss: 0.9604 - accuracy: 0.5833 - val_loss: 0.8484 - val_accuracy: 0.6250\n",
      "Epoch 19/500\n",
      "3/3 [==============================] - 0s 22ms/step - loss: 0.9829 - accuracy: 0.5521 - val_loss: 0.8315 - val_accuracy: 0.6250\n",
      "Epoch 20/500\n",
      "3/3 [==============================] - 0s 18ms/step - loss: 0.9531 - accuracy: 0.6146 - val_loss: 0.8153 - val_accuracy: 0.6250\n",
      "Epoch 21/500\n",
      "3/3 [==============================] - 0s 12ms/step - loss: 0.9168 - accuracy: 0.5729 - val_loss: 0.7999 - val_accuracy: 0.6250\n",
      "Epoch 22/500\n",
      "3/3 [==============================] - 0s 13ms/step - loss: 0.9325 - accuracy: 0.6354 - val_loss: 0.7844 - val_accuracy: 0.6250\n",
      "Epoch 23/500\n",
      "3/3 [==============================] - 0s 13ms/step - loss: 0.9088 - accuracy: 0.5938 - val_loss: 0.7694 - val_accuracy: 0.6250\n",
      "Epoch 24/500\n",
      "3/3 [==============================] - 0s 14ms/step - loss: 0.9265 - accuracy: 0.6042 - val_loss: 0.7551 - val_accuracy: 0.6250\n",
      "Epoch 25/500\n",
      "3/3 [==============================] - 0s 13ms/step - loss: 0.8749 - accuracy: 0.5833 - val_loss: 0.7414 - val_accuracy: 0.6250\n",
      "Epoch 26/500\n",
      "3/3 [==============================] - 0s 13ms/step - loss: 0.8708 - accuracy: 0.5625 - val_loss: 0.7285 - val_accuracy: 0.6250\n",
      "Epoch 27/500\n",
      "3/3 [==============================] - 0s 14ms/step - loss: 0.8336 - accuracy: 0.6458 - val_loss: 0.7159 - val_accuracy: 0.6250\n",
      "Epoch 28/500\n",
      "3/3 [==============================] - 0s 13ms/step - loss: 0.8575 - accuracy: 0.5938 - val_loss: 0.7039 - val_accuracy: 0.6667\n",
      "Epoch 29/500\n",
      "3/3 [==============================] - 0s 13ms/step - loss: 0.8597 - accuracy: 0.5938 - val_loss: 0.6918 - val_accuracy: 0.7083\n",
      "Epoch 30/500\n",
      "3/3 [==============================] - 0s 12ms/step - loss: 0.8460 - accuracy: 0.5729 - val_loss: 0.6801 - val_accuracy: 0.7083\n",
      "Epoch 31/500\n",
      "3/3 [==============================] - 0s 12ms/step - loss: 0.8118 - accuracy: 0.6354 - val_loss: 0.6693 - val_accuracy: 0.7083\n",
      "Epoch 32/500\n",
      "3/3 [==============================] - 0s 12ms/step - loss: 0.8042 - accuracy: 0.6250 - val_loss: 0.6591 - val_accuracy: 0.7083\n",
      "Epoch 33/500\n",
      "3/3 [==============================] - 0s 13ms/step - loss: 0.7454 - accuracy: 0.6979 - val_loss: 0.6497 - val_accuracy: 0.7500\n",
      "Epoch 34/500\n",
      "3/3 [==============================] - 0s 13ms/step - loss: 0.7835 - accuracy: 0.6458 - val_loss: 0.6407 - val_accuracy: 0.7500\n",
      "Epoch 35/500\n",
      "3/3 [==============================] - 0s 13ms/step - loss: 0.7560 - accuracy: 0.6667 - val_loss: 0.6321 - val_accuracy: 0.7500\n",
      "Epoch 36/500\n",
      "3/3 [==============================] - 0s 13ms/step - loss: 0.7438 - accuracy: 0.6771 - val_loss: 0.6239 - val_accuracy: 0.7500\n",
      "Epoch 37/500\n",
      "3/3 [==============================] - 0s 13ms/step - loss: 0.7469 - accuracy: 0.6354 - val_loss: 0.6160 - val_accuracy: 0.7500\n",
      "Epoch 38/500\n",
      "3/3 [==============================] - 0s 15ms/step - loss: 0.7391 - accuracy: 0.6667 - val_loss: 0.6085 - val_accuracy: 0.7500\n",
      "Epoch 39/500\n",
      "3/3 [==============================] - 0s 13ms/step - loss: 0.7092 - accuracy: 0.6875 - val_loss: 0.6013 - val_accuracy: 0.7917\n",
      "Epoch 40/500\n",
      "3/3 [==============================] - 0s 14ms/step - loss: 0.7448 - accuracy: 0.6979 - val_loss: 0.5942 - val_accuracy: 0.8333\n",
      "Epoch 41/500\n",
      "3/3 [==============================] - 0s 14ms/step - loss: 0.7010 - accuracy: 0.6667 - val_loss: 0.5874 - val_accuracy: 0.8333\n",
      "Epoch 42/500\n",
      "3/3 [==============================] - 0s 12ms/step - loss: 0.6956 - accuracy: 0.6771 - val_loss: 0.5807 - val_accuracy: 0.8333\n",
      "Epoch 43/500\n",
      "3/3 [==============================] - 0s 14ms/step - loss: 0.7188 - accuracy: 0.6771 - val_loss: 0.5741 - val_accuracy: 0.8333\n",
      "Epoch 44/500\n",
      "3/3 [==============================] - 0s 13ms/step - loss: 0.6958 - accuracy: 0.6979 - val_loss: 0.5676 - val_accuracy: 0.9167\n",
      "Epoch 45/500\n",
      "3/3 [==============================] - 0s 14ms/step - loss: 0.6802 - accuracy: 0.6771 - val_loss: 0.5614 - val_accuracy: 0.9167\n",
      "Epoch 46/500\n",
      "3/3 [==============================] - 0s 13ms/step - loss: 0.6745 - accuracy: 0.7604 - val_loss: 0.5555 - val_accuracy: 0.9167\n",
      "Epoch 47/500\n",
      "3/3 [==============================] - 0s 12ms/step - loss: 0.6703 - accuracy: 0.6771 - val_loss: 0.5498 - val_accuracy: 0.8750\n",
      "Epoch 48/500\n",
      "3/3 [==============================] - 0s 13ms/step - loss: 0.6642 - accuracy: 0.7500 - val_loss: 0.5443 - val_accuracy: 0.8750\n",
      "Epoch 49/500\n",
      "3/3 [==============================] - 0s 12ms/step - loss: 0.6645 - accuracy: 0.6979 - val_loss: 0.5390 - val_accuracy: 0.8750\n",
      "Epoch 50/500\n",
      "3/3 [==============================] - 0s 13ms/step - loss: 0.6776 - accuracy: 0.7396 - val_loss: 0.5337 - val_accuracy: 0.9583\n",
      "Epoch 51/500\n",
      "3/3 [==============================] - 0s 13ms/step - loss: 0.6747 - accuracy: 0.7396 - val_loss: 0.5284 - val_accuracy: 0.9583\n",
      "Epoch 52/500\n",
      "3/3 [==============================] - 0s 13ms/step - loss: 0.6369 - accuracy: 0.7708 - val_loss: 0.5232 - val_accuracy: 0.9583\n",
      "Epoch 53/500\n",
      "3/3 [==============================] - 0s 12ms/step - loss: 0.6044 - accuracy: 0.8021 - val_loss: 0.5181 - val_accuracy: 0.9583\n",
      "Epoch 54/500\n",
      "3/3 [==============================] - 0s 13ms/step - loss: 0.6761 - accuracy: 0.7083 - val_loss: 0.5131 - val_accuracy: 0.9583\n",
      "Epoch 55/500\n",
      "3/3 [==============================] - 0s 13ms/step - loss: 0.6272 - accuracy: 0.7500 - val_loss: 0.5084 - val_accuracy: 0.9583\n",
      "Epoch 56/500\n",
      "3/3 [==============================] - 0s 14ms/step - loss: 0.6342 - accuracy: 0.7500 - val_loss: 0.5038 - val_accuracy: 0.9167\n",
      "Epoch 57/500\n",
      "3/3 [==============================] - 0s 14ms/step - loss: 0.6243 - accuracy: 0.7396 - val_loss: 0.4993 - val_accuracy: 0.9167\n",
      "Epoch 58/500\n",
      "3/3 [==============================] - 0s 14ms/step - loss: 0.6003 - accuracy: 0.7396 - val_loss: 0.4949 - val_accuracy: 0.9167\n",
      "Epoch 59/500\n",
      "3/3 [==============================] - 0s 13ms/step - loss: 0.6506 - accuracy: 0.7708 - val_loss: 0.4907 - val_accuracy: 0.9167\n",
      "Epoch 60/500\n",
      "3/3 [==============================] - 0s 13ms/step - loss: 0.5984 - accuracy: 0.7604 - val_loss: 0.4865 - val_accuracy: 0.9167\n",
      "Epoch 61/500\n",
      "3/3 [==============================] - 0s 12ms/step - loss: 0.5818 - accuracy: 0.7604 - val_loss: 0.4825 - val_accuracy: 0.9167\n",
      "Epoch 62/500\n",
      "3/3 [==============================] - 0s 14ms/step - loss: 0.5671 - accuracy: 0.8229 - val_loss: 0.4786 - val_accuracy: 0.9167\n",
      "Epoch 63/500\n",
      "3/3 [==============================] - 0s 12ms/step - loss: 0.5899 - accuracy: 0.7917 - val_loss: 0.4746 - val_accuracy: 0.9167\n",
      "Epoch 64/500\n",
      "3/3 [==============================] - 0s 12ms/step - loss: 0.5632 - accuracy: 0.7708 - val_loss: 0.4706 - val_accuracy: 0.9167\n",
      "Epoch 65/500\n",
      "3/3 [==============================] - 0s 15ms/step - loss: 0.5477 - accuracy: 0.7604 - val_loss: 0.4668 - val_accuracy: 0.9167\n",
      "Epoch 66/500\n",
      "3/3 [==============================] - 0s 13ms/step - loss: 0.5769 - accuracy: 0.7812 - val_loss: 0.4627 - val_accuracy: 0.9167\n",
      "Epoch 67/500\n",
      "3/3 [==============================] - 0s 14ms/step - loss: 0.5326 - accuracy: 0.7500 - val_loss: 0.4586 - val_accuracy: 0.9167\n",
      "Epoch 68/500\n",
      "3/3 [==============================] - 0s 14ms/step - loss: 0.5464 - accuracy: 0.8229 - val_loss: 0.4544 - val_accuracy: 0.9167\n",
      "Epoch 69/500\n",
      "3/3 [==============================] - 0s 14ms/step - loss: 0.5355 - accuracy: 0.7604 - val_loss: 0.4502 - val_accuracy: 0.9167\n",
      "Epoch 70/500\n",
      "3/3 [==============================] - 0s 17ms/step - loss: 0.5239 - accuracy: 0.7812 - val_loss: 0.4460 - val_accuracy: 0.9167\n",
      "Epoch 71/500\n",
      "3/3 [==============================] - 0s 16ms/step - loss: 0.5040 - accuracy: 0.8333 - val_loss: 0.4418 - val_accuracy: 0.9167\n",
      "Epoch 72/500\n",
      "3/3 [==============================] - 0s 13ms/step - loss: 0.5342 - accuracy: 0.7500 - val_loss: 0.4377 - val_accuracy: 0.9167\n",
      "Epoch 73/500\n",
      "3/3 [==============================] - 0s 13ms/step - loss: 0.5138 - accuracy: 0.7917 - val_loss: 0.4339 - val_accuracy: 0.9167\n",
      "Epoch 74/500\n",
      "3/3 [==============================] - 0s 13ms/step - loss: 0.5204 - accuracy: 0.7917 - val_loss: 0.4301 - val_accuracy: 0.9167\n",
      "Epoch 75/500\n",
      "3/3 [==============================] - 0s 17ms/step - loss: 0.5237 - accuracy: 0.8125 - val_loss: 0.4261 - val_accuracy: 0.9167\n",
      "Epoch 76/500\n",
      "3/3 [==============================] - 0s 13ms/step - loss: 0.5141 - accuracy: 0.8542 - val_loss: 0.4220 - val_accuracy: 0.9167\n",
      "Epoch 77/500\n",
      "3/3 [==============================] - 0s 17ms/step - loss: 0.4872 - accuracy: 0.8542 - val_loss: 0.4183 - val_accuracy: 0.9167\n",
      "Epoch 78/500\n",
      "3/3 [==============================] - 0s 14ms/step - loss: 0.5120 - accuracy: 0.8021 - val_loss: 0.4145 - val_accuracy: 0.9167\n",
      "Epoch 79/500\n",
      "3/3 [==============================] - 0s 19ms/step - loss: 0.4750 - accuracy: 0.7917 - val_loss: 0.4107 - val_accuracy: 0.9167\n",
      "Epoch 80/500\n",
      "3/3 [==============================] - 0s 14ms/step - loss: 0.4624 - accuracy: 0.8750 - val_loss: 0.4069 - val_accuracy: 0.9167\n",
      "Epoch 81/500\n",
      "3/3 [==============================] - 0s 18ms/step - loss: 0.5102 - accuracy: 0.7917 - val_loss: 0.4031 - val_accuracy: 0.9167\n",
      "Epoch 82/500\n",
      "3/3 [==============================] - 0s 15ms/step - loss: 0.5189 - accuracy: 0.7708 - val_loss: 0.3996 - val_accuracy: 0.9167\n",
      "Epoch 83/500\n",
      "3/3 [==============================] - 0s 14ms/step - loss: 0.5277 - accuracy: 0.7708 - val_loss: 0.3962 - val_accuracy: 0.8750\n",
      "Epoch 84/500\n",
      "3/3 [==============================] - 0s 13ms/step - loss: 0.4687 - accuracy: 0.8125 - val_loss: 0.3925 - val_accuracy: 0.8750\n",
      "Epoch 85/500\n",
      "3/3 [==============================] - 0s 13ms/step - loss: 0.4973 - accuracy: 0.7708 - val_loss: 0.3890 - val_accuracy: 0.8750\n",
      "Epoch 86/500\n",
      "3/3 [==============================] - 0s 12ms/step - loss: 0.4830 - accuracy: 0.8021 - val_loss: 0.3855 - val_accuracy: 0.8750\n",
      "Epoch 87/500\n",
      "3/3 [==============================] - 0s 12ms/step - loss: 0.4353 - accuracy: 0.8750 - val_loss: 0.3819 - val_accuracy: 0.8750\n",
      "Epoch 88/500\n",
      "3/3 [==============================] - 0s 15ms/step - loss: 0.4670 - accuracy: 0.7708 - val_loss: 0.3783 - val_accuracy: 0.8750\n",
      "Epoch 89/500\n",
      "3/3 [==============================] - 0s 13ms/step - loss: 0.4328 - accuracy: 0.8438 - val_loss: 0.3743 - val_accuracy: 0.8750\n",
      "Epoch 90/500\n",
      "3/3 [==============================] - 0s 15ms/step - loss: 0.4576 - accuracy: 0.7917 - val_loss: 0.3701 - val_accuracy: 0.8750\n",
      "Epoch 91/500\n",
      "3/3 [==============================] - 0s 15ms/step - loss: 0.4724 - accuracy: 0.8333 - val_loss: 0.3662 - val_accuracy: 0.8750\n",
      "Epoch 92/500\n",
      "3/3 [==============================] - 0s 14ms/step - loss: 0.4356 - accuracy: 0.8542 - val_loss: 0.3623 - val_accuracy: 0.8750\n",
      "Epoch 93/500\n",
      "3/3 [==============================] - 0s 16ms/step - loss: 0.4182 - accuracy: 0.8333 - val_loss: 0.3584 - val_accuracy: 0.8750\n",
      "Epoch 94/500\n",
      "3/3 [==============================] - 0s 20ms/step - loss: 0.4474 - accuracy: 0.8333 - val_loss: 0.3547 - val_accuracy: 0.8750\n",
      "Epoch 95/500\n",
      "3/3 [==============================] - 0s 21ms/step - loss: 0.4225 - accuracy: 0.8438 - val_loss: 0.3511 - val_accuracy: 0.8750\n",
      "Epoch 96/500\n",
      "3/3 [==============================] - 0s 16ms/step - loss: 0.4202 - accuracy: 0.8438 - val_loss: 0.3473 - val_accuracy: 0.8750\n",
      "Epoch 97/500\n",
      "3/3 [==============================] - 0s 13ms/step - loss: 0.4026 - accuracy: 0.8542 - val_loss: 0.3436 - val_accuracy: 0.8750\n",
      "Epoch 98/500\n",
      "3/3 [==============================] - 0s 12ms/step - loss: 0.4207 - accuracy: 0.8750 - val_loss: 0.3396 - val_accuracy: 0.9583\n",
      "Epoch 99/500\n",
      "3/3 [==============================] - 0s 16ms/step - loss: 0.4673 - accuracy: 0.7917 - val_loss: 0.3357 - val_accuracy: 0.9583\n",
      "Epoch 100/500\n",
      "3/3 [==============================] - 0s 14ms/step - loss: 0.4475 - accuracy: 0.7812 - val_loss: 0.3321 - val_accuracy: 0.9583\n",
      "Epoch 101/500\n",
      "3/3 [==============================] - 0s 19ms/step - loss: 0.4328 - accuracy: 0.8542 - val_loss: 0.3287 - val_accuracy: 0.9583\n",
      "Epoch 102/500\n",
      "3/3 [==============================] - 0s 16ms/step - loss: 0.4303 - accuracy: 0.8438 - val_loss: 0.3252 - val_accuracy: 0.9583\n",
      "Epoch 103/500\n",
      "3/3 [==============================] - 0s 16ms/step - loss: 0.4727 - accuracy: 0.8229 - val_loss: 0.3219 - val_accuracy: 0.9583\n",
      "Epoch 104/500\n",
      "3/3 [==============================] - 0s 14ms/step - loss: 0.4025 - accuracy: 0.8333 - val_loss: 0.3187 - val_accuracy: 0.9583\n",
      "Epoch 105/500\n",
      "3/3 [==============================] - 0s 12ms/step - loss: 0.4118 - accuracy: 0.7917 - val_loss: 0.3155 - val_accuracy: 0.9583\n",
      "Epoch 106/500\n",
      "3/3 [==============================] - 0s 13ms/step - loss: 0.4157 - accuracy: 0.8646 - val_loss: 0.3121 - val_accuracy: 0.9583\n",
      "Epoch 107/500\n",
      "3/3 [==============================] - 0s 14ms/step - loss: 0.4097 - accuracy: 0.8229 - val_loss: 0.3084 - val_accuracy: 0.9583\n",
      "Epoch 108/500\n",
      "3/3 [==============================] - 0s 14ms/step - loss: 0.3826 - accuracy: 0.8542 - val_loss: 0.3045 - val_accuracy: 0.9583\n",
      "Epoch 109/500\n",
      "3/3 [==============================] - 0s 13ms/step - loss: 0.3632 - accuracy: 0.8646 - val_loss: 0.3006 - val_accuracy: 0.9583\n",
      "Epoch 110/500\n",
      "3/3 [==============================] - 0s 15ms/step - loss: 0.4213 - accuracy: 0.8229 - val_loss: 0.2970 - val_accuracy: 0.9583\n",
      "Epoch 111/500\n",
      "3/3 [==============================] - 0s 13ms/step - loss: 0.4252 - accuracy: 0.7917 - val_loss: 0.2939 - val_accuracy: 0.9583\n",
      "Epoch 112/500\n",
      "3/3 [==============================] - 0s 14ms/step - loss: 0.4320 - accuracy: 0.8125 - val_loss: 0.2908 - val_accuracy: 0.9583\n",
      "Epoch 113/500\n",
      "3/3 [==============================] - 0s 14ms/step - loss: 0.3937 - accuracy: 0.8438 - val_loss: 0.2876 - val_accuracy: 0.9583\n",
      "Epoch 114/500\n",
      "3/3 [==============================] - 0s 13ms/step - loss: 0.3883 - accuracy: 0.8333 - val_loss: 0.2842 - val_accuracy: 0.9583\n",
      "Epoch 115/500\n",
      "3/3 [==============================] - 0s 13ms/step - loss: 0.4036 - accuracy: 0.8333 - val_loss: 0.2813 - val_accuracy: 0.9583\n",
      "Epoch 116/500\n",
      "3/3 [==============================] - 0s 14ms/step - loss: 0.3593 - accuracy: 0.8750 - val_loss: 0.2784 - val_accuracy: 0.9583\n",
      "Epoch 117/500\n",
      "3/3 [==============================] - 0s 12ms/step - loss: 0.4188 - accuracy: 0.7917 - val_loss: 0.2754 - val_accuracy: 0.9583\n",
      "Epoch 118/500\n",
      "3/3 [==============================] - 0s 12ms/step - loss: 0.4030 - accuracy: 0.8438 - val_loss: 0.2727 - val_accuracy: 0.9583\n",
      "Epoch 119/500\n",
      "3/3 [==============================] - 0s 13ms/step - loss: 0.3818 - accuracy: 0.8750 - val_loss: 0.2700 - val_accuracy: 0.9583\n",
      "Epoch 120/500\n",
      "3/3 [==============================] - 0s 15ms/step - loss: 0.3821 - accuracy: 0.8229 - val_loss: 0.2671 - val_accuracy: 0.9583\n",
      "Epoch 121/500\n",
      "3/3 [==============================] - 0s 14ms/step - loss: 0.3798 - accuracy: 0.8750 - val_loss: 0.2640 - val_accuracy: 0.9583\n",
      "Epoch 122/500\n",
      "3/3 [==============================] - 0s 14ms/step - loss: 0.3406 - accuracy: 0.8646 - val_loss: 0.2607 - val_accuracy: 0.9583\n",
      "Epoch 123/500\n",
      "3/3 [==============================] - 0s 16ms/step - loss: 0.3696 - accuracy: 0.8646 - val_loss: 0.2575 - val_accuracy: 0.9583\n",
      "Epoch 124/500\n",
      "3/3 [==============================] - 0s 14ms/step - loss: 0.3551 - accuracy: 0.8125 - val_loss: 0.2538 - val_accuracy: 0.9583\n",
      "Epoch 125/500\n",
      "3/3 [==============================] - 0s 13ms/step - loss: 0.3735 - accuracy: 0.8438 - val_loss: 0.2505 - val_accuracy: 0.9583\n",
      "Epoch 126/500\n",
      "3/3 [==============================] - 0s 14ms/step - loss: 0.3815 - accuracy: 0.8542 - val_loss: 0.2475 - val_accuracy: 0.9583\n",
      "Epoch 127/500\n",
      "3/3 [==============================] - 0s 13ms/step - loss: 0.3563 - accuracy: 0.8750 - val_loss: 0.2441 - val_accuracy: 0.9583\n",
      "Epoch 128/500\n",
      "3/3 [==============================] - 0s 13ms/step - loss: 0.3401 - accuracy: 0.8646 - val_loss: 0.2410 - val_accuracy: 0.9583\n",
      "Epoch 129/500\n",
      "3/3 [==============================] - 0s 13ms/step - loss: 0.2985 - accuracy: 0.9271 - val_loss: 0.2377 - val_accuracy: 0.9583\n",
      "Epoch 130/500\n",
      "3/3 [==============================] - 0s 13ms/step - loss: 0.3502 - accuracy: 0.8646 - val_loss: 0.2340 - val_accuracy: 0.9583\n",
      "Epoch 131/500\n",
      "3/3 [==============================] - 0s 13ms/step - loss: 0.3595 - accuracy: 0.8438 - val_loss: 0.2307 - val_accuracy: 0.9583\n",
      "Epoch 132/500\n",
      "3/3 [==============================] - 0s 14ms/step - loss: 0.3541 - accuracy: 0.8958 - val_loss: 0.2278 - val_accuracy: 0.9583\n",
      "Epoch 133/500\n",
      "3/3 [==============================] - 0s 14ms/step - loss: 0.3145 - accuracy: 0.8854 - val_loss: 0.2253 - val_accuracy: 0.9583\n",
      "Epoch 134/500\n",
      "3/3 [==============================] - 0s 14ms/step - loss: 0.3295 - accuracy: 0.8854 - val_loss: 0.2236 - val_accuracy: 0.9583\n",
      "Epoch 135/500\n",
      "3/3 [==============================] - 0s 13ms/step - loss: 0.3389 - accuracy: 0.8750 - val_loss: 0.2221 - val_accuracy: 0.9583\n",
      "Epoch 136/500\n",
      "3/3 [==============================] - 0s 13ms/step - loss: 0.3590 - accuracy: 0.8542 - val_loss: 0.2202 - val_accuracy: 0.9583\n",
      "Epoch 137/500\n",
      "3/3 [==============================] - 0s 12ms/step - loss: 0.3279 - accuracy: 0.8438 - val_loss: 0.2178 - val_accuracy: 0.9583\n",
      "Epoch 138/500\n",
      "3/3 [==============================] - 0s 12ms/step - loss: 0.3402 - accuracy: 0.8646 - val_loss: 0.2153 - val_accuracy: 0.9583\n",
      "Epoch 139/500\n",
      "3/3 [==============================] - 0s 12ms/step - loss: 0.3455 - accuracy: 0.8958 - val_loss: 0.2126 - val_accuracy: 0.9583\n",
      "Epoch 140/500\n",
      "3/3 [==============================] - 0s 12ms/step - loss: 0.3161 - accuracy: 0.8542 - val_loss: 0.2101 - val_accuracy: 0.9583\n",
      "Epoch 141/500\n",
      "3/3 [==============================] - 0s 14ms/step - loss: 0.2973 - accuracy: 0.9271 - val_loss: 0.2073 - val_accuracy: 0.9583\n",
      "Epoch 142/500\n",
      "3/3 [==============================] - 0s 14ms/step - loss: 0.2703 - accuracy: 0.9167 - val_loss: 0.2042 - val_accuracy: 0.9583\n",
      "Epoch 143/500\n",
      "3/3 [==============================] - 0s 14ms/step - loss: 0.2953 - accuracy: 0.8958 - val_loss: 0.2010 - val_accuracy: 0.9583\n",
      "Epoch 144/500\n",
      "3/3 [==============================] - 0s 14ms/step - loss: 0.3095 - accuracy: 0.9062 - val_loss: 0.1981 - val_accuracy: 1.0000\n",
      "Epoch 145/500\n",
      "3/3 [==============================] - 0s 13ms/step - loss: 0.2968 - accuracy: 0.8958 - val_loss: 0.1950 - val_accuracy: 1.0000\n",
      "Epoch 146/500\n",
      "3/3 [==============================] - 0s 16ms/step - loss: 0.3025 - accuracy: 0.8854 - val_loss: 0.1925 - val_accuracy: 1.0000\n",
      "Epoch 147/500\n",
      "3/3 [==============================] - 0s 14ms/step - loss: 0.3026 - accuracy: 0.9271 - val_loss: 0.1896 - val_accuracy: 1.0000\n",
      "Epoch 148/500\n",
      "3/3 [==============================] - 0s 12ms/step - loss: 0.3161 - accuracy: 0.8854 - val_loss: 0.1868 - val_accuracy: 1.0000\n",
      "Epoch 149/500\n",
      "3/3 [==============================] - 0s 12ms/step - loss: 0.3043 - accuracy: 0.8854 - val_loss: 0.1842 - val_accuracy: 1.0000\n",
      "Epoch 150/500\n",
      "3/3 [==============================] - 0s 12ms/step - loss: 0.3227 - accuracy: 0.8646 - val_loss: 0.1818 - val_accuracy: 1.0000\n",
      "Epoch 151/500\n",
      "3/3 [==============================] - 0s 13ms/step - loss: 0.2771 - accuracy: 0.9167 - val_loss: 0.1796 - val_accuracy: 1.0000\n",
      "Epoch 152/500\n",
      "3/3 [==============================] - 0s 13ms/step - loss: 0.2749 - accuracy: 0.9062 - val_loss: 0.1778 - val_accuracy: 1.0000\n",
      "Epoch 153/500\n",
      "3/3 [==============================] - 0s 15ms/step - loss: 0.2889 - accuracy: 0.8750 - val_loss: 0.1757 - val_accuracy: 1.0000\n",
      "Epoch 154/500\n",
      "3/3 [==============================] - 0s 14ms/step - loss: 0.3020 - accuracy: 0.8542 - val_loss: 0.1736 - val_accuracy: 1.0000\n",
      "Epoch 155/500\n",
      "3/3 [==============================] - 0s 25ms/step - loss: 0.3011 - accuracy: 0.8750 - val_loss: 0.1718 - val_accuracy: 1.0000\n",
      "Epoch 156/500\n",
      "3/3 [==============================] - 0s 21ms/step - loss: 0.2478 - accuracy: 0.9167 - val_loss: 0.1699 - val_accuracy: 1.0000\n",
      "Epoch 157/500\n",
      "3/3 [==============================] - 0s 14ms/step - loss: 0.2763 - accuracy: 0.8646 - val_loss: 0.1683 - val_accuracy: 1.0000\n",
      "Epoch 158/500\n",
      "3/3 [==============================] - 0s 13ms/step - loss: 0.2352 - accuracy: 0.9271 - val_loss: 0.1668 - val_accuracy: 1.0000\n",
      "Epoch 159/500\n",
      "3/3 [==============================] - 0s 14ms/step - loss: 0.2669 - accuracy: 0.9062 - val_loss: 0.1648 - val_accuracy: 1.0000\n",
      "Epoch 160/500\n",
      "3/3 [==============================] - 0s 16ms/step - loss: 0.2820 - accuracy: 0.8750 - val_loss: 0.1628 - val_accuracy: 1.0000\n",
      "Epoch 161/500\n",
      "3/3 [==============================] - 0s 16ms/step - loss: 0.2480 - accuracy: 0.9271 - val_loss: 0.1605 - val_accuracy: 1.0000\n",
      "Epoch 162/500\n",
      "3/3 [==============================] - 0s 12ms/step - loss: 0.2888 - accuracy: 0.8646 - val_loss: 0.1586 - val_accuracy: 1.0000\n",
      "Epoch 163/500\n",
      "3/3 [==============================] - 0s 12ms/step - loss: 0.2914 - accuracy: 0.8854 - val_loss: 0.1567 - val_accuracy: 1.0000\n",
      "Epoch 164/500\n",
      "3/3 [==============================] - 0s 13ms/step - loss: 0.2502 - accuracy: 0.9271 - val_loss: 0.1546 - val_accuracy: 1.0000\n",
      "Epoch 165/500\n",
      "3/3 [==============================] - 0s 13ms/step - loss: 0.2512 - accuracy: 0.9062 - val_loss: 0.1528 - val_accuracy: 1.0000\n",
      "Epoch 166/500\n",
      "3/3 [==============================] - 0s 13ms/step - loss: 0.3320 - accuracy: 0.8542 - val_loss: 0.1512 - val_accuracy: 1.0000\n",
      "Epoch 167/500\n",
      "3/3 [==============================] - 0s 12ms/step - loss: 0.2697 - accuracy: 0.8958 - val_loss: 0.1497 - val_accuracy: 1.0000\n",
      "Epoch 168/500\n",
      "3/3 [==============================] - 0s 13ms/step - loss: 0.2533 - accuracy: 0.9167 - val_loss: 0.1480 - val_accuracy: 1.0000\n",
      "Epoch 169/500\n",
      "3/3 [==============================] - 0s 14ms/step - loss: 0.2414 - accuracy: 0.9167 - val_loss: 0.1463 - val_accuracy: 1.0000\n",
      "Epoch 170/500\n",
      "3/3 [==============================] - 0s 14ms/step - loss: 0.1933 - accuracy: 0.9375 - val_loss: 0.1444 - val_accuracy: 1.0000\n",
      "Epoch 171/500\n",
      "3/3 [==============================] - 0s 13ms/step - loss: 0.2191 - accuracy: 0.9375 - val_loss: 0.1427 - val_accuracy: 1.0000\n",
      "Epoch 172/500\n",
      "3/3 [==============================] - 0s 14ms/step - loss: 0.2446 - accuracy: 0.9375 - val_loss: 0.1408 - val_accuracy: 1.0000\n",
      "Epoch 173/500\n",
      "3/3 [==============================] - 0s 13ms/step - loss: 0.2135 - accuracy: 0.9479 - val_loss: 0.1389 - val_accuracy: 1.0000\n",
      "Epoch 174/500\n",
      "3/3 [==============================] - 0s 13ms/step - loss: 0.2483 - accuracy: 0.8958 - val_loss: 0.1371 - val_accuracy: 1.0000\n",
      "Epoch 175/500\n",
      "3/3 [==============================] - 0s 14ms/step - loss: 0.2352 - accuracy: 0.9271 - val_loss: 0.1352 - val_accuracy: 1.0000\n",
      "Epoch 176/500\n",
      "3/3 [==============================] - 0s 13ms/step - loss: 0.2170 - accuracy: 0.9062 - val_loss: 0.1336 - val_accuracy: 1.0000\n",
      "Epoch 177/500\n",
      "3/3 [==============================] - 0s 13ms/step - loss: 0.2600 - accuracy: 0.9062 - val_loss: 0.1323 - val_accuracy: 1.0000\n",
      "Epoch 178/500\n",
      "3/3 [==============================] - 0s 13ms/step - loss: 0.2121 - accuracy: 0.9479 - val_loss: 0.1308 - val_accuracy: 1.0000\n",
      "Epoch 179/500\n",
      "3/3 [==============================] - 0s 14ms/step - loss: 0.1977 - accuracy: 0.9688 - val_loss: 0.1292 - val_accuracy: 1.0000\n",
      "Epoch 180/500\n",
      "3/3 [==============================] - 0s 14ms/step - loss: 0.2593 - accuracy: 0.9271 - val_loss: 0.1277 - val_accuracy: 1.0000\n",
      "Epoch 181/500\n",
      "3/3 [==============================] - 0s 17ms/step - loss: 0.2688 - accuracy: 0.8958 - val_loss: 0.1261 - val_accuracy: 1.0000\n",
      "Epoch 182/500\n",
      "3/3 [==============================] - 0s 14ms/step - loss: 0.2518 - accuracy: 0.9271 - val_loss: 0.1245 - val_accuracy: 1.0000\n",
      "Epoch 183/500\n",
      "3/3 [==============================] - 0s 14ms/step - loss: 0.1873 - accuracy: 0.9583 - val_loss: 0.1233 - val_accuracy: 1.0000\n",
      "Epoch 184/500\n",
      "3/3 [==============================] - 0s 14ms/step - loss: 0.2321 - accuracy: 0.9062 - val_loss: 0.1221 - val_accuracy: 1.0000\n",
      "Epoch 185/500\n",
      "3/3 [==============================] - 0s 12ms/step - loss: 0.2571 - accuracy: 0.8854 - val_loss: 0.1212 - val_accuracy: 1.0000\n",
      "Epoch 186/500\n",
      "3/3 [==============================] - 0s 14ms/step - loss: 0.2391 - accuracy: 0.9062 - val_loss: 0.1203 - val_accuracy: 1.0000\n",
      "Epoch 187/500\n",
      "3/3 [==============================] - 0s 16ms/step - loss: 0.2820 - accuracy: 0.8750 - val_loss: 0.1200 - val_accuracy: 1.0000\n",
      "Epoch 188/500\n",
      "3/3 [==============================] - 0s 13ms/step - loss: 0.1930 - accuracy: 0.9271 - val_loss: 0.1194 - val_accuracy: 1.0000\n",
      "Epoch 189/500\n",
      "3/3 [==============================] - 0s 15ms/step - loss: 0.2087 - accuracy: 0.9271 - val_loss: 0.1184 - val_accuracy: 1.0000\n",
      "Epoch 190/500\n",
      "3/3 [==============================] - 0s 16ms/step - loss: 0.2426 - accuracy: 0.8958 - val_loss: 0.1179 - val_accuracy: 1.0000\n",
      "Epoch 191/500\n",
      "3/3 [==============================] - 0s 14ms/step - loss: 0.2085 - accuracy: 0.9375 - val_loss: 0.1170 - val_accuracy: 1.0000\n",
      "Epoch 192/500\n",
      "3/3 [==============================] - 0s 13ms/step - loss: 0.2069 - accuracy: 0.9167 - val_loss: 0.1161 - val_accuracy: 1.0000\n",
      "Epoch 193/500\n",
      "3/3 [==============================] - 0s 12ms/step - loss: 0.1895 - accuracy: 0.9479 - val_loss: 0.1150 - val_accuracy: 1.0000\n",
      "Epoch 194/500\n",
      "3/3 [==============================] - 0s 13ms/step - loss: 0.2862 - accuracy: 0.8854 - val_loss: 0.1139 - val_accuracy: 1.0000\n",
      "Epoch 195/500\n",
      "3/3 [==============================] - 0s 16ms/step - loss: 0.2321 - accuracy: 0.9167 - val_loss: 0.1128 - val_accuracy: 1.0000\n",
      "Epoch 196/500\n",
      "3/3 [==============================] - 0s 13ms/step - loss: 0.2646 - accuracy: 0.8958 - val_loss: 0.1116 - val_accuracy: 1.0000\n",
      "Epoch 197/500\n",
      "3/3 [==============================] - 0s 15ms/step - loss: 0.2374 - accuracy: 0.8958 - val_loss: 0.1103 - val_accuracy: 1.0000\n",
      "Epoch 198/500\n",
      "3/3 [==============================] - 0s 15ms/step - loss: 0.2066 - accuracy: 0.9167 - val_loss: 0.1091 - val_accuracy: 1.0000\n",
      "Epoch 199/500\n",
      "3/3 [==============================] - 0s 14ms/step - loss: 0.2044 - accuracy: 0.9479 - val_loss: 0.1077 - val_accuracy: 1.0000\n",
      "Epoch 200/500\n",
      "3/3 [==============================] - 0s 14ms/step - loss: 0.1839 - accuracy: 0.9271 - val_loss: 0.1064 - val_accuracy: 1.0000\n",
      "Epoch 201/500\n",
      "3/3 [==============================] - 0s 14ms/step - loss: 0.2047 - accuracy: 0.9167 - val_loss: 0.1055 - val_accuracy: 1.0000\n",
      "Epoch 202/500\n",
      "3/3 [==============================] - 0s 12ms/step - loss: 0.1970 - accuracy: 0.9271 - val_loss: 0.1044 - val_accuracy: 1.0000\n",
      "Epoch 203/500\n",
      "3/3 [==============================] - 0s 13ms/step - loss: 0.1754 - accuracy: 0.9479 - val_loss: 0.1038 - val_accuracy: 1.0000\n",
      "Epoch 204/500\n",
      "3/3 [==============================] - 0s 13ms/step - loss: 0.2234 - accuracy: 0.9167 - val_loss: 0.1031 - val_accuracy: 1.0000\n",
      "Epoch 205/500\n",
      "3/3 [==============================] - 0s 13ms/step - loss: 0.1995 - accuracy: 0.9271 - val_loss: 0.1023 - val_accuracy: 1.0000\n",
      "Epoch 206/500\n",
      "3/3 [==============================] - 0s 14ms/step - loss: 0.2139 - accuracy: 0.9167 - val_loss: 0.1015 - val_accuracy: 1.0000\n",
      "Epoch 207/500\n",
      "3/3 [==============================] - 0s 19ms/step - loss: 0.2166 - accuracy: 0.9167 - val_loss: 0.1007 - val_accuracy: 1.0000\n",
      "Epoch 208/500\n",
      "3/3 [==============================] - 0s 36ms/step - loss: 0.1735 - accuracy: 0.9479 - val_loss: 0.1003 - val_accuracy: 1.0000\n",
      "Epoch 209/500\n",
      "3/3 [==============================] - 0s 15ms/step - loss: 0.1599 - accuracy: 0.9792 - val_loss: 0.0997 - val_accuracy: 1.0000\n",
      "Epoch 210/500\n",
      "3/3 [==============================] - 0s 15ms/step - loss: 0.2292 - accuracy: 0.9375 - val_loss: 0.0987 - val_accuracy: 1.0000\n",
      "Epoch 211/500\n",
      "3/3 [==============================] - 0s 12ms/step - loss: 0.2277 - accuracy: 0.9375 - val_loss: 0.0981 - val_accuracy: 1.0000\n",
      "Epoch 212/500\n",
      "3/3 [==============================] - 0s 12ms/step - loss: 0.2056 - accuracy: 0.9062 - val_loss: 0.0974 - val_accuracy: 1.0000\n",
      "Epoch 213/500\n",
      "3/3 [==============================] - 0s 14ms/step - loss: 0.2057 - accuracy: 0.9062 - val_loss: 0.0967 - val_accuracy: 1.0000\n",
      "Epoch 214/500\n",
      "3/3 [==============================] - 0s 14ms/step - loss: 0.1584 - accuracy: 0.9479 - val_loss: 0.0961 - val_accuracy: 1.0000\n",
      "Epoch 215/500\n",
      "3/3 [==============================] - 0s 13ms/step - loss: 0.1555 - accuracy: 0.9583 - val_loss: 0.0951 - val_accuracy: 1.0000\n",
      "Epoch 216/500\n",
      "3/3 [==============================] - 0s 13ms/step - loss: 0.1540 - accuracy: 0.9479 - val_loss: 0.0943 - val_accuracy: 1.0000\n",
      "Epoch 217/500\n",
      "3/3 [==============================] - 0s 14ms/step - loss: 0.1538 - accuracy: 0.9583 - val_loss: 0.0938 - val_accuracy: 1.0000\n",
      "Epoch 218/500\n",
      "3/3 [==============================] - 0s 14ms/step - loss: 0.1934 - accuracy: 0.9375 - val_loss: 0.0930 - val_accuracy: 1.0000\n",
      "Epoch 219/500\n",
      "3/3 [==============================] - 0s 12ms/step - loss: 0.1864 - accuracy: 0.9062 - val_loss: 0.0921 - val_accuracy: 1.0000\n",
      "Epoch 220/500\n",
      "3/3 [==============================] - 0s 12ms/step - loss: 0.1925 - accuracy: 0.9167 - val_loss: 0.0912 - val_accuracy: 1.0000\n",
      "Epoch 221/500\n",
      "3/3 [==============================] - 0s 12ms/step - loss: 0.2332 - accuracy: 0.9271 - val_loss: 0.0903 - val_accuracy: 1.0000\n",
      "Epoch 222/500\n",
      "3/3 [==============================] - 0s 13ms/step - loss: 0.1701 - accuracy: 0.9375 - val_loss: 0.0896 - val_accuracy: 1.0000\n",
      "Epoch 223/500\n",
      "3/3 [==============================] - 0s 12ms/step - loss: 0.1946 - accuracy: 0.9271 - val_loss: 0.0889 - val_accuracy: 1.0000\n",
      "Epoch 224/500\n",
      "3/3 [==============================] - 0s 14ms/step - loss: 0.1601 - accuracy: 0.9688 - val_loss: 0.0881 - val_accuracy: 1.0000\n",
      "Epoch 225/500\n",
      "3/3 [==============================] - 0s 14ms/step - loss: 0.1404 - accuracy: 0.9583 - val_loss: 0.0873 - val_accuracy: 1.0000\n",
      "Epoch 226/500\n",
      "3/3 [==============================] - 0s 13ms/step - loss: 0.1853 - accuracy: 0.9583 - val_loss: 0.0862 - val_accuracy: 1.0000\n",
      "Epoch 227/500\n",
      "3/3 [==============================] - 0s 13ms/step - loss: 0.2215 - accuracy: 0.9271 - val_loss: 0.0851 - val_accuracy: 1.0000\n",
      "Epoch 228/500\n",
      "3/3 [==============================] - 0s 14ms/step - loss: 0.1860 - accuracy: 0.9375 - val_loss: 0.0839 - val_accuracy: 1.0000\n",
      "Epoch 229/500\n",
      "3/3 [==============================] - 0s 16ms/step - loss: 0.1570 - accuracy: 0.9688 - val_loss: 0.0828 - val_accuracy: 1.0000\n",
      "Epoch 230/500\n",
      "3/3 [==============================] - 0s 16ms/step - loss: 0.1887 - accuracy: 0.9479 - val_loss: 0.0818 - val_accuracy: 1.0000\n",
      "Epoch 231/500\n",
      "3/3 [==============================] - 0s 11ms/step - loss: 0.2016 - accuracy: 0.9062 - val_loss: 0.0810 - val_accuracy: 1.0000\n",
      "Epoch 232/500\n",
      "3/3 [==============================] - 0s 12ms/step - loss: 0.1919 - accuracy: 0.9583 - val_loss: 0.0804 - val_accuracy: 1.0000\n",
      "Epoch 233/500\n",
      "3/3 [==============================] - 0s 16ms/step - loss: 0.1652 - accuracy: 0.9167 - val_loss: 0.0798 - val_accuracy: 1.0000\n",
      "Epoch 234/500\n",
      "3/3 [==============================] - 0s 14ms/step - loss: 0.1567 - accuracy: 0.9479 - val_loss: 0.0795 - val_accuracy: 1.0000\n",
      "Epoch 235/500\n",
      "3/3 [==============================] - 0s 14ms/step - loss: 0.1820 - accuracy: 0.9479 - val_loss: 0.0792 - val_accuracy: 1.0000\n",
      "Epoch 236/500\n",
      "3/3 [==============================] - 0s 14ms/step - loss: 0.1628 - accuracy: 0.9479 - val_loss: 0.0788 - val_accuracy: 1.0000\n",
      "Epoch 237/500\n",
      "3/3 [==============================] - 0s 13ms/step - loss: 0.2086 - accuracy: 0.9271 - val_loss: 0.0788 - val_accuracy: 1.0000\n",
      "Epoch 238/500\n",
      "3/3 [==============================] - 0s 13ms/step - loss: 0.1728 - accuracy: 0.9375 - val_loss: 0.0790 - val_accuracy: 1.0000\n",
      "Epoch 239/500\n",
      "3/3 [==============================] - 0s 12ms/step - loss: 0.1538 - accuracy: 0.9375 - val_loss: 0.0787 - val_accuracy: 1.0000\n",
      "Epoch 240/500\n",
      "3/3 [==============================] - 0s 11ms/step - loss: 0.1850 - accuracy: 0.9375 - val_loss: 0.0788 - val_accuracy: 1.0000\n",
      "Epoch 241/500\n",
      "3/3 [==============================] - 0s 13ms/step - loss: 0.1793 - accuracy: 0.9167 - val_loss: 0.0788 - val_accuracy: 1.0000\n",
      "Epoch 242/500\n",
      "3/3 [==============================] - 0s 12ms/step - loss: 0.1594 - accuracy: 0.9479 - val_loss: 0.0788 - val_accuracy: 1.0000\n",
      "Epoch 243/500\n",
      "3/3 [==============================] - 0s 12ms/step - loss: 0.1385 - accuracy: 0.9479 - val_loss: 0.0792 - val_accuracy: 1.0000\n",
      "Epoch 244/500\n",
      "3/3 [==============================] - 0s 15ms/step - loss: 0.1822 - accuracy: 0.9375 - val_loss: 0.0792 - val_accuracy: 0.9583\n",
      "Epoch 245/500\n",
      "3/3 [==============================] - 0s 14ms/step - loss: 0.1804 - accuracy: 0.9479 - val_loss: 0.0789 - val_accuracy: 0.9583\n",
      "Epoch 246/500\n",
      "3/3 [==============================] - 0s 14ms/step - loss: 0.1680 - accuracy: 0.9167 - val_loss: 0.0784 - val_accuracy: 0.9583\n",
      "Epoch 247/500\n",
      "3/3 [==============================] - 0s 13ms/step - loss: 0.1473 - accuracy: 0.9271 - val_loss: 0.0783 - val_accuracy: 0.9583\n",
      "Epoch 248/500\n",
      "3/3 [==============================] - 0s 15ms/step - loss: 0.1557 - accuracy: 0.9375 - val_loss: 0.0776 - val_accuracy: 0.9583\n",
      "Epoch 249/500\n",
      "3/3 [==============================] - 0s 13ms/step - loss: 0.1661 - accuracy: 0.9167 - val_loss: 0.0772 - val_accuracy: 0.9583\n",
      "Epoch 250/500\n",
      "3/3 [==============================] - 0s 12ms/step - loss: 0.1372 - accuracy: 0.9375 - val_loss: 0.0772 - val_accuracy: 0.9583\n",
      "Epoch 251/500\n",
      "3/3 [==============================] - 0s 12ms/step - loss: 0.1670 - accuracy: 0.9479 - val_loss: 0.0767 - val_accuracy: 0.9583\n",
      "Epoch 252/500\n",
      "3/3 [==============================] - 0s 12ms/step - loss: 0.2021 - accuracy: 0.8958 - val_loss: 0.0757 - val_accuracy: 0.9583\n",
      "Epoch 253/500\n",
      "3/3 [==============================] - 0s 13ms/step - loss: 0.1813 - accuracy: 0.9375 - val_loss: 0.0746 - val_accuracy: 1.0000\n",
      "Epoch 254/500\n",
      "3/3 [==============================] - 0s 14ms/step - loss: 0.1748 - accuracy: 0.9583 - val_loss: 0.0735 - val_accuracy: 1.0000\n",
      "Epoch 255/500\n",
      "3/3 [==============================] - 0s 15ms/step - loss: 0.1884 - accuracy: 0.9271 - val_loss: 0.0726 - val_accuracy: 1.0000\n",
      "Epoch 256/500\n",
      "3/3 [==============================] - 0s 23ms/step - loss: 0.1580 - accuracy: 0.9375 - val_loss: 0.0721 - val_accuracy: 1.0000\n",
      "Epoch 257/500\n",
      "3/3 [==============================] - 0s 14ms/step - loss: 0.1695 - accuracy: 0.9479 - val_loss: 0.0717 - val_accuracy: 1.0000\n",
      "Epoch 258/500\n",
      "3/3 [==============================] - 0s 12ms/step - loss: 0.1678 - accuracy: 0.9479 - val_loss: 0.0718 - val_accuracy: 1.0000\n",
      "Epoch 259/500\n",
      "3/3 [==============================] - 0s 12ms/step - loss: 0.1237 - accuracy: 0.9583 - val_loss: 0.0714 - val_accuracy: 1.0000\n",
      "Epoch 260/500\n",
      "3/3 [==============================] - 0s 11ms/step - loss: 0.1533 - accuracy: 0.9271 - val_loss: 0.0712 - val_accuracy: 1.0000\n",
      "Epoch 261/500\n",
      "3/3 [==============================] - 0s 15ms/step - loss: 0.1094 - accuracy: 0.9688 - val_loss: 0.0707 - val_accuracy: 1.0000\n",
      "Epoch 262/500\n",
      "3/3 [==============================] - 0s 14ms/step - loss: 0.1516 - accuracy: 0.9479 - val_loss: 0.0703 - val_accuracy: 1.0000\n",
      "Epoch 263/500\n",
      "3/3 [==============================] - 0s 15ms/step - loss: 0.1835 - accuracy: 0.9375 - val_loss: 0.0697 - val_accuracy: 1.0000\n",
      "Epoch 264/500\n",
      "3/3 [==============================] - 0s 17ms/step - loss: 0.1503 - accuracy: 0.9583 - val_loss: 0.0693 - val_accuracy: 1.0000\n",
      "Epoch 265/500\n",
      "3/3 [==============================] - 0s 18ms/step - loss: 0.1442 - accuracy: 0.9375 - val_loss: 0.0687 - val_accuracy: 1.0000\n",
      "Epoch 266/500\n",
      "3/3 [==============================] - 0s 15ms/step - loss: 0.1540 - accuracy: 0.9479 - val_loss: 0.0673 - val_accuracy: 1.0000\n",
      "Epoch 267/500\n",
      "3/3 [==============================] - 0s 12ms/step - loss: 0.1857 - accuracy: 0.9062 - val_loss: 0.0666 - val_accuracy: 1.0000\n",
      "Epoch 268/500\n",
      "3/3 [==============================] - 0s 12ms/step - loss: 0.1607 - accuracy: 0.9375 - val_loss: 0.0655 - val_accuracy: 1.0000\n",
      "Epoch 269/500\n",
      "3/3 [==============================] - 0s 12ms/step - loss: 0.2034 - accuracy: 0.9271 - val_loss: 0.0646 - val_accuracy: 1.0000\n",
      "Epoch 270/500\n",
      "3/3 [==============================] - 0s 13ms/step - loss: 0.1200 - accuracy: 0.9479 - val_loss: 0.0637 - val_accuracy: 1.0000\n",
      "Epoch 271/500\n",
      "3/3 [==============================] - 0s 13ms/step - loss: 0.1501 - accuracy: 0.9479 - val_loss: 0.0629 - val_accuracy: 1.0000\n",
      "Epoch 272/500\n",
      "3/3 [==============================] - 0s 15ms/step - loss: 0.1434 - accuracy: 0.9583 - val_loss: 0.0617 - val_accuracy: 1.0000\n",
      "Epoch 273/500\n",
      "3/3 [==============================] - 0s 14ms/step - loss: 0.1811 - accuracy: 0.9271 - val_loss: 0.0610 - val_accuracy: 1.0000\n",
      "Epoch 274/500\n",
      "3/3 [==============================] - 0s 13ms/step - loss: 0.1336 - accuracy: 0.9583 - val_loss: 0.0605 - val_accuracy: 1.0000\n",
      "Epoch 275/500\n",
      "3/3 [==============================] - 0s 13ms/step - loss: 0.1557 - accuracy: 0.9583 - val_loss: 0.0601 - val_accuracy: 1.0000\n",
      "Epoch 276/500\n",
      "3/3 [==============================] - 0s 12ms/step - loss: 0.1505 - accuracy: 0.9583 - val_loss: 0.0595 - val_accuracy: 1.0000\n",
      "Epoch 277/500\n",
      "3/3 [==============================] - 0s 15ms/step - loss: 0.1079 - accuracy: 1.0000 - val_loss: 0.0591 - val_accuracy: 1.0000\n",
      "Epoch 278/500\n",
      "3/3 [==============================] - 0s 16ms/step - loss: 0.1273 - accuracy: 0.9583 - val_loss: 0.0585 - val_accuracy: 1.0000\n",
      "Epoch 279/500\n",
      "3/3 [==============================] - 0s 15ms/step - loss: 0.1459 - accuracy: 0.9479 - val_loss: 0.0580 - val_accuracy: 1.0000\n",
      "Epoch 280/500\n",
      "3/3 [==============================] - 0s 14ms/step - loss: 0.1396 - accuracy: 0.9375 - val_loss: 0.0577 - val_accuracy: 1.0000\n",
      "Epoch 281/500\n",
      "3/3 [==============================] - 0s 15ms/step - loss: 0.1213 - accuracy: 0.9688 - val_loss: 0.0580 - val_accuracy: 1.0000\n",
      "Epoch 282/500\n",
      "3/3 [==============================] - 0s 15ms/step - loss: 0.1700 - accuracy: 0.9479 - val_loss: 0.0583 - val_accuracy: 1.0000\n",
      "Epoch 283/500\n",
      "3/3 [==============================] - 0s 16ms/step - loss: 0.1564 - accuracy: 0.9479 - val_loss: 0.0585 - val_accuracy: 1.0000\n",
      "Epoch 284/500\n",
      "3/3 [==============================] - 0s 12ms/step - loss: 0.1660 - accuracy: 0.9375 - val_loss: 0.0583 - val_accuracy: 1.0000\n",
      "Epoch 285/500\n",
      "3/3 [==============================] - 0s 12ms/step - loss: 0.1499 - accuracy: 0.9375 - val_loss: 0.0576 - val_accuracy: 1.0000\n",
      "Epoch 286/500\n",
      "3/3 [==============================] - 0s 14ms/step - loss: 0.1397 - accuracy: 0.9688 - val_loss: 0.0571 - val_accuracy: 1.0000\n",
      "Epoch 287/500\n",
      "3/3 [==============================] - 0s 14ms/step - loss: 0.1534 - accuracy: 0.9479 - val_loss: 0.0570 - val_accuracy: 1.0000\n",
      "Epoch 288/500\n",
      "3/3 [==============================] - 0s 13ms/step - loss: 0.1327 - accuracy: 0.9583 - val_loss: 0.0570 - val_accuracy: 1.0000\n",
      "Epoch 289/500\n",
      "3/3 [==============================] - 0s 14ms/step - loss: 0.1438 - accuracy: 0.9479 - val_loss: 0.0570 - val_accuracy: 1.0000\n",
      "Epoch 290/500\n",
      "3/3 [==============================] - 0s 14ms/step - loss: 0.1646 - accuracy: 0.9479 - val_loss: 0.0569 - val_accuracy: 1.0000\n",
      "Epoch 291/500\n",
      "3/3 [==============================] - 0s 14ms/step - loss: 0.1680 - accuracy: 0.9375 - val_loss: 0.0568 - val_accuracy: 1.0000\n",
      "Epoch 292/500\n",
      "3/3 [==============================] - 0s 12ms/step - loss: 0.1456 - accuracy: 0.9375 - val_loss: 0.0566 - val_accuracy: 1.0000\n",
      "Epoch 293/500\n",
      "3/3 [==============================] - 0s 11ms/step - loss: 0.1721 - accuracy: 0.9583 - val_loss: 0.0560 - val_accuracy: 1.0000\n",
      "Epoch 294/500\n",
      "3/3 [==============================] - 0s 12ms/step - loss: 0.1400 - accuracy: 0.9375 - val_loss: 0.0558 - val_accuracy: 1.0000\n",
      "Epoch 295/500\n",
      "3/3 [==============================] - 0s 15ms/step - loss: 0.1418 - accuracy: 0.9583 - val_loss: 0.0563 - val_accuracy: 1.0000\n",
      "Epoch 296/500\n",
      "3/3 [==============================] - 0s 13ms/step - loss: 0.1291 - accuracy: 0.9479 - val_loss: 0.0566 - val_accuracy: 1.0000\n",
      "Epoch 297/500\n",
      "3/3 [==============================] - 0s 14ms/step - loss: 0.1315 - accuracy: 0.9688 - val_loss: 0.0570 - val_accuracy: 1.0000\n",
      "Epoch 298/500\n",
      "3/3 [==============================] - 0s 16ms/step - loss: 0.1390 - accuracy: 0.9375 - val_loss: 0.0570 - val_accuracy: 1.0000\n",
      "Epoch 299/500\n",
      "3/3 [==============================] - 0s 13ms/step - loss: 0.1611 - accuracy: 0.9375 - val_loss: 0.0566 - val_accuracy: 1.0000\n",
      "Epoch 300/500\n",
      "3/3 [==============================] - 0s 14ms/step - loss: 0.0970 - accuracy: 0.9688 - val_loss: 0.0563 - val_accuracy: 1.0000\n",
      "Epoch 301/500\n",
      "3/3 [==============================] - 0s 11ms/step - loss: 0.1360 - accuracy: 0.9479 - val_loss: 0.0560 - val_accuracy: 1.0000\n",
      "Epoch 302/500\n",
      "3/3 [==============================] - 0s 15ms/step - loss: 0.1737 - accuracy: 0.9167 - val_loss: 0.0556 - val_accuracy: 1.0000\n",
      "Epoch 303/500\n",
      "3/3 [==============================] - 0s 16ms/step - loss: 0.1435 - accuracy: 0.9479 - val_loss: 0.0551 - val_accuracy: 1.0000\n",
      "Epoch 304/500\n",
      "3/3 [==============================] - 0s 15ms/step - loss: 0.1806 - accuracy: 0.8958 - val_loss: 0.0545 - val_accuracy: 1.0000\n",
      "Epoch 305/500\n",
      "3/3 [==============================] - 0s 13ms/step - loss: 0.1427 - accuracy: 0.9583 - val_loss: 0.0538 - val_accuracy: 1.0000\n",
      "Epoch 306/500\n",
      "3/3 [==============================] - 0s 14ms/step - loss: 0.2023 - accuracy: 0.9271 - val_loss: 0.0532 - val_accuracy: 1.0000\n",
      "Epoch 307/500\n",
      "3/3 [==============================] - 0s 16ms/step - loss: 0.1353 - accuracy: 0.9688 - val_loss: 0.0529 - val_accuracy: 1.0000\n",
      "Epoch 308/500\n",
      "3/3 [==============================] - 0s 13ms/step - loss: 0.1655 - accuracy: 0.9375 - val_loss: 0.0531 - val_accuracy: 1.0000\n",
      "Epoch 309/500\n",
      "3/3 [==============================] - 0s 11ms/step - loss: 0.1449 - accuracy: 0.9479 - val_loss: 0.0536 - val_accuracy: 1.0000\n",
      "Epoch 310/500\n",
      "3/3 [==============================] - 0s 12ms/step - loss: 0.1169 - accuracy: 0.9583 - val_loss: 0.0536 - val_accuracy: 1.0000\n",
      "Epoch 311/500\n",
      "3/3 [==============================] - 0s 15ms/step - loss: 0.1292 - accuracy: 0.9479 - val_loss: 0.0533 - val_accuracy: 1.0000\n",
      "Epoch 312/500\n",
      "3/3 [==============================] - 0s 12ms/step - loss: 0.1739 - accuracy: 0.9583 - val_loss: 0.0536 - val_accuracy: 1.0000\n",
      "Epoch 313/500\n",
      "3/3 [==============================] - 0s 15ms/step - loss: 0.1221 - accuracy: 0.9479 - val_loss: 0.0539 - val_accuracy: 1.0000\n",
      "Epoch 314/500\n",
      "3/3 [==============================] - 0s 16ms/step - loss: 0.1581 - accuracy: 0.9375 - val_loss: 0.0540 - val_accuracy: 1.0000\n",
      "Epoch 315/500\n",
      "3/3 [==============================] - 0s 16ms/step - loss: 0.1351 - accuracy: 0.9375 - val_loss: 0.0539 - val_accuracy: 1.0000\n",
      "Epoch 316/500\n",
      "3/3 [==============================] - 0s 14ms/step - loss: 0.1385 - accuracy: 0.9583 - val_loss: 0.0537 - val_accuracy: 1.0000\n",
      "Epoch 317/500\n",
      "3/3 [==============================] - 0s 16ms/step - loss: 0.1344 - accuracy: 0.9479 - val_loss: 0.0537 - val_accuracy: 1.0000\n"
     ]
    }
   ],
   "source": [
    "callback = EarlyStopping(monitor='val_loss', patience=10)\n",
    "\n",
    "iris_history = iris_model.fit(X_train_scaled, y_final, epochs=500, validation_split=0.2, callbacks=[callback])"
   ]
  },
  {
   "cell_type": "code",
   "execution_count": 43,
   "metadata": {
    "colab": {
     "base_uri": "https://localhost:8080/",
     "height": 597
    },
    "collapsed": false,
    "id": "A-DuncWCPZo2",
    "jupyter": {
     "outputs_hidden": false
    },
    "outputId": "e1b42d86-b72e-411c-bb43-e0d9278e02c9"
   },
   "outputs": [
    {
     "data": {
      "text/plain": [
       "(<Figure size 1000x500 with 2 Axes>,\n",
       " array([<Axes: title={'center': 'Loss'}, xlabel='Epochs', ylabel='Loss'>,\n",
       "        <Axes: title={'center': 'Accuracy'}, xlabel='Epochs', ylabel='Accuracy'>],\n",
       "       dtype=object))"
      ]
     },
     "execution_count": 43,
     "metadata": {},
     "output_type": "execute_result"
    },
    {
     "data": {
      "image/png": "[encoded data removed]",
      "text/plain": [
       "<Figure size 1000x500 with 2 Axes>"
      ]
     },
     "metadata": {},
     "output_type": "display_data"
    }
   ],
   "source": [
    "plot_history(iris_history)"
   ]
  },
  {
   "cell_type": "markdown",
   "metadata": {
    "collapsed": false,
    "id": "dEaPhtI_P2eA",
    "jupyter": {
     "outputs_hidden": false
    }
   },
   "source": [
    "### Teste"
   ]
  },
  {
   "cell_type": "markdown",
   "metadata": {
    "collapsed": false,
    "id": "2mHUXW-hxoHC",
    "jupyter": {
     "outputs_hidden": false
    }
   },
   "source": [
    "É possível avaliar a performance do modelo com o conjunto de teste usando o\n",
    "\n",
    "    Model.evaluate(\n",
    "      x=None,\n",
    "      y=None,\n",
    "      batch_size=None,\n",
    "      verbose=\"auto\",\n",
    "      sample_weight=None,\n",
    "      steps=None,\n",
    "      callbacks=None,\n",
    "      return_dict=False,\n",
    "      **kwargs\n",
    "    )\n",
    "\n",
    "que retorna o valor de perda e a métrica utilizada para o conjunto de teste.\n"
   ]
  },
  {
   "cell_type": "code",
   "execution_count": 44,
   "metadata": {
    "colab": {
     "base_uri": "https://localhost:8080/"
    },
    "collapsed": false,
    "id": "Jt_7pkqnXDFE",
    "jupyter": {
     "outputs_hidden": false
    },
    "outputId": "00c1dc0e-bf69-45e7-898d-773b10acce3e"
   },
   "outputs": [
    {
     "name": "stdout",
     "output_type": "stream",
     "text": [
      "1/1 [==============================] - 0s 23ms/step - loss: 0.0880 - accuracy: 0.9667\n"
     ]
    },
    {
     "data": {
      "text/plain": [
       "[0.08801940828561783, 0.9666666388511658]"
      ]
     },
     "execution_count": 44,
     "metadata": {},
     "output_type": "execute_result"
    }
   ],
   "source": [
    "iris_model.evaluate(X_test_scaled, y_real)"
   ]
  },
  {
   "cell_type": "markdown",
   "metadata": {
    "collapsed": false,
    "id": "6c_tpllLyUEj",
    "jupyter": {
     "outputs_hidden": false
    }
   },
   "source": [
    "Caso seja necessário fazer uma avaliação mais detalhada com outras métricas ou visualizar a matriz de confusão é possível utilizar o\n",
    "\n",
    "    Model.predict(x, batch_size=None, verbose=\"auto\", steps=None, callbacks=None)\n",
    "que retorna valores a saída do *softmax* e que pode ser usado para determinar a classe prevista para cada amostra."
   ]
  },
  {
   "cell_type": "code",
   "execution_count": 45,
   "metadata": {
    "colab": {
     "base_uri": "https://localhost:8080/"
    },
    "collapsed": false,
    "id": "UHomblAfP7V3",
    "jupyter": {
     "outputs_hidden": false
    },
    "outputId": "ec11b1ac-3639-4ea5-e3ac-1e0fefba5f80"
   },
   "outputs": [
    {
     "name": "stdout",
     "output_type": "stream",
     "text": [
      "1/1 [==============================] - 0s 71ms/step\n"
     ]
    }
   ],
   "source": [
    "y_pred = iris_model.predict(X_test_scaled)"
   ]
  },
  {
   "cell_type": "code",
   "execution_count": 46,
   "metadata": {
    "colab": {
     "base_uri": "https://localhost:8080/"
    },
    "collapsed": false,
    "id": "EXzPUfj62sJS",
    "jupyter": {
     "outputs_hidden": false
    },
    "outputId": "e748faca-e6de-4cce-f2e9-70dd3587ea09"
   },
   "outputs": [
    {
     "data": {
      "text/plain": [
       "array([[9.9998599e-01, 1.0137606e-05, 3.7667264e-06],\n",
       "       [9.9993998e-01, 5.0832616e-05, 9.1971870e-06],\n",
       "       [6.3365599e-04, 1.3723017e-02, 9.8564321e-01],\n",
       "       [9.9987006e-01, 1.1881418e-04, 1.1123501e-05],\n",
       "       [9.9997061e-01, 2.3639433e-05, 5.6663748e-06],\n",
       "       [1.0182914e-02, 2.0011511e-01, 7.8970206e-01],\n",
       "       [9.9938029e-01, 5.8181171e-04, 3.7895279e-05],\n",
       "       [6.8259781e-04, 1.1783327e-02, 9.8753411e-01],\n",
       "       [6.0659135e-04, 7.6203998e-03, 9.9177283e-01],\n",
       "       [9.9968123e-01, 2.8719776e-04, 3.1627824e-05],\n",
       "       [9.9999064e-01, 6.8466238e-06, 2.4524209e-06],\n",
       "       [9.9998397e-01, 1.2648885e-05, 3.3518638e-06],\n",
       "       [9.9994522e-01, 4.5886689e-05, 8.7745657e-06],\n",
       "       [9.9998838e-01, 7.3129690e-06, 4.2707379e-06],\n",
       "       [4.0201601e-02, 8.5554934e-01, 1.0424909e-01],\n",
       "       [9.8724067e-03, 8.2016093e-01, 1.6996656e-01],\n",
       "       [6.0082364e-01, 3.9820081e-01, 9.7561575e-04],\n",
       "       [5.6273541e-03, 9.7026372e-01, 2.4109012e-02],\n",
       "       [4.8500070e-04, 4.0158764e-03, 9.9549907e-01],\n",
       "       [1.9462939e-03, 9.8062330e-01, 1.7430359e-02],\n",
       "       [1.2465948e-02, 3.3973321e-01, 6.4780080e-01],\n",
       "       [6.9458629e-03, 9.7197145e-01, 2.1082653e-02],\n",
       "       [1.2269219e-03, 1.2058114e-02, 9.8671502e-01],\n",
       "       [3.7452397e-03, 9.7314095e-01, 2.3113957e-02],\n",
       "       [2.0795222e-03, 9.5896602e-01, 3.8954377e-02],\n",
       "       [9.9995136e-01, 4.0589992e-05, 8.0045893e-06],\n",
       "       [9.9996829e-01, 2.5955896e-05, 5.7334119e-06],\n",
       "       [8.2203718e-03, 1.6881754e-01, 8.2296211e-01],\n",
       "       [9.9998641e-01, 8.9444129e-06, 4.6161349e-06],\n",
       "       [5.4925662e-03, 5.6976233e-02, 9.3753117e-01]], dtype=float32)"
      ]
     },
     "execution_count": 46,
     "metadata": {},
     "output_type": "execute_result"
    }
   ],
   "source": [
    "y_pred"
   ]
  },
  {
   "cell_type": "markdown",
   "metadata": {
    "collapsed": false,
    "id": "Vq1ej1FA-zMx",
    "jupyter": {
     "outputs_hidden": false
    }
   },
   "source": [
    "#### Matriz de confusão"
   ]
  },
  {
   "cell_type": "code",
   "execution_count": 47,
   "metadata": {
    "collapsed": false,
    "id": "FToTW-ew7Voy",
    "jupyter": {
     "outputs_hidden": false
    }
   },
   "outputs": [],
   "source": [
    "import numpy as np\n",
    "from sklearn.metrics import confusion_matrix, ConfusionMatrixDisplay"
   ]
  },
  {
   "cell_type": "code",
   "execution_count": 48,
   "metadata": {
    "colab": {
     "base_uri": "https://localhost:8080/"
    },
    "collapsed": false,
    "id": "AZXhe6Hg8tZb",
    "jupyter": {
     "outputs_hidden": false
    },
    "outputId": "57289ac3-2898-4888-a0bf-d658ddae02d3"
   },
   "outputs": [
    {
     "data": {
      "text/plain": [
       "array([0, 0, 2, 0, 0, 2, 0, 2, 2, 0, 0, 0, 0, 0, 1, 1, 0, 1, 2, 1, 2, 1,\n",
       "       2, 1, 1, 0, 0, 2, 0, 2])"
      ]
     },
     "execution_count": 48,
     "metadata": {},
     "output_type": "execute_result"
    }
   ],
   "source": [
    "y = np.argmax(y_pred, axis=1)\n",
    "y"
   ]
  },
  {
   "cell_type": "code",
   "execution_count": 49,
   "metadata": {
    "colab": {
     "base_uri": "https://localhost:8080/"
    },
    "collapsed": false,
    "id": "9fbkUkJD80qx",
    "jupyter": {
     "outputs_hidden": false
    },
    "outputId": "8980d4aa-707f-43f2-9421-f25c052a2abd"
   },
   "outputs": [
    {
     "data": {
      "text/plain": [
       "array([0, 0, 2, 0, 0, 2, 0, 2, 2, 0, 0, 0, 0, 0, 1, 1, 0, 1, 2, 1, 1, 1,\n",
       "       2, 1, 1, 0, 0, 2, 0, 2])"
      ]
     },
     "execution_count": 49,
     "metadata": {},
     "output_type": "execute_result"
    }
   ],
   "source": [
    "y_test"
   ]
  },
  {
   "cell_type": "code",
   "execution_count": 50,
   "metadata": {
    "colab": {
     "base_uri": "https://localhost:8080/",
     "height": 449
    },
    "collapsed": false,
    "id": "-SRvZOai7usS",
    "jupyter": {
     "outputs_hidden": false
    },
    "outputId": "b31a7e01-5c9c-4bac-f8b9-9740420d9118"
   },
   "outputs": [
    {
     "data": {
      "image/png": "[encoded data removed]",
      "text/plain": [
       "<Figure size 640x480 with 2 Axes>"
      ]
     },
     "metadata": {},
     "output_type": "display_data"
    }
   ],
   "source": [
    "cm = confusion_matrix(y_test, y)\n",
    "disp = ConfusionMatrixDisplay(confusion_matrix=cm)\n",
    "disp.plot(cmap=plt.cm.Blues)\n",
    "plt.show()"
   ]
  },
  {
   "cell_type": "markdown",
   "metadata": {
    "collapsed": false,
    "id": "vIQRwMpb-3OK",
    "jupyter": {
     "outputs_hidden": false
    }
   },
   "source": [
    "#### Métricas"
   ]
  },
  {
   "cell_type": "code",
   "execution_count": 51,
   "metadata": {
    "colab": {
     "base_uri": "https://localhost:8080/"
    },
    "collapsed": false,
    "id": "gdtVS_kd_OtD",
    "jupyter": {
     "outputs_hidden": false
    },
    "outputId": "b5fa083e-947d-4925-d2bd-90d95488af91"
   },
   "outputs": [
    {
     "name": "stdout",
     "output_type": "stream",
     "text": [
      "{\n",
      "    \"0\": {\n",
      "        \"precision\": 1.0,\n",
      "        \"recall\": 1.0,\n",
      "        \"f1-score\": 1.0,\n",
      "        \"support\": 14.0\n",
      "    },\n",
      "    \"1\": {\n",
      "        \"precision\": 1.0,\n",
      "        \"recall\": 0.875,\n",
      "        \"f1-score\": 0.9333333333333333,\n",
      "        \"support\": 8.0\n",
      "    },\n",
      "    \"2\": {\n",
      "        \"precision\": 0.8888888888888888,\n",
      "        \"recall\": 1.0,\n",
      "        \"f1-score\": 0.9411764705882353,\n",
      "        \"support\": 8.0\n",
      "    },\n",
      "    \"accuracy\": 0.9666666666666667,\n",
      "    \"macro avg\": {\n",
      "        \"precision\": 0.9629629629629629,\n",
      "        \"recall\": 0.9583333333333334,\n",
      "        \"f1-score\": 0.9581699346405229,\n",
      "        \"support\": 30.0\n",
      "    },\n",
      "    \"weighted avg\": {\n",
      "        \"precision\": 0.9703703703703703,\n",
      "        \"recall\": 0.9666666666666667,\n",
      "        \"f1-score\": 0.9665359477124185,\n",
      "        \"support\": 30.0\n",
      "    }\n",
      "}\n",
      "              precision    recall  f1-score   support\n",
      "\n",
      "           0       1.00      1.00      1.00        14\n",
      "           1       1.00      0.88      0.93         8\n",
      "           2       0.89      1.00      0.94         8\n",
      "\n",
      "    accuracy                           0.97        30\n",
      "   macro avg       0.96      0.96      0.96        30\n",
      "weighted avg       0.97      0.97      0.97        30\n",
      "\n"
     ]
    }
   ],
   "source": [
    "from sklearn.metrics import classification_report\n",
    "import json\n",
    "\n",
    "cr = classification_report(y_test, y, output_dict=True)\n",
    "\n",
    "print(json.dumps(cr, indent=4, ensure_ascii=False))\n",
    "print(classification_report(y_test, y))"
   ]
  },
  {
   "cell_type": "code",
   "execution_count": 52,
   "metadata": {},
   "outputs": [
    {
     "data": {
      "text/plain": [
       "\u001b[0;31mSignature:\u001b[0m\n",
       "\u001b[0mplot_model\u001b[0m\u001b[0;34m(\u001b[0m\u001b[0;34m\u001b[0m\n",
       "\u001b[0;34m\u001b[0m    \u001b[0mmodel\u001b[0m\u001b[0;34m,\u001b[0m\u001b[0;34m\u001b[0m\n",
       "\u001b[0;34m\u001b[0m    \u001b[0mto_file\u001b[0m\u001b[0;34m=\u001b[0m\u001b[0;34m'model.png'\u001b[0m\u001b[0;34m,\u001b[0m\u001b[0;34m\u001b[0m\n",
       "\u001b[0;34m\u001b[0m    \u001b[0mshow_shapes\u001b[0m\u001b[0;34m=\u001b[0m\u001b[0;32mFalse\u001b[0m\u001b[0;34m,\u001b[0m\u001b[0;34m\u001b[0m\n",
       "\u001b[0;34m\u001b[0m    \u001b[0mshow_dtype\u001b[0m\u001b[0;34m=\u001b[0m\u001b[0;32mFalse\u001b[0m\u001b[0;34m,\u001b[0m\u001b[0;34m\u001b[0m\n",
       "\u001b[0;34m\u001b[0m    \u001b[0mshow_layer_names\u001b[0m\u001b[0;34m=\u001b[0m\u001b[0;32mTrue\u001b[0m\u001b[0;34m,\u001b[0m\u001b[0;34m\u001b[0m\n",
       "\u001b[0;34m\u001b[0m    \u001b[0mrankdir\u001b[0m\u001b[0;34m=\u001b[0m\u001b[0;34m'TB'\u001b[0m\u001b[0;34m,\u001b[0m\u001b[0;34m\u001b[0m\n",
       "\u001b[0;34m\u001b[0m    \u001b[0mexpand_nested\u001b[0m\u001b[0;34m=\u001b[0m\u001b[0;32mFalse\u001b[0m\u001b[0;34m,\u001b[0m\u001b[0;34m\u001b[0m\n",
       "\u001b[0;34m\u001b[0m    \u001b[0mdpi\u001b[0m\u001b[0;34m=\u001b[0m\u001b[0;36m96\u001b[0m\u001b[0;34m,\u001b[0m\u001b[0;34m\u001b[0m\n",
       "\u001b[0;34m\u001b[0m    \u001b[0mlayer_range\u001b[0m\u001b[0;34m=\u001b[0m\u001b[0;32mNone\u001b[0m\u001b[0;34m,\u001b[0m\u001b[0;34m\u001b[0m\n",
       "\u001b[0;34m\u001b[0m    \u001b[0mshow_layer_activations\u001b[0m\u001b[0;34m=\u001b[0m\u001b[0;32mFalse\u001b[0m\u001b[0;34m,\u001b[0m\u001b[0;34m\u001b[0m\n",
       "\u001b[0;34m\u001b[0m    \u001b[0mshow_trainable\u001b[0m\u001b[0;34m=\u001b[0m\u001b[0;32mFalse\u001b[0m\u001b[0;34m,\u001b[0m\u001b[0;34m\u001b[0m\n",
       "\u001b[0;34m\u001b[0m\u001b[0;34m)\u001b[0m\u001b[0;34m\u001b[0m\u001b[0;34m\u001b[0m\u001b[0m\n",
       "\u001b[0;31mDocstring:\u001b[0m\n",
       "Converts a Keras model to dot format and save to a file.\n",
       "\n",
       "Example:\n",
       "\n",
       "```python\n",
       "input = tf.keras.Input(shape=(100,), dtype='int32', name='input')\n",
       "x = tf.keras.layers.Embedding(\n",
       "    output_dim=512, input_dim=10000, input_length=100)(input)\n",
       "x = tf.keras.layers.LSTM(32)(x)\n",
       "x = tf.keras.layers.Dense(64, activation='relu')(x)\n",
       "x = tf.keras.layers.Dense(64, activation='relu')(x)\n",
       "x = tf.keras.layers.Dense(64, activation='relu')(x)\n",
       "output = tf.keras.layers.Dense(1, activation='sigmoid', name='output')(x)\n",
       "model = tf.keras.Model(inputs=[input], outputs=[output])\n",
       "dot_img_file = '/tmp/model_1.png'\n",
       "tf.keras.utils.plot_model(model, to_file=dot_img_file, show_shapes=True)\n",
       "```\n",
       "\n",
       "Args:\n",
       "  model: A Keras model instance\n",
       "  to_file: File name of the plot image.\n",
       "  show_shapes: whether to display shape information.\n",
       "  show_dtype: whether to display layer dtypes.\n",
       "  show_layer_names: whether to display layer names.\n",
       "  rankdir: `rankdir` argument passed to PyDot,\n",
       "      a string specifying the format of the plot: 'TB' creates a vertical\n",
       "        plot; 'LR' creates a horizontal plot.\n",
       "  expand_nested: Whether to expand nested models into clusters.\n",
       "  dpi: Dots per inch.\n",
       "  layer_range: input of `list` containing two `str` items, which is the\n",
       "    starting layer name and ending layer name (both inclusive) indicating\n",
       "    the range of layers for which the plot will be generated. It also\n",
       "    accepts regex patterns instead of exact name. In such case, start\n",
       "    predicate will be the first element it matches to `layer_range[0]` and\n",
       "    the end predicate will be the last element it matches to\n",
       "    `layer_range[1]`. By default `None` which considers all layers of model.\n",
       "    Note that you must pass range such that the resultant subgraph must be\n",
       "    complete.\n",
       "  show_layer_activations: Display layer activations (only for layers that\n",
       "    have an `activation` property).\n",
       "  show_trainable: whether to display if a layer is trainable. Displays 'T'\n",
       "    when the layer is trainable and 'NT' when it is not trainable.\n",
       "\n",
       "Raises:\n",
       "  ImportError: if graphviz or pydot are not available.\n",
       "  ValueError: if `plot_model` is called before the model is built.\n",
       "\n",
       "Returns:\n",
       "  A Jupyter notebook Image object if Jupyter is installed.\n",
       "  This enables in-line display of the model plots in notebooks.\n",
       "\u001b[0;31mFile:\u001b[0m      ~/Desktop/nlp-tir/.venv/lib/python3.10/site-packages/keras/src/utils/vis_utils.py\n",
       "\u001b[0;31mType:\u001b[0m      function"
      ]
     },
     "metadata": {},
     "output_type": "display_data"
    }
   ],
   "source": [
    "plot_model?"
   ]
  },
  {
   "cell_type": "code",
   "execution_count": null,
   "metadata": {},
   "outputs": [],
   "source": []
  }
 ],
 "metadata": {
  "colab": {
   "collapsed_sections": [
    "Wi3lJEAh2qy_",
    "R5o871Y_lbdy",
    "SAQb3ejbn3bV"
   ],
   "provenance": []
  },
  "kernelspec": {
   "display_name": "Python 3 (ipykernel)",
   "language": "python",
   "name": "python3"
  },
  "language_info": {
   "codemirror_mode": {
    "name": "ipython",
    "version": 3
   },
   "file_extension": ".py",
   "mimetype": "text/x-python",
   "name": "python",
   "nbconvert_exporter": "python",
   "pygments_lexer": "ipython3",
   "version": "3.10.12"
  },
  "name": "keras_intro.ipynb"
 },
 "nbformat": 4,
 "nbformat_minor": 4
}
