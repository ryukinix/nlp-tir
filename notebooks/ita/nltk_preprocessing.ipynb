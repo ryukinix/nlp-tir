{
 "cells": [
  {
   "cell_type": "markdown",
   "id": "003c9f0a-7eaa-47b3-a354-a0ab03d41d14",
   "metadata": {
    "collapsed": false
   },
   "source": [
    "# Author\n",
    "\n",
    "Prof. Dr. Carlos Forster (ITA Professor)"
   ]
  },
  {
   "cell_type": "code",
   "execution_count": 1,
   "id": "fd43f1a1-9e2f-40ac-8533-d90f1108ae45",
   "metadata": {
    "colab": {
     "base_uri": "https://localhost:8080/"
    },
    "collapsed": false,
    "id": "UuQWvf3Q93_K",
    "outputId": "987f9a6b-c67c-473c-83a8-eedd8d3d04ef"
   },
   "outputs": [
    {
     "name": "stderr",
     "output_type": "stream",
     "text": [
      "[nltk_data] Downloading package punkt to /home/lerax/nltk_data...\n",
      "[nltk_data]   Unzipping tokenizers/punkt.zip.\n",
      "[nltk_data] Downloading package stopwords to /home/lerax/nltk_data...\n",
      "[nltk_data]   Unzipping corpora/stopwords.zip.\n",
      "[nltk_data] Downloading package wordnet to /home/lerax/nltk_data...\n",
      "[nltk_data] Downloading package averaged_perceptron_tagger to\n",
      "[nltk_data]     /home/lerax/nltk_data...\n",
      "[nltk_data]   Unzipping taggers/averaged_perceptron_tagger.zip.\n",
      "[nltk_data] Downloading package tagsets to /home/lerax/nltk_data...\n",
      "[nltk_data]   Unzipping help/tagsets.zip.\n",
      "[nltk_data] Downloading package treebank to /home/lerax/nltk_data...\n",
      "[nltk_data]   Unzipping corpora/treebank.zip.\n",
      "[nltk_data] Downloading package omw to /home/lerax/nltk_data...\n"
     ]
    },
    {
     "data": {
      "text/plain": [
       "True"
      ]
     },
     "execution_count": 1,
     "metadata": {},
     "output_type": "execute_result"
    }
   ],
   "source": [
    "import nltk\n",
    "nltk.download('punkt')\n",
    "nltk.download('stopwords')\n",
    "nltk.download('wordnet')\n",
    "nltk.download('averaged_perceptron_tagger')\n",
    "nltk.download('tagsets')\n",
    "nltk.download('treebank')\n",
    "nltk.download('omw')"
   ]
  },
  {
   "cell_type": "markdown",
   "id": "0bf0775e-b983-456e-9d85-f58860025099",
   "metadata": {
    "collapsed": false,
    "id": "1jZKPAIZ-N11"
   },
   "source": [
    "# Roteiro baseado no livro \"Mastering Natural Language Processing with Python\" (Chopra, Joshi, Mathur)"
   ]
  },
  {
   "cell_type": "code",
   "execution_count": 2,
   "id": "836174ca-2b1d-4264-9d2d-5c0aaceddcf1",
   "metadata": {
    "collapsed": false,
    "id": "uBJUy1Zi-ckl"
   },
   "outputs": [],
   "source": [
    "text = \"Welcome students. NLP isn't an interesting subject. However, knowledge about many things is needed to achieve full undestanding.\"\n"
   ]
  },
  {
   "cell_type": "markdown",
   "id": "01b6c309-88ab-457c-a619-6e5c54d54677",
   "metadata": {
    "collapsed": false,
    "id": "vdMIjmbB-_ov"
   },
   "source": [
    "# Tokenização em sentenças e palavras."
   ]
  },
  {
   "cell_type": "code",
   "execution_count": 3,
   "id": "3dbb6a14-2cc9-4b29-b06f-be438ff53742",
   "metadata": {
    "colab": {
     "base_uri": "https://localhost:8080/"
    },
    "collapsed": false,
    "id": "6fC8_LMZ_I0j",
    "outputId": "e21a23b2-3f51-4109-c61f-fd24ee1f98b7"
   },
   "outputs": [
    {
     "data": {
      "text/plain": [
       "['Welcome students.',\n",
       " \"NLP isn't an interesting subject.\",\n",
       " 'However, knowledge about many things is needed to achieve full undestanding.']"
      ]
     },
     "execution_count": 3,
     "metadata": {},
     "output_type": "execute_result"
    }
   ],
   "source": [
    "from nltk.tokenize import sent_tokenize\n",
    "sent_tokenize(text)"
   ]
  },
  {
   "cell_type": "code",
   "execution_count": 5,
   "id": "2945d31d-9bb9-4718-bc83-8d917083e1c6",
   "metadata": {
    "collapsed": false,
    "id": "Rayb-TTw_dcj"
   },
   "outputs": [],
   "source": [
    "port_tokenizer=nltk.data.load('tokenizers/punkt/portuguese.pickle')"
   ]
  },
  {
   "cell_type": "code",
   "execution_count": 6,
   "id": "435485b9-08ac-492a-b50d-f1862fb4829f",
   "metadata": {
    "colab": {
     "base_uri": "https://localhost:8080/"
    },
    "collapsed": false,
    "id": "ZJvU8MoJC7BU",
    "outputId": "76ef03b4-714c-4fd0-be05-f451f6cd6f84"
   },
   "outputs": [
    {
     "data": {
      "text/plain": [
       "['Meu caro Sr. Carlos, que conheci faz tempo.',\n",
       " 'Fale ao Dr. Robert que está tudo O.K.']"
      ]
     },
     "execution_count": 6,
     "metadata": {},
     "output_type": "execute_result"
    }
   ],
   "source": [
    "port_tokenizer.tokenize(\"Meu caro Sr. Carlos, que conheci faz tempo. Fale ao Dr. Robert que está tudo O.K.\")"
   ]
  },
  {
   "cell_type": "code",
   "execution_count": 7,
   "id": "fbaf37a0-86fe-4328-a432-335d8d9d4a09",
   "metadata": {
    "colab": {
     "base_uri": "https://localhost:8080/"
    },
    "collapsed": false,
    "id": "EEzHv4PQ_uYq",
    "outputId": "5bdfc9b6-7732-475e-f37b-9fee7cf135c1"
   },
   "outputs": [
    {
     "data": {
      "text/plain": [
       "['Este texto em português é \"tokenizado\".', 'Cortesia do NLTK.']"
      ]
     },
     "execution_count": 7,
     "metadata": {},
     "output_type": "execute_result"
    }
   ],
   "source": [
    "port_text='Este texto em português é \"tokenizado\". Cortesia do NLTK.'\n",
    "port_tokenizer.tokenize(port_text)\n"
   ]
  },
  {
   "cell_type": "code",
   "execution_count": null,
   "id": "e66ee3e5-1496-4661-9b0b-4cfea96fe8ad",
   "metadata": {
    "colab": {
     "base_uri": "https://localhost:8080/"
    },
    "collapsed": false,
    "id": "x67RTXTGAdZj",
    "outputId": "8f202314-cc70-40da-ca70-202fe7d10b1c"
   },
   "outputs": [
    {
     "data": {
      "text/plain": [
       "['Welcome',\n",
       " 'students',\n",
       " '.',\n",
       " 'NLP',\n",
       " 'is',\n",
       " \"n't\",\n",
       " 'an',\n",
       " 'interesting',\n",
       " 'subject',\n",
       " '.',\n",
       " 'However',\n",
       " ',',\n",
       " 'knowledge',\n",
       " 'about',\n",
       " 'many',\n",
       " 'things',\n",
       " 'is',\n",
       " 'needed',\n",
       " 'to',\n",
       " 'achieve',\n",
       " 'full',\n",
       " 'undestanding',\n",
       " '.']"
      ]
     },
     "execution_count": 10,
     "metadata": {},
     "output_type": "execute_result"
    }
   ],
   "source": [
    "nltk.word_tokenize(text)"
   ]
  },
  {
   "cell_type": "code",
   "execution_count": null,
   "id": "1581581e-cc74-4c59-9f67-181a8c302873",
   "metadata": {
    "colab": {
     "base_uri": "https://localhost:8080/",
     "height": 35
    },
    "collapsed": false,
    "id": "3ZTnsqWgAuh1",
    "outputId": "cbfbeb49-5db6-4baf-d1e2-6af05a35bbfd"
   },
   "outputs": [
    {
     "data": {
      "text/plain": [
       "['I', 'do', \"n't\", 'know', '.']"
      ]
     },
     "execution_count": 7,
     "metadata": {
      "tags": []
     },
     "output_type": "execute_result"
    }
   ],
   "source": [
    "nltk.word_tokenize(\"I don't know.\")"
   ]
  },
  {
   "cell_type": "code",
   "execution_count": null,
   "id": "145857e3-feec-4e71-8c83-d832ace5d794",
   "metadata": {
    "colab": {
     "base_uri": "https://localhost:8080/",
     "height": 35
    },
    "collapsed": false,
    "id": "duNWRcvLBO3Q",
    "outputId": "1d4d44ec-6d4b-4f1d-c23b-195508b31cf6"
   },
   "outputs": [
    {
     "data": {
      "text/plain": [
       "['I', 'don', \"'\", 't', 'know', '.']"
      ]
     },
     "execution_count": 8,
     "metadata": {
      "tags": []
     },
     "output_type": "execute_result"
    }
   ],
   "source": [
    "from nltk.tokenize import WordPunctTokenizer\n",
    "tokenizer=WordPunctTokenizer()\n",
    "tokenizer.tokenize(\" I don't know.\")"
   ]
  },
  {
   "cell_type": "code",
   "execution_count": null,
   "id": "2aa2b7f3-fcdc-467b-bcfa-4d1f194a72f5",
   "metadata": {
    "colab": {
     "base_uri": "https://localhost:8080/",
     "height": 35
    },
    "collapsed": false,
    "id": "VE1TYrMzBjQB",
    "outputId": "33fc2618-37cf-4fbc-fbea-2393831ad048"
   },
   "outputs": [
    {
     "data": {
      "text/plain": [
       "['I', \"don't\", 'know']"
      ]
     },
     "execution_count": 9,
     "metadata": {
      "tags": []
     },
     "output_type": "execute_result"
    }
   ],
   "source": [
    "\"I don't know\".split()"
   ]
  },
  {
   "cell_type": "markdown",
   "id": "457069a0-1a1c-4b2a-a70e-34e739df9933",
   "metadata": {
    "collapsed": false,
    "id": "OVlOhoVzCHN5"
   },
   "source": [
    "Normalização de texto."
   ]
  },
  {
   "cell_type": "code",
   "execution_count": null,
   "id": "4c8f9fe1-4f29-4c03-9483-ec4b98046c10",
   "metadata": {
    "colab": {
     "base_uri": "https://localhost:8080/",
     "height": 293
    },
    "collapsed": false,
    "id": "G4zxzEu_CDD4",
    "outputId": "1cfbdde5-12fe-4d1d-d646-b98846ea2e8c"
   },
   "outputs": [
    {
     "data": {
      "text/plain": [
       "[['Welcome', 'students', '.'],\n",
       " ['NLP', 'is', 'an', 'interesting', 'subject', '.'],\n",
       " ['However',\n",
       "  ',',\n",
       "  'knowledge',\n",
       "  'about',\n",
       "  'many',\n",
       "  'things',\n",
       "  'is',\n",
       "  'needed',\n",
       "  'to',\n",
       "  'achieve',\n",
       "  'full',\n",
       "  'undestanding',\n",
       "  '.']]"
      ]
     },
     "execution_count": 10,
     "metadata": {
      "tags": []
     },
     "output_type": "execute_result"
    }
   ],
   "source": [
    "[nltk.word_tokenize(a) for a in sent_tokenize(text)]"
   ]
  },
  {
   "cell_type": "code",
   "execution_count": null,
   "id": "39e0699d-4a76-4a11-adff-c0aee5419a03",
   "metadata": {
    "colab": {
     "base_uri": "https://localhost:8080/",
     "height": 35
    },
    "collapsed": false,
    "id": "pjxabZ8qEslA",
    "outputId": "0e08b272-973b-4596-de95-194342a5f6a7"
   },
   "outputs": [
    {
     "data": {
      "text/plain": [
       "'welcome students. nlp is an interesting subject. however, knowledge about many things is needed to achieve full undestanding.'"
      ]
     },
     "execution_count": 11,
     "metadata": {
      "tags": []
     },
     "output_type": "execute_result"
    }
   ],
   "source": [
    "text.lower()"
   ]
  },
  {
   "cell_type": "code",
   "execution_count": null,
   "id": "7cea4ca8-e829-4fa6-ad47-9eb0a6c795c0",
   "metadata": {
    "colab": {
     "base_uri": "https://localhost:8080/",
     "height": 329
    },
    "collapsed": false,
    "id": "nmkjsdPjEx85",
    "outputId": "b2c7b5b7-a225-4d0a-b15b-41e3e1ef3522"
   },
   "outputs": [
    {
     "data": {
      "text/plain": [
       "['Welcome',\n",
       " 'students',\n",
       " '.',\n",
       " 'NLP',\n",
       " 'interesting',\n",
       " 'subject',\n",
       " '.',\n",
       " 'However',\n",
       " ',',\n",
       " 'knowledge',\n",
       " 'many',\n",
       " 'things',\n",
       " 'needed',\n",
       " 'achieve',\n",
       " 'full',\n",
       " 'undestanding',\n",
       " '.']"
      ]
     },
     "execution_count": 12,
     "metadata": {
      "tags": []
     },
     "output_type": "execute_result"
    }
   ],
   "source": [
    "from nltk.corpus import stopwords\n",
    "stops=set(stopwords.words('english'))\n",
    "words=nltk.word_tokenize(text)\n",
    "[word for word in words if word not in stops]"
   ]
  },
  {
   "cell_type": "code",
   "execution_count": null,
   "id": "4a06f1a4-c959-41f5-8948-f6a7dd9054ac",
   "metadata": {
    "colab": {
     "base_uri": "https://localhost:8080/",
     "height": 219
    },
    "collapsed": false,
    "id": "kIhc9q3vGHHI",
    "outputId": "905196e4-8f9b-46af-c768-4528e382b1fe"
   },
   "outputs": [
    {
     "data": {
      "text/plain": [
       "['Este',\n",
       " 'texto',\n",
       " 'português',\n",
       " 'é',\n",
       " '``',\n",
       " 'tokenizado',\n",
       " \"''\",\n",
       " '.',\n",
       " 'Cortesia',\n",
       " 'NLTK',\n",
       " '.']"
      ]
     },
     "execution_count": 13,
     "metadata": {
      "tags": []
     },
     "output_type": "execute_result"
    }
   ],
   "source": [
    "from nltk.corpus import stopwords\n",
    "stops=set(stopwords.words('portuguese'))\n",
    "words=nltk.word_tokenize(port_text)\n",
    "[word for word in words if word not in stops]"
   ]
  },
  {
   "cell_type": "code",
   "execution_count": null,
   "id": "1ab4da47-5572-466f-9ed5-6f6458efbd2d",
   "metadata": {
    "colab": {
     "base_uri": "https://localhost:8080/",
     "height": 146
    },
    "collapsed": false,
    "id": "u24BCYqhGbma",
    "outputId": "1a2ce561-e575-4bbf-b677-8e865c0ae75f"
   },
   "outputs": [
    {
     "data": {
      "text/plain": [
       "[['de', 'a', 'o', 'que', 'e', 'do', 'da', 'em'],\n",
       " ['para', 'com', 'não', 'uma', 'os', 'no', 'se', 'na'],\n",
       " ['mais', 'as', 'dos', 'como', 'mas', 'ao', 'ele', 'das'],\n",
       " ['seu', 'sua', 'ou', 'quando', 'muito', 'nos', 'já', 'eu'],\n",
       " ['só', 'pelo', 'pela', 'até', 'isso', 'ela', 'entre', 'depois'],\n",
       " ['mesmo', 'aos', 'seus', 'quem', 'nas', 'me', 'esse', 'eles'],\n",
       " ['essa', 'num', 'nem', 'suas', 'meu', 'às', 'minha', 'numa']]"
      ]
     },
     "execution_count": 14,
     "metadata": {
      "tags": []
     },
     "output_type": "execute_result"
    }
   ],
   "source": [
    "w=stopwords.words('portuguese')\n",
    "[[w[i+k*8] for i in range(k,k+8)] for k in range(7)]"
   ]
  },
  {
   "cell_type": "markdown",
   "id": "3c81f0f9-73eb-497c-adfa-b2a59aabd514",
   "metadata": {
    "collapsed": false,
    "id": "AOkNvDkMEpga"
   },
   "source": [
    "Similaridade."
   ]
  },
  {
   "cell_type": "code",
   "execution_count": null,
   "id": "9a5d198b-a52e-4374-8ad2-3cff58af64fe",
   "metadata": {
    "colab": {
     "base_uri": "https://localhost:8080/"
    },
    "collapsed": false,
    "id": "lzl8-GSwJbH4",
    "outputId": "d2c415d7-a5d2-44cb-9240-0c772b23432e"
   },
   "outputs": [
    {
     "data": {
      "text/plain": [
       "(0.6, 0.8, 1.0)"
      ]
     },
     "execution_count": 15,
     "metadata": {},
     "output_type": "execute_result"
    }
   ],
   "source": [
    "from nltk.metrics import *\n",
    "a = [1, 2, 3, 4, 5]\n",
    "b = [1, 1, 2, 4, 5]\n",
    "accuracy(a,b), precision(set(b),set(a)), recall(set(b),set(a))"
   ]
  },
  {
   "cell_type": "code",
   "execution_count": null,
   "id": "77ba2c1c-e80f-45d1-8666-1626bcd14fdc",
   "metadata": {
    "colab": {
     "base_uri": "https://localhost:8080/"
    },
    "collapsed": false,
    "id": "U7s8-aoXKYct",
    "outputId": "9e5b0021-56a0-4319-fe98-1f4fee2e9064"
   },
   "outputs": [
    {
     "data": {
      "text/plain": [
       "3"
      ]
     },
     "execution_count": 17,
     "metadata": {},
     "output_type": "execute_result"
    }
   ],
   "source": [
    "edit_distance(\"amora\",\"ambar\")"
   ]
  },
  {
   "cell_type": "code",
   "execution_count": null,
   "id": "52d7f4e2-04e5-406e-b0e1-ca8f82db5a71",
   "metadata": {
    "colab": {
     "base_uri": "https://localhost:8080/",
     "height": 35
    },
    "collapsed": false,
    "id": "ZybnttrZKlPa",
    "outputId": "4814e215-772f-43d8-8a2e-d78457a8358c"
   },
   "outputs": [
    {
     "data": {
      "text/plain": [
       "4"
      ]
     },
     "execution_count": 17,
     "metadata": {
      "tags": []
     },
     "output_type": "execute_result"
    }
   ],
   "source": [
    "edit_distance(\"sunday\",\"sydney\")//"
   ]
  },
  {
   "cell_type": "code",
   "execution_count": null,
   "id": "5b53adaa-9b92-40a2-b062-bc5fe270cb4e",
   "metadata": {
    "colab": {
     "base_uri": "https://localhost:8080/",
     "height": 35
    },
    "collapsed": false,
    "id": "d_a0tzfqKxZI",
    "outputId": "ef32506b-fa34-4fec-b38d-582a98f5e14a"
   },
   "outputs": [
    {
     "data": {
      "text/plain": [
       "0.2"
      ]
     },
     "execution_count": 18,
     "metadata": {
      "tags": []
     },
     "output_type": "execute_result"
    }
   ],
   "source": [
    "jaccard_distance(set(a),set(b))"
   ]
  },
  {
   "cell_type": "code",
   "execution_count": null,
   "id": "3f15812e-fd36-4787-a075-0725678aa420",
   "metadata": {
    "colab": {
     "base_uri": "https://localhost:8080/",
     "height": 35
    },
    "collapsed": false,
    "id": "1U5DwabeLfIW",
    "outputId": "2ab22ae1-2d30-4b76-e507-9b19530f8d0b"
   },
   "outputs": [
    {
     "data": {
      "text/plain": [
       "1.0"
      ]
     },
     "execution_count": 19,
     "metadata": {
      "tags": []
     },
     "output_type": "execute_result"
    }
   ],
   "source": [
    "binary_distance([1,2,3],[1,4,5])"
   ]
  },
  {
   "cell_type": "code",
   "execution_count": null,
   "id": "d771d2af-a0a4-4b7c-b948-9174fc6caa2b",
   "metadata": {
    "colab": {
     "base_uri": "https://localhost:8080/",
     "height": 35
    },
    "collapsed": false,
    "id": "MOwKMvI8MCki",
    "outputId": "ccb6dbff-8178-4aea-ba99-4f696e1aab1b"
   },
   "outputs": [
    {
     "data": {
      "text/plain": [
       "0.268"
      ]
     },
     "execution_count": 20,
     "metadata": {
      "tags": []
     },
     "output_type": "execute_result"
    }
   ],
   "source": [
    "masi_distance(set(a),set(b)-set([5]))"
   ]
  },
  {
   "cell_type": "markdown",
   "id": "3b594682-6922-4ac7-b340-60419e5901b8",
   "metadata": {
    "collapsed": false,
    "id": "4K1mdKCeQfyy"
   },
   "source": [
    "# Stemming"
   ]
  },
  {
   "cell_type": "code",
   "execution_count": null,
   "id": "59c1453d-748b-4ba1-9350-b591f4c23aa7",
   "metadata": {
    "colab": {
     "base_uri": "https://localhost:8080/",
     "height": 35
    },
    "collapsed": false,
    "id": "yh5vLVnUQi9F",
    "outputId": "c5e38e67-2a28-4bc4-c624-c25b7af4c2b1"
   },
   "outputs": [
    {
     "data": {
      "application/vnd.google.colaboratory.intrinsic+json": {
       "type": "string"
      },
      "text/plain": [
       "'work'"
      ]
     },
     "execution_count": 18,
     "metadata": {},
     "output_type": "execute_result"
    }
   ],
   "source": [
    "from nltk.stem import PorterStemmer\n",
    "stemmerporter = PorterStemmer()\n",
    "stemmerporter.stem('working')"
   ]
  },
  {
   "cell_type": "code",
   "execution_count": null,
   "id": "76be7a56-7570-4279-b739-7c9e8a76ad1c",
   "metadata": {
    "colab": {
     "base_uri": "https://localhost:8080/",
     "height": 35
    },
    "collapsed": false,
    "id": "J1knE6AdQy1p",
    "outputId": "1ee14d13-491a-4951-9e45-0af75de15300"
   },
   "outputs": [
    {
     "data": {
      "application/vnd.google.colaboratory.intrinsic+json": {
       "type": "string"
      },
      "text/plain": [
       "'happi'"
      ]
     },
     "execution_count": 19,
     "metadata": {},
     "output_type": "execute_result"
    }
   ],
   "source": [
    "stemmerporter.stem('happiness')"
   ]
  },
  {
   "cell_type": "code",
   "execution_count": null,
   "id": "b223a726-1939-406e-b457-4abf18ccd46c",
   "metadata": {
    "colab": {
     "base_uri": "https://localhost:8080/",
     "height": 35
    },
    "collapsed": false,
    "id": "BQwkOpH-KHDl",
    "outputId": "b27b93ec-0e54-4924-f55f-e8f1fd531019"
   },
   "outputs": [
    {
     "data": {
      "application/vnd.google.colaboratory.intrinsic+json": {
       "type": "string"
      },
      "text/plain": [
       "'sens'"
      ]
     },
     "execution_count": 21,
     "metadata": {},
     "output_type": "execute_result"
    }
   ],
   "source": [
    "stemmerporter.stem(\"sense\")"
   ]
  },
  {
   "cell_type": "code",
   "execution_count": null,
   "id": "c01220d8-1dfe-4b2b-9596-76ba928868d8",
   "metadata": {
    "colab": {
     "base_uri": "https://localhost:8080/",
     "height": 35
    },
    "collapsed": false,
    "id": "ZvP8fzLcRKDQ",
    "outputId": "e20a28c5-6c35-49a2-9c00-56b647aab7dd"
   },
   "outputs": [
    {
     "data": {
      "text/plain": [
       "'sensat'"
      ]
     },
     "execution_count": 23,
     "metadata": {
      "tags": []
     },
     "output_type": "execute_result"
    }
   ],
   "source": [
    "stemmerporter.stem('sensation')"
   ]
  },
  {
   "cell_type": "code",
   "execution_count": null,
   "id": "0d7cfb02-605e-4dbd-b13d-6e1b6810804c",
   "metadata": {
    "colab": {
     "base_uri": "https://localhost:8080/",
     "height": 35
    },
    "collapsed": false,
    "id": "h02D2H0BRUUb",
    "outputId": "52010318-7318-4713-9195-8fa89c5cb1f6"
   },
   "outputs": [
    {
     "data": {
      "text/plain": [
       "('sens', 'happy', 'work')"
      ]
     },
     "execution_count": 24,
     "metadata": {
      "tags": []
     },
     "output_type": "execute_result"
    }
   ],
   "source": [
    "stemmerlan=nltk.stem.LancasterStemmer()\n",
    "stemmerlan.stem('sensation'), stemmerlan.stem('happiness'), stemmerlan.stem('working')"
   ]
  },
  {
   "cell_type": "code",
   "execution_count": null,
   "id": "648b0836-1d3d-4836-ae88-3a260846845f",
   "metadata": {
    "colab": {
     "base_uri": "https://localhost:8080/",
     "height": 35
    },
    "collapsed": false,
    "id": "mDi1ZfUIR1Iv",
    "outputId": "8dbb5934-f224-47bd-cba1-ed504dbca1ea"
   },
   "outputs": [
    {
     "data": {
      "text/plain": [
       "['com', 'com', 'alegr', 'trabalh', 'sensaçã', 'sentiment']"
      ]
     },
     "execution_count": 26,
     "metadata": {
      "tags": []
     },
     "output_type": "execute_result"
    }
   ],
   "source": [
    "from nltk.stem import SnowballStemmer as snow\n",
    "sstem=snow('portuguese')\n",
    "[sstem.stem(x) for x in \"comendo comida alegria trabalhismo sensação sentimento\".split()]"
   ]
  },
  {
   "cell_type": "markdown",
   "id": "f6bffcf7-7b9e-4b5e-8f4c-f5239a3663b5",
   "metadata": {
    "collapsed": false,
    "id": "NhAqWrgRSwR0"
   },
   "source": [
    "# Lematização"
   ]
  },
  {
   "cell_type": "code",
   "execution_count": null,
   "id": "efae1f84-4e5a-4718-9aaa-9366f93a69f5",
   "metadata": {
    "colab": {
     "base_uri": "https://localhost:8080/",
     "height": 35
    },
    "collapsed": false,
    "id": "cDvMbey0Sy2g",
    "outputId": "dffd7198-92ec-4b4f-e70f-7e535e0fe38a"
   },
   "outputs": [
    {
     "data": {
      "text/plain": [
       "'working'"
      ]
     },
     "execution_count": 27,
     "metadata": {
      "tags": []
     },
     "output_type": "execute_result"
    }
   ],
   "source": [
    "import nltk\n",
    "from nltk.stem import WordNetLemmatizer\n",
    "lemmatizer_output=WordNetLemmatizer()\n",
    "lemmatizer_output.lemmatize('working')"
   ]
  },
  {
   "cell_type": "code",
   "execution_count": null,
   "id": "033a9b23-2346-4df8-ab1a-d7ef3d310c6a",
   "metadata": {
    "colab": {
     "base_uri": "https://localhost:8080/",
     "height": 164
    },
    "collapsed": false,
    "id": "9U2G8nuBTJng",
    "outputId": "d46dda94-2e16-44c7-e4b3-e306626764db"
   },
   "outputs": [
    {
     "data": {
      "text/plain": [
       "['working',\n",
       " 'work',\n",
       " 'unhappiness',\n",
       " 'sensation',\n",
       " 'sentiment',\n",
       " 'journey',\n",
       " 'journal',\n",
       " 'information']"
      ]
     },
     "execution_count": 28,
     "metadata": {
      "tags": []
     },
     "output_type": "execute_result"
    }
   ],
   "source": [
    "[lemmatizer_output.lemmatize(x, pos=\"n\") for x in \"working works unhappiness sensation sentiment journey journal information\".split()]"
   ]
  },
  {
   "cell_type": "code",
   "execution_count": 11,
   "id": "afbdcd81-b001-404f-9d0a-c547d90cfa72",
   "metadata": {
    "colab": {
     "base_uri": "https://localhost:8080/",
     "height": 634
    },
    "collapsed": false,
    "id": "VUJKrtUrT2YY",
    "outputId": "1ade8080-a8e4-4998-eeb6-a53b71b00398"
   },
   "outputs": [],
   "source": [
    "import enchant"
   ]
  },
  {
   "cell_type": "code",
   "execution_count": 12,
   "id": "0383d80e-7063-47d6-a99e-9d8784b54996",
   "metadata": {
    "colab": {
     "base_uri": "https://localhost:8080/",
     "height": 211
    },
    "collapsed": false,
    "id": "mUIa6HtTVQpU",
    "outputId": "8018d75b-5ca7-44bf-99f6-2c0ae58266f5"
   },
   "outputs": [
    {
     "data": {
      "text/plain": [
       "['what', 'is', 'the', 'problem', 'with', 'this', 'book']"
      ]
     },
     "execution_count": 12,
     "metadata": {},
     "output_type": "execute_result"
    }
   ],
   "source": [
    "s=enchant.Dict(\"en_US\")\n",
    "tok=[]\n",
    "def tokenize(st1):\n",
    "  if not st1:return\n",
    "  for j in range(len(st1),-1,-1):\n",
    "    if s.check(st1[0:j]):\n",
    "      tok.append(st1[0:j])\n",
    "      st1=st1[j:]\n",
    "      tokenize(st1)\n",
    "      break\n",
    "  return tok\n",
    "\n",
    "tokenize(\"whatistheproblemwiththisbook\")"
   ]
  },
  {
   "cell_type": "code",
   "execution_count": 13,
   "id": "8dbbf0a4-f7bb-4840-b1fd-f7e81f70f68c",
   "metadata": {
    "colab": {
     "base_uri": "https://localhost:8080/",
     "height": 293
    },
    "collapsed": false,
    "id": "05AxR1uidcy6",
    "outputId": "decf116d-79bf-4ede-99f8-36d41500a61f"
   },
   "outputs": [
    {
     "data": {
      "text/plain": [
       "['prone',\n",
       " 'probe',\n",
       " 'pron',\n",
       " 'pone',\n",
       " 'prune',\n",
       " 'purine',\n",
       " 'Peron',\n",
       " 'prion',\n",
       " 'prong',\n",
       " 'crone',\n",
       " 'drone',\n",
       " 'krone',\n",
       " 'prole',\n",
       " 'prose',\n",
       " 'prove',\n",
       " 'preen',\n",
       " 'pruner']"
      ]
     },
     "execution_count": 13,
     "metadata": {},
     "output_type": "execute_result"
    }
   ],
   "source": [
    "s.suggest('prone')"
   ]
  },
  {
   "cell_type": "code",
   "execution_count": 14,
   "id": "6beb6ee1-a02e-416c-91e6-3fb71ba45781",
   "metadata": {
    "colab": {
     "base_uri": "https://localhost:8080/",
     "height": 72
    },
    "collapsed": false,
    "id": "dfXES8UWfEe_",
    "outputId": "652bdb73-884c-4355-e59d-65c3a3d1b941"
   },
   "outputs": [
    {
     "data": {
      "text/plain": [
       "[('en', <Enchant: Aspell Provider>),\n",
       " ('en_AU', <Enchant: Aspell Provider>),\n",
       " ('en_CA', <Enchant: Aspell Provider>),\n",
       " ('en_GB', <Enchant: Aspell Provider>),\n",
       " ('en_US', <Enchant: Aspell Provider>),\n",
       " ('en_ZA', <Enchant: Hunspell Provider>),\n",
       " ('pt_BR', <Enchant: Hunspell Provider>),\n",
       " ('pt_PT', <Enchant: Aspell Provider>)]"
      ]
     },
     "execution_count": 14,
     "metadata": {},
     "output_type": "execute_result"
    }
   ],
   "source": [
    "enchant.list_dicts()"
   ]
  },
  {
   "cell_type": "code",
   "execution_count": 15,
   "id": "a7c13ce1-80de-4383-abc3-13167e74e862",
   "metadata": {
    "colab": {
     "base_uri": "https://localhost:8080/",
     "height": 274
    },
    "collapsed": false,
    "id": "EvtcFPrZO4ir",
    "outputId": "5b96b2b2-eba0-49cc-f7e4-b74ac795a6f2"
   },
   "outputs": [
    {
     "data": {
      "text/plain": [
       "['eu',\n",
       " 'não',\n",
       " 'tenho',\n",
       " 'ameno',\n",
       " 'ri',\n",
       " 'd',\n",
       " 'é',\n",
       " 'ia',\n",
       " 'de',\n",
       " 'como',\n",
       " 'se',\n",
       " 'separais',\n",
       " 's',\n",
       " 'o']"
      ]
     },
     "execution_count": 15,
     "metadata": {},
     "output_type": "execute_result"
    }
   ],
   "source": [
    "s=enchant.Dict(\"pt_BR\")\n",
    "tok=[]\n",
    "def tokenize(st1):\n",
    "  if not st1:return\n",
    "  for j in range(len(st1),-1,-1):\n",
    "    if s.check(st1[0:j]):\n",
    "      tok.append(st1[0:j])\n",
    "      st1=st1[j:]\n",
    "      tokenize(st1)\n",
    "      break\n",
    "  return tok\n",
    "\n",
    "tokenize(\"eunãotenhoamenoridéiadecomoseseparaisso\")"
   ]
  },
  {
   "cell_type": "markdown",
   "id": "d470b92e-f690-44f1-ba40-6a48f8d64ea8",
   "metadata": {
    "collapsed": false,
    "id": "5mDr-DPjXZcf"
   },
   "source": [
    "# POS tagging"
   ]
  },
  {
   "cell_type": "code",
   "execution_count": null,
   "id": "4187ea2c-7eb1-4d12-a5e4-cba8f080e07f",
   "metadata": {
    "colab": {
     "background_save": true,
     "base_uri": "https://localhost:8080/",
     "height": 127
    },
    "collapsed": false,
    "id": "wGjb5NV3XdTJ",
    "outputId": "197cd4b9-441e-4851-e4e7-482cd84dd9d2"
   },
   "outputs": [
    {
     "data": {
      "text/plain": [
       "[('It', 'PRP'),\n",
       " ('is', 'VBZ'),\n",
       " ('a', 'DT'),\n",
       " ('pleasant', 'JJ'),\n",
       " ('day', 'NN'),\n",
       " ('today', 'NN')]"
      ]
     },
     "execution_count": 26,
     "metadata": {},
     "output_type": "execute_result"
    }
   ],
   "source": [
    "text1=nltk.word_tokenize(\"It is a pleasant day today\")\n",
    "nltk.pos_tag(text1)"
   ]
  },
  {
   "cell_type": "code",
   "execution_count": null,
   "id": "c74b162d-d054-471e-93b2-bc8e3518bc6b",
   "metadata": {
    "colab": {
     "base_uri": "https://localhost:8080/",
     "height": 90
    },
    "collapsed": false,
    "id": "Cshwrtt3X06J",
    "outputId": "5a135d16-d655-4503-b378-a95dabc2f008"
   },
   "outputs": [
    {
     "name": "stdout",
     "output_type": "stream",
     "text": [
      "VBZ: verb, present tense, 3rd person singular\n",
      "    bases reconstructs marks mixes displeases seals carps weaves snatches\n",
      "    slumps stretches authorizes smolders pictures emerges stockpiles\n",
      "    seduces fizzes uses bolsters slaps speaks pleads ...\n"
     ]
    }
   ],
   "source": [
    "nltk.help.upenn_tagset('VBZ')"
   ]
  },
  {
   "cell_type": "code",
   "execution_count": null,
   "id": "2904a1f7-74f9-4eb6-adb9-c848f8358969",
   "metadata": {
    "colab": {
     "background_save": true,
     "base_uri": "https://localhost:8080/",
     "height": 201
    },
    "collapsed": false,
    "id": "KqjthWtdb6Sn",
    "outputId": "5b92543f-1d87-4f22-8ba1-aab56222956b"
   },
   "outputs": [
    {
     "data": {
      "text/plain": [
       "[('Now', 'RB'),\n",
       " (',', ','),\n",
       " ('I', 'PRP'),\n",
       " ('can', 'MD'),\n",
       " ('open', 'VB'),\n",
       " ('a', 'DT'),\n",
       " ('can', 'MD'),\n",
       " ('of', 'IN'),\n",
       " ('beer', 'NN')]"
      ]
     },
     "execution_count": 28,
     "metadata": {},
     "output_type": "execute_result"
    }
   ],
   "source": [
    "nltk.pos_tag(nltk.word_tokenize(\"Now, I cannot bear the pain of bear\"))"
   ]
  },
  {
   "cell_type": "code",
   "execution_count": null,
   "id": "05440676-7ba0-4192-b7c1-6bb3432477f9",
   "metadata": {
    "colab": {
     "base_uri": "https://localhost:8080/",
     "height": 348
    },
    "collapsed": false,
    "id": "KA-95CFXf6UO",
    "outputId": "39900df6-da2c-4231-d4bd-d711b57e4c3a"
   },
   "outputs": [
    {
     "data": {
      "text/plain": [
       "['Pierre',\n",
       " 'Vinken',\n",
       " ',',\n",
       " '61',\n",
       " 'years',\n",
       " 'old',\n",
       " ',',\n",
       " 'will',\n",
       " 'join',\n",
       " 'the',\n",
       " 'board',\n",
       " 'as',\n",
       " 'a',\n",
       " 'nonexecutive',\n",
       " 'director',\n",
       " 'Nov.',\n",
       " '29',\n",
       " '.']"
      ]
     },
     "execution_count": 39,
     "metadata": {
      "tags": []
     },
     "output_type": "execute_result"
    }
   ],
   "source": [
    "from nltk.tag import BigramTagger\n",
    "from nltk.corpus import treebank\n",
    "training_1= treebank.tagged_sents()[:7000]\n",
    "bigramtagger=BigramTagger(training_1)\n",
    "treebank.sents()[0]\n"
   ]
  },
  {
   "cell_type": "code",
   "execution_count": null,
   "id": "9f7d3b2c-7b8b-4cf1-937d-37839eff4621",
   "metadata": {
    "colab": {
     "base_uri": "https://localhost:8080/",
     "height": 348
    },
    "collapsed": false,
    "id": "81cRXGzogwOx",
    "outputId": "ec06c023-1775-4406-9297-2223ee5c89fb"
   },
   "outputs": [
    {
     "data": {
      "text/plain": [
       "[('Pierre', 'NNP'),\n",
       " ('Vinken', 'NNP'),\n",
       " (',', ','),\n",
       " ('61', 'CD'),\n",
       " ('years', 'NNS'),\n",
       " ('old', 'JJ'),\n",
       " (',', ','),\n",
       " ('will', 'MD'),\n",
       " ('join', 'VB'),\n",
       " ('the', 'DT'),\n",
       " ('board', 'NN'),\n",
       " ('as', 'IN'),\n",
       " ('a', 'DT'),\n",
       " ('nonexecutive', 'JJ'),\n",
       " ('director', 'NN'),\n",
       " ('Nov.', 'NNP'),\n",
       " ('29', 'CD'),\n",
       " ('.', '.')]"
      ]
     },
     "execution_count": 40,
     "metadata": {
      "tags": []
     },
     "output_type": "execute_result"
    }
   ],
   "source": [
    "bigramtagger.tag(treebank.sents()[0])\n"
   ]
  },
  {
   "cell_type": "code",
   "execution_count": null,
   "id": "d5d0ad7d-cac5-45a0-a899-591125e0ffa0",
   "metadata": {
    "colab": {
     "base_uri": "https://localhost:8080/",
     "height": 35
    },
    "collapsed": false,
    "id": "5scJD_Ykg4v_",
    "outputId": "d684ee8f-117d-4e53-dc9b-931f69f310fa"
   },
   "outputs": [
    {
     "data": {
      "text/plain": [
       "0.9171131227292321"
      ]
     },
     "execution_count": 41,
     "metadata": {
      "tags": []
     },
     "output_type": "execute_result"
    }
   ],
   "source": [
    "testing_1 = treebank.tagged_sents()[2000:]\n",
    "bigramtagger.evaluate(testing_1)"
   ]
  },
  {
   "cell_type": "code",
   "execution_count": null,
   "id": "6cc474db-a1ff-47ec-87d3-1b13575c1647",
   "metadata": {
    "colab": {
     "base_uri": "https://localhost:8080/",
     "height": 90
    },
    "collapsed": false,
    "id": "Ea7n38nvhqj5",
    "outputId": "5156aab2-b862-482f-97a1-a81db09ec759"
   },
   "outputs": [
    {
     "name": "stdout",
     "output_type": "stream",
     "text": [
      "(S\n",
      "  (NP A/DT wise/JJ small/JJ girl/NN of/IN village/NN)\n",
      "  became/VBD\n",
      "  (NP leader/NN))\n"
     ]
    }
   ],
   "source": [
    "sent=[(\"A\",\"DT\"),(\"wise\", \"JJ\"), (\"small\", \"JJ\"),(\"girl\", \"NN\"),\n",
    "(\"of\", \"IN\"), (\"village\", \"NN\"), (\"became\", \"VBD\"), (\"leader\", \"NN\")]\n",
    "grammar = \"NP: {<DT>?<JJ>*<NN><IN>?<NN>*}\"\n",
    "find = nltk.RegexpParser(grammar)\n",
    "res = find.parse(sent)\n",
    "print(res)"
   ]
  },
  {
   "cell_type": "code",
   "execution_count": null,
   "id": "789253ab-0ab9-4e4a-bd4c-4cdca89a0ef2",
   "metadata": {
    "colab": {
     "base_uri": "https://localhost:8080/",
     "height": 439
    },
    "collapsed": false,
    "id": "N8u3jbKPjdEq",
    "outputId": "6d6716cb-c7b8-428b-db81-ec12faef96a5"
   },
   "outputs": [
    {
     "name": "stdout",
     "output_type": "stream",
     "text": [
      "digraph G {\n",
      "0[label=\"S\"];\n",
      "0->1;\n",
      "1[label=\"NP\"];\n",
      "1->2;\n",
      "2[label=\"A\\nDT\"];\n",
      "1->3;\n",
      "3[label=\"wise\\nJJ\"];\n",
      "1->4;\n",
      "4[label=\"small\\nJJ\"];\n",
      "1->5;\n",
      "5[label=\"girl\\nNN\"];\n",
      "1->6;\n",
      "6[label=\"of\\nIN\"];\n",
      "1->7;\n",
      "7[label=\"village\\nNN\"];\n",
      "0->8;\n",
      "8[label=\"became\\nVBD\"];\n",
      "0->9;\n",
      "9[label=\"NP\"];\n",
      "9->10;\n",
      "10[label=\"leader\\nNN\"];\n",
      "}\n"
     ]
    }
   ],
   "source": [
    "node=0\n",
    "\n",
    "def graph_tree(tree):\n",
    "  global node\n",
    "  node=0\n",
    "  def graf(tree):\n",
    "    global node\n",
    "    outs=\"\"\n",
    "    if type(tree)==nltk.tree.Tree:\n",
    "      s=str(node)\n",
    "      node += 1\n",
    "      outs += s+'[label=\"'+tree.label()+'\"];\\n'\n",
    "      for c in tree:\n",
    "        outs += s+\"->\"+str(node)+\";\\n\"\n",
    "        outs += graf(c)\n",
    "    else:\n",
    "      s=str(node)\n",
    "      node += 1\n",
    "      outs += s+'[label=\"'+str(tree[0])+'\\\\n'+str(tree[1])+'\"];\\n'\n",
    "    return outs\n",
    "\n",
    "  return \"digraph G {\\n\"+graf(tree)+\"}\"\n",
    "\n",
    "\n",
    "g=graph_tree(res)\n",
    "print(g)\n",
    "\n"
   ]
  },
  {
   "cell_type": "code",
   "execution_count": null,
   "id": "bec51044-6ee3-4278-bb95-4b2053ba8336",
   "metadata": {
    "collapsed": false,
    "id": "zaRNS5FSr9T8",
    "jupyter": {
     "outputs_hidden": true
    }
   },
   "outputs": [],
   "source": [
    "!apt-get install graphviz\n",
    "!pip install graphviz\n",
    "import graphviz"
   ]
  },
  {
   "cell_type": "code",
   "execution_count": null,
   "id": "c4b95a6b-affe-4749-aa41-a82f15a112a9",
   "metadata": {
    "collapsed": false,
    "id": "JAZpbWO3sJUc",
    "jupyter": {
     "outputs_hidden": true
    }
   },
   "outputs": [],
   "source": [
    "d=graphviz.Source(g)"
   ]
  },
  {
   "cell_type": "code",
   "execution_count": null,
   "id": "80929a7c-0a05-4811-939e-d611da9bdb60",
   "metadata": {
    "colab": {
     "base_uri": "https://localhost:8080/",
     "height": 318
    },
    "collapsed": false,
    "id": "u6Q3ubz8skqJ",
    "outputId": "416e9bdb-e46d-4b28-881b-3761b694dc33"
   },
   "outputs": [
    {
     "data": {
      "image/svg+xml": [
       "<?xml version=\"1.0\" encoding=\"UTF-8\" standalone=\"no\"?>\n",
       "<!DOCTYPE svg PUBLIC \"-//W3C//DTD SVG 1.1//EN\"\n",
       " \"http://www.w3.org/Graphics/SVG/1.1/DTD/svg11.dtd\">\n",
       "<!-- Generated by graphviz version 2.40.1 (20161225.0304)\n",
       " -->\n",
       "<!-- Title: G Pages: 1 -->\n",
       "<svg width=\"552pt\" height=\"223pt\"\n",
       " viewBox=\"0.00 0.00 552.36 223.48\" xmlns=\"http://www.w3.org/2000/svg\" xmlns:xlink=\"http://www.w3.org/1999/xlink\">\n",
       "<g id=\"graph0\" class=\"graph\" transform=\"scale(1 1) rotate(0) translate(4 219.4802)\">\n",
       "<title>G</title>\n",
       "<polygon fill=\"#ffffff\" stroke=\"transparent\" points=\"-4,4 -4,-219.4802 548.3553,-219.4802 548.3553,4 -4,4\"/>\n",
       "<!-- 0 -->\n",
       "<g id=\"node1\" class=\"node\">\n",
       "<title>0</title>\n",
       "<ellipse fill=\"none\" stroke=\"#000000\" cx=\"385\" cy=\"-197.4802\" rx=\"27\" ry=\"18\"/>\n",
       "<text text-anchor=\"middle\" x=\"385\" y=\"-193.7802\" font-family=\"Times,serif\" font-size=\"14.00\" fill=\"#000000\">S</text>\n",
       "</g>\n",
       "<!-- 1 -->\n",
       "<g id=\"node2\" class=\"node\">\n",
       "<title>1</title>\n",
       "<ellipse fill=\"none\" stroke=\"#000000\" cx=\"261\" cy=\"-116.6102\" rx=\"27\" ry=\"18\"/>\n",
       "<text text-anchor=\"middle\" x=\"261\" y=\"-112.9102\" font-family=\"Times,serif\" font-size=\"14.00\" fill=\"#000000\">NP</text>\n",
       "</g>\n",
       "<!-- 0&#45;&gt;1 -->\n",
       "<g id=\"edge1\" class=\"edge\">\n",
       "<title>0&#45;&gt;1</title>\n",
       "<path fill=\"none\" stroke=\"#000000\" d=\"M365.625,-184.8443C345.0893,-171.4514 312.4615,-150.1722 289.1024,-134.9379\"/>\n",
       "<polygon fill=\"#000000\" stroke=\"#000000\" points=\"290.9362,-131.9554 280.6482,-129.4243 287.1123,-137.8187 290.9362,-131.9554\"/>\n",
       "</g>\n",
       "<!-- 8 -->\n",
       "<g id=\"node9\" class=\"node\">\n",
       "<title>8</title>\n",
       "<ellipse fill=\"none\" stroke=\"#000000\" cx=\"385\" cy=\"-116.6102\" rx=\"41.9398\" ry=\"26.7407\"/>\n",
       "<text text-anchor=\"middle\" x=\"385\" y=\"-120.4102\" font-family=\"Times,serif\" font-size=\"14.00\" fill=\"#000000\">became</text>\n",
       "<text text-anchor=\"middle\" x=\"385\" y=\"-105.4102\" font-family=\"Times,serif\" font-size=\"14.00\" fill=\"#000000\">VBD</text>\n",
       "</g>\n",
       "<!-- 0&#45;&gt;8 -->\n",
       "<g id=\"edge8\" class=\"edge\">\n",
       "<title>0&#45;&gt;8</title>\n",
       "<path fill=\"none\" stroke=\"#000000\" d=\"M385,-179.1296C385,-171.5597 385,-162.5002 385,-153.6583\"/>\n",
       "<polygon fill=\"#000000\" stroke=\"#000000\" points=\"388.5001,-153.4808 385,-143.4808 381.5001,-153.4808 388.5001,-153.4808\"/>\n",
       "</g>\n",
       "<!-- 9 -->\n",
       "<g id=\"node10\" class=\"node\">\n",
       "<title>9</title>\n",
       "<ellipse fill=\"none\" stroke=\"#000000\" cx=\"490\" cy=\"-116.6102\" rx=\"27\" ry=\"18\"/>\n",
       "<text text-anchor=\"middle\" x=\"490\" y=\"-112.9102\" font-family=\"Times,serif\" font-size=\"14.00\" fill=\"#000000\">NP</text>\n",
       "</g>\n",
       "<!-- 0&#45;&gt;9 -->\n",
       "<g id=\"edge9\" class=\"edge\">\n",
       "<title>0&#45;&gt;9</title>\n",
       "<path fill=\"none\" stroke=\"#000000\" d=\"M402.8118,-183.7617C419.6311,-170.8077 445.0478,-151.232 464.1061,-136.5534\"/>\n",
       "<polygon fill=\"#000000\" stroke=\"#000000\" points=\"466.3139,-139.2708 472.1008,-130.396 462.0425,-133.725 466.3139,-139.2708\"/>\n",
       "</g>\n",
       "<!-- 2 -->\n",
       "<g id=\"node3\" class=\"node\">\n",
       "<title>2</title>\n",
       "<ellipse fill=\"none\" stroke=\"#000000\" cx=\"27\" cy=\"-26.8701\" rx=\"27\" ry=\"26.7407\"/>\n",
       "<text text-anchor=\"middle\" x=\"27\" y=\"-30.6701\" font-family=\"Times,serif\" font-size=\"14.00\" fill=\"#000000\">A</text>\n",
       "<text text-anchor=\"middle\" x=\"27\" y=\"-15.6701\" font-family=\"Times,serif\" font-size=\"14.00\" fill=\"#000000\">DT</text>\n",
       "</g>\n",
       "<!-- 1&#45;&gt;2 -->\n",
       "<g id=\"edge2\" class=\"edge\">\n",
       "<title>1&#45;&gt;2</title>\n",
       "<path fill=\"none\" stroke=\"#000000\" d=\"M234.9277,-111.2608C196.0061,-102.6385 121.0732,-83.5558 63,-53.7401 60.7538,-52.5869 58.5,-51.2956 56.2764,-49.9196\"/>\n",
       "<polygon fill=\"#000000\" stroke=\"#000000\" points=\"58.1811,-46.9827 47.93,-44.3057 54.2743,-52.7911 58.1811,-46.9827\"/>\n",
       "</g>\n",
       "<!-- 3 -->\n",
       "<g id=\"node4\" class=\"node\">\n",
       "<title>3</title>\n",
       "<ellipse fill=\"none\" stroke=\"#000000\" cx=\"102\" cy=\"-26.8701\" rx=\"29.8983\" ry=\"26.7407\"/>\n",
       "<text text-anchor=\"middle\" x=\"102\" y=\"-30.6701\" font-family=\"Times,serif\" font-size=\"14.00\" fill=\"#000000\">wise</text>\n",
       "<text text-anchor=\"middle\" x=\"102\" y=\"-15.6701\" font-family=\"Times,serif\" font-size=\"14.00\" fill=\"#000000\">JJ</text>\n",
       "</g>\n",
       "<!-- 1&#45;&gt;3 -->\n",
       "<g id=\"edge3\" class=\"edge\">\n",
       "<title>1&#45;&gt;3</title>\n",
       "<path fill=\"none\" stroke=\"#000000\" d=\"M238.8863,-106.026C214.4723,-94.1119 174.2263,-73.7901 141,-53.7401 138.7824,-52.402 136.5201,-50.9863 134.2577,-49.5324\"/>\n",
       "<polygon fill=\"#000000\" stroke=\"#000000\" points=\"135.8957,-46.4194 125.6249,-43.819 132.0323,-52.2568 135.8957,-46.4194\"/>\n",
       "</g>\n",
       "<!-- 4 -->\n",
       "<g id=\"node5\" class=\"node\">\n",
       "<title>4</title>\n",
       "<ellipse fill=\"none\" stroke=\"#000000\" cx=\"183\" cy=\"-26.8701\" rx=\"33.4697\" ry=\"26.7407\"/>\n",
       "<text text-anchor=\"middle\" x=\"183\" y=\"-30.6701\" font-family=\"Times,serif\" font-size=\"14.00\" fill=\"#000000\">small</text>\n",
       "<text text-anchor=\"middle\" x=\"183\" y=\"-15.6701\" font-family=\"Times,serif\" font-size=\"14.00\" fill=\"#000000\">JJ</text>\n",
       "</g>\n",
       "<!-- 1&#45;&gt;4 -->\n",
       "<g id=\"edge4\" class=\"edge\">\n",
       "<title>1&#45;&gt;4</title>\n",
       "<path fill=\"none\" stroke=\"#000000\" d=\"M247.4134,-100.9786C236.8808,-88.8606 221.9679,-71.7032 209.1434,-56.9484\"/>\n",
       "<polygon fill=\"#000000\" stroke=\"#000000\" points=\"211.4764,-54.2973 202.2746,-49.0458 206.1932,-58.8894 211.4764,-54.2973\"/>\n",
       "</g>\n",
       "<!-- 5 -->\n",
       "<g id=\"node6\" class=\"node\">\n",
       "<title>5</title>\n",
       "<ellipse fill=\"none\" stroke=\"#000000\" cx=\"261\" cy=\"-26.8701\" rx=\"27\" ry=\"26.7407\"/>\n",
       "<text text-anchor=\"middle\" x=\"261\" y=\"-30.6701\" font-family=\"Times,serif\" font-size=\"14.00\" fill=\"#000000\">girl</text>\n",
       "<text text-anchor=\"middle\" x=\"261\" y=\"-15.6701\" font-family=\"Times,serif\" font-size=\"14.00\" fill=\"#000000\">NN</text>\n",
       "</g>\n",
       "<!-- 1&#45;&gt;5 -->\n",
       "<g id=\"edge5\" class=\"edge\">\n",
       "<title>1&#45;&gt;5</title>\n",
       "<path fill=\"none\" stroke=\"#000000\" d=\"M261,-98.4499C261,-88.5469 261,-75.9148 261,-64.0273\"/>\n",
       "<polygon fill=\"#000000\" stroke=\"#000000\" points=\"264.5001,-63.8597 261,-53.8597 257.5001,-63.8597 264.5001,-63.8597\"/>\n",
       "</g>\n",
       "<!-- 6 -->\n",
       "<g id=\"node7\" class=\"node\">\n",
       "<title>6</title>\n",
       "<ellipse fill=\"none\" stroke=\"#000000\" cx=\"333\" cy=\"-26.8701\" rx=\"27\" ry=\"26.7407\"/>\n",
       "<text text-anchor=\"middle\" x=\"333\" y=\"-30.6701\" font-family=\"Times,serif\" font-size=\"14.00\" fill=\"#000000\">of</text>\n",
       "<text text-anchor=\"middle\" x=\"333\" y=\"-15.6701\" font-family=\"Times,serif\" font-size=\"14.00\" fill=\"#000000\">IN</text>\n",
       "</g>\n",
       "<!-- 1&#45;&gt;6 -->\n",
       "<g id=\"edge6\" class=\"edge\">\n",
       "<title>1&#45;&gt;6</title>\n",
       "<path fill=\"none\" stroke=\"#000000\" d=\"M273.8722,-100.5664C283.7695,-88.2305 297.7112,-70.8537 309.5712,-56.0714\"/>\n",
       "<polygon fill=\"#000000\" stroke=\"#000000\" points=\"312.379,-58.1647 315.9071,-48.1745 306.9191,-53.7841 312.379,-58.1647\"/>\n",
       "</g>\n",
       "<!-- 7 -->\n",
       "<g id=\"node8\" class=\"node\">\n",
       "<title>7</title>\n",
       "<ellipse fill=\"none\" stroke=\"#000000\" cx=\"417\" cy=\"-26.8701\" rx=\"38.7821\" ry=\"26.7407\"/>\n",
       "<text text-anchor=\"middle\" x=\"417\" y=\"-30.6701\" font-family=\"Times,serif\" font-size=\"14.00\" fill=\"#000000\">village</text>\n",
       "<text text-anchor=\"middle\" x=\"417\" y=\"-15.6701\" font-family=\"Times,serif\" font-size=\"14.00\" fill=\"#000000\">NN</text>\n",
       "</g>\n",
       "<!-- 1&#45;&gt;7 -->\n",
       "<g id=\"edge7\" class=\"edge\">\n",
       "<title>1&#45;&gt;7</title>\n",
       "<path fill=\"none\" stroke=\"#000000\" d=\"M281.7156,-104.6934C306.3073,-90.5468 347.8299,-66.6606 378.4013,-49.0742\"/>\n",
       "<polygon fill=\"#000000\" stroke=\"#000000\" points=\"380.1848,-52.0861 387.1077,-44.0658 376.6943,-46.0184 380.1848,-52.0861\"/>\n",
       "</g>\n",
       "<!-- 10 -->\n",
       "<g id=\"node11\" class=\"node\">\n",
       "<title>10</title>\n",
       "<ellipse fill=\"none\" stroke=\"#000000\" cx=\"509\" cy=\"-26.8701\" rx=\"35.2113\" ry=\"26.7407\"/>\n",
       "<text text-anchor=\"middle\" x=\"509\" y=\"-30.6701\" font-family=\"Times,serif\" font-size=\"14.00\" fill=\"#000000\">leader</text>\n",
       "<text text-anchor=\"middle\" x=\"509\" y=\"-15.6701\" font-family=\"Times,serif\" font-size=\"14.00\" fill=\"#000000\">NN</text>\n",
       "</g>\n",
       "<!-- 9&#45;&gt;10 -->\n",
       "<g id=\"edge10\" class=\"edge\">\n",
       "<title>9&#45;&gt;10</title>\n",
       "<path fill=\"none\" stroke=\"#000000\" d=\"M493.8449,-98.4499C495.9797,-88.3669 498.7136,-75.4546 501.2701,-63.3796\"/>\n",
       "<polygon fill=\"#000000\" stroke=\"#000000\" points=\"504.7116,-64.0223 503.3588,-53.5142 497.8634,-62.5723 504.7116,-64.0223\"/>\n",
       "</g>\n",
       "</g>\n",
       "</svg>\n"
      ],
      "text/plain": [
       "<graphviz.files.Source at 0x7fc4d2093048>"
      ]
     },
     "execution_count": 46,
     "metadata": {
      "tags": []
     },
     "output_type": "execute_result"
    }
   ],
   "source": [
    "d"
   ]
  },
  {
   "cell_type": "markdown",
   "id": "eb5674a8-9f83-4a61-aab1-ebf037fac847",
   "metadata": {
    "collapsed": false,
    "id": "p49kSSy9XCFS"
   },
   "source": [
    "Wordnet"
   ]
  },
  {
   "cell_type": "code",
   "execution_count": null,
   "id": "52d08f95-ffd0-4bb7-870f-be6a3e6a5caf",
   "metadata": {
    "collapsed": false,
    "id": "UF_k8b9YW_6Z",
    "jupyter": {
     "outputs_hidden": true
    }
   },
   "outputs": [],
   "source": [
    "from nltk.corpus import wordnet as wn"
   ]
  },
  {
   "cell_type": "code",
   "execution_count": null,
   "id": "a8ef5f7a-5c18-4b5d-a10c-5be5c656a999",
   "metadata": {
    "colab": {
     "base_uri": "https://localhost:8080/",
     "height": 201
    },
    "collapsed": false,
    "id": "94WIrsuNXKrH",
    "outputId": "43d04af0-fc58-48f8-a1c1-292e06ed5876"
   },
   "outputs": [
    {
     "data": {
      "text/plain": [
       "[Synset('cat.n.01'),\n",
       " Synset('guy.n.01'),\n",
       " Synset('cat.n.03'),\n",
       " Synset('kat.n.01'),\n",
       " Synset('cat-o'-nine-tails.n.01'),\n",
       " Synset('caterpillar.n.02'),\n",
       " Synset('big_cat.n.01'),\n",
       " Synset('computerized_tomography.n.01'),\n",
       " Synset('cat.v.01'),\n",
       " Synset('vomit.v.01')]"
      ]
     },
     "execution_count": 48,
     "metadata": {
      "tags": []
     },
     "output_type": "execute_result"
    }
   ],
   "source": [
    "wn.synsets('cat')"
   ]
  },
  {
   "cell_type": "code",
   "execution_count": null,
   "id": "fe2e9f84-3a6d-41e0-8b41-bc1dadd12426",
   "metadata": {
    "colab": {
     "base_uri": "https://localhost:8080/",
     "height": 35
    },
    "collapsed": false,
    "id": "oZzzWyA4g5h4",
    "outputId": "606decac-ffef-4a37-edc5-186fc012a1eb"
   },
   "outputs": [
    {
     "data": {
      "text/plain": [
       "[Synset('flake.v.01'), Synset('flake.v.02'), Synset('peel_off.v.04')]"
      ]
     },
     "execution_count": 49,
     "metadata": {
      "tags": []
     },
     "output_type": "execute_result"
    }
   ],
   "source": [
    "wn.synsets('flake',pos=wn.VERB)"
   ]
  },
  {
   "cell_type": "code",
   "execution_count": null,
   "id": "5fa09ad8-9fcd-438c-b4fb-8e2a94b98412",
   "metadata": {
    "colab": {
     "base_uri": "https://localhost:8080/",
     "height": 35
    },
    "collapsed": false,
    "id": "cpDXgzGUhTZz",
    "outputId": "962dc15c-3e27-4581-f462-f4837d5027d6"
   },
   "outputs": [
    {
     "data": {
      "text/plain": [
       "'cover with flakes or as if with flakes'"
      ]
     },
     "execution_count": 50,
     "metadata": {
      "tags": []
     },
     "output_type": "execute_result"
    }
   ],
   "source": [
    "wn.synset('flake.v.02').definition()"
   ]
  },
  {
   "cell_type": "code",
   "execution_count": null,
   "id": "01d2de6a-fdff-47ed-a4fb-ea8aba01ab90",
   "metadata": {
    "colab": {
     "base_uri": "https://localhost:8080/",
     "height": 35
    },
    "collapsed": false,
    "id": "GTUQ8Brghj4m",
    "outputId": "125175e1-a11b-4ed4-8a6b-85f450d58e5d"
   },
   "outputs": [
    {
     "data": {
      "text/plain": [
       "['The substances started to flake']"
      ]
     },
     "execution_count": 51,
     "metadata": {
      "tags": []
     },
     "output_type": "execute_result"
    }
   ],
   "source": [
    "wn.synset('flake.v.01').examples()"
   ]
  },
  {
   "cell_type": "code",
   "execution_count": null,
   "id": "6e8f9bc0-85ac-4458-bc7f-8f8e944c65fb",
   "metadata": {
    "colab": {
     "base_uri": "https://localhost:8080/",
     "height": 127
    },
    "collapsed": false,
    "id": "-qrvs8j5iDRT",
    "outputId": "d55dadc4-42ea-48cd-946a-c32dd9469559"
   },
   "outputs": [
    {
     "data": {
      "text/plain": [
       "[Lemma('cat.n.01.bichano'),\n",
       " Lemma('cat.n.01.gata'),\n",
       " Lemma('cat.n.01.gato'),\n",
       " Lemma('cat.n.01.gato-doméstico'),\n",
       " Lemma('cat.n.01.Gato_doméstico'),\n",
       " Lemma('cat.n.01.Gato-doméstico')]"
      ]
     },
     "execution_count": 52,
     "metadata": {
      "tags": []
     },
     "output_type": "execute_result"
    }
   ],
   "source": [
    "wn.synset('cat.n.01').lemmas('por')"
   ]
  },
  {
   "cell_type": "code",
   "execution_count": null,
   "id": "342d35aa-f7d8-4195-a913-19b58eaa967b",
   "metadata": {
    "colab": {
     "base_uri": "https://localhost:8080/",
     "height": 90
    },
    "collapsed": false,
    "id": "x1zRq6P4ikFG",
    "outputId": "7033f09d-0445-47f3-954b-dcf026943cc8"
   },
   "outputs": [
    {
     "data": {
      "text/plain": [
       "[Synset('beach_wagon.n.01'),\n",
       " Synset('car.n.01'),\n",
       " Synset('car.n.02'),\n",
       " Synset('cart.n.01')]"
      ]
     },
     "execution_count": 53,
     "metadata": {
      "tags": []
     },
     "output_type": "execute_result"
    }
   ],
   "source": [
    "wn.synsets('carro',lang='por')"
   ]
  },
  {
   "cell_type": "code",
   "execution_count": null,
   "id": "3a1ecdc2-84dd-422d-b080-526cb9957ef5",
   "metadata": {
    "colab": {
     "base_uri": "https://localhost:8080/",
     "height": 35
    },
    "collapsed": false,
    "id": "fvUAEQ46i_1n",
    "outputId": "ee3eb8fb-6c67-45ad-ee1a-aad1113d4d90"
   },
   "outputs": [
    {
     "data": {
      "text/plain": [
       "[Synset('solanaceous_vegetable.n.01')]"
      ]
     },
     "execution_count": 54,
     "metadata": {
      "tags": []
     },
     "output_type": "execute_result"
    }
   ],
   "source": [
    "wn.synset('tomato.n.01').hypernyms()"
   ]
  },
  {
   "cell_type": "code",
   "execution_count": null,
   "id": "7e414383-3df5-4674-8631-b9be3c9d6540",
   "metadata": {
    "colab": {
     "base_uri": "https://localhost:8080/",
     "height": 109
    },
    "collapsed": false,
    "id": "wQ-qDbC1juaj",
    "outputId": "a6a73cc6-c88a-4453-cf30-c6596106fcc8"
   },
   "outputs": [
    {
     "data": {
      "text/plain": [
       "[Synset('eggplant.n.01'),\n",
       " Synset('pepper.n.04'),\n",
       " Synset('potato.n.01'),\n",
       " Synset('tomatillo.n.03'),\n",
       " Synset('tomato.n.01')]"
      ]
     },
     "execution_count": 55,
     "metadata": {
      "tags": []
     },
     "output_type": "execute_result"
    }
   ],
   "source": [
    "wn.synset('solanaceous_vegetable.n.01').hyponyms()"
   ]
  },
  {
   "cell_type": "code",
   "execution_count": null,
   "id": "d91cb914-7d9e-4a8b-9c38-5f6d2cbc99c1",
   "metadata": {
    "colab": {
     "base_uri": "https://localhost:8080/",
     "height": 35
    },
    "collapsed": false,
    "id": "XlvuC3aekGgB",
    "outputId": "4fc608ca-4459-4578-fc39-07e742a53952"
   },
   "outputs": [
    {
     "data": {
      "text/plain": [
       "[Synset('vegetable.n.01')]"
      ]
     },
     "execution_count": 56,
     "metadata": {
      "tags": []
     },
     "output_type": "execute_result"
    }
   ],
   "source": [
    "wn.synset('solanaceous_vegetable.n.01').hypernyms()"
   ]
  },
  {
   "cell_type": "code",
   "execution_count": null,
   "id": "a6a524a4-e3ca-4c52-bf8a-e09f569c4be7",
   "metadata": {
    "colab": {
     "base_uri": "https://localhost:8080/",
     "height": 476
    },
    "collapsed": false,
    "id": "QAhNnlUPkQyo",
    "outputId": "9d497a6d-faab-4c7d-ae82-6acac7ced824"
   },
   "outputs": [
    {
     "data": {
      "text/plain": [
       "[Synset('artichoke.n.02'),\n",
       " Synset('artichoke_heart.n.01'),\n",
       " Synset('asparagus.n.02'),\n",
       " Synset('bamboo_shoot.n.01'),\n",
       " Synset('cardoon.n.02'),\n",
       " Synset('celery.n.02'),\n",
       " Synset('cruciferous_vegetable.n.01'),\n",
       " Synset('cucumber.n.02'),\n",
       " Synset('fennel.n.02'),\n",
       " Synset('greens.n.01'),\n",
       " Synset('gumbo.n.03'),\n",
       " Synset('julienne.n.01'),\n",
       " Synset('leek.n.02'),\n",
       " Synset('legume.n.03'),\n",
       " Synset('mushroom.n.05'),\n",
       " Synset('onion.n.03'),\n",
       " Synset('pieplant.n.01'),\n",
       " Synset('plantain.n.03'),\n",
       " Synset('potherb.n.01'),\n",
       " Synset('pumpkin.n.02'),\n",
       " Synset('raw_vegetable.n.01'),\n",
       " Synset('root_vegetable.n.01'),\n",
       " Synset('solanaceous_vegetable.n.01'),\n",
       " Synset('squash.n.02'),\n",
       " Synset('truffle.n.02')]"
      ]
     },
     "execution_count": 57,
     "metadata": {
      "tags": []
     },
     "output_type": "execute_result"
    }
   ],
   "source": [
    "wn.synset('vegetable.n.01').hyponyms()"
   ]
  },
  {
   "cell_type": "code",
   "execution_count": null,
   "id": "f6e7626c-0785-4eba-bc11-5e2353235830",
   "metadata": {
    "colab": {
     "base_uri": "https://localhost:8080/",
     "height": 182
    },
    "collapsed": false,
    "id": "MURhY81qlDai",
    "outputId": "943377fb-5a81-4d5d-f62c-c525e0e56f9d"
   },
   "outputs": [
    {
     "data": {
      "text/plain": [
       "[Synset('broccoli.n.02'),\n",
       " Synset('broccoli_rabe.n.02'),\n",
       " Synset('brussels_sprouts.n.01'),\n",
       " Synset('cabbage.n.01'),\n",
       " Synset('cauliflower.n.02'),\n",
       " Synset('kohlrabi.n.02'),\n",
       " Synset('mustard.n.03'),\n",
       " Synset('radish.n.01'),\n",
       " Synset('turnip.n.02')]"
      ]
     },
     "execution_count": 58,
     "metadata": {
      "tags": []
     },
     "output_type": "execute_result"
    }
   ],
   "source": [
    "wn.synset('cruciferous_vegetable.n.01').hyponyms()"
   ]
  },
  {
   "cell_type": "code",
   "execution_count": null,
   "id": "23a90ff9-f511-4def-a65d-3c5a9ab2f503",
   "metadata": {
    "colab": {
     "base_uri": "https://localhost:8080/",
     "height": 35
    },
    "collapsed": false,
    "id": "DpG6bSsfly0I",
    "outputId": "27257ba8-9082-4302-f8b5-530e532c174f"
   },
   "outputs": [
    {
     "data": {
      "text/plain": [
       "[Synset('produce.n.01')]"
      ]
     },
     "execution_count": 59,
     "metadata": {
      "tags": []
     },
     "output_type": "execute_result"
    }
   ],
   "source": [
    "wn.synset('vegetable.n.01').hypernyms()"
   ]
  },
  {
   "cell_type": "code",
   "execution_count": null,
   "id": "d12084da-450b-4c3b-bd86-6d7de27e3622",
   "metadata": {
    "colab": {
     "base_uri": "https://localhost:8080/",
     "height": 35
    },
    "collapsed": false,
    "id": "s_QXR9XImCPE",
    "outputId": "41a626d2-0514-4967-afaf-25c6361d21d1"
   },
   "outputs": [
    {
     "data": {
      "text/plain": [
       "[Synset('eater.n.02'), Synset('edible_fruit.n.01'), Synset('vegetable.n.01')]"
      ]
     },
     "execution_count": 60,
     "metadata": {
      "tags": []
     },
     "output_type": "execute_result"
    }
   ],
   "source": [
    "wn.synset('produce.n.01').hyponyms()"
   ]
  },
  {
   "cell_type": "code",
   "execution_count": null,
   "id": "e21e8980-c437-4f8d-a338-7c7c8de86d46",
   "metadata": {
    "colab": {
     "base_uri": "https://localhost:8080/",
     "height": 35
    },
    "collapsed": false,
    "id": "vY99ZphQoEXe",
    "outputId": "a8df381d-9945-4de4-9e9b-21e182eb2e64"
   },
   "outputs": [
    {
     "data": {
      "text/plain": [
       "[Synset('vegetable.n.01')]"
      ]
     },
     "execution_count": 61,
     "metadata": {
      "tags": []
     },
     "output_type": "execute_result"
    }
   ],
   "source": [
    "wn.synset('cabbage.n.01').lowest_common_hypernyms(wn.synset('tomato.n.01'))"
   ]
  },
  {
   "cell_type": "markdown",
   "id": "c38b8bb0-9fd0-4be2-ba0d-49ab8b9dc91a",
   "metadata": {
    "collapsed": false,
    "id": "s6J8BN9xpZ7K"
   },
   "source": [
    "Disambiguation."
   ]
  },
  {
   "cell_type": "code",
   "execution_count": null,
   "id": "7823d0e0-698e-4dd0-ae10-cdda5f68b0d0",
   "metadata": {
    "colab": {
     "base_uri": "https://localhost:8080/",
     "height": 35
    },
    "collapsed": false,
    "id": "AxY6KqQppcNm",
    "outputId": "f0673508-838e-4279-f25e-4368111097ae"
   },
   "outputs": [
    {
     "data": {
      "text/plain": [
       "0.2"
      ]
     },
     "execution_count": 62,
     "metadata": {
      "tags": []
     },
     "output_type": "execute_result"
    }
   ],
   "source": [
    "wn.synset('cabbage.n.01').path_similarity(wn.synset('tomato.n.01'))"
   ]
  },
  {
   "cell_type": "code",
   "execution_count": null,
   "id": "432eed4e-9f8b-4ad0-ae16-37c33269be1d",
   "metadata": {
    "colab": {
     "base_uri": "https://localhost:8080/",
     "height": 35
    },
    "collapsed": false,
    "id": "KkBUYWOYp6Ir",
    "outputId": "017ad311-6511-4af0-d9d4-af1b2edc0293"
   },
   "outputs": [
    {
     "data": {
      "text/plain": [
       "0.058823529411764705"
      ]
     },
     "execution_count": 63,
     "metadata": {
      "tags": []
     },
     "output_type": "execute_result"
    }
   ],
   "source": [
    "wn.synset('cabbage.n.01').path_similarity(wn.synset('car.n.01'))"
   ]
  },
  {
   "cell_type": "code",
   "execution_count": null,
   "id": "d4cb55a0-2679-41b9-a4ba-00410d890494",
   "metadata": {
    "colab": {
     "base_uri": "https://localhost:8080/",
     "height": 54
    },
    "collapsed": false,
    "id": "PSvzxnPVqQ6M",
    "outputId": "74e2aefe-04bc-462a-c956-8b25e277d454"
   },
   "outputs": [
    {
     "data": {
      "text/plain": [
       "(Synset('savings_bank.n.02'),\n",
       " 'a container (usually with a slot in the top) for keeping money at home')"
      ]
     },
     "execution_count": 64,
     "metadata": {
      "tags": []
     },
     "output_type": "execute_result"
    }
   ],
   "source": [
    "from nltk.wsd import lesk\n",
    "sent = ['I', 'went', 'to', 'the', 'bank', 'to', 'deposit', 'money', '.']\n",
    "lesk(sent,'bank'), lesk(sent,'bank').definition()"
   ]
  },
  {
   "cell_type": "code",
   "execution_count": null,
   "id": "47d3c313-812e-40b1-a870-41f8a25ca780",
   "metadata": {
    "colab": {
     "base_uri": "https://localhost:8080/",
     "height": 35
    },
    "collapsed": false,
    "id": "Vx3oCxSAq9ot",
    "outputId": "cbab49b7-fe7b-4778-e9a3-10038af13584"
   },
   "outputs": [
    {
     "data": {
      "text/plain": [
       "(Synset('bank.n.07'), 'put into a bank account')"
      ]
     },
     "execution_count": 65,
     "metadata": {
      "tags": []
     },
     "output_type": "execute_result"
    }
   ],
   "source": [
    "sent = 'The bank is steep'.split()\n",
    "lesk(sent,'bank','n'), lesk(sent,'bank').definition()"
   ]
  },
  {
   "cell_type": "code",
   "execution_count": null,
   "id": "75627759-4635-436b-9f89-9f5e0e33512b",
   "metadata": {
    "colab": {
     "base_uri": "https://localhost:8080/",
     "height": 35
    },
    "collapsed": false,
    "id": "fRfNtyjHsH54",
    "outputId": "f5814776-7c97-454e-95a3-5e3e75530e17"
   },
   "outputs": [
    {
     "data": {
      "text/plain": [
       "\"take on as one's own the expenses or debts of another person\""
      ]
     },
     "execution_count": 66,
     "metadata": {
      "tags": []
     },
     "output_type": "execute_result"
    }
   ],
   "source": [
    "lesk('I bear the pain of the bear.'.split(),'bear').definition()"
   ]
  },
  {
   "cell_type": "code",
   "execution_count": null,
   "id": "0344afa5-8330-42b7-a8a5-065536833d67",
   "metadata": {
    "colab": {
     "base_uri": "https://localhost:8080/",
     "height": 35
    },
    "collapsed": false,
    "id": "s0Pvc12tuO20",
    "outputId": "0eb4fb3a-8db3-455a-fb40-d6e24cb2ae9f"
   },
   "outputs": [
    {
     "data": {
      "text/plain": [
       "'an investor with a pessimistic market outlook; an investor who expects prices to fall and so sells now in order to buy later at a lower price'"
      ]
     },
     "execution_count": 67,
     "metadata": {
      "tags": []
     },
     "output_type": "execute_result"
    }
   ],
   "source": [
    "lesk('I got used to the pain of the bear'.split(),'bear','n').definition()"
   ]
  },
  {
   "cell_type": "code",
   "execution_count": null,
   "id": "d5cc4f14-6e61-47fc-ae35-9e091e161500",
   "metadata": {
    "colab": {
     "base_uri": "https://localhost:8080/",
     "height": 35
    },
    "collapsed": false,
    "id": "vEcWLHi2Fa3Z",
    "outputId": "6aadfa7c-6a52-450c-e23e-908bcfb33dbf"
   },
   "outputs": [
    {
     "data": {
      "text/plain": [
       "'a visual receptor cell in the retina that is sensitive to bright light and to color'"
      ]
     },
     "execution_count": 77,
     "metadata": {
      "tags": []
     },
     "output_type": "execute_result"
    }
   ],
   "source": [
    "lesk('Drop the pine cone'.split(),'cone','n').definition()"
   ]
  }
 ],
 "metadata": {
  "colab": {
   "provenance": []
  },
  "kernelspec": {
   "argv": [
    "python",
    "-m",
    "ipykernel_launcher",
    "-f",
    "{connection_file}"
   ],
   "display_name": "Python 3 (ipykernel)",
   "env": null,
   "interrupt_mode": "signal",
   "language": "python",
   "metadata": {
    "debugger": true
   },
   "name": "python3"
  },
  "language_info": {
   "codemirror_mode": {
    "name": "ipython",
    "version": 3
   },
   "file_extension": ".py",
   "mimetype": "text/x-python",
   "name": "python",
   "nbconvert_exporter": "python",
   "pygments_lexer": "ipython3",
   "version": "3.10.12"
  },
  "name": "nltk_preprocessing.ipynb"
 },
 "nbformat": 4,
 "nbformat_minor": 4
}
