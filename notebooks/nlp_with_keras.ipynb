{
 "cells": [
  {
   "cell_type": "markdown",
   "id": "35f0f998-198e-4b8f-ba26-661cee9c3c79",
   "metadata": {},
   "source": [
    "# Environment preparation"
   ]
  },
  {
   "cell_type": "code",
   "execution_count": 1,
   "id": "381aae6b-52e1-4d22-a0a3-55a8db9009aa",
   "metadata": {},
   "outputs": [],
   "source": [
    "# install necessary libraries\n",
    "# pip install nltk keras tensorflow matplotlib pandas scikit-learn"
   ]
  },
  {
   "cell_type": "markdown",
   "id": "e844d7a9-4861-45b0-a6e1-5dabf3f6a508",
   "metadata": {},
   "source": [
    "# Sentiment Analysis over Movie Reviews"
   ]
  },
  {
   "cell_type": "markdown",
   "id": "d80db8ba-90cd-4c14-b72e-f55e220a2d53",
   "metadata": {},
   "source": [
    "## Text normalization"
   ]
  },
  {
   "cell_type": "markdown",
   "id": "016f892a-ad69-47e4-84f9-97091c020f39",
   "metadata": {
    "jp-MarkdownHeadingCollapsed": true
   },
   "source": [
    "## Feature extraction"
   ]
  },
  {
   "cell_type": "markdown",
   "id": "883b5ece-f9e9-4a6f-9248-c311e842e301",
   "metadata": {
    "jp-MarkdownHeadingCollapsed": true
   },
   "source": [
    "## Model training"
   ]
  },
  {
   "cell_type": "markdown",
   "id": "a056cbc1-a4d1-40d9-9592-447d45a04abc",
   "metadata": {},
   "source": [
    "## Model report"
   ]
  },
  {
   "cell_type": "markdown",
   "id": "dce859b2-3525-4c58-af89-acceddcab65f",
   "metadata": {},
   "source": [
    "# Author Identification from News Articles"
   ]
  },
  {
   "cell_type": "markdown",
   "id": "a7818143-5585-4684-936a-1717714b08a2",
   "metadata": {},
   "source": [
    "## Text normalization"
   ]
  },
  {
   "cell_type": "markdown",
   "id": "f7d719d5-1b90-4262-964b-321a9510f327",
   "metadata": {},
   "source": [
    "## Feature extraction"
   ]
  },
  {
   "cell_type": "code",
   "execution_count": null,
   "id": "175afc1b-d2d0-40f5-bdc4-ead5cb85e18c",
   "metadata": {},
   "outputs": [],
   "source": []
  },
  {
   "cell_type": "markdown",
   "id": "7ecb0080-f204-445d-ad19-75fc33c73884",
   "metadata": {},
   "source": [
    "## Model report"
   ]
  },
  {
   "cell_type": "markdown",
   "id": "bdd90ead-865f-4b6e-8b8b-7e454b28e82d",
   "metadata": {
    "jp-MarkdownHeadingCollapsed": true
   },
   "source": [
    "## Model training"
   ]
  }
 ],
 "metadata": {
  "kernelspec": {
   "display_name": "Python 3 (ipykernel)",
   "language": "python",
   "name": "python3"
  },
  "language_info": {
   "codemirror_mode": {
    "name": "ipython",
    "version": 3
   },
   "file_extension": ".py",
   "mimetype": "text/x-python",
   "name": "python",
   "nbconvert_exporter": "python",
   "pygments_lexer": "ipython3",
   "version": "3.10.12"
  }
 },
 "nbformat": 4,
 "nbformat_minor": 5
}
